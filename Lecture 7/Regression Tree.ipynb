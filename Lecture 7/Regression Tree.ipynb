{
 "cells": [
  {
   "cell_type": "code",
   "execution_count": 1,
   "id": "1fa51c4c",
   "metadata": {},
   "outputs": [],
   "source": [
    "import numpy as np\n",
    "import pandas as pd\n",
    "import matplotlib.pyplot as plt"
   ]
  },
  {
   "cell_type": "code",
   "execution_count": 2,
   "id": "bdbdc0ea",
   "metadata": {},
   "outputs": [],
   "source": [
    "def f(x):\n",
    "    return np.sin(3*x) + 4*np.tanh(2*x)"
   ]
  },
  {
   "cell_type": "code",
   "execution_count": 3,
   "id": "6967a655",
   "metadata": {},
   "outputs": [],
   "source": [
    "X = np.linspace(-3,3,20)"
   ]
  },
  {
   "cell_type": "code",
   "execution_count": 4,
   "id": "189b2efc",
   "metadata": {},
   "outputs": [],
   "source": [
    "y = f(X)+0.2*np.random.randn(20)"
   ]
  },
  {
   "cell_type": "code",
   "execution_count": 16,
   "id": "2ecfbcb7",
   "metadata": {},
   "outputs": [
    {
     "data": {
      "image/png": "[encoded data removed]",
      "text/plain": [
       "<Figure size 432x288 with 1 Axes>"
      ]
     },
     "metadata": {
      "needs_background": "light"
     },
     "output_type": "display_data"
    }
   ],
   "source": [
    "plt.scatter(X,y);"
   ]
  },
  {
   "cell_type": "code",
   "execution_count": 5,
   "id": "e4e6f52e",
   "metadata": {},
   "outputs": [],
   "source": [
    "from sklearn.tree import DecisionTreeRegressor"
   ]
  },
  {
   "cell_type": "code",
   "execution_count": 6,
   "id": "7ec5cee5",
   "metadata": {},
   "outputs": [],
   "source": [
    "tree_reg = DecisionTreeRegressor(max_depth=5)"
   ]
  },
  {
   "cell_type": "code",
   "execution_count": 7,
   "id": "d772d2d5",
   "metadata": {},
   "outputs": [],
   "source": [
    "X = X.reshape(-1,1)"
   ]
  },
  {
   "cell_type": "code",
   "execution_count": 8,
   "id": "53ddaded",
   "metadata": {},
   "outputs": [
    {
     "data": {
      "text/plain": [
       "DecisionTreeRegressor(max_depth=5)"
      ]
     },
     "execution_count": 8,
     "metadata": {},
     "output_type": "execute_result"
    }
   ],
   "source": [
    "tree_reg.fit(X,y)"
   ]
  },
  {
   "cell_type": "code",
   "execution_count": 10,
   "id": "b33de263",
   "metadata": {},
   "outputs": [],
   "source": [
    "z = np.linspace(-3,3,100)"
   ]
  },
  {
   "cell_type": "code",
   "execution_count": 43,
   "id": "b28d3241",
   "metadata": {},
   "outputs": [],
   "source": [
    "z = z.reshape(-1,1)"
   ]
  },
  {
   "cell_type": "code",
   "execution_count": 44,
   "id": "8a6944b7",
   "metadata": {},
   "outputs": [],
   "source": [
    "u = tree_reg.predict(z)"
   ]
  },
  {
   "cell_type": "code",
   "execution_count": 45,
   "id": "7ed9bc12",
   "metadata": {},
   "outputs": [
    {
     "data": {
      "image/png": "[encoded data removed]",
      "text/plain": [
       "<Figure size 432x288 with 1 Axes>"
      ]
     },
     "metadata": {
      "needs_background": "light"
     },
     "output_type": "display_data"
    }
   ],
   "source": [
    "plt.scatter(X,y,c='red');\n",
    "plt.plot(z,u);"
   ]
  },
  {
   "cell_type": "code",
   "execution_count": null,
   "id": "3d967e74",
   "metadata": {},
   "outputs": [],
   "source": []
  }
 ],
 "metadata": {
  "kernelspec": {
   "display_name": "Python 3",
   "language": "python",
   "name": "python3"
  },
  "language_info": {
   "codemirror_mode": {
    "name": "ipython",
    "version": 3
   },
   "file_extension": ".py",
   "mimetype": "text/x-python",
   "name": "python",
   "nbconvert_exporter": "python",
   "pygments_lexer": "ipython3",
   "version": "3.8.8"
  }
 },
 "nbformat": 4,
 "nbformat_minor": 5
}
