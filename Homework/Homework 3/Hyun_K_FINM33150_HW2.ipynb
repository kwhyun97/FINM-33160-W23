{
 "cells": [
  {
   "cell_type": "markdown",
   "source": [
    "<left>FINM 33160 - Machine Learning In Finance</left>\n",
    "<left>Winter 2023</left>\n",
    "<br>\n",
    "<h1><center> Homework 3 </center></h1>\n",
    "<center> Due - 23:59 [CST] February 29th, 2023</center>\n",
    "<br>\n",
    "<h3>Ki Hyun</h3>\n",
    "<h3>Student ID: 12125881</h3>"
   ],
   "metadata": {
    "collapsed": false
   }
  },
  {
   "cell_type": "markdown",
   "source": [
    "<h3> Imports </h3>"
   ],
   "metadata": {
    "collapsed": false
   }
  },
  {
   "cell_type": "code",
   "execution_count": 5,
   "outputs": [],
   "source": [
    "%matplotlib inline"
   ],
   "metadata": {
    "collapsed": false
   }
  },
  {
   "cell_type": "code",
   "execution_count": 6,
   "outputs": [],
   "source": [
    "import os\n",
    "import pandas as pd\n",
    "pd.set_option('use_inf_as_na', True)\n",
    "import numpy as np\n",
    "import matplotlib.pyplot as plt\n",
    "from sklearn.metrics import accuracy_score, confusion_matrix\n",
    "from sklearn.tree import DecisionTreeClassifier\n",
    "from sklearn.ensemble import AdaBoostClassifier,RandomForestClassifier\n",
    "import pickle\n",
    "\n",
    "import optuna\n",
    "from optuna.trial import Trial\n",
    "optuna.logging.set_verbosity(optuna.logging.FATAL)\n",
    "from functools import partial\n",
    "import warnings\n",
    "warnings.filterwarnings(\"ignore\")"
   ],
   "metadata": {
    "collapsed": false
   }
  },
  {
   "cell_type": "markdown",
   "source": [
    "<h3> Constants </h3>"
   ],
   "metadata": {
    "collapsed": false
   }
  },
  {
   "cell_type": "code",
   "execution_count": 7,
   "outputs": [],
   "source": [
    "home_dir = r'C:\\Users\\kwhyu\\OneDrive - The University of Chicago\\2023-1 Winter\\FINM 33160\\FINM-33160-W23'\n",
    "raw_data_dir = r'dataset.pkl'\n",
    "shap_features_dir = [r'Lecture 7\\shap_features_ada.pkl',\n",
    "                 r'Lecture 7\\shap_features_ada_01.pkl',\n",
    "                 r'Lecture 7\\shap_features_ada_02.pkl']\n",
    "training_dates = {'start': '2001-01-01', 'end': '2004-01-01'}\n",
    "validation_dates = {'start': '2004-01-01', 'end': '2004-04-01'}\n",
    "testing_dates = {'start': '2003-01-01', 'end': '2018-01-01'}"
   ],
   "metadata": {
    "collapsed": false
   }
  },
  {
   "cell_type": "markdown",
   "source": [
    "<h3> Helper-Functions </h3>"
   ],
   "metadata": {
    "collapsed": false
   }
  },
  {
   "cell_type": "code",
   "execution_count": 8,
   "outputs": [],
   "source": [
    "def f(x):\n",
    "\n",
    "    if x > 0.01:\n",
    "        return 1\n",
    "    elif x < -0.025:\n",
    "\n",
    "        return -1\n",
    "\n",
    "\n",
    "    else:\n",
    "\n",
    "        return 0"
   ],
   "metadata": {
    "collapsed": false
   }
  },
  {
   "cell_type": "code",
   "execution_count": 9,
   "outputs": [],
   "source": [
    "def max_drawdown(returns):\n",
    "        local_max = [n for n in range(len(returns)-1) if ((n==0) and (returns[0] > returns[1])) or\n",
    "           ((n > 0) and  (returns[n-1]<returns[n]) and (returns[n+1]<returns[n]))]\n",
    "\n",
    "        local_min = [n for n in range(1,len(returns)) if ((n == len(returns)-1) and (returns[-1] < returns[-2])) or\n",
    "                (returns[n-1]>returns[n]) and (returns[n+1]>returns[n])]\n",
    "\n",
    "        def next_local_min(n):\n",
    "            if [m for m in local_min if m > n]:\n",
    "                return [m for m in local_min if m > n][0]\n",
    "            else: return None\n",
    "\n",
    "        drawdowns = [(n,next_local_min(n)) for n in local_max]\n",
    "        drawdown_values = [returns[n] - returns[m] for (n,m) in drawdowns if m != None]\n",
    "        if drawdown_values:\n",
    "            return  np.max(drawdown_values)\n",
    "        else: return 0.0"
   ],
   "metadata": {
    "collapsed": false
   }
  },
  {
   "cell_type": "code",
   "execution_count": 20,
   "outputs": [],
   "source": [
    "def accuracy_objective(trial:Trial,train=None,labels=None,val=None,val_labels=None):\n",
    "\n",
    "    ada_m_depth = trial.suggest_int('max_depth',1,5)\n",
    "    ada_n_estimators = trial.suggest_int('n_estimators', 10,100,step=10)\n",
    "    ada_learning_rate = trial.suggest_float('learning_rate',0.1,0.5, step=0.1)\n",
    "\n",
    "\n",
    "    ada_clf = AdaBoostClassifier(DecisionTreeClassifier(max_depth=ada_m_depth),\n",
    "                                 n_estimators=ada_n_estimators,\n",
    "                                 learning_rate=ada_learning_rate,\n",
    "                                 algorithm=\"SAMME.R\")\n",
    "\n",
    "    ada_clf.fit(train,labels)\n",
    "    accuracy = ada_clf.score(val,val_labels)\n",
    "\n",
    "    return accuracy"
   ],
   "metadata": {
    "collapsed": false
   }
  },
  {
   "cell_type": "code",
   "execution_count": 59,
   "outputs": [],
   "source": [
    "def mdd_objective(trial:Trial,train=None,labels=None,val=None,val_rets=None):\n",
    "\n",
    "    ada_m_depth = trial.suggest_int('max_depth',1,5)\n",
    "    ada_n_estimators = trial.suggest_int('n_estimators', 10,100,step=10)\n",
    "    ada_learning_rate = trial.suggest_float('learning_rate',0.1,0.5, step=0.1)\n",
    "\n",
    "\n",
    "    ada_clf = AdaBoostClassifier(DecisionTreeClassifier(max_depth=ada_m_depth),\n",
    "                                 n_estimators=ada_n_estimators,\n",
    "                                 learning_rate=ada_learning_rate,\n",
    "                                 algorithm=\"SAMME.R\")\n",
    "    ada_clf.fit(train,labels)\n",
    "    pred = ada_clf.predict(val)\n",
    "    profit = (pred * val_rets).sum()\n",
    "    position = np.sum(np.abs(pred))\n",
    "    x = (1/position) * profit\n",
    "\n",
    "    return -x"
   ],
   "metadata": {
    "collapsed": false
   }
  },
  {
   "cell_type": "markdown",
   "source": [
    "<h3> Data </h3>"
   ],
   "metadata": {
    "collapsed": false
   }
  },
  {
   "cell_type": "code",
   "execution_count": 12,
   "outputs": [],
   "source": [
    "raw_data = pd.read_pickle(os.path.join(home_dir, raw_data_dir))\n",
    "\n",
    "data = raw_data[raw_data['market_cap'] > 1000.0]\n",
    "data = data.copy()\n",
    "data.fillna(0.0,inplace=True)"
   ],
   "metadata": {
    "collapsed": false
   }
  },
  {
   "cell_type": "code",
   "execution_count": 13,
   "outputs": [],
   "source": [
    "data['rel_performance'] = data['pred_rel_return'].apply(f)\n",
    "data.reset_index(inplace=True,)\n",
    "data.set_index('date',inplace=True)"
   ],
   "metadata": {
    "collapsed": false
   }
  },
  {
   "cell_type": "code",
   "execution_count": 14,
   "outputs": [],
   "source": [
    "df_train = data.loc[training_dates.get('start'):training_dates.get('end')]\n",
    "df_valid = data.loc[validation_dates.get('start'):validation_dates.get('end')]"
   ],
   "metadata": {
    "collapsed": false
   }
  },
  {
   "cell_type": "code",
   "execution_count": 15,
   "outputs": [],
   "source": [
    "train = df_train.reset_index().drop(['ticker','date',\n",
    "                                     'next_period_return',\n",
    "                                     'spy_next_period_return',\n",
    "                                     'rel_performance','pred_rel_return',\n",
    "                                     'return', 'cum_ret', 'spy_cum_ret'],axis=1)\n",
    "\n",
    "valid = df_valid.reset_index().drop(['ticker','date',\n",
    "                                    'next_period_return',\n",
    "                                   'spy_next_period_return',\n",
    "                                   'rel_performance','pred_rel_return',\n",
    "                                  'return', 'cum_ret', 'spy_cum_ret'],axis=1)"
   ],
   "metadata": {
    "collapsed": false
   }
  },
  {
   "cell_type": "code",
   "execution_count": 16,
   "outputs": [],
   "source": [
    "valid_stock_returns = df_valid['next_period_return']"
   ],
   "metadata": {
    "collapsed": false
   }
  },
  {
   "cell_type": "code",
   "execution_count": 17,
   "outputs": [],
   "source": [
    "y_train = df_train['rel_performance'].values\n",
    "y_valid = df_valid['rel_performance'].values"
   ],
   "metadata": {
    "collapsed": false
   }
  },
  {
   "cell_type": "code",
   "execution_count": 24,
   "outputs": [],
   "source": [
    "optimal_features_collection = []\n",
    "for features_dir in shap_features_dir:\n",
    "    with open(os.path.join(home_dir, features_dir), 'rb') as f:\n",
    "        optimal_features_collection.append(pickle.load(f))"
   ],
   "metadata": {
    "collapsed": false
   }
  },
  {
   "cell_type": "code",
   "execution_count": 66,
   "outputs": [],
   "source": [
    "windows = len(optimal_features_collection[0])\n",
    "start_dates = [pd.to_datetime(testing_dates.get('start')) + pd.DateOffset(months = 3 * i) for i in range(windows)]\n",
    "end_dates = [d + pd.DateOffset(months = 36) for d in start_dates]\n",
    "\n",
    "training_frames = [data.loc[d:d+pd.DateOffset(months = 36)] for d in start_dates]\n",
    "test_frames = [data.loc[d + pd.DateOffset(months=6):d+pd.DateOffset(months = 9)] for d in end_dates]\n",
    "\n",
    "training_data = [d.reset_index().drop\n",
    "                                 (['ticker','date',\n",
    "                                   'next_period_return',\n",
    "                                   'spy_next_period_return',\n",
    "                                   'rel_performance','pred_rel_return',\n",
    "                                  'return', 'cum_ret', 'spy_cum_ret'],axis=1) for d in training_frames]\n",
    "\n",
    "test_data = [d.reset_index().drop(['ticker','date',\n",
    "                                   'next_period_return',\n",
    "                                   'spy_next_period_return',\n",
    "                                   'rel_performance','pred_rel_return',\n",
    "                                  'return', 'cum_ret', 'spy_cum_ret'],axis=1) for d in test_frames]\n",
    "\n",
    "training_labels = [d['rel_performance'].values for d in training_frames]\n",
    "test_labels = [d['rel_performance'].values for d in test_frames]"
   ],
   "metadata": {
    "collapsed": false
   }
  },
  {
   "cell_type": "markdown",
   "source": [
    "<h2> Q1 </h2>"
   ],
   "metadata": {
    "collapsed": false
   }
  },
  {
   "cell_type": "markdown",
   "source": [
    "<h3> Optimizing by Accuracy </h3>"
   ],
   "metadata": {
    "collapsed": false
   }
  },
  {
   "cell_type": "code",
   "execution_count": 18,
   "outputs": [],
   "source": [
    "study_accuracy = optuna.create_study(direction=\"maximize\")"
   ],
   "metadata": {
    "collapsed": false
   }
  },
  {
   "cell_type": "code",
   "execution_count": 21,
   "outputs": [
    {
     "name": "stdout",
     "output_type": "stream",
     "text": [
      "CPU times: total: 26min 19s\n",
      "Wall time: 4min 25s\n"
     ]
    }
   ],
   "source": [
    "%%time\n",
    "study_accuracy.optimize(partial(accuracy_objective, train=train, labels=y_train, val=valid, val_labels=y_valid),\n",
    "                        n_trials=20,n_jobs=-1)"
   ],
   "metadata": {
    "collapsed": false
   }
  },
  {
   "cell_type": "code",
   "execution_count": 22,
   "outputs": [
    {
     "data": {
      "text/plain": "{'max_depth': 4, 'n_estimators': 50, 'learning_rate': 0.2}"
     },
     "execution_count": 22,
     "metadata": {},
     "output_type": "execute_result"
    }
   ],
   "source": [
    "study_accuracy.best_params"
   ],
   "metadata": {
    "collapsed": false
   }
  },
  {
   "cell_type": "code",
   "execution_count": 23,
   "outputs": [],
   "source": [
    "accuracy_best_params = study_accuracy.best_params\n",
    "max_depth = accuracy_best_params.get('max_depth')\n",
    "del accuracy_best_params['max_depth']\n",
    "ada_clf_1 = AdaBoostClassifier(DecisionTreeClassifier(max_depth=max_depth),**accuracy_best_params)"
   ],
   "metadata": {
    "collapsed": false
   }
  },
  {
   "cell_type": "code",
   "execution_count": null,
   "outputs": [],
   "source": [
    "%%time\n",
    "total_data = []\n",
    "for optimal_features in optimal_features_collection:\n",
    "    x = [1]\n",
    "    for i in range(len(optimal_features)-2):\n",
    "            ada_clf_1.fit(training_data[i][optimal_features[i].values],training_labels[i])\n",
    "            pred_i = ada_clf_1.predict(test_data[i][optimal_features[i].values])\n",
    "\n",
    "            profit_i = (pred_i * test_frames[i]['next_period_return']).sum()\n",
    "            positions = np.sum(np.abs(pred_i))\n",
    "            x.append(x[i] + (x[i]/positions) * profit_i)\n",
    "    total_data.append(x)"
   ],
   "metadata": {
    "collapsed": false,
    "pycharm": {
     "is_executing": true
    }
   }
  },
  {
   "cell_type": "code",
   "execution_count": null,
   "outputs": [],
   "source": [
    "for i in len(total_data):\n",
    "    x = total_data[i]\n",
    "    Sharpe = x.mean()/x.std()\n",
    "    MDD = max_drawdown(x)\n",
    "    print(\">>> Accuracy Maximization Objective, Optimal Features Set\", i+1, \"Strategy:\")\n",
    "    print(\"    Sharpe Ratio:\", Sharpe)\n",
    "    print(\"    Maximum Draw Down:\", MDD)"
   ],
   "metadata": {
    "collapsed": false,
    "pycharm": {
     "is_executing": true
    }
   }
  },
  {
   "cell_type": "markdown",
   "source": [
    "<h3> Optimizing by Max Drawdown </h3>"
   ],
   "metadata": {
    "collapsed": false
   }
  },
  {
   "cell_type": "code",
   "execution_count": 60,
   "outputs": [],
   "source": [
    "study_mdd = optuna.create_study(direction=\"minimize\")"
   ],
   "metadata": {
    "collapsed": false
   }
  },
  {
   "cell_type": "code",
   "execution_count": 61,
   "outputs": [
    {
     "name": "stdout",
     "output_type": "stream",
     "text": [
      "CPU times: total: 24min 38s\n",
      "Wall time: 3min 44s\n"
     ]
    }
   ],
   "source": [
    "%%time\n",
    "study_mdd.optimize(partial(mdd_objective, train=train, labels=y_train, val=valid, val_rets=valid_stock_returns),\n",
    "                   n_trials=20,n_jobs=-1)"
   ],
   "metadata": {
    "collapsed": false
   }
  },
  {
   "cell_type": "code",
   "execution_count": 62,
   "outputs": [
    {
     "data": {
      "text/plain": "{'max_depth': 5, 'n_estimators': 10, 'learning_rate': 0.5}"
     },
     "execution_count": 62,
     "metadata": {},
     "output_type": "execute_result"
    }
   ],
   "source": [
    "study_mdd.best_params"
   ],
   "metadata": {
    "collapsed": false
   }
  },
  {
   "cell_type": "code",
   "execution_count": 63,
   "outputs": [],
   "source": [
    "mdd_best_params = study_mdd.best_params\n",
    "max_depth = mdd_best_params.get('max_depth')\n",
    "del mdd_best_params['max_depth']\n",
    "ada_clf_2 = AdaBoostClassifier(DecisionTreeClassifier(max_depth=max_depth),**mdd_best_params)"
   ],
   "metadata": {
    "collapsed": false
   }
  },
  {
   "cell_type": "code",
   "execution_count": null,
   "outputs": [],
   "source": [
    "%%time\n",
    "total_data = []\n",
    "for optimal_features in optimal_features_collection:\n",
    "    x = [1]\n",
    "\n",
    "    for i in range(len(optimal_features)-2):\n",
    "\n",
    "            ada_clf_2.fit(training_data[i][optimal_features[i].values],training_labels[i])\n",
    "            pred_i = ada_clf_2.predict(test_data[i][optimal_features[i].values])\n",
    "\n",
    "            profit_i = (pred_i * test_frames[i]['next_period_return']).sum()\n",
    "            positions = np.sum(np.abs(pred_i))\n",
    "            x.append(x[i] + (x[i]/positions) * profit_i)\n",
    "    total_data.append(x)"
   ],
   "metadata": {
    "collapsed": false
   }
  },
  {
   "cell_type": "code",
   "execution_count": null,
   "outputs": [],
   "source": [
    "for i in len(total_data):\n",
    "    x = total_data[i]\n",
    "    Sharpe = x.mean()/x.std()\n",
    "    MDD = max_drawdown(x)\n",
    "    print(\">>> Max Drawdown Minimization Objective, Optimal Features Set\", i+1, \"Strategy:\")\n",
    "    print(\"    Sharpe Ratio:\", Sharpe)\n",
    "    print(\"    Maximum Draw Down:\", MDD)"
   ],
   "metadata": {
    "collapsed": false
   }
  },
  {
   "cell_type": "markdown",
   "source": [
    "The best strategy appears to be a combination of Max Drawdown Minimization Objective ('max_depth' = 5, 'n_estimators' =\n",
    "10, 'learning_rate = 0.5) and the 2nd set in the optimal features provided."
   ],
   "metadata": {
    "collapsed": false
   }
  }
 ],
 "metadata": {
  "kernelspec": {
   "display_name": "Python 3",
   "language": "python",
   "name": "python3"
  },
  "language_info": {
   "codemirror_mode": {
    "name": "ipython",
    "version": 2
   },
   "file_extension": ".py",
   "mimetype": "text/x-python",
   "name": "python",
   "nbconvert_exporter": "python",
   "pygments_lexer": "ipython2",
   "version": "2.7.6"
  }
 },
 "nbformat": 4,
 "nbformat_minor": 0
}
