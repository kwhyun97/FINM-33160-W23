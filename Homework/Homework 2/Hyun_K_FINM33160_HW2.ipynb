{
 "cells": [
  {
   "cell_type": "markdown",
   "source": [
    "<left>FINM 33160 - Machine Learning In Finance</left>\n",
    "<left>Winter 2023</left>\n",
    "<br>\n",
    "<h1><center> Homework 2 </center></h1>\n",
    "<center> Due - 23:59 [CST] January 29th, 2023</center>\n",
    "<br>\n",
    "<h3>Ki Hyun</h3>\n",
    "<h3>Student ID: 12125881</h3>"
   ],
   "metadata": {
    "collapsed": false
   }
  },
  {
   "cell_type": "markdown",
   "source": [
    "<h2> Imports </h2>"
   ],
   "metadata": {
    "collapsed": false
   }
  },
  {
   "cell_type": "code",
   "execution_count": 48,
   "outputs": [],
   "source": [
    "%matplotlib inline\n",
    "\n",
    "import numpy as np\n",
    "import pandas as pd\n",
    "pd.set_option('use_inf_as_na', True)\n",
    "\n",
    "import matplotlib.pyplot as plt\n",
    "import seaborn as sns\n",
    "from scipy.stats import norm\n",
    "\n",
    "from sklearn.tree import DecisionTreeClassifier\n",
    "from sklearn.ensemble import BaggingClassifier\n",
    "from sklearn import tree\n",
    "from sklearn.metrics import accuracy_score, confusion_matrix\n",
    "from sklearn.preprocessing import MinMaxScaler,StandardScaler\n",
    "from matplotlib.patches import Rectangle\n",
    "from matplotlib.collections import PatchCollection\n",
    "from matplotlib import cm\n",
    "from collections import Counter\n",
    "\n",
    "import optuna\n",
    "from optuna.trial import Trial\n",
    "from functools import partial\n",
    "\n",
    "import shap\n",
    "sns.set()"
   ],
   "metadata": {
    "collapsed": false
   }
  },
  {
   "cell_type": "markdown",
   "source": [
    "<h2> Data </h2>"
   ],
   "metadata": {
    "collapsed": false
   }
  },
  {
   "cell_type": "code",
   "execution_count": 34,
   "outputs": [],
   "source": [
    "raw_data = pd.read_pickle(r'./dataset.pkl')\n",
    "data = raw_data[raw_data['market_cap'] > 1000.0]\n",
    "df = data.copy()\n",
    "df.fillna(0.0,inplace=True)\n",
    "\n",
    "df.reset_index(inplace=True)\n",
    "df.set_index('date',inplace=True)\n",
    "df.sort_index(inplace = True)"
   ],
   "metadata": {
    "collapsed": false
   }
  },
  {
   "cell_type": "markdown",
   "source": [
    "<h2> Helper-functions </h2>"
   ],
   "metadata": {
    "collapsed": false
   }
  },
  {
   "cell_type": "code",
   "execution_count": 8,
   "outputs": [],
   "source": [
    "def HW2_Q1_conditions(x):\n",
    "    if x > 0.05:\n",
    "        return 1\n",
    "    elif x < -0.1:\n",
    "        return -1\n",
    "    else:\n",
    "        return 0"
   ],
   "metadata": {
    "collapsed": false
   }
  },
  {
   "cell_type": "code",
   "execution_count": 14,
   "outputs": [],
   "source": [
    "def objective(trial:Trial,train=None,labels=None,val=None,val_labels=None,val_rets=None):\n",
    "\n",
    "    t_min_samples_leaf = trial.suggest_int('min_samples_leaf',100,1200,step=100)\n",
    "    t_max_depth = trial.suggest_int('max_depth',5,25,step=5)\n",
    "    t_n_estimators = trial.suggest_int('n_estimators',5,50,step=5)\n",
    "\n",
    "\n",
    "    t_clf = DecisionTreeClassifier(min_samples_leaf = t_min_samples_leaf,max_depth=t_max_depth,random_state=123)\n",
    "    bg_clf = BaggingClassifier(t_clf,n_estimators=t_n_estimators,random_state=123,n_jobs=1)\n",
    "    bg_clf.fit(train,labels)\n",
    "\n",
    "    preds = bg_clf.predict(val)\n",
    "    profit = (preds * val_rets).sum()\n",
    "\n",
    "#     score = bg_clf.score(val,val_labels)\n",
    "\n",
    "    return profit"
   ],
   "metadata": {
    "collapsed": false
   }
  },
  {
   "cell_type": "code",
   "execution_count": 15,
   "outputs": [],
   "source": [
    "def bagging_feat_importance(m, df):\n",
    "    feature_importances = []\n",
    "    for est in m.estimators_:\n",
    "        fi = est.feature_importances_\n",
    "        feature_importances.append(fi)\n",
    "    feature_importances = np.array(feature_importances)\n",
    "\n",
    "    return pd.DataFrame({'cols':train.columns, 'feat_imp':np.mean(feature_importances,axis=0)}\n",
    "                       ).sort_values('feat_imp', ascending=False)"
   ],
   "metadata": {
    "collapsed": false
   }
  },
  {
   "cell_type": "code",
   "execution_count": 16,
   "outputs": [],
   "source": [
    "def plot_fi(fi): return fi.plot('cols', 'feat_imp', 'barh', figsize=(12,7), legend=False)"
   ],
   "metadata": {
    "collapsed": false
   }
  },
  {
   "cell_type": "code",
   "execution_count": 47,
   "outputs": [],
   "source": [
    "def model(features):\n",
    "    tree_features = features[features.columns[:-1].values]\n",
    "\n",
    "    pred = bg_clf.predict(tree_features)\n",
    "\n",
    "    ret = pred * features[features.columns[-1]]\n",
    "\n",
    "    return ret"
   ],
   "metadata": {
    "collapsed": false
   }
  },
  {
   "cell_type": "markdown",
   "source": [
    "<h2> Q1 </h2>"
   ],
   "metadata": {
    "collapsed": false
   }
  },
  {
   "cell_type": "markdown",
   "source": [
    "<h3> Inserting a column </h3>"
   ],
   "metadata": {
    "collapsed": false
   }
  },
  {
   "cell_type": "code",
   "execution_count": 35,
   "outputs": [],
   "source": [
    "df['HW2_Q1'] = df['pred_rel_return'].apply(HW2_Q1_conditions)"
   ],
   "metadata": {
    "collapsed": false
   }
  },
  {
   "cell_type": "markdown",
   "source": [
    "<h3> Train, Validation and Test Sets </h3>"
   ],
   "metadata": {
    "collapsed": false
   }
  },
  {
   "cell_type": "code",
   "execution_count": 54,
   "outputs": [],
   "source": [
    "df_train = df.loc['2007-01-01':'2009-12-31']\n",
    "df_valid = df.loc['2010-04-01':'2010-07-01']\n",
    "df_test = df.loc['2010-01-01':'2018-12-31']\n",
    "\n",
    "train = df_train.reset_index().drop(['ticker','date',\n",
    "                                     'next_period_return',\n",
    "                                     'spy_next_period_return',\n",
    "                                     'HW2_Q1','pred_rel_return',\n",
    "                                     'return', 'cum_ret', 'spy_cum_ret'],axis=1)\n",
    "\n",
    "\n",
    "valid = df_valid.reset_index().drop(['ticker','date',\n",
    "                                     'next_period_return',\n",
    "                                     'spy_next_period_return',\n",
    "                                     'HW2_Q1','pred_rel_return',\n",
    "                                     'return', 'cum_ret', 'spy_cum_ret'],axis=1)\n",
    "\n",
    "test = df_test.reset_index().drop(['ticker','date',\n",
    "                                     'next_period_return',\n",
    "                                     'spy_next_period_return',\n",
    "                                     'HW2_Q1','pred_rel_return',\n",
    "                                     'return', 'cum_ret', 'spy_cum_ret'],axis=1)\n",
    "\n",
    "train_stock_returns = df_train['next_period_return']\n",
    "valid_stock_returns = df_valid['next_period_return']\n",
    "test_stock_returns = df_test['next_period_return']\n",
    "\n",
    "y_train = df_train['HW2_Q1']\n",
    "y_valid = df_valid['HW2_Q1']\n",
    "y_test = df_test['HW2_Q1']\n",
    "\n",
    "y_train = y_train.values\n",
    "y_valid = y_valid.values\n",
    "y_test = y_test.values"
   ],
   "metadata": {
    "collapsed": false
   }
  },
  {
   "cell_type": "code",
   "execution_count": 37,
   "outputs": [],
   "source": [
    "scaler = StandardScaler()\n",
    "\n",
    "float_vars = [x for x in train.columns if df[x].dtype == 'float64']\n",
    "\n",
    "train_norm = train.copy()\n",
    "valid_norm = valid.copy()\n",
    "test_norm = test.copy()\n",
    "\n",
    "train_norm[float_vars] = scaler.fit_transform(train[float_vars])\n",
    "valid_norm[float_vars] = scaler.transform(valid[float_vars])\n",
    "test_norm[float_vars] = scaler.transform(test[float_vars])"
   ],
   "metadata": {
    "collapsed": false
   }
  },
  {
   "cell_type": "markdown",
   "source": [
    "<h3> Optimization </h3>"
   ],
   "metadata": {
    "collapsed": false
   }
  },
  {
   "cell_type": "code",
   "execution_count": 38,
   "outputs": [
    {
     "name": "stderr",
     "output_type": "stream",
     "text": [
      "\u001B[32m[I 2023-01-29 23:05:33,455]\u001B[0m A new study created in memory with name: no-name-e4fcf3b0-893b-421d-b965-766fa80e026b\u001B[0m\n"
     ]
    }
   ],
   "source": [
    "study = optuna.create_study(direction=\"maximize\")"
   ],
   "metadata": {
    "collapsed": false
   }
  },
  {
   "cell_type": "code",
   "execution_count": 39,
   "outputs": [
    {
     "name": "stderr",
     "output_type": "stream",
     "text": [
      "\u001B[32m[I 2023-01-29 23:06:00,862]\u001B[0m Trial 4 finished with value: -38.704815000000025 and parameters: {'min_samples_leaf': 1100, 'max_depth': 15, 'n_estimators': 15}. Best is trial 4 with value: -38.704815000000025.\u001B[0m\n",
      "\u001B[32m[I 2023-01-29 23:06:12,473]\u001B[0m Trial 5 finished with value: -36.540779000000036 and parameters: {'min_samples_leaf': 800, 'max_depth': 5, 'n_estimators': 20}. Best is trial 5 with value: -36.540779000000036.\u001B[0m\n",
      "\u001B[32m[I 2023-01-29 23:06:18,570]\u001B[0m Trial 3 finished with value: -36.39827300000003 and parameters: {'min_samples_leaf': 500, 'max_depth': 5, 'n_estimators': 20}. Best is trial 3 with value: -36.39827300000003.\u001B[0m\n",
      "\u001B[32m[I 2023-01-29 23:06:20,741]\u001B[0m Trial 7 finished with value: -39.56227800000004 and parameters: {'min_samples_leaf': 1100, 'max_depth': 10, 'n_estimators': 30}. Best is trial 3 with value: -36.39827300000003.\u001B[0m\n",
      "\u001B[32m[I 2023-01-29 23:06:30,776]\u001B[0m Trial 11 finished with value: -37.25211600000003 and parameters: {'min_samples_leaf': 400, 'max_depth': 20, 'n_estimators': 5}. Best is trial 3 with value: -36.39827300000003.\u001B[0m\n",
      "\u001B[32m[I 2023-01-29 23:06:33,204]\u001B[0m Trial 9 finished with value: -33.858990000000034 and parameters: {'min_samples_leaf': 400, 'max_depth': 25, 'n_estimators': 10}. Best is trial 9 with value: -33.858990000000034.\u001B[0m\n",
      "\u001B[32m[I 2023-01-29 23:06:47,871]\u001B[0m Trial 2 finished with value: -38.515499000000034 and parameters: {'min_samples_leaf': 500, 'max_depth': 10, 'n_estimators': 35}. Best is trial 9 with value: -33.858990000000034.\u001B[0m\n",
      "\u001B[32m[I 2023-01-29 23:06:49,978]\u001B[0m Trial 12 finished with value: -36.551668000000035 and parameters: {'min_samples_leaf': 500, 'max_depth': 15, 'n_estimators': 10}. Best is trial 9 with value: -33.858990000000034.\u001B[0m\n",
      "\u001B[32m[I 2023-01-29 23:06:53,651]\u001B[0m Trial 1 finished with value: -38.62664100000003 and parameters: {'min_samples_leaf': 400, 'max_depth': 15, 'n_estimators': 35}. Best is trial 9 with value: -33.858990000000034.\u001B[0m\n",
      "\u001B[32m[I 2023-01-29 23:06:59,436]\u001B[0m Trial 6 finished with value: -38.46242200000003 and parameters: {'min_samples_leaf': 400, 'max_depth': 5, 'n_estimators': 40}. Best is trial 9 with value: -33.858990000000034.\u001B[0m\n",
      "\u001B[32m[I 2023-01-29 23:06:59,852]\u001B[0m Trial 8 finished with value: -39.00490500000003 and parameters: {'min_samples_leaf': 900, 'max_depth': 5, 'n_estimators': 40}. Best is trial 9 with value: -33.858990000000034.\u001B[0m\n",
      "\u001B[32m[I 2023-01-29 23:07:09,988]\u001B[0m Trial 13 finished with value: -38.34545100000003 and parameters: {'min_samples_leaf': 1200, 'max_depth': 25, 'n_estimators': 30}. Best is trial 9 with value: -33.858990000000034.\u001B[0m\n",
      "\u001B[32m[I 2023-01-29 23:07:35,396]\u001B[0m Trial 16 finished with value: -36.99200800000004 and parameters: {'min_samples_leaf': 300, 'max_depth': 5, 'n_estimators': 20}. Best is trial 9 with value: -33.858990000000034.\u001B[0m\n",
      "\u001B[32m[I 2023-01-29 23:07:55,778]\u001B[0m Trial 15 finished with value: -37.89145300000003 and parameters: {'min_samples_leaf': 700, 'max_depth': 25, 'n_estimators': 40}. Best is trial 9 with value: -33.858990000000034.\u001B[0m\n",
      "\u001B[32m[I 2023-01-29 23:08:03,706]\u001B[0m Trial 18 finished with value: -27.672086000000057 and parameters: {'min_samples_leaf': 100, 'max_depth': 25, 'n_estimators': 20}. Best is trial 18 with value: -27.672086000000057.\u001B[0m\n",
      "\u001B[32m[I 2023-01-29 23:08:14,858]\u001B[0m Trial 19 finished with value: -27.672086000000057 and parameters: {'min_samples_leaf': 100, 'max_depth': 25, 'n_estimators': 20}. Best is trial 18 with value: -27.672086000000057.\u001B[0m\n",
      "\u001B[32m[I 2023-01-29 23:08:15,748]\u001B[0m Trial 17 finished with value: -38.394850000000034 and parameters: {'min_samples_leaf': 800, 'max_depth': 25, 'n_estimators': 50}. Best is trial 18 with value: -27.672086000000057.\u001B[0m\n",
      "\u001B[32m[I 2023-01-29 23:08:18,525]\u001B[0m Trial 10 finished with value: -33.14005200000003 and parameters: {'min_samples_leaf': 200, 'max_depth': 20, 'n_estimators': 45}. Best is trial 18 with value: -27.672086000000057.\u001B[0m\n",
      "\u001B[32m[I 2023-01-29 23:08:24,904]\u001B[0m Trial 0 finished with value: -31.983723000000065 and parameters: {'min_samples_leaf': 100, 'max_depth': 20, 'n_estimators': 50}. Best is trial 18 with value: -27.672086000000057.\u001B[0m\n",
      "\u001B[32m[I 2023-01-29 23:09:00,026]\u001B[0m Trial 14 finished with value: -34.16701900000004 and parameters: {'min_samples_leaf': 200, 'max_depth': 10, 'n_estimators': 50}. Best is trial 18 with value: -27.672086000000057.\u001B[0m\n",
      "\u001B[32m[I 2023-01-29 23:09:37,422]\u001B[0m Trial 24 finished with value: -30.010962000000056 and parameters: {'min_samples_leaf': 100, 'max_depth': 20, 'n_estimators': 25}. Best is trial 18 with value: -27.672086000000057.\u001B[0m\n",
      "\u001B[32m[I 2023-01-29 23:09:40,359]\u001B[0m Trial 25 finished with value: -30.010962000000056 and parameters: {'min_samples_leaf': 100, 'max_depth': 20, 'n_estimators': 25}. Best is trial 18 with value: -27.672086000000057.\u001B[0m\n",
      "\u001B[32m[I 2023-01-29 23:09:45,797]\u001B[0m Trial 26 finished with value: -30.010962000000056 and parameters: {'min_samples_leaf': 100, 'max_depth': 20, 'n_estimators': 25}. Best is trial 18 with value: -27.672086000000057.\u001B[0m\n",
      "\u001B[32m[I 2023-01-29 23:10:18,345]\u001B[0m Trial 20 finished with value: -31.983723000000065 and parameters: {'min_samples_leaf': 100, 'max_depth': 25, 'n_estimators': 50}. Best is trial 18 with value: -27.672086000000057.\u001B[0m\n",
      "\u001B[32m[I 2023-01-29 23:10:22,690]\u001B[0m Trial 27 finished with value: -30.010962000000056 and parameters: {'min_samples_leaf': 100, 'max_depth': 20, 'n_estimators': 25}. Best is trial 18 with value: -27.672086000000057.\u001B[0m\n",
      "\u001B[32m[I 2023-01-29 23:10:26,917]\u001B[0m Trial 30 finished with value: -32.29750500000004 and parameters: {'min_samples_leaf': 200, 'max_depth': 25, 'n_estimators': 15}. Best is trial 18 with value: -27.672086000000057.\u001B[0m\n",
      "\u001B[32m[I 2023-01-29 23:10:42,308]\u001B[0m Trial 21 finished with value: -31.983723000000065 and parameters: {'min_samples_leaf': 100, 'max_depth': 20, 'n_estimators': 50}. Best is trial 18 with value: -27.672086000000057.\u001B[0m\n",
      "\u001B[32m[I 2023-01-29 23:10:50,841]\u001B[0m Trial 22 finished with value: -31.983723000000065 and parameters: {'min_samples_leaf': 100, 'max_depth': 20, 'n_estimators': 50}. Best is trial 18 with value: -27.672086000000057.\u001B[0m\n",
      "\u001B[32m[I 2023-01-29 23:11:01,021]\u001B[0m Trial 31 finished with value: -32.29750500000004 and parameters: {'min_samples_leaf': 200, 'max_depth': 25, 'n_estimators': 15}. Best is trial 18 with value: -27.672086000000057.\u001B[0m\n",
      "\u001B[32m[I 2023-01-29 23:11:01,701]\u001B[0m Trial 28 finished with value: -30.010962000000056 and parameters: {'min_samples_leaf': 100, 'max_depth': 20, 'n_estimators': 25}. Best is trial 18 with value: -27.672086000000057.\u001B[0m\n",
      "\u001B[32m[I 2023-01-29 23:11:02,210]\u001B[0m Trial 23 finished with value: -31.983723000000065 and parameters: {'min_samples_leaf': 100, 'max_depth': 20, 'n_estimators': 50}. Best is trial 18 with value: -27.672086000000057.\u001B[0m\n",
      "\u001B[32m[I 2023-01-29 23:11:04,288]\u001B[0m Trial 33 finished with value: -34.595847000000035 and parameters: {'min_samples_leaf': 300, 'max_depth': 25, 'n_estimators': 15}. Best is trial 18 with value: -27.672086000000057.\u001B[0m\n",
      "\u001B[32m[I 2023-01-29 23:11:05,351]\u001B[0m Trial 29 finished with value: -30.010962000000056 and parameters: {'min_samples_leaf': 100, 'max_depth': 25, 'n_estimators': 25}. Best is trial 18 with value: -27.672086000000057.\u001B[0m\n",
      "\u001B[32m[I 2023-01-29 23:11:05,617]\u001B[0m Trial 32 finished with value: -32.29750500000004 and parameters: {'min_samples_leaf': 200, 'max_depth': 25, 'n_estimators': 15}. Best is trial 18 with value: -27.672086000000057.\u001B[0m\n",
      "\u001B[32m[I 2023-01-29 23:11:17,926]\u001B[0m Trial 34 finished with value: -34.595847000000035 and parameters: {'min_samples_leaf': 300, 'max_depth': 25, 'n_estimators': 15}. Best is trial 18 with value: -27.672086000000057.\u001B[0m\n",
      "\u001B[32m[I 2023-01-29 23:11:25,572]\u001B[0m Trial 35 finished with value: -34.595847000000035 and parameters: {'min_samples_leaf': 300, 'max_depth': 25, 'n_estimators': 15}. Best is trial 18 with value: -27.672086000000057.\u001B[0m\n",
      "\u001B[32m[I 2023-01-29 23:11:46,813]\u001B[0m Trial 36 finished with value: -35.143483000000046 and parameters: {'min_samples_leaf': 300, 'max_depth': 25, 'n_estimators': 20}. Best is trial 18 with value: -27.672086000000057.\u001B[0m\n",
      "\u001B[32m[I 2023-01-29 23:11:47,543]\u001B[0m Trial 37 finished with value: -35.143483000000046 and parameters: {'min_samples_leaf': 300, 'max_depth': 25, 'n_estimators': 20}. Best is trial 18 with value: -27.672086000000057.\u001B[0m\n",
      "\u001B[32m[I 2023-01-29 23:11:48,232]\u001B[0m Trial 38 finished with value: -35.143483000000046 and parameters: {'min_samples_leaf': 300, 'max_depth': 15, 'n_estimators': 20}. Best is trial 18 with value: -27.672086000000057.\u001B[0m\n",
      "\u001B[32m[I 2023-01-29 23:12:14,234]\u001B[0m Trial 39 finished with value: -37.65297300000004 and parameters: {'min_samples_leaf': 300, 'max_depth': 15, 'n_estimators': 30}. Best is trial 18 with value: -27.672086000000057.\u001B[0m\n",
      "\u001B[32m[I 2023-01-29 23:12:15,702]\u001B[0m Trial 40 finished with value: -37.65297300000004 and parameters: {'min_samples_leaf': 300, 'max_depth': 15, 'n_estimators': 30}. Best is trial 18 with value: -27.672086000000057.\u001B[0m\n",
      "\u001B[32m[I 2023-01-29 23:12:15,918]\u001B[0m Trial 41 finished with value: -37.65297300000004 and parameters: {'min_samples_leaf': 300, 'max_depth': 15, 'n_estimators': 30}. Best is trial 18 with value: -27.672086000000057.\u001B[0m\n",
      "\u001B[32m[I 2023-01-29 23:12:28,112]\u001B[0m Trial 42 finished with value: -37.65297300000004 and parameters: {'min_samples_leaf': 300, 'max_depth': 15, 'n_estimators': 30}. Best is trial 18 with value: -27.672086000000057.\u001B[0m\n",
      "\u001B[32m[I 2023-01-29 23:12:41,730]\u001B[0m Trial 44 finished with value: -37.00785900000003 and parameters: {'min_samples_leaf': 600, 'max_depth': 15, 'n_estimators': 30}. Best is trial 18 with value: -27.672086000000057.\u001B[0m\n",
      "\u001B[32m[I 2023-01-29 23:12:46,218]\u001B[0m Trial 43 finished with value: -31.816087000000042 and parameters: {'min_samples_leaf': 200, 'max_depth': 15, 'n_estimators': 30}. Best is trial 18 with value: -27.672086000000057.\u001B[0m\n",
      "\u001B[32m[I 2023-01-29 23:12:47,338]\u001B[0m Trial 46 finished with value: -36.738752000000034 and parameters: {'min_samples_leaf': 500, 'max_depth': 15, 'n_estimators': 30}. Best is trial 18 with value: -27.672086000000057.\u001B[0m\n",
      "\u001B[32m[I 2023-01-29 23:13:20,234]\u001B[0m Trial 45 finished with value: -31.816087000000042 and parameters: {'min_samples_leaf': 200, 'max_depth': 15, 'n_estimators': 30}. Best is trial 18 with value: -27.672086000000057.\u001B[0m\n",
      "\u001B[32m[I 2023-01-29 23:13:31,616]\u001B[0m Trial 47 finished with value: -37.309330000000045 and parameters: {'min_samples_leaf': 600, 'max_depth': 20, 'n_estimators': 35}. Best is trial 18 with value: -27.672086000000057.\u001B[0m\n",
      "\u001B[32m[I 2023-01-29 23:13:37,959]\u001B[0m Trial 48 finished with value: -33.54585600000004 and parameters: {'min_samples_leaf': 200, 'max_depth': 20, 'n_estimators': 25}. Best is trial 18 with value: -27.672086000000057.\u001B[0m\n",
      "\u001B[32m[I 2023-01-29 23:13:38,525]\u001B[0m Trial 49 finished with value: -33.54585600000004 and parameters: {'min_samples_leaf': 200, 'max_depth': 20, 'n_estimators': 25}. Best is trial 18 with value: -27.672086000000057.\u001B[0m\n",
      "\u001B[32m[I 2023-01-29 23:13:52,674]\u001B[0m Trial 50 finished with value: -33.54585600000004 and parameters: {'min_samples_leaf': 200, 'max_depth': 20, 'n_estimators': 25}. Best is trial 18 with value: -27.672086000000057.\u001B[0m\n",
      "\u001B[32m[I 2023-01-29 23:14:07,580]\u001B[0m Trial 51 finished with value: -33.54585600000004 and parameters: {'min_samples_leaf': 200, 'max_depth': 20, 'n_estimators': 25}. Best is trial 18 with value: -27.672086000000057.\u001B[0m\n",
      "\u001B[32m[I 2023-01-29 23:14:11,964]\u001B[0m Trial 52 finished with value: -33.54585600000004 and parameters: {'min_samples_leaf': 200, 'max_depth': 20, 'n_estimators': 25}. Best is trial 18 with value: -27.672086000000057.\u001B[0m\n",
      "\u001B[32m[I 2023-01-29 23:14:12,518]\u001B[0m Trial 53 finished with value: -33.54585600000004 and parameters: {'min_samples_leaf': 200, 'max_depth': 20, 'n_estimators': 25}. Best is trial 18 with value: -27.672086000000057.\u001B[0m\n",
      "\u001B[32m[I 2023-01-29 23:14:16,895]\u001B[0m Trial 56 finished with value: -37.85577700000003 and parameters: {'min_samples_leaf': 1000, 'max_depth': 20, 'n_estimators': 25}. Best is trial 18 with value: -27.672086000000057.\u001B[0m\n",
      "\u001B[32m[I 2023-01-29 23:14:24,228]\u001B[0m Trial 57 finished with value: -35.93104400000003 and parameters: {'min_samples_leaf': 400, 'max_depth': 20, 'n_estimators': 20}. Best is trial 18 with value: -27.672086000000057.\u001B[0m\n",
      "\u001B[32m[I 2023-01-29 23:14:56,785]\u001B[0m Trial 55 finished with value: -30.010962000000056 and parameters: {'min_samples_leaf': 100, 'max_depth': 20, 'n_estimators': 25}. Best is trial 18 with value: -27.672086000000057.\u001B[0m\n",
      "\u001B[32m[I 2023-01-29 23:15:10,494]\u001B[0m Trial 59 finished with value: -27.672086000000057 and parameters: {'min_samples_leaf': 100, 'max_depth': 20, 'n_estimators': 20}. Best is trial 18 with value: -27.672086000000057.\u001B[0m\n",
      "\u001B[32m[I 2023-01-29 23:15:18,985]\u001B[0m Trial 62 finished with value: -27.664421000000058 and parameters: {'min_samples_leaf': 100, 'max_depth': 10, 'n_estimators': 20}. Best is trial 62 with value: -27.664421000000058.\u001B[0m\n",
      "\u001B[32m[I 2023-01-29 23:15:21,051]\u001B[0m Trial 54 finished with value: -31.682513000000053 and parameters: {'min_samples_leaf': 100, 'max_depth': 20, 'n_estimators': 35}. Best is trial 62 with value: -27.664421000000058.\u001B[0m\n",
      "\u001B[32m[I 2023-01-29 23:15:42,920]\u001B[0m Trial 65 finished with value: -29.524584000000054 and parameters: {'min_samples_leaf': 100, 'max_depth': 10, 'n_estimators': 10}. Best is trial 62 with value: -27.664421000000058.\u001B[0m\n",
      "\u001B[32m[I 2023-01-29 23:15:47,378]\u001B[0m Trial 58 finished with value: -31.682513000000053 and parameters: {'min_samples_leaf': 100, 'max_depth': 20, 'n_estimators': 35}. Best is trial 62 with value: -27.664421000000058.\u001B[0m\n",
      "\u001B[32m[I 2023-01-29 23:15:51,997]\u001B[0m Trial 66 finished with value: -29.524584000000054 and parameters: {'min_samples_leaf': 100, 'max_depth': 10, 'n_estimators': 10}. Best is trial 62 with value: -27.664421000000058.\u001B[0m\n",
      "\u001B[32m[I 2023-01-29 23:15:54,544]\u001B[0m Trial 67 finished with value: -29.524584000000054 and parameters: {'min_samples_leaf': 100, 'max_depth': 10, 'n_estimators': 10}. Best is trial 62 with value: -27.664421000000058.\u001B[0m\n",
      "\u001B[32m[I 2023-01-29 23:16:04,605]\u001B[0m Trial 60 finished with value: -31.682513000000053 and parameters: {'min_samples_leaf': 100, 'max_depth': 20, 'n_estimators': 35}. Best is trial 62 with value: -27.664421000000058.\u001B[0m\n",
      "\u001B[32m[I 2023-01-29 23:16:05,790]\u001B[0m Trial 61 finished with value: -31.682513000000053 and parameters: {'min_samples_leaf': 100, 'max_depth': 20, 'n_estimators': 35}. Best is trial 62 with value: -27.664421000000058.\u001B[0m\n",
      "\u001B[32m[I 2023-01-29 23:16:15,074]\u001B[0m Trial 63 finished with value: -30.896153000000066 and parameters: {'min_samples_leaf': 100, 'max_depth': 10, 'n_estimators': 35}. Best is trial 62 with value: -27.664421000000058.\u001B[0m\n",
      "\u001B[32m[I 2023-01-29 23:16:15,939]\u001B[0m Trial 68 finished with value: -29.524584000000054 and parameters: {'min_samples_leaf': 100, 'max_depth': 10, 'n_estimators': 10}. Best is trial 62 with value: -27.664421000000058.\u001B[0m\n",
      "\u001B[32m[I 2023-01-29 23:16:20,447]\u001B[0m Trial 69 finished with value: -29.524584000000054 and parameters: {'min_samples_leaf': 100, 'max_depth': 10, 'n_estimators': 10}. Best is trial 62 with value: -27.664421000000058.\u001B[0m\n",
      "\u001B[32m[I 2023-01-29 23:16:21,068]\u001B[0m Trial 72 finished with value: -27.122508000000053 and parameters: {'min_samples_leaf': 100, 'max_depth': 10, 'n_estimators': 5}. Best is trial 72 with value: -27.122508000000053.\u001B[0m\n",
      "\u001B[32m[I 2023-01-29 23:16:21,770]\u001B[0m Trial 73 finished with value: -27.122508000000053 and parameters: {'min_samples_leaf': 100, 'max_depth': 10, 'n_estimators': 5}. Best is trial 72 with value: -27.122508000000053.\u001B[0m\n",
      "\u001B[32m[I 2023-01-29 23:16:23,977]\u001B[0m Trial 70 finished with value: -29.524584000000054 and parameters: {'min_samples_leaf': 100, 'max_depth': 10, 'n_estimators': 10}. Best is trial 72 with value: -27.122508000000053.\u001B[0m\n",
      "\u001B[32m[I 2023-01-29 23:16:26,850]\u001B[0m Trial 71 finished with value: -29.524584000000054 and parameters: {'min_samples_leaf': 100, 'max_depth': 10, 'n_estimators': 10}. Best is trial 72 with value: -27.122508000000053.\u001B[0m\n",
      "\u001B[32m[I 2023-01-29 23:16:27,743]\u001B[0m Trial 76 finished with value: -38.44684100000005 and parameters: {'min_samples_leaf': 900, 'max_depth': 10, 'n_estimators': 5}. Best is trial 72 with value: -27.122508000000053.\u001B[0m\n",
      "\u001B[32m[I 2023-01-29 23:16:28,325]\u001B[0m Trial 77 finished with value: -38.44684100000005 and parameters: {'min_samples_leaf': 900, 'max_depth': 5, 'n_estimators': 5}. Best is trial 72 with value: -27.122508000000053.\u001B[0m\n",
      "\u001B[32m[I 2023-01-29 23:16:31,240]\u001B[0m Trial 74 finished with value: -27.122508000000053 and parameters: {'min_samples_leaf': 100, 'max_depth': 10, 'n_estimators': 5}. Best is trial 72 with value: -27.122508000000053.\u001B[0m\n",
      "\u001B[32m[I 2023-01-29 23:16:32,068]\u001B[0m Trial 75 finished with value: -27.122508000000053 and parameters: {'min_samples_leaf': 100, 'max_depth': 10, 'n_estimators': 5}. Best is trial 72 with value: -27.122508000000053.\u001B[0m\n",
      "\u001B[32m[I 2023-01-29 23:16:35,010]\u001B[0m Trial 79 finished with value: -32.348348000000044 and parameters: {'min_samples_leaf': 200, 'max_depth': 5, 'n_estimators': 5}. Best is trial 72 with value: -27.122508000000053.\u001B[0m\n",
      "\u001B[32m[I 2023-01-29 23:16:35,118]\u001B[0m Trial 78 finished with value: -30.968513000000044 and parameters: {'min_samples_leaf': 200, 'max_depth': 10, 'n_estimators': 5}. Best is trial 72 with value: -27.122508000000053.\u001B[0m\n",
      "\u001B[32m[I 2023-01-29 23:16:38,006]\u001B[0m Trial 80 finished with value: -32.348348000000044 and parameters: {'min_samples_leaf': 200, 'max_depth': 5, 'n_estimators': 5}. Best is trial 72 with value: -27.122508000000053.\u001B[0m\n",
      "\u001B[32m[I 2023-01-29 23:16:38,835]\u001B[0m Trial 81 finished with value: -32.348348000000044 and parameters: {'min_samples_leaf': 200, 'max_depth': 5, 'n_estimators': 5}. Best is trial 72 with value: -27.122508000000053.\u001B[0m\n",
      "\u001B[32m[I 2023-01-29 23:16:41,366]\u001B[0m Trial 82 finished with value: -30.968513000000044 and parameters: {'min_samples_leaf': 200, 'max_depth': 10, 'n_estimators': 5}. Best is trial 72 with value: -27.122508000000053.\u001B[0m\n",
      "\u001B[32m[I 2023-01-29 23:16:41,572]\u001B[0m Trial 85 finished with value: -36.64852200000004 and parameters: {'min_samples_leaf': 1200, 'max_depth': 10, 'n_estimators': 5}. Best is trial 72 with value: -27.122508000000053.\u001B[0m\n",
      "\u001B[32m[I 2023-01-29 23:16:42,900]\u001B[0m Trial 84 finished with value: -32.348348000000044 and parameters: {'min_samples_leaf': 200, 'max_depth': 5, 'n_estimators': 5}. Best is trial 72 with value: -27.122508000000053.\u001B[0m\n",
      "\u001B[32m[I 2023-01-29 23:16:44,368]\u001B[0m Trial 83 finished with value: -30.968513000000044 and parameters: {'min_samples_leaf': 200, 'max_depth': 10, 'n_estimators': 5}. Best is trial 72 with value: -27.122508000000053.\u001B[0m\n",
      "\u001B[32m[I 2023-01-29 23:16:44,547]\u001B[0m Trial 87 finished with value: -36.64852200000004 and parameters: {'min_samples_leaf': 1200, 'max_depth': 10, 'n_estimators': 5}. Best is trial 72 with value: -27.122508000000053.\u001B[0m\n",
      "\u001B[32m[I 2023-01-29 23:16:47,142]\u001B[0m Trial 64 finished with value: -30.896153000000066 and parameters: {'min_samples_leaf': 100, 'max_depth': 10, 'n_estimators': 35}. Best is trial 72 with value: -27.122508000000053.\u001B[0m\n",
      "\u001B[32m[I 2023-01-29 23:16:48,231]\u001B[0m Trial 86 finished with value: -30.968513000000044 and parameters: {'min_samples_leaf': 200, 'max_depth': 10, 'n_estimators': 5}. Best is trial 72 with value: -27.122508000000053.\u001B[0m\n",
      "\u001B[32m[I 2023-01-29 23:16:54,386]\u001B[0m Trial 88 finished with value: -27.122508000000053 and parameters: {'min_samples_leaf': 100, 'max_depth': 10, 'n_estimators': 5}. Best is trial 72 with value: -27.122508000000053.\u001B[0m\n",
      "\u001B[32m[I 2023-01-29 23:17:05,592]\u001B[0m Trial 89 finished with value: -37.55008400000003 and parameters: {'min_samples_leaf': 1200, 'max_depth': 10, 'n_estimators': 20}. Best is trial 72 with value: -27.122508000000053.\u001B[0m\n",
      "\u001B[32m[I 2023-01-29 23:17:15,828]\u001B[0m Trial 92 finished with value: -29.524584000000054 and parameters: {'min_samples_leaf': 100, 'max_depth': 10, 'n_estimators': 10}. Best is trial 72 with value: -27.122508000000053.\u001B[0m\n",
      "\u001B[32m[I 2023-01-29 23:17:41,932]\u001B[0m Trial 90 finished with value: -27.664421000000058 and parameters: {'min_samples_leaf': 100, 'max_depth': 10, 'n_estimators': 20}. Best is trial 72 with value: -27.122508000000053.\u001B[0m\n",
      "\u001B[32m[I 2023-01-29 23:17:42,509]\u001B[0m Trial 91 finished with value: -27.664421000000058 and parameters: {'min_samples_leaf': 100, 'max_depth': 10, 'n_estimators': 20}. Best is trial 72 with value: -27.122508000000053.\u001B[0m\n",
      "\u001B[32m[I 2023-01-29 23:17:44,706]\u001B[0m Trial 93 finished with value: -27.664421000000058 and parameters: {'min_samples_leaf': 100, 'max_depth': 10, 'n_estimators': 20}. Best is trial 72 with value: -27.122508000000053.\u001B[0m\n",
      "\u001B[32m[I 2023-01-29 23:17:47,184]\u001B[0m Trial 94 finished with value: -27.664421000000058 and parameters: {'min_samples_leaf': 100, 'max_depth': 10, 'n_estimators': 20}. Best is trial 72 with value: -27.122508000000053.\u001B[0m\n",
      "\u001B[32m[I 2023-01-29 23:17:47,981]\u001B[0m Trial 95 finished with value: -27.664421000000058 and parameters: {'min_samples_leaf': 100, 'max_depth': 10, 'n_estimators': 20}. Best is trial 72 with value: -27.122508000000053.\u001B[0m\n",
      "\u001B[32m[I 2023-01-29 23:17:51,096]\u001B[0m Trial 97 finished with value: -29.648308000000068 and parameters: {'min_samples_leaf': 100, 'max_depth': 25, 'n_estimators': 15}. Best is trial 72 with value: -27.122508000000053.\u001B[0m\n",
      "\u001B[32m[I 2023-01-29 23:17:54,937]\u001B[0m Trial 96 finished with value: -27.672086000000057 and parameters: {'min_samples_leaf': 100, 'max_depth': 25, 'n_estimators': 20}. Best is trial 72 with value: -27.122508000000053.\u001B[0m\n",
      "\u001B[32m[I 2023-01-29 23:18:16,439]\u001B[0m Trial 98 finished with value: -27.664421000000058 and parameters: {'min_samples_leaf': 100, 'max_depth': 10, 'n_estimators': 20}. Best is trial 72 with value: -27.122508000000053.\u001B[0m\n",
      "\u001B[32m[I 2023-01-29 23:18:30,137]\u001B[0m Trial 100 finished with value: -29.124567000000056 and parameters: {'min_samples_leaf': 100, 'max_depth': 10, 'n_estimators': 15}. Best is trial 72 with value: -27.122508000000053.\u001B[0m\n",
      "\u001B[32m[I 2023-01-29 23:18:32,472]\u001B[0m Trial 101 finished with value: -29.124567000000056 and parameters: {'min_samples_leaf': 100, 'max_depth': 10, 'n_estimators': 15}. Best is trial 72 with value: -27.122508000000053.\u001B[0m\n",
      "\u001B[32m[I 2023-01-29 23:18:35,612]\u001B[0m Trial 102 finished with value: -29.124567000000056 and parameters: {'min_samples_leaf': 100, 'max_depth': 10, 'n_estimators': 15}. Best is trial 72 with value: -27.122508000000053.\u001B[0m\n",
      "\u001B[32m[I 2023-01-29 23:18:36,891]\u001B[0m Trial 103 finished with value: -29.124567000000056 and parameters: {'min_samples_leaf': 100, 'max_depth': 10, 'n_estimators': 15}. Best is trial 72 with value: -27.122508000000053.\u001B[0m\n",
      "\u001B[32m[I 2023-01-29 23:18:40,816]\u001B[0m Trial 104 finished with value: -29.124567000000056 and parameters: {'min_samples_leaf': 100, 'max_depth': 10, 'n_estimators': 15}. Best is trial 72 with value: -27.122508000000053.\u001B[0m\n",
      "\u001B[32m[I 2023-01-29 23:18:42,997]\u001B[0m Trial 106 finished with value: -34.73516500000003 and parameters: {'min_samples_leaf': 700, 'max_depth': 10, 'n_estimators': 15}. Best is trial 72 with value: -27.122508000000053.\u001B[0m\n",
      "\u001B[32m[I 2023-01-29 23:18:46,202]\u001B[0m Trial 105 finished with value: -29.124567000000056 and parameters: {'min_samples_leaf': 100, 'max_depth': 10, 'n_estimators': 15}. Best is trial 72 with value: -27.122508000000053.\u001B[0m\n",
      "\u001B[32m[I 2023-01-29 23:18:48,094]\u001B[0m Trial 99 finished with value: -27.664421000000058 and parameters: {'min_samples_leaf': 100, 'max_depth': 10, 'n_estimators': 20}. Best is trial 72 with value: -27.122508000000053.\u001B[0m\n",
      "\u001B[32m[I 2023-01-29 23:19:10,150]\u001B[0m Trial 109 finished with value: -34.67733300000003 and parameters: {'min_samples_leaf': 700, 'max_depth': 10, 'n_estimators': 20}. Best is trial 72 with value: -27.122508000000053.\u001B[0m\n",
      "\u001B[32m[I 2023-01-29 23:19:35,281]\u001B[0m Trial 111 finished with value: -33.19149500000004 and parameters: {'min_samples_leaf': 200, 'max_depth': 10, 'n_estimators': 20}. Best is trial 72 with value: -27.122508000000053.\u001B[0m\n",
      "\u001B[32m[I 2023-01-29 23:19:37,490]\u001B[0m Trial 112 finished with value: -33.19149500000004 and parameters: {'min_samples_leaf': 200, 'max_depth': 10, 'n_estimators': 20}. Best is trial 72 with value: -27.122508000000053.\u001B[0m\n",
      "\u001B[32m[I 2023-01-29 23:19:39,367]\u001B[0m Trial 113 finished with value: -33.19149500000004 and parameters: {'min_samples_leaf': 200, 'max_depth': 10, 'n_estimators': 20}. Best is trial 72 with value: -27.122508000000053.\u001B[0m\n",
      "\u001B[32m[I 2023-01-29 23:19:48,562]\u001B[0m Trial 107 finished with value: -37.343960000000024 and parameters: {'min_samples_leaf': 700, 'max_depth': 10, 'n_estimators': 45}. Best is trial 72 with value: -27.122508000000053.\u001B[0m\n",
      "\u001B[32m[I 2023-01-29 23:19:54,863]\u001B[0m Trial 110 finished with value: -37.343960000000024 and parameters: {'min_samples_leaf': 700, 'max_depth': 10, 'n_estimators': 45}. Best is trial 72 with value: -27.122508000000053.\u001B[0m\n",
      "\u001B[32m[I 2023-01-29 23:20:06,973]\u001B[0m Trial 117 finished with value: -30.709745000000037 and parameters: {'min_samples_leaf': 200, 'max_depth': 10, 'n_estimators': 10}. Best is trial 72 with value: -27.122508000000053.\u001B[0m\n",
      "\u001B[32m[I 2023-01-29 23:20:44,045]\u001B[0m Trial 118 finished with value: -27.664421000000058 and parameters: {'min_samples_leaf': 100, 'max_depth': 10, 'n_estimators': 20}. Best is trial 72 with value: -27.122508000000053.\u001B[0m\n",
      "\u001B[32m[I 2023-01-29 23:20:47,250]\u001B[0m Trial 114 finished with value: -33.26236600000004 and parameters: {'min_samples_leaf': 200, 'max_depth': 10, 'n_estimators': 45}. Best is trial 72 with value: -27.122508000000053.\u001B[0m\n",
      "\u001B[32m[I 2023-01-29 23:20:51,077]\u001B[0m Trial 119 finished with value: -27.664421000000058 and parameters: {'min_samples_leaf': 100, 'max_depth': 10, 'n_estimators': 20}. Best is trial 72 with value: -27.122508000000053.\u001B[0m\n",
      "\u001B[32m[I 2023-01-29 23:20:56,453]\u001B[0m Trial 120 finished with value: -27.664421000000058 and parameters: {'min_samples_leaf': 100, 'max_depth': 10, 'n_estimators': 20}. Best is trial 72 with value: -27.122508000000053.\u001B[0m\n",
      "\u001B[32m[I 2023-01-29 23:20:57,880]\u001B[0m Trial 108 finished with value: -32.00818800000006 and parameters: {'min_samples_leaf': 100, 'max_depth': 10, 'n_estimators': 45}. Best is trial 72 with value: -27.122508000000053.\u001B[0m\n",
      "\u001B[32m[I 2023-01-29 23:21:06,678]\u001B[0m Trial 124 finished with value: -27.122508000000053 and parameters: {'min_samples_leaf': 100, 'max_depth': 10, 'n_estimators': 5}. Best is trial 72 with value: -27.122508000000053.\u001B[0m\n",
      "\u001B[32m[I 2023-01-29 23:21:07,514]\u001B[0m Trial 121 finished with value: -27.664421000000058 and parameters: {'min_samples_leaf': 100, 'max_depth': 10, 'n_estimators': 20}. Best is trial 72 with value: -27.122508000000053.\u001B[0m\n",
      "\u001B[32m[I 2023-01-29 23:21:09,861]\u001B[0m Trial 115 finished with value: -33.26236600000004 and parameters: {'min_samples_leaf': 200, 'max_depth': 10, 'n_estimators': 45}. Best is trial 72 with value: -27.122508000000053.\u001B[0m\n",
      "\u001B[32m[I 2023-01-29 23:21:11,886]\u001B[0m Trial 125 finished with value: -27.122508000000053 and parameters: {'min_samples_leaf': 100, 'max_depth': 10, 'n_estimators': 5}. Best is trial 72 with value: -27.122508000000053.\u001B[0m\n",
      "\u001B[32m[I 2023-01-29 23:21:13,293]\u001B[0m Trial 126 finished with value: -27.122508000000053 and parameters: {'min_samples_leaf': 100, 'max_depth': 10, 'n_estimators': 5}. Best is trial 72 with value: -27.122508000000053.\u001B[0m\n",
      "\u001B[32m[I 2023-01-29 23:21:19,143]\u001B[0m Trial 116 finished with value: -32.25064200000004 and parameters: {'min_samples_leaf': 200, 'max_depth': 10, 'n_estimators': 40}. Best is trial 72 with value: -27.122508000000053.\u001B[0m\n",
      "\u001B[32m[I 2023-01-29 23:21:22,424]\u001B[0m Trial 127 finished with value: -27.122508000000053 and parameters: {'min_samples_leaf': 100, 'max_depth': 10, 'n_estimators': 5}. Best is trial 72 with value: -27.122508000000053.\u001B[0m\n",
      "\u001B[32m[I 2023-01-29 23:21:23,371]\u001B[0m Trial 128 finished with value: -27.122508000000053 and parameters: {'min_samples_leaf': 100, 'max_depth': 10, 'n_estimators': 5}. Best is trial 72 with value: -27.122508000000053.\u001B[0m\n",
      "\u001B[32m[I 2023-01-29 23:21:26,172]\u001B[0m Trial 129 finished with value: -27.122508000000053 and parameters: {'min_samples_leaf': 100, 'max_depth': 10, 'n_estimators': 5}. Best is trial 72 with value: -27.122508000000053.\u001B[0m\n",
      "\u001B[32m[I 2023-01-29 23:21:28,018]\u001B[0m Trial 130 finished with value: -27.122508000000053 and parameters: {'min_samples_leaf': 100, 'max_depth': 10, 'n_estimators': 5}. Best is trial 72 with value: -27.122508000000053.\u001B[0m\n",
      "\u001B[32m[I 2023-01-29 23:21:29,354]\u001B[0m Trial 131 finished with value: -27.122508000000053 and parameters: {'min_samples_leaf': 100, 'max_depth': 10, 'n_estimators': 5}. Best is trial 72 with value: -27.122508000000053.\u001B[0m\n",
      "\u001B[32m[I 2023-01-29 23:21:29,550]\u001B[0m Trial 134 finished with value: -38.27588400000003 and parameters: {'min_samples_leaf': 1100, 'max_depth': 10, 'n_estimators': 5}. Best is trial 72 with value: -27.122508000000053.\u001B[0m\n",
      "\u001B[32m[I 2023-01-29 23:21:32,368]\u001B[0m Trial 135 finished with value: -38.27588400000003 and parameters: {'min_samples_leaf': 1100, 'max_depth': 10, 'n_estimators': 5}. Best is trial 72 with value: -27.122508000000053.\u001B[0m\n",
      "\u001B[32m[I 2023-01-29 23:21:34,034]\u001B[0m Trial 136 finished with value: -38.27588400000003 and parameters: {'min_samples_leaf': 1100, 'max_depth': 10, 'n_estimators': 5}. Best is trial 72 with value: -27.122508000000053.\u001B[0m\n",
      "\u001B[32m[I 2023-01-29 23:21:34,868]\u001B[0m Trial 132 finished with value: -27.122508000000053 and parameters: {'min_samples_leaf': 100, 'max_depth': 10, 'n_estimators': 5}. Best is trial 72 with value: -27.122508000000053.\u001B[0m\n",
      "\u001B[32m[I 2023-01-29 23:21:37,823]\u001B[0m Trial 133 finished with value: -27.122508000000053 and parameters: {'min_samples_leaf': 100, 'max_depth': 10, 'n_estimators': 5}. Best is trial 72 with value: -27.122508000000053.\u001B[0m\n",
      "\u001B[32m[I 2023-01-29 23:21:43,789]\u001B[0m Trial 122 finished with value: -27.664421000000058 and parameters: {'min_samples_leaf': 100, 'max_depth': 10, 'n_estimators': 20}. Best is trial 72 with value: -27.122508000000053.\u001B[0m\n",
      "\u001B[32m[I 2023-01-29 23:21:44,219]\u001B[0m Trial 137 finished with value: -27.122508000000053 and parameters: {'min_samples_leaf': 100, 'max_depth': 10, 'n_estimators': 5}. Best is trial 72 with value: -27.122508000000053.\u001B[0m\n",
      "\u001B[32m[I 2023-01-29 23:21:44,525]\u001B[0m Trial 138 finished with value: -27.122508000000053 and parameters: {'min_samples_leaf': 100, 'max_depth': 10, 'n_estimators': 5}. Best is trial 72 with value: -27.122508000000053.\u001B[0m\n",
      "\u001B[32m[I 2023-01-29 23:21:47,240]\u001B[0m Trial 123 finished with value: -27.664421000000058 and parameters: {'min_samples_leaf': 100, 'max_depth': 10, 'n_estimators': 20}. Best is trial 72 with value: -27.122508000000053.\u001B[0m\n",
      "\u001B[32m[I 2023-01-29 23:21:47,327]\u001B[0m Trial 139 finished with value: -27.122508000000053 and parameters: {'min_samples_leaf': 100, 'max_depth': 10, 'n_estimators': 5}. Best is trial 72 with value: -27.122508000000053.\u001B[0m\n",
      "\u001B[32m[I 2023-01-29 23:21:48,719]\u001B[0m Trial 140 finished with value: -27.122508000000053 and parameters: {'min_samples_leaf': 100, 'max_depth': 10, 'n_estimators': 5}. Best is trial 72 with value: -27.122508000000053.\u001B[0m\n",
      "\u001B[32m[I 2023-01-29 23:21:49,626]\u001B[0m Trial 141 finished with value: -27.122508000000053 and parameters: {'min_samples_leaf': 100, 'max_depth': 10, 'n_estimators': 5}. Best is trial 72 with value: -27.122508000000053.\u001B[0m\n",
      "\u001B[32m[I 2023-01-29 23:21:52,801]\u001B[0m Trial 142 finished with value: -27.122508000000053 and parameters: {'min_samples_leaf': 100, 'max_depth': 10, 'n_estimators': 5}. Best is trial 72 with value: -27.122508000000053.\u001B[0m\n",
      "\u001B[32m[I 2023-01-29 23:21:57,314]\u001B[0m Trial 147 finished with value: -37.25211600000003 and parameters: {'min_samples_leaf': 400, 'max_depth': 15, 'n_estimators': 5}. Best is trial 72 with value: -27.122508000000053.\u001B[0m\n",
      "\u001B[32m[I 2023-01-29 23:21:58,969]\u001B[0m Trial 143 finished with value: -27.122508000000053 and parameters: {'min_samples_leaf': 100, 'max_depth': 10, 'n_estimators': 5}. Best is trial 72 with value: -27.122508000000053.\u001B[0m\n",
      "\u001B[32m[I 2023-01-29 23:21:59,532]\u001B[0m Trial 146 finished with value: -30.968513000000044 and parameters: {'min_samples_leaf': 200, 'max_depth': 15, 'n_estimators': 5}. Best is trial 72 with value: -27.122508000000053.\u001B[0m\n",
      "\u001B[32m[I 2023-01-29 23:21:59,799]\u001B[0m Trial 145 finished with value: -26.801611000000044 and parameters: {'min_samples_leaf': 100, 'max_depth': 15, 'n_estimators': 5}. Best is trial 145 with value: -26.801611000000044.\u001B[0m\n",
      "\u001B[32m[I 2023-01-29 23:21:59,856]\u001B[0m Trial 144 finished with value: -26.801611000000044 and parameters: {'min_samples_leaf': 100, 'max_depth': 15, 'n_estimators': 5}. Best is trial 145 with value: -26.801611000000044.\u001B[0m\n",
      "\u001B[32m[I 2023-01-29 23:22:03,717]\u001B[0m Trial 148 finished with value: -27.122508000000053 and parameters: {'min_samples_leaf': 100, 'max_depth': 10, 'n_estimators': 5}. Best is trial 145 with value: -26.801611000000044.\u001B[0m\n",
      "\u001B[32m[I 2023-01-29 23:22:05,110]\u001B[0m Trial 149 finished with value: -27.122508000000053 and parameters: {'min_samples_leaf': 100, 'max_depth': 10, 'n_estimators': 5}. Best is trial 145 with value: -26.801611000000044.\u001B[0m\n",
      "\u001B[32m[I 2023-01-29 23:22:05,694]\u001B[0m Trial 150 finished with value: -30.968513000000044 and parameters: {'min_samples_leaf': 200, 'max_depth': 10, 'n_estimators': 5}. Best is trial 145 with value: -26.801611000000044.\u001B[0m\n",
      "\u001B[32m[I 2023-01-29 23:22:06,457]\u001B[0m Trial 151 finished with value: -35.64506600000003 and parameters: {'min_samples_leaf': 500, 'max_depth': 10, 'n_estimators': 5}. Best is trial 145 with value: -26.801611000000044.\u001B[0m\n",
      "\u001B[32m[I 2023-01-29 23:22:23,521]\u001B[0m Trial 152 finished with value: -30.709745000000037 and parameters: {'min_samples_leaf': 200, 'max_depth': 10, 'n_estimators': 10}. Best is trial 145 with value: -26.801611000000044.\u001B[0m\n",
      "\u001B[32m[I 2023-01-29 23:22:24,821]\u001B[0m Trial 154 finished with value: -30.631835000000034 and parameters: {'min_samples_leaf': 200, 'max_depth': 15, 'n_estimators': 10}. Best is trial 145 with value: -26.801611000000044.\u001B[0m\n",
      "\u001B[32m[I 2023-01-29 23:22:24,914]\u001B[0m Trial 155 finished with value: -30.631835000000034 and parameters: {'min_samples_leaf': 200, 'max_depth': 15, 'n_estimators': 10}. Best is trial 145 with value: -26.801611000000044.\u001B[0m\n",
      "\u001B[32m[I 2023-01-29 23:22:28,163]\u001B[0m Trial 156 finished with value: -30.631835000000034 and parameters: {'min_samples_leaf': 200, 'max_depth': 15, 'n_estimators': 10}. Best is trial 145 with value: -26.801611000000044.\u001B[0m\n",
      "\u001B[32m[I 2023-01-29 23:22:29,029]\u001B[0m Trial 153 finished with value: -29.524584000000054 and parameters: {'min_samples_leaf': 100, 'max_depth': 10, 'n_estimators': 10}. Best is trial 145 with value: -26.801611000000044.\u001B[0m\n",
      "\u001B[32m[I 2023-01-29 23:22:29,137]\u001B[0m Trial 157 finished with value: -30.631835000000034 and parameters: {'min_samples_leaf': 200, 'max_depth': 15, 'n_estimators': 10}. Best is trial 145 with value: -26.801611000000044.\u001B[0m\n",
      "\u001B[32m[I 2023-01-29 23:22:35,173]\u001B[0m Trial 158 finished with value: -28.08749600000005 and parameters: {'min_samples_leaf': 100, 'max_depth': 15, 'n_estimators': 10}. Best is trial 145 with value: -26.801611000000044.\u001B[0m\n",
      "\u001B[32m[I 2023-01-29 23:22:36,202]\u001B[0m Trial 159 finished with value: -28.08749600000005 and parameters: {'min_samples_leaf': 100, 'max_depth': 15, 'n_estimators': 10}. Best is trial 145 with value: -26.801611000000044.\u001B[0m\n",
      "\u001B[32m[I 2023-01-29 23:22:40,015]\u001B[0m Trial 161 finished with value: -26.801611000000044 and parameters: {'min_samples_leaf': 100, 'max_depth': 15, 'n_estimators': 5}. Best is trial 145 with value: -26.801611000000044.\u001B[0m\n",
      "\u001B[32m[I 2023-01-29 23:22:40,247]\u001B[0m Trial 162 finished with value: -26.801611000000044 and parameters: {'min_samples_leaf': 100, 'max_depth': 15, 'n_estimators': 5}. Best is trial 145 with value: -26.801611000000044.\u001B[0m\n",
      "\u001B[32m[I 2023-01-29 23:22:43,736]\u001B[0m Trial 163 finished with value: -26.801611000000044 and parameters: {'min_samples_leaf': 100, 'max_depth': 15, 'n_estimators': 5}. Best is trial 145 with value: -26.801611000000044.\u001B[0m\n",
      "\u001B[32m[I 2023-01-29 23:22:44,595]\u001B[0m Trial 165 finished with value: -26.801611000000044 and parameters: {'min_samples_leaf': 100, 'max_depth': 15, 'n_estimators': 5}. Best is trial 145 with value: -26.801611000000044.\u001B[0m\n",
      "\u001B[32m[I 2023-01-29 23:22:44,867]\u001B[0m Trial 164 finished with value: -26.801611000000044 and parameters: {'min_samples_leaf': 100, 'max_depth': 15, 'n_estimators': 5}. Best is trial 145 with value: -26.801611000000044.\u001B[0m\n",
      "\u001B[32m[I 2023-01-29 23:22:51,000]\u001B[0m Trial 166 finished with value: -27.122508000000053 and parameters: {'min_samples_leaf': 100, 'max_depth': 10, 'n_estimators': 5}. Best is trial 145 with value: -26.801611000000044.\u001B[0m\n",
      "\u001B[32m[I 2023-01-29 23:22:52,101]\u001B[0m Trial 167 finished with value: -27.122508000000053 and parameters: {'min_samples_leaf': 100, 'max_depth': 10, 'n_estimators': 5}. Best is trial 145 with value: -26.801611000000044.\u001B[0m\n",
      "\u001B[32m[I 2023-01-29 23:22:54,619]\u001B[0m Trial 160 finished with value: -28.08749600000005 and parameters: {'min_samples_leaf': 100, 'max_depth': 15, 'n_estimators': 10}. Best is trial 145 with value: -26.801611000000044.\u001B[0m\n",
      "\u001B[32m[I 2023-01-29 23:22:56,350]\u001B[0m Trial 168 finished with value: -26.801611000000044 and parameters: {'min_samples_leaf': 100, 'max_depth': 15, 'n_estimators': 5}. Best is trial 145 with value: -26.801611000000044.\u001B[0m\n",
      "\u001B[32m[I 2023-01-29 23:22:56,923]\u001B[0m Trial 169 finished with value: -26.801611000000044 and parameters: {'min_samples_leaf': 100, 'max_depth': 15, 'n_estimators': 5}. Best is trial 145 with value: -26.801611000000044.\u001B[0m\n",
      "\u001B[32m[I 2023-01-29 23:23:00,320]\u001B[0m Trial 170 finished with value: -26.801611000000044 and parameters: {'min_samples_leaf': 100, 'max_depth': 15, 'n_estimators': 5}. Best is trial 145 with value: -26.801611000000044.\u001B[0m\n",
      "\u001B[32m[I 2023-01-29 23:23:00,814]\u001B[0m Trial 171 finished with value: -26.801611000000044 and parameters: {'min_samples_leaf': 100, 'max_depth': 15, 'n_estimators': 5}. Best is trial 145 with value: -26.801611000000044.\u001B[0m\n",
      "\u001B[32m[I 2023-01-29 23:23:01,176]\u001B[0m Trial 172 finished with value: -26.801611000000044 and parameters: {'min_samples_leaf': 100, 'max_depth': 15, 'n_estimators': 5}. Best is trial 145 with value: -26.801611000000044.\u001B[0m\n",
      "\u001B[32m[I 2023-01-29 23:23:06,568]\u001B[0m Trial 173 finished with value: -26.801611000000044 and parameters: {'min_samples_leaf': 100, 'max_depth': 15, 'n_estimators': 5}. Best is trial 145 with value: -26.801611000000044.\u001B[0m\n",
      "\u001B[32m[I 2023-01-29 23:23:07,399]\u001B[0m Trial 174 finished with value: -26.801611000000044 and parameters: {'min_samples_leaf': 100, 'max_depth': 15, 'n_estimators': 5}. Best is trial 145 with value: -26.801611000000044.\u001B[0m\n",
      "\u001B[32m[I 2023-01-29 23:23:10,201]\u001B[0m Trial 175 finished with value: -26.801611000000044 and parameters: {'min_samples_leaf': 100, 'max_depth': 15, 'n_estimators': 5}. Best is trial 145 with value: -26.801611000000044.\u001B[0m\n",
      "\u001B[32m[I 2023-01-29 23:23:11,468]\u001B[0m Trial 176 finished with value: -26.801611000000044 and parameters: {'min_samples_leaf': 100, 'max_depth': 15, 'n_estimators': 5}. Best is trial 145 with value: -26.801611000000044.\u001B[0m\n",
      "\u001B[32m[I 2023-01-29 23:23:11,945]\u001B[0m Trial 177 finished with value: -26.801611000000044 and parameters: {'min_samples_leaf': 100, 'max_depth': 15, 'n_estimators': 5}. Best is trial 145 with value: -26.801611000000044.\u001B[0m\n",
      "\u001B[32m[I 2023-01-29 23:23:15,278]\u001B[0m Trial 178 finished with value: -26.801611000000044 and parameters: {'min_samples_leaf': 100, 'max_depth': 15, 'n_estimators': 5}. Best is trial 145 with value: -26.801611000000044.\u001B[0m\n",
      "\u001B[32m[I 2023-01-29 23:23:15,925]\u001B[0m Trial 179 finished with value: -26.801611000000044 and parameters: {'min_samples_leaf': 100, 'max_depth': 15, 'n_estimators': 5}. Best is trial 145 with value: -26.801611000000044.\u001B[0m\n",
      "\u001B[32m[I 2023-01-29 23:23:16,378]\u001B[0m Trial 180 finished with value: -26.801611000000044 and parameters: {'min_samples_leaf': 100, 'max_depth': 15, 'n_estimators': 5}. Best is trial 145 with value: -26.801611000000044.\u001B[0m\n",
      "\u001B[32m[I 2023-01-29 23:23:22,856]\u001B[0m Trial 181 finished with value: -26.801611000000044 and parameters: {'min_samples_leaf': 100, 'max_depth': 15, 'n_estimators': 5}. Best is trial 145 with value: -26.801611000000044.\u001B[0m\n",
      "\u001B[32m[I 2023-01-29 23:23:23,724]\u001B[0m Trial 182 finished with value: -26.801611000000044 and parameters: {'min_samples_leaf': 100, 'max_depth': 15, 'n_estimators': 5}. Best is trial 145 with value: -26.801611000000044.\u001B[0m\n",
      "\u001B[32m[I 2023-01-29 23:23:26,550]\u001B[0m Trial 183 finished with value: -26.801611000000044 and parameters: {'min_samples_leaf': 100, 'max_depth': 15, 'n_estimators': 5}. Best is trial 145 with value: -26.801611000000044.\u001B[0m\n",
      "\u001B[32m[I 2023-01-29 23:23:27,849]\u001B[0m Trial 184 finished with value: -26.801611000000044 and parameters: {'min_samples_leaf': 100, 'max_depth': 15, 'n_estimators': 5}. Best is trial 145 with value: -26.801611000000044.\u001B[0m\n",
      "\u001B[32m[I 2023-01-29 23:23:28,426]\u001B[0m Trial 185 finished with value: -26.801611000000044 and parameters: {'min_samples_leaf': 100, 'max_depth': 15, 'n_estimators': 5}. Best is trial 145 with value: -26.801611000000044.\u001B[0m\n",
      "\u001B[32m[I 2023-01-29 23:23:32,127]\u001B[0m Trial 186 finished with value: -26.801611000000044 and parameters: {'min_samples_leaf': 100, 'max_depth': 15, 'n_estimators': 5}. Best is trial 145 with value: -26.801611000000044.\u001B[0m\n",
      "\u001B[32m[I 2023-01-29 23:23:32,742]\u001B[0m Trial 187 finished with value: -26.801611000000044 and parameters: {'min_samples_leaf': 100, 'max_depth': 15, 'n_estimators': 5}. Best is trial 145 with value: -26.801611000000044.\u001B[0m\n",
      "\u001B[32m[I 2023-01-29 23:23:33,126]\u001B[0m Trial 188 finished with value: -26.801611000000044 and parameters: {'min_samples_leaf': 100, 'max_depth': 15, 'n_estimators': 5}. Best is trial 145 with value: -26.801611000000044.\u001B[0m\n",
      "\u001B[32m[I 2023-01-29 23:23:40,747]\u001B[0m Trial 189 finished with value: -26.801611000000044 and parameters: {'min_samples_leaf': 100, 'max_depth': 15, 'n_estimators': 5}. Best is trial 145 with value: -26.801611000000044.\u001B[0m\n",
      "\u001B[32m[I 2023-01-29 23:23:41,543]\u001B[0m Trial 190 finished with value: -26.801611000000044 and parameters: {'min_samples_leaf': 100, 'max_depth': 15, 'n_estimators': 5}. Best is trial 145 with value: -26.801611000000044.\u001B[0m\n",
      "\u001B[32m[I 2023-01-29 23:23:42,067]\u001B[0m Trial 195 finished with value: -37.34933600000004 and parameters: {'min_samples_leaf': 800, 'max_depth': 15, 'n_estimators': 5}. Best is trial 145 with value: -26.801611000000044.\u001B[0m\n",
      "\u001B[32m[I 2023-01-29 23:23:44,912]\u001B[0m Trial 191 finished with value: -26.801611000000044 and parameters: {'min_samples_leaf': 100, 'max_depth': 15, 'n_estimators': 5}. Best is trial 145 with value: -26.801611000000044.\u001B[0m\n",
      "\u001B[32m[I 2023-01-29 23:23:45,971]\u001B[0m Trial 192 finished with value: -26.801611000000044 and parameters: {'min_samples_leaf': 100, 'max_depth': 15, 'n_estimators': 5}. Best is trial 145 with value: -26.801611000000044.\u001B[0m\n",
      "\u001B[32m[I 2023-01-29 23:23:46,764]\u001B[0m Trial 193 finished with value: -26.801611000000044 and parameters: {'min_samples_leaf': 100, 'max_depth': 15, 'n_estimators': 5}. Best is trial 145 with value: -26.801611000000044.\u001B[0m\n",
      "\u001B[32m[I 2023-01-29 23:23:50,716]\u001B[0m Trial 197 finished with value: -36.79733900000002 and parameters: {'min_samples_leaf': 600, 'max_depth': 15, 'n_estimators': 5}. Best is trial 145 with value: -26.801611000000044.\u001B[0m\n",
      "\u001B[32m[I 2023-01-29 23:23:51,096]\u001B[0m Trial 194 finished with value: -26.801611000000044 and parameters: {'min_samples_leaf': 100, 'max_depth': 15, 'n_estimators': 5}. Best is trial 145 with value: -26.801611000000044.\u001B[0m\n",
      "\u001B[32m[I 2023-01-29 23:23:51,720]\u001B[0m Trial 196 finished with value: -26.801611000000044 and parameters: {'min_samples_leaf': 100, 'max_depth': 15, 'n_estimators': 5}. Best is trial 145 with value: -26.801611000000044.\u001B[0m\n",
      "\u001B[32m[I 2023-01-29 23:23:56,041]\u001B[0m Trial 198 finished with value: -26.801611000000044 and parameters: {'min_samples_leaf': 100, 'max_depth': 15, 'n_estimators': 5}. Best is trial 145 with value: -26.801611000000044.\u001B[0m\n",
      "\u001B[32m[I 2023-01-29 23:23:56,219]\u001B[0m Trial 199 finished with value: -26.801611000000044 and parameters: {'min_samples_leaf': 100, 'max_depth': 15, 'n_estimators': 5}. Best is trial 145 with value: -26.801611000000044.\u001B[0m\n"
     ]
    },
    {
     "name": "stdout",
     "output_type": "stream",
     "text": [
      "CPU times: user 1h 55min 59s, sys: 2min 5s, total: 1h 58min 5s\n",
      "Wall time: 18min 18s\n"
     ]
    }
   ],
   "source": [
    "%%time\n",
    "study.optimize(partial(objective, train = train_norm, labels = y_train, val = valid_norm, val_labels = y_valid,\n",
    "                       val_rets = valid_stock_returns.values), n_trials=200,n_jobs=-1)"
   ],
   "metadata": {
    "collapsed": false
   }
  },
  {
   "cell_type": "code",
   "execution_count": 40,
   "outputs": [
    {
     "data": {
      "text/plain": "{'min_samples_leaf': 100, 'max_depth': 15, 'n_estimators': 5}"
     },
     "execution_count": 40,
     "metadata": {},
     "output_type": "execute_result"
    }
   ],
   "source": [
    "study.best_params"
   ],
   "metadata": {
    "collapsed": false
   }
  },
  {
   "cell_type": "markdown",
   "source": [
    "<h3> Decision Tree Classifier </h3>"
   ],
   "metadata": {
    "collapsed": false
   }
  },
  {
   "cell_type": "code",
   "execution_count": 43,
   "outputs": [],
   "source": [
    "t_clf = DecisionTreeClassifier(**{'min_samples_leaf': 100, 'max_depth': 15},random_state=123)"
   ],
   "metadata": {
    "collapsed": false
   }
  },
  {
   "cell_type": "markdown",
   "source": [
    "<h3> Bagging Classifier </h3>"
   ],
   "metadata": {
    "collapsed": false
   }
  },
  {
   "cell_type": "code",
   "execution_count": 44,
   "outputs": [],
   "source": [
    "bg_clf = BaggingClassifier(t_clf,n_estimators=5,random_state=123)"
   ],
   "metadata": {
    "collapsed": false
   }
  },
  {
   "cell_type": "markdown",
   "source": [
    "<h3> Train </h3>"
   ],
   "metadata": {
    "collapsed": false
   }
  },
  {
   "cell_type": "code",
   "execution_count": 45,
   "outputs": [
    {
     "data": {
      "text/plain": "BaggingClassifier(base_estimator=DecisionTreeClassifier(max_depth=15,\n                                                        min_samples_leaf=100,\n                                                        random_state=123),\n                  n_estimators=5, random_state=123)",
      "text/html": "<style>#sk-container-id-1 {color: black;background-color: white;}#sk-container-id-1 pre{padding: 0;}#sk-container-id-1 div.sk-toggleable {background-color: white;}#sk-container-id-1 label.sk-toggleable__label {cursor: pointer;display: block;width: 100%;margin-bottom: 0;padding: 0.3em;box-sizing: border-box;text-align: center;}#sk-container-id-1 label.sk-toggleable__label-arrow:before {content: \"▸\";float: left;margin-right: 0.25em;color: #696969;}#sk-container-id-1 label.sk-toggleable__label-arrow:hover:before {color: black;}#sk-container-id-1 div.sk-estimator:hover label.sk-toggleable__label-arrow:before {color: black;}#sk-container-id-1 div.sk-toggleable__content {max-height: 0;max-width: 0;overflow: hidden;text-align: left;background-color: #f0f8ff;}#sk-container-id-1 div.sk-toggleable__content pre {margin: 0.2em;color: black;border-radius: 0.25em;background-color: #f0f8ff;}#sk-container-id-1 input.sk-toggleable__control:checked~div.sk-toggleable__content {max-height: 200px;max-width: 100%;overflow: auto;}#sk-container-id-1 input.sk-toggleable__control:checked~label.sk-toggleable__label-arrow:before {content: \"▾\";}#sk-container-id-1 div.sk-estimator input.sk-toggleable__control:checked~label.sk-toggleable__label {background-color: #d4ebff;}#sk-container-id-1 div.sk-label input.sk-toggleable__control:checked~label.sk-toggleable__label {background-color: #d4ebff;}#sk-container-id-1 input.sk-hidden--visually {border: 0;clip: rect(1px 1px 1px 1px);clip: rect(1px, 1px, 1px, 1px);height: 1px;margin: -1px;overflow: hidden;padding: 0;position: absolute;width: 1px;}#sk-container-id-1 div.sk-estimator {font-family: monospace;background-color: #f0f8ff;border: 1px dotted black;border-radius: 0.25em;box-sizing: border-box;margin-bottom: 0.5em;}#sk-container-id-1 div.sk-estimator:hover {background-color: #d4ebff;}#sk-container-id-1 div.sk-parallel-item::after {content: \"\";width: 100%;border-bottom: 1px solid gray;flex-grow: 1;}#sk-container-id-1 div.sk-label:hover label.sk-toggleable__label {background-color: #d4ebff;}#sk-container-id-1 div.sk-serial::before {content: \"\";position: absolute;border-left: 1px solid gray;box-sizing: border-box;top: 0;bottom: 0;left: 50%;z-index: 0;}#sk-container-id-1 div.sk-serial {display: flex;flex-direction: column;align-items: center;background-color: white;padding-right: 0.2em;padding-left: 0.2em;position: relative;}#sk-container-id-1 div.sk-item {position: relative;z-index: 1;}#sk-container-id-1 div.sk-parallel {display: flex;align-items: stretch;justify-content: center;background-color: white;position: relative;}#sk-container-id-1 div.sk-item::before, #sk-container-id-1 div.sk-parallel-item::before {content: \"\";position: absolute;border-left: 1px solid gray;box-sizing: border-box;top: 0;bottom: 0;left: 50%;z-index: -1;}#sk-container-id-1 div.sk-parallel-item {display: flex;flex-direction: column;z-index: 1;position: relative;background-color: white;}#sk-container-id-1 div.sk-parallel-item:first-child::after {align-self: flex-end;width: 50%;}#sk-container-id-1 div.sk-parallel-item:last-child::after {align-self: flex-start;width: 50%;}#sk-container-id-1 div.sk-parallel-item:only-child::after {width: 0;}#sk-container-id-1 div.sk-dashed-wrapped {border: 1px dashed gray;margin: 0 0.4em 0.5em 0.4em;box-sizing: border-box;padding-bottom: 0.4em;background-color: white;}#sk-container-id-1 div.sk-label label {font-family: monospace;font-weight: bold;display: inline-block;line-height: 1.2em;}#sk-container-id-1 div.sk-label-container {text-align: center;}#sk-container-id-1 div.sk-container {/* jupyter's `normalize.less` sets `[hidden] { display: none; }` but bootstrap.min.css set `[hidden] { display: none !important; }` so we also need the `!important` here to be able to override the default hidden behavior on the sphinx rendered scikit-learn.org. See: https://github.com/scikit-learn/scikit-learn/issues/21755 */display: inline-block !important;position: relative;}#sk-container-id-1 div.sk-text-repr-fallback {display: none;}</style><div id=\"sk-container-id-1\" class=\"sk-top-container\"><div class=\"sk-text-repr-fallback\"><pre>BaggingClassifier(base_estimator=DecisionTreeClassifier(max_depth=15,\n                                                        min_samples_leaf=100,\n                                                        random_state=123),\n                  n_estimators=5, random_state=123)</pre><b>In a Jupyter environment, please rerun this cell to show the HTML representation or trust the notebook. <br />On GitHub, the HTML representation is unable to render, please try loading this page with nbviewer.org.</b></div><div class=\"sk-container\" hidden><div class=\"sk-item sk-dashed-wrapped\"><div class=\"sk-label-container\"><div class=\"sk-label sk-toggleable\"><input class=\"sk-toggleable__control sk-hidden--visually\" id=\"sk-estimator-id-1\" type=\"checkbox\" ><label for=\"sk-estimator-id-1\" class=\"sk-toggleable__label sk-toggleable__label-arrow\">BaggingClassifier</label><div class=\"sk-toggleable__content\"><pre>BaggingClassifier(base_estimator=DecisionTreeClassifier(max_depth=15,\n                                                        min_samples_leaf=100,\n                                                        random_state=123),\n                  n_estimators=5, random_state=123)</pre></div></div></div><div class=\"sk-parallel\"><div class=\"sk-parallel-item\"><div class=\"sk-item\"><div class=\"sk-label-container\"><div class=\"sk-label sk-toggleable\"><input class=\"sk-toggleable__control sk-hidden--visually\" id=\"sk-estimator-id-2\" type=\"checkbox\" ><label for=\"sk-estimator-id-2\" class=\"sk-toggleable__label sk-toggleable__label-arrow\">base_estimator: DecisionTreeClassifier</label><div class=\"sk-toggleable__content\"><pre>DecisionTreeClassifier(max_depth=15, min_samples_leaf=100, random_state=123)</pre></div></div></div><div class=\"sk-serial\"><div class=\"sk-item\"><div class=\"sk-estimator sk-toggleable\"><input class=\"sk-toggleable__control sk-hidden--visually\" id=\"sk-estimator-id-3\" type=\"checkbox\" ><label for=\"sk-estimator-id-3\" class=\"sk-toggleable__label sk-toggleable__label-arrow\">DecisionTreeClassifier</label><div class=\"sk-toggleable__content\"><pre>DecisionTreeClassifier(max_depth=15, min_samples_leaf=100, random_state=123)</pre></div></div></div></div></div></div></div></div></div></div>"
     },
     "execution_count": 45,
     "metadata": {},
     "output_type": "execute_result"
    }
   ],
   "source": [
    "bg_clf.fit(valid_norm,y_valid)"
   ],
   "metadata": {
    "collapsed": false
   }
  },
  {
   "cell_type": "markdown",
   "source": [
    "<h3> Back Test </h3>"
   ],
   "metadata": {
    "collapsed": false
   }
  },
  {
   "cell_type": "code",
   "execution_count": 46,
   "outputs": [
    {
     "data": {
      "text/plain": "593.6424799999998"
     },
     "execution_count": 46,
     "metadata": {},
     "output_type": "execute_result"
    }
   ],
   "source": [
    "pred_test = bg_clf.predict(test_norm)\n",
    "(pred_test * df_test['next_period_return'].values).sum()"
   ],
   "metadata": {
    "collapsed": false
   }
  },
  {
   "cell_type": "markdown",
   "source": [
    "<h3> Shapley Values </h3>"
   ],
   "metadata": {
    "collapsed": false
   }
  },
  {
   "cell_type": "code",
   "execution_count": 57,
   "outputs": [],
   "source": [
    "fi = bagging_feat_importance(bg_clf,train_norm)"
   ],
   "metadata": {
    "collapsed": false
   }
  },
  {
   "cell_type": "code",
   "execution_count": 58,
   "outputs": [],
   "source": [
    "features = fi[(fi['feat_imp'] > 0.0)]"
   ],
   "metadata": {
    "collapsed": false
   }
  },
  {
   "cell_type": "code",
   "execution_count": 59,
   "outputs": [],
   "source": [
    "cols = features['cols'].values"
   ],
   "metadata": {
    "collapsed": false
   }
  },
  {
   "cell_type": "code",
   "execution_count": 60,
   "outputs": [],
   "source": [
    "float_vars = [x for x in train[cols].columns if data[x].dtype == 'float64']"
   ],
   "metadata": {
    "collapsed": false
   }
  },
  {
   "cell_type": "code",
   "execution_count": 61,
   "outputs": [],
   "source": [
    "train_red_norm = train.copy()\n",
    "valid_red_norm = valid.copy()\n",
    "test_red_norm = test.copy()"
   ],
   "metadata": {
    "collapsed": false
   }
  },
  {
   "cell_type": "code",
   "execution_count": 62,
   "outputs": [],
   "source": [
    "train_red_norm[float_vars] = scaler.fit_transform((train[cols])[float_vars])\n",
    "valid_red_norm[float_vars] = scaler.transform((valid[cols])[float_vars])\n",
    "test_red_norm[float_vars] = scaler.transform((test[cols])[float_vars])"
   ],
   "metadata": {
    "collapsed": false
   }
  },
  {
   "cell_type": "code",
   "execution_count": 63,
   "outputs": [],
   "source": [
    "valid_1_norm = valid_red_norm.copy()\n",
    "valid_1_norm['rets'] = df_valid['next_period_return'].values"
   ],
   "metadata": {
    "collapsed": false
   }
  },
  {
   "cell_type": "code",
   "execution_count": 64,
   "outputs": [],
   "source": [
    "explainer = shap.explainers.Permutation(model,valid_1_norm)"
   ],
   "metadata": {
    "collapsed": false
   }
  },
  {
   "cell_type": "code",
   "execution_count": null,
   "outputs": [],
   "source": [
    "shap_values = explainer(valid_1_norm,max_evals=2000)"
   ],
   "metadata": {
    "collapsed": false,
    "pycharm": {
     "is_executing": true
    }
   }
  },
  {
   "cell_type": "code",
   "execution_count": null,
   "outputs": [],
   "source": [
    "shap_cols = cols[np.abs(shap_values[:,:-1].values).mean(axis=0)>0.000]"
   ],
   "metadata": {
    "collapsed": false
   }
  },
  {
   "cell_type": "code",
   "execution_count": null,
   "outputs": [],
   "source": [
    "data = df.copy()\n",
    "start_dates = [pd.to_datetime('2007-01-01') + pd.DateOffset(months = 3 * i) for i in range(57)]\n",
    "end_dates = [d + pd.DateOffset(months = 36) for d in start_dates]\n",
    "\n",
    "training_frames = [data.loc[d:d+pd.DateOffset(months = 36)] for d in start_dates]\n",
    "valid_frames = [data.loc[d + pd.DateOffset(months=3):d+pd.DateOffset(months = 6)] for d in end_dates]\n",
    "test_frames = [data.loc[d + pd.DateOffset(months=6):d+pd.DateOffset(months = 9)] for d in end_dates]\n",
    "\n",
    "training_data = [d.reset_index().drop\n",
    "                                 (['ticker','date',\n",
    "                                   'next_period_return',\n",
    "                                   'spy_next_period_return',\n",
    "                                   'rel_performance','pred_rel_return',\n",
    "                                  'return', 'cum_ret', 'spy_cum_ret'],axis=1) for d in training_frames]\n",
    "valid_data = [d.reset_index().drop(['ticker','date',\n",
    "                                   'next_period_return',\n",
    "                                   'spy_next_period_return',\n",
    "                                   'rel_performance','pred_rel_return',\n",
    "                                  'return', 'cum_ret', 'spy_cum_ret'],axis=1) for d in valid_frames]\n",
    "test_data = [d.reset_index().drop(['ticker','date',\n",
    "                                   'next_period_return',\n",
    "                                   'spy_next_period_return',\n",
    "                                   'rel_performance','pred_rel_return',\n",
    "                                  'return', 'cum_ret', 'spy_cum_ret'],axis=1) for d in test_frames]\n",
    "\n",
    "training_labels = [d['rel_performance'].values for d in training_frames]\n",
    "validation_labels = [d['rel_performance'].values for d in test_frames]"
   ],
   "metadata": {
    "collapsed": false
   }
  },
  {
   "cell_type": "code",
   "execution_count": null,
   "outputs": [],
   "source": [
    "scalers = [StandardScaler() for _ in range(len(training_data))]\n",
    "\n",
    "opt_training_data = [pd.DataFrame(scalers[i].fit_transform(training_frames[i][shap_cols].values),\n",
    "                                  columns=shap_cols) for i in range(len(training_data))]\n",
    "opt_valid_data = [pd.DataFrame(scalers[i].transform(valid_frames[i][shap_cols].values),\n",
    "                               columns=shap_cols) for i in range(len(valid_data))]\n",
    "opt_test_data = [pd.DataFrame(scalers[i].transform(test_frames[i][shap_cols].values),\n",
    "                              columns=shap_cols) for i in range(len(test_data))]"
   ],
   "metadata": {
    "collapsed": false
   }
  },
  {
   "cell_type": "code",
   "execution_count": null,
   "outputs": [],
   "source": [
    "x = [1]\n",
    "ret = []\n",
    "\n",
    "for i in range(len(start_dates)-1):\n",
    "        bg_clf.fit(opt_training_data[i],training_labels[i])\n",
    "\n",
    "        preds = bg_clf.predict(opt_test_data[i])\n",
    "        profit_i = (preds*test_frames[i]['next_period_return']).sum()\n",
    "        ret.append(profit_i)\n",
    "        num_names = len(opt_test_data[i])\n",
    "        x.append(x[i] + (x[i]/num_names)*profit_i)"
   ],
   "metadata": {
    "collapsed": false
   }
  },
  {
   "cell_type": "code",
   "execution_count": null,
   "outputs": [],
   "source": [
    "SPY = pd.read_pickle(r'./SPY_cum_ret.pkl')\n",
    "SPY = SPY.loc['2010-01-01':'2018-12-31']\n",
    "SPY = SPY.resample('Q').ffill()\n",
    "SPY['spy_cum_ret'] = (SPY['spy_cum_ret'] - SPY['spy_cum_ret'][0]+1)\n",
    "SPY['strategy'] = x"
   ],
   "metadata": {
    "collapsed": false
   }
  },
  {
   "cell_type": "code",
   "execution_count": null,
   "outputs": [],
   "source": [
    "SPY = SPY.resample('Y').ffill()"
   ],
   "metadata": {
    "collapsed": false
   }
  },
  {
   "cell_type": "code",
   "execution_count": null,
   "outputs": [],
   "source": [
    "strategy_mean_ret = (SPY['strategy'] - 1).diff().mean()\n",
    "strategy_std = (SPY['strategy'] - 1).diff().std()\n",
    "strategy_sr = strategy_mean_ret/strategy_std\n",
    "print('Strategy Sharpe Ratio: ',strategy_sr)"
   ],
   "metadata": {
    "collapsed": false
   }
  },
  {
   "cell_type": "code",
   "execution_count": null,
   "outputs": [],
   "source": [
    "strategy_ret = (SPY['strategy'] - 1).diff().values[1:]\n",
    "spy_ret = (SPY['spy_cum_ret'] - 1).diff().values[1:]\n",
    "beta = (np.cov(spy_ret,strategy_ret)/np.var(spy_ret))[1,0]\n",
    "residual_ret = strategy_ret - beta * spy_ret\n",
    "IR = np.mean(residual_ret)/np.std(residual_ret)\n",
    "print('Strategy Information Ratio: ', IR)"
   ],
   "metadata": {
    "collapsed": false
   }
  },
  {
   "cell_type": "code",
   "execution_count": null,
   "outputs": [],
   "source": [
    "alpha = np.mean(residual_ret)\n",
    "print('Strategy Alpha: ', alpha)"
   ],
   "metadata": {
    "collapsed": false
   }
  },
  {
   "cell_type": "markdown",
   "source": [
    "<h2> Q2 </h2>"
   ],
   "metadata": {
    "collapsed": false
   }
  },
  {
   "cell_type": "code",
   "execution_count": null,
   "outputs": [],
   "source": [
    "x = [1]\n",
    "ret = []\n",
    "\n",
    "for i in range(len(start_dates)-1):\n",
    "        bg_clf.fit(opt_training_data[i],training_labels[i])\n",
    "        temp = bg_clf.predict_proba(opt_test_data[i])\n",
    "        conviction = temp[:, 2] - temp[:, 0]\n",
    "        weights = conviction/np.absolute(conviction).sum()\n",
    "        profit_i = (weights*test_frames[i]['next_period_return']).sum()\n",
    "        ret.append(profit_i)\n",
    "        num_names = len(opt_test_data[i])\n",
    "        x.append(x[i] + (x[i]/num_names)*profit_i)"
   ],
   "metadata": {
    "collapsed": false
   }
  },
  {
   "cell_type": "code",
   "execution_count": null,
   "outputs": [],
   "source": [
    "SPY['strategy'] = x"
   ],
   "metadata": {
    "collapsed": false
   }
  },
  {
   "cell_type": "code",
   "execution_count": null,
   "outputs": [],
   "source": [
    "SPY = SPY.resample('Y').ffill()"
   ],
   "metadata": {
    "collapsed": false
   }
  },
  {
   "cell_type": "code",
   "execution_count": null,
   "outputs": [],
   "source": [
    "strategy_mean_ret = (SPY['strategy'] - 1).diff().mean()\n",
    "strategy_std = (SPY['strategy'] - 1).diff().std()\n",
    "strategy_sr = strategy_mean_ret/strategy_std\n",
    "print('Strategy Sharpe Ratio: ',strategy_sr)"
   ],
   "metadata": {
    "collapsed": false
   }
  },
  {
   "cell_type": "code",
   "execution_count": null,
   "outputs": [],
   "source": [
    "strategy_ret = (SPY['strategy'] - 1).diff().values[1:]\n",
    "spy_ret = (SPY['spy_cum_ret'] - 1).diff().values[1:]\n",
    "beta = (np.cov(spy_ret,strategy_ret)/np.var(spy_ret))[1,0]\n",
    "residual_ret = strategy_ret - beta * spy_ret\n",
    "IR = np.mean(residual_ret)/np.std(residual_ret)\n",
    "print('Strategy Information Ratio: ', IR)"
   ],
   "metadata": {
    "collapsed": false
   }
  },
  {
   "cell_type": "code",
   "execution_count": null,
   "outputs": [],
   "source": [
    "alpha = np.mean(residual_ret)\n",
    "print('Strategy Alpha: ', alpha)"
   ],
   "metadata": {
    "collapsed": false
   }
  }
 ],
 "metadata": {
  "kernelspec": {
   "display_name": "Python 3",
   "language": "python",
   "name": "python3"
  },
  "language_info": {
   "codemirror_mode": {
    "name": "ipython",
    "version": 2
   },
   "file_extension": ".py",
   "mimetype": "text/x-python",
   "name": "python",
   "nbconvert_exporter": "python",
   "pygments_lexer": "ipython2",
   "version": "2.7.6"
  }
 },
 "nbformat": 4,
 "nbformat_minor": 0
}
