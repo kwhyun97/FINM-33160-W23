{
 "cells": [
  {
   "cell_type": "code",
   "execution_count": 2,
   "metadata": {
    "ExecuteTime": {
     "end_time": "2020-03-03T02:04:18.675044Z",
     "start_time": "2020-03-03T02:04:15.120387Z"
    }
   },
   "outputs": [],
   "source": [
    "import pandas as pd\n",
    "import numpy as np\n",
    "import matplotlib.pyplot as plt\n",
    "%matplotlib inline\n",
    "from sklearn.metrics import accuracy_score, confusion_matrix\n",
    "from sklearn.tree import DecisionTreeClassifier\n",
    "from sklearn.ensemble import RandomForestClassifier\n",
    "import sklearn\n",
    "pd.set_option('use_inf_as_na', True)\n",
    "from collections import Counter"
   ]
  },
  {
   "cell_type": "code",
   "execution_count": 3,
   "metadata": {
    "ExecuteTime": {
     "end_time": "2020-03-03T02:04:21.903526Z",
     "start_time": "2020-03-03T02:04:19.923963Z"
    }
   },
   "outputs": [],
   "source": [
    "raw_data = pd.read_pickle(r'C:\\Users\\niels\\OneDrive\\Machine Learning 2022\\Lecture 2\\dataset.pkl')\n",
    "data = raw_data[raw_data['market_cap'] > 1000.0]\n",
    "data = data.copy()\n",
    "data.fillna(0.0,inplace=True)"
   ]
  },
  {
   "cell_type": "code",
   "execution_count": 4,
   "metadata": {
    "ExecuteTime": {
     "end_time": "2020-03-03T02:04:24.516696Z",
     "start_time": "2020-03-03T02:04:24.512695Z"
    }
   },
   "outputs": [],
   "source": [
    "def f(x):\n",
    "    if x > 0.01:\n",
    "        return 1\n",
    "    elif x < -0.025:\n",
    "        return -1\n",
    "    else:\n",
    "    \n",
    "        return 0"
   ]
  },
  {
   "cell_type": "code",
   "execution_count": 5,
   "metadata": {
    "ExecuteTime": {
     "end_time": "2020-03-03T02:04:30.421746Z",
     "start_time": "2020-03-03T02:04:30.370536Z"
    }
   },
   "outputs": [],
   "source": [
    "data['rel_performance'] = data['pred_rel_return'].apply(f)\n",
    "data.reset_index(inplace=True)\n",
    "data.set_index('date',inplace=True)"
   ]
  },
  {
   "cell_type": "code",
   "execution_count": 6,
   "metadata": {},
   "outputs": [],
   "source": [
    "from sklearn.preprocessing import MinMaxScaler,StandardScaler\n",
    "scaler = StandardScaler()"
   ]
  },
  {
   "cell_type": "markdown",
   "metadata": {},
   "source": [
    "## Long term performance with Random Forest Classifier, optimal hyper-parameters"
   ]
  },
  {
   "cell_type": "code",
   "execution_count": 19,
   "metadata": {
    "ExecuteTime": {
     "end_time": "2020-02-11T00:59:21.882803Z",
     "start_time": "2020-02-11T00:59:21.859799Z"
    }
   },
   "outputs": [],
   "source": [
    "start_dates = [pd.to_datetime('2001-01-01') + pd.DateOffset(months = 3*i) for i in range(57)]\n",
    "end_dates = [d + pd.DateOffset(months = 36) for d in start_dates]"
   ]
  },
  {
   "cell_type": "code",
   "execution_count": 20,
   "metadata": {
    "ExecuteTime": {
     "end_time": "2020-02-11T01:00:06.107690Z",
     "start_time": "2020-02-11T01:00:06.050640Z"
    }
   },
   "outputs": [],
   "source": [
    "training_frames = [data.loc[d:d+pd.DateOffset(months = 36)] for d in start_dates]\n",
    "valid_frames = [data.loc[d:d+pd.DateOffset(months = 3)] for d in end_dates]\n",
    "test_frames = [data.loc[d+pd.DateOffset(months = 6):d+pd.DateOffset(months = 9)] for d in end_dates]"
   ]
  },
  {
   "cell_type": "code",
   "execution_count": 21,
   "metadata": {
    "ExecuteTime": {
     "end_time": "2020-02-11T01:00:20.984116Z",
     "start_time": "2020-02-11T01:00:11.072616Z"
    }
   },
   "outputs": [],
   "source": [
    "training_data = [d.reset_index().drop\n",
    "                                 (['ticker','date',\n",
    "                                   'next_period_return',\n",
    "                                   'spy_next_period_return',\n",
    "                                   'rel_performance','pred_rel_return',\n",
    "                                  'return', 'cum_ret', 'spy_cum_ret'],axis=1) for d in training_frames]"
   ]
  },
  {
   "cell_type": "code",
   "execution_count": 22,
   "metadata": {},
   "outputs": [],
   "source": [
    "valid_data = [d.reset_index().drop\n",
    "                                 (['ticker','date',\n",
    "                                   'next_period_return',\n",
    "                                   'spy_next_period_return',\n",
    "                                   'rel_performance','pred_rel_return',\n",
    "                                  'return', 'cum_ret', 'spy_cum_ret'],axis=1) for d in valid_frames]"
   ]
  },
  {
   "cell_type": "code",
   "execution_count": 23,
   "metadata": {
    "ExecuteTime": {
     "end_time": "2020-02-11T01:00:22.138142Z",
     "start_time": "2020-02-11T01:00:20.986086Z"
    }
   },
   "outputs": [],
   "source": [
    "test_data = [d.reset_index().drop(['ticker','date',\n",
    "                                   'next_period_return',\n",
    "                                   'spy_next_period_return',\n",
    "                                   'rel_performance','pred_rel_return',\n",
    "                                  'return', 'cum_ret', 'spy_cum_ret'],axis=1) for d in test_frames]"
   ]
  },
  {
   "cell_type": "code",
   "execution_count": 24,
   "metadata": {
    "ExecuteTime": {
     "end_time": "2020-02-11T01:00:28.172336Z",
     "start_time": "2020-02-11T01:00:28.162322Z"
    }
   },
   "outputs": [],
   "source": [
    "training_labels = [d['rel_performance'].values for d in training_frames]\n",
    "valid_labels = [d['rel_performance'].values for d in valid_frames] "
   ]
  },
  {
   "cell_type": "code",
   "execution_count": 12,
   "metadata": {},
   "outputs": [],
   "source": [
    "for i in range(len(start_dates)-1):\n",
    "    float_vars = [x for x in training_data[i].columns if data[x].dtype == 'float64']\n",
    "\n",
    "    scaler = StandardScaler()\n",
    "    training_data[i] = training_data[i].copy()\n",
    "    valid_data[i] = valid_data[i].copy()\n",
    "    test_data[i] = test_data[i].copy()\n",
    "    training_data[i][float_vars] = scaler.fit_transform(training_data[i][float_vars])\n",
    "    valid_data[i][float_vars] = scaler.transform(valid_data[i][float_vars])\n",
    "    test_data[i][float_vars] = scaler.transform(test_data[i][float_vars])\n",
    "        \n",
    "    "
   ]
  },
  {
   "cell_type": "code",
   "execution_count": 14,
   "metadata": {},
   "outputs": [],
   "source": [
    "import optuna\n",
    "from optuna.trial import Trial\n",
    "optuna.logging.set_verbosity(optuna.logging.FATAL)\n",
    "import warnings\n",
    "warnings.filterwarnings(\"ignore\")"
   ]
  },
  {
   "cell_type": "code",
   "execution_count": 190,
   "metadata": {},
   "outputs": [],
   "source": [
    "def objective(trial:Trial,train=None,labels=None,val=None,val_labels=None,val_rets=None):\n",
    "\n",
    "    rf_n_estimators = trial.suggest_int('n_estimators', 10,40,step=5)\n",
    "    rf_max_features = trial.suggest_categorical('max_features',['sqrt','log2'])\n",
    "    rf_min_samples_leaf = trial.suggest_int('min_samples_leaf',400,2400,step=400)\n",
    "    rf_max_depth = trial.suggest_int('max_depth',5,25,step=5)\n",
    "    \n",
    "    rf_clf = RandomForestClassifier(n_estimators=rf_n_estimators,\n",
    "                                    max_depth=rf_max_depth,\n",
    "                                    min_samples_leaf=rf_min_samples_leaf,\n",
    "                                    max_features=rf_max_features)\n",
    "    rf_clf.fit(train,labels)\n",
    "    preds = rf_clf.predict(val)\n",
    "    profit = (preds * val_rets).sum()\n",
    " \n",
    "    return profit"
   ]
  },
  {
   "cell_type": "code",
   "execution_count": 15,
   "metadata": {},
   "outputs": [],
   "source": [
    "optimal_hyperparameters = []"
   ]
  },
  {
   "cell_type": "code",
   "execution_count": 16,
   "metadata": {},
   "outputs": [],
   "source": [
    "from functools import partial"
   ]
  },
  {
   "cell_type": "code",
   "execution_count": 193,
   "metadata": {
    "scrolled": true
   },
   "outputs": [
    {
     "name": "stdout",
     "output_type": "stream",
     "text": [
      "{'n_estimators': 20, 'max_features': 'sqrt', 'min_samples_leaf': 400, 'max_depth': 5}\n",
      "{'n_estimators': 10, 'max_features': 'sqrt', 'min_samples_leaf': 400, 'max_depth': 10}\n",
      "{'n_estimators': 35, 'max_features': 'sqrt', 'min_samples_leaf': 800, 'max_depth': 15}\n",
      "{'n_estimators': 15, 'max_features': 'sqrt', 'min_samples_leaf': 400, 'max_depth': 15}\n",
      "{'n_estimators': 15, 'max_features': 'sqrt', 'min_samples_leaf': 400, 'max_depth': 15}\n",
      "{'n_estimators': 10, 'max_features': 'log2', 'min_samples_leaf': 1600, 'max_depth': 10}\n",
      "{'n_estimators': 10, 'max_features': 'sqrt', 'min_samples_leaf': 400, 'max_depth': 25}\n",
      "{'n_estimators': 30, 'max_features': 'sqrt', 'min_samples_leaf': 400, 'max_depth': 25}\n",
      "{'n_estimators': 20, 'max_features': 'log2', 'min_samples_leaf': 1200, 'max_depth': 15}\n",
      "{'n_estimators': 10, 'max_features': 'sqrt', 'min_samples_leaf': 400, 'max_depth': 25}\n",
      "{'n_estimators': 10, 'max_features': 'log2', 'min_samples_leaf': 2400, 'max_depth': 5}\n",
      "{'n_estimators': 25, 'max_features': 'log2', 'min_samples_leaf': 2000, 'max_depth': 10}\n",
      "{'n_estimators': 25, 'max_features': 'sqrt', 'min_samples_leaf': 1600, 'max_depth': 25}\n",
      "{'n_estimators': 20, 'max_features': 'sqrt', 'min_samples_leaf': 400, 'max_depth': 10}\n",
      "{'n_estimators': 20, 'max_features': 'log2', 'min_samples_leaf': 400, 'max_depth': 20}\n",
      "{'n_estimators': 10, 'max_features': 'sqrt', 'min_samples_leaf': 400, 'max_depth': 25}\n",
      "{'n_estimators': 20, 'max_features': 'log2', 'min_samples_leaf': 1200, 'max_depth': 20}\n",
      "{'n_estimators': 10, 'max_features': 'sqrt', 'min_samples_leaf': 400, 'max_depth': 15}\n",
      "{'n_estimators': 30, 'max_features': 'sqrt', 'min_samples_leaf': 400, 'max_depth': 15}\n",
      "{'n_estimators': 30, 'max_features': 'sqrt', 'min_samples_leaf': 400, 'max_depth': 10}\n",
      "{'n_estimators': 10, 'max_features': 'log2', 'min_samples_leaf': 2400, 'max_depth': 5}\n",
      "{'n_estimators': 40, 'max_features': 'log2', 'min_samples_leaf': 2000, 'max_depth': 25}\n",
      "{'n_estimators': 20, 'max_features': 'log2', 'min_samples_leaf': 2000, 'max_depth': 15}\n",
      "{'n_estimators': 10, 'max_features': 'sqrt', 'min_samples_leaf': 2400, 'max_depth': 10}\n",
      "{'n_estimators': 25, 'max_features': 'sqrt', 'min_samples_leaf': 1600, 'max_depth': 25}\n",
      "{'n_estimators': 10, 'max_features': 'sqrt', 'min_samples_leaf': 400, 'max_depth': 15}\n",
      "{'n_estimators': 20, 'max_features': 'sqrt', 'min_samples_leaf': 800, 'max_depth': 10}\n",
      "{'n_estimators': 15, 'max_features': 'log2', 'min_samples_leaf': 1600, 'max_depth': 5}\n",
      "{'n_estimators': 10, 'max_features': 'log2', 'min_samples_leaf': 1600, 'max_depth': 10}\n",
      "{'n_estimators': 10, 'max_features': 'sqrt', 'min_samples_leaf': 400, 'max_depth': 10}\n",
      "{'n_estimators': 15, 'max_features': 'sqrt', 'min_samples_leaf': 400, 'max_depth': 10}\n",
      "{'n_estimators': 10, 'max_features': 'log2', 'min_samples_leaf': 1200, 'max_depth': 20}\n",
      "{'n_estimators': 35, 'max_features': 'log2', 'min_samples_leaf': 400, 'max_depth': 10}\n",
      "{'n_estimators': 10, 'max_features': 'sqrt', 'min_samples_leaf': 400, 'max_depth': 15}\n",
      "{'n_estimators': 30, 'max_features': 'log2', 'min_samples_leaf': 2000, 'max_depth': 25}\n",
      "{'n_estimators': 20, 'max_features': 'log2', 'min_samples_leaf': 2000, 'max_depth': 20}\n",
      "{'n_estimators': 35, 'max_features': 'sqrt', 'min_samples_leaf': 2000, 'max_depth': 5}\n",
      "{'n_estimators': 20, 'max_features': 'log2', 'min_samples_leaf': 2400, 'max_depth': 15}\n",
      "{'n_estimators': 30, 'max_features': 'log2', 'min_samples_leaf': 2000, 'max_depth': 15}\n",
      "{'n_estimators': 40, 'max_features': 'log2', 'min_samples_leaf': 2400, 'max_depth': 25}\n",
      "{'n_estimators': 10, 'max_features': 'sqrt', 'min_samples_leaf': 2400, 'max_depth': 15}\n",
      "{'n_estimators': 25, 'max_features': 'log2', 'min_samples_leaf': 2400, 'max_depth': 5}\n",
      "{'n_estimators': 40, 'max_features': 'sqrt', 'min_samples_leaf': 400, 'max_depth': 5}\n",
      "{'n_estimators': 25, 'max_features': 'sqrt', 'min_samples_leaf': 1200, 'max_depth': 10}\n",
      "{'n_estimators': 20, 'max_features': 'log2', 'min_samples_leaf': 2400, 'max_depth': 20}\n",
      "{'n_estimators': 35, 'max_features': 'sqrt', 'min_samples_leaf': 400, 'max_depth': 20}\n",
      "{'n_estimators': 10, 'max_features': 'sqrt', 'min_samples_leaf': 1600, 'max_depth': 5}\n",
      "{'n_estimators': 10, 'max_features': 'sqrt', 'min_samples_leaf': 2400, 'max_depth': 5}\n",
      "{'n_estimators': 10, 'max_features': 'sqrt', 'min_samples_leaf': 400, 'max_depth': 20}\n",
      "{'n_estimators': 10, 'max_features': 'log2', 'min_samples_leaf': 2400, 'max_depth': 10}\n",
      "{'n_estimators': 10, 'max_features': 'sqrt', 'min_samples_leaf': 2400, 'max_depth': 10}\n",
      "{'n_estimators': 35, 'max_features': 'log2', 'min_samples_leaf': 2400, 'max_depth': 5}\n",
      "{'n_estimators': 15, 'max_features': 'sqrt', 'min_samples_leaf': 2000, 'max_depth': 25}\n",
      "{'n_estimators': 30, 'max_features': 'log2', 'min_samples_leaf': 2000, 'max_depth': 5}\n",
      "{'n_estimators': 20, 'max_features': 'log2', 'min_samples_leaf': 2400, 'max_depth': 5}\n",
      "{'n_estimators': 40, 'max_features': 'sqrt', 'min_samples_leaf': 2400, 'max_depth': 10}\n"
     ]
    }
   ],
   "source": [
    "for i in range(len(start_dates)-1):\n",
    "    \n",
    "    study = optuna.create_study(direction=\"maximize\")\n",
    "    \n",
    "    study.optimize(partial(objective,\n",
    "                           train=training_data[i],\n",
    "                           labels=training_labels[i],\n",
    "                           val=valid_data[i],\n",
    "                           val_labels=valid_labels,\n",
    "                           val_rets=valid_frames[i]['next_period_return']), n_trials=200,n_jobs=-1)\n",
    "    \n",
    "    optimal_hyperparameters.append(study.best_params)  \n",
    "    print(study.best_params)\n",
    "    "
   ]
  },
  {
   "cell_type": "code",
   "execution_count": 10,
   "metadata": {},
   "outputs": [],
   "source": [
    "import pickle"
   ]
  },
  {
   "cell_type": "code",
   "execution_count": 194,
   "metadata": {},
   "outputs": [],
   "source": [
    "with open(r'optimal_hyperparameters_01.pkl','wb') as f:\n",
    "    pickle.dump(optimal_hyperparameters,f)"
   ]
  },
  {
   "cell_type": "code",
   "execution_count": 18,
   "metadata": {},
   "outputs": [],
   "source": [
    "with open(r'optimal_hyperparameters.pkl','rb') as f:\n",
    "    optimal_hyperparameters = pickle.load(f)"
   ]
  },
  {
   "cell_type": "code",
   "execution_count": 19,
   "metadata": {},
   "outputs": [
    {
     "data": {
      "text/plain": [
       "[{'n_estimators': 30,\n",
       "  'max_features': 'log2',\n",
       "  'min_samples_leaf': 1600,\n",
       "  'max_depth': 15},\n",
       " {'n_estimators': 10,\n",
       "  'max_features': 'sqrt',\n",
       "  'min_samples_leaf': 400,\n",
       "  'max_depth': 20},\n",
       " {'n_estimators': 10,\n",
       "  'max_features': 'log2',\n",
       "  'min_samples_leaf': 800,\n",
       "  'max_depth': 25},\n",
       " {'n_estimators': 30,\n",
       "  'max_features': 'sqrt',\n",
       "  'min_samples_leaf': 400,\n",
       "  'max_depth': 15},\n",
       " {'n_estimators': 20,\n",
       "  'max_features': 'sqrt',\n",
       "  'min_samples_leaf': 400,\n",
       "  'max_depth': 15},\n",
       " {'n_estimators': 10,\n",
       "  'max_features': 'log2',\n",
       "  'min_samples_leaf': 2000,\n",
       "  'max_depth': 20},\n",
       " {'n_estimators': 10,\n",
       "  'max_features': 'sqrt',\n",
       "  'min_samples_leaf': 800,\n",
       "  'max_depth': 10},\n",
       " {'n_estimators': 10,\n",
       "  'max_features': 'sqrt',\n",
       "  'min_samples_leaf': 2400,\n",
       "  'max_depth': 25},\n",
       " {'n_estimators': 15,\n",
       "  'max_features': 'sqrt',\n",
       "  'min_samples_leaf': 400,\n",
       "  'max_depth': 10},\n",
       " {'n_estimators': 30,\n",
       "  'max_features': 'sqrt',\n",
       "  'min_samples_leaf': 400,\n",
       "  'max_depth': 25},\n",
       " {'n_estimators': 15,\n",
       "  'max_features': 'log2',\n",
       "  'min_samples_leaf': 2400,\n",
       "  'max_depth': 5},\n",
       " {'n_estimators': 30,\n",
       "  'max_features': 'log2',\n",
       "  'min_samples_leaf': 400,\n",
       "  'max_depth': 10},\n",
       " {'n_estimators': 35,\n",
       "  'max_features': 'log2',\n",
       "  'min_samples_leaf': 400,\n",
       "  'max_depth': 25},\n",
       " {'n_estimators': 10,\n",
       "  'max_features': 'sqrt',\n",
       "  'min_samples_leaf': 400,\n",
       "  'max_depth': 20},\n",
       " {'n_estimators': 20,\n",
       "  'max_features': 'sqrt',\n",
       "  'min_samples_leaf': 400,\n",
       "  'max_depth': 10},\n",
       " {'n_estimators': 10,\n",
       "  'max_features': 'sqrt',\n",
       "  'min_samples_leaf': 400,\n",
       "  'max_depth': 20},\n",
       " {'n_estimators': 40,\n",
       "  'max_features': 'sqrt',\n",
       "  'min_samples_leaf': 800,\n",
       "  'max_depth': 10},\n",
       " {'n_estimators': 10,\n",
       "  'max_features': 'sqrt',\n",
       "  'min_samples_leaf': 400,\n",
       "  'max_depth': 25},\n",
       " {'n_estimators': 10,\n",
       "  'max_features': 'sqrt',\n",
       "  'min_samples_leaf': 400,\n",
       "  'max_depth': 25},\n",
       " {'n_estimators': 10,\n",
       "  'max_features': 'sqrt',\n",
       "  'min_samples_leaf': 400,\n",
       "  'max_depth': 10},\n",
       " {'n_estimators': 30,\n",
       "  'max_features': 'log2',\n",
       "  'min_samples_leaf': 1200,\n",
       "  'max_depth': 15},\n",
       " {'n_estimators': 30,\n",
       "  'max_features': 'sqrt',\n",
       "  'min_samples_leaf': 1200,\n",
       "  'max_depth': 15},\n",
       " {'n_estimators': 20,\n",
       "  'max_features': 'log2',\n",
       "  'min_samples_leaf': 2000,\n",
       "  'max_depth': 25},\n",
       " {'n_estimators': 15,\n",
       "  'max_features': 'log2',\n",
       "  'min_samples_leaf': 1200,\n",
       "  'max_depth': 20},\n",
       " {'n_estimators': 15,\n",
       "  'max_features': 'sqrt',\n",
       "  'min_samples_leaf': 800,\n",
       "  'max_depth': 20},\n",
       " {'n_estimators': 10,\n",
       "  'max_features': 'log2',\n",
       "  'min_samples_leaf': 1600,\n",
       "  'max_depth': 5},\n",
       " {'n_estimators': 15,\n",
       "  'max_features': 'sqrt',\n",
       "  'min_samples_leaf': 400,\n",
       "  'max_depth': 25},\n",
       " {'n_estimators': 10,\n",
       "  'max_features': 'log2',\n",
       "  'min_samples_leaf': 2400,\n",
       "  'max_depth': 25},\n",
       " {'n_estimators': 20,\n",
       "  'max_features': 'log2',\n",
       "  'min_samples_leaf': 2000,\n",
       "  'max_depth': 5},\n",
       " {'n_estimators': 10,\n",
       "  'max_features': 'sqrt',\n",
       "  'min_samples_leaf': 2000,\n",
       "  'max_depth': 20},\n",
       " {'n_estimators': 15,\n",
       "  'max_features': 'sqrt',\n",
       "  'min_samples_leaf': 400,\n",
       "  'max_depth': 25},\n",
       " {'n_estimators': 10,\n",
       "  'max_features': 'log2',\n",
       "  'min_samples_leaf': 2000,\n",
       "  'max_depth': 10},\n",
       " {'n_estimators': 25,\n",
       "  'max_features': 'sqrt',\n",
       "  'min_samples_leaf': 400,\n",
       "  'max_depth': 15},\n",
       " {'n_estimators': 10,\n",
       "  'max_features': 'sqrt',\n",
       "  'min_samples_leaf': 400,\n",
       "  'max_depth': 10},\n",
       " {'n_estimators': 10,\n",
       "  'max_features': 'log2',\n",
       "  'min_samples_leaf': 400,\n",
       "  'max_depth': 20},\n",
       " {'n_estimators': 25,\n",
       "  'max_features': 'sqrt',\n",
       "  'min_samples_leaf': 800,\n",
       "  'max_depth': 20},\n",
       " {'n_estimators': 15,\n",
       "  'max_features': 'log2',\n",
       "  'min_samples_leaf': 400,\n",
       "  'max_depth': 25},\n",
       " {'n_estimators': 30,\n",
       "  'max_features': 'sqrt',\n",
       "  'min_samples_leaf': 1200,\n",
       "  'max_depth': 5},\n",
       " {'n_estimators': 10,\n",
       "  'max_features': 'sqrt',\n",
       "  'min_samples_leaf': 1600,\n",
       "  'max_depth': 15},\n",
       " {'n_estimators': 10,\n",
       "  'max_features': 'log2',\n",
       "  'min_samples_leaf': 400,\n",
       "  'max_depth': 5},\n",
       " {'n_estimators': 10,\n",
       "  'max_features': 'sqrt',\n",
       "  'min_samples_leaf': 1200,\n",
       "  'max_depth': 25},\n",
       " {'n_estimators': 40,\n",
       "  'max_features': 'log2',\n",
       "  'min_samples_leaf': 800,\n",
       "  'max_depth': 10},\n",
       " {'n_estimators': 20,\n",
       "  'max_features': 'sqrt',\n",
       "  'min_samples_leaf': 400,\n",
       "  'max_depth': 10},\n",
       " {'n_estimators': 10,\n",
       "  'max_features': 'sqrt',\n",
       "  'min_samples_leaf': 400,\n",
       "  'max_depth': 5},\n",
       " {'n_estimators': 10,\n",
       "  'max_features': 'sqrt',\n",
       "  'min_samples_leaf': 2400,\n",
       "  'max_depth': 5},\n",
       " {'n_estimators': 10,\n",
       "  'max_features': 'sqrt',\n",
       "  'min_samples_leaf': 400,\n",
       "  'max_depth': 10},\n",
       " {'n_estimators': 10,\n",
       "  'max_features': 'sqrt',\n",
       "  'min_samples_leaf': 400,\n",
       "  'max_depth': 20},\n",
       " {'n_estimators': 10,\n",
       "  'max_features': 'sqrt',\n",
       "  'min_samples_leaf': 400,\n",
       "  'max_depth': 10},\n",
       " {'n_estimators': 30,\n",
       "  'max_features': 'log2',\n",
       "  'min_samples_leaf': 2400,\n",
       "  'max_depth': 5},\n",
       " {'n_estimators': 35,\n",
       "  'max_features': 'log2',\n",
       "  'min_samples_leaf': 1600,\n",
       "  'max_depth': 20},\n",
       " {'n_estimators': 10,\n",
       "  'max_features': 'sqrt',\n",
       "  'min_samples_leaf': 800,\n",
       "  'max_depth': 15},\n",
       " {'n_estimators': 30,\n",
       "  'max_features': 'sqrt',\n",
       "  'min_samples_leaf': 2000,\n",
       "  'max_depth': 15},\n",
       " {'n_estimators': 10,\n",
       "  'max_features': 'sqrt',\n",
       "  'min_samples_leaf': 400,\n",
       "  'max_depth': 25},\n",
       " {'n_estimators': 35,\n",
       "  'max_features': 'sqrt',\n",
       "  'min_samples_leaf': 400,\n",
       "  'max_depth': 5},\n",
       " {'n_estimators': 25,\n",
       "  'max_features': 'log2',\n",
       "  'min_samples_leaf': 2400,\n",
       "  'max_depth': 10},\n",
       " {'n_estimators': 35,\n",
       "  'max_features': 'sqrt',\n",
       "  'min_samples_leaf': 400,\n",
       "  'max_depth': 10}]"
      ]
     },
     "execution_count": 19,
     "metadata": {},
     "output_type": "execute_result"
    }
   ],
   "source": [
    "optimal_hyperparameters"
   ]
  },
  {
   "cell_type": "code",
   "execution_count": 15,
   "metadata": {},
   "outputs": [],
   "source": [
    "classifiers = []"
   ]
  },
  {
   "cell_type": "code",
   "execution_count": 21,
   "metadata": {},
   "outputs": [],
   "source": [
    "for hyp_par in optimal_hyperparameters:\n",
    "    rf_clf = RandomForestClassifier(**hyp_par)\n",
    "    classifiers.append(rf_clf)"
   ]
  },
  {
   "cell_type": "code",
   "execution_count": 22,
   "metadata": {},
   "outputs": [],
   "source": [
    "for i in range(len(start_dates)-1): \n",
    "    classifiers[i].fit(training_data[i],training_labels[i])"
   ]
  },
  {
   "cell_type": "code",
   "execution_count": 245,
   "metadata": {},
   "outputs": [],
   "source": [
    "with open(r'classifiers.pkl','wb') as f:\n",
    "    pickle.dump(classifiers,f)"
   ]
  },
  {
   "cell_type": "code",
   "execution_count": 16,
   "metadata": {},
   "outputs": [],
   "source": [
    "with open(r'classifiers.pkl','rb') as f:\n",
    "    classifiers = pickle.load(f)"
   ]
  },
  {
   "cell_type": "code",
   "execution_count": 24,
   "metadata": {
    "ExecuteTime": {
     "end_time": "2020-02-11T00:30:26.233418Z",
     "start_time": "2020-02-11T00:30:26.207352Z"
    }
   },
   "outputs": [],
   "source": [
    "def randomforest_feat_importances(m, df):\n",
    "        \n",
    "    return pd.DataFrame({'cols':df.columns, 'feat_imp': m.feature_importances_}\n",
    "                       ).sort_values('feat_imp', ascending=False)\n",
    "\n",
    "def plot_fi(fi): return fi.plot('cols', 'feat_imp', 'barh', figsize=(12,7), legend=False)"
   ]
  },
  {
   "cell_type": "code",
   "execution_count": 25,
   "metadata": {},
   "outputs": [],
   "source": [
    "significant_features = []"
   ]
  },
  {
   "cell_type": "code",
   "execution_count": 201,
   "metadata": {},
   "outputs": [],
   "source": [
    "for i in range(len(start_dates)-1): \n",
    "    fi = randomforest_feat_importances(classifiers[i],training_data[i])\n",
    "    features = fi[(fi['feat_imp'] > 0.00)]['cols'].values\n",
    "    significant_features.append(features)"
   ]
  },
  {
   "cell_type": "code",
   "execution_count": 24,
   "metadata": {},
   "outputs": [
    {
     "data": {
      "text/plain": [
       "[array(['rectq', 'apq', 'equity_invcapq', 'curr_ratioq', 'oeps12',\n",
       "        'ibcomq', 'oepsxq', 'epsfiq', 'fcf_csfhdq', 'opepsq', 'market_cap',\n",
       "        'lctq', 'dvpspq', 'pe_op_basicq', 'cash_ratioq', 'debt_atq',\n",
       "        'cf_yield', 'epsfi12', 'atq', 'oepsxy', 'pe_op_dilq', 'rect_actq',\n",
       "        'lagbe4', 'ltq', 'yearly_sales', 'dvy', 'csh12q', 'actq', 'revty',\n",
       "        'prccq', 'invtq', 'quick_ratioq', 'cheq', 'roeq', 'xinty', 'at4',\n",
       "        'lt_debtq', 'book_value_yield', 'cfo-per-share', 'capxq', 'cshprq',\n",
       "        'ibcq', 'niq', 'lagseq4', 'dlttq', 'lagppent_alt4', 'mibq',\n",
       "        'dltisy', 'cfmq', 'txditcq', 'ibcomy'], dtype=object),\n",
       " array(['cfmq', 'epspi12', 'oeps12', 'oepf12', 'saleq', 'epsfi12',\n",
       "        'curr_ratioq', 'pe_op_dilq', 'ptpmq', 'csh12q', 'market_cap',\n",
       "        'dvpspq', 'cfo-per-share', 'capeiq', 'fcf_yield', 'pe_incq',\n",
       "        'fcf_csfhdq', 'req', 'rectq', 'yearly_sales', 'oancfy',\n",
       "        'pay_turnq', 'lagicapt4', 'oancfy_q', 'prccq', 'lagppent_alt4',\n",
       "        'pretret_noaq', 'rd_saleq', 'sale_nwcq', 'cshfdq', 'be4', 'opepsq',\n",
       "        'lctq', 'book_value_yield', 'cogsq', 'pe_op_basicq', 'beq',\n",
       "        'debt_assetsq', 'curr_debtq', 'xrdq', 'apq', 'roeq', 'cshprq',\n",
       "        'profit_lctq', 'at_turnq', 'cf_yield', 'dprq', 'ibcq', 'xsgay',\n",
       "        'txpdy', 'txpq', 'atq', 'quick_ratioq', 'pe_exiq', 'dpcq',\n",
       "        'de_ratioq', 'intcov_ratioq', 'xidoy', 'epsx12', 'roceq', 'actq',\n",
       "        'sale_invcapq', 'sic_6020', 'dvy', 'icaptq', 'cash_debtq',\n",
       "        'cash_ltq', 'seq4', 'fqtr_4', 'dvq', 'epspxq', 'niq', 'oibdpy',\n",
       "        'ibadj12', 'pcfq', 'inv_turnq', 'psq', 'dltry', 'opmadq',\n",
       "        'accrualq', 'ibq', 'at5', 'cshiq'], dtype=object),\n",
       " array(['oepsxq', 'oeps12', 'yearly_sales', 'ibadj12', 'oiadpq',\n",
       "        'aftret_equityq', 'fqtr_4', 'atq', 'roeq', 'oancfy_q', 'cogsq',\n",
       "        'evmq', 'opepsq', 'ceqq', 'lagseq4', 'pe_op_basicq', 'lagppent4',\n",
       "        'fcf_yield', 'bmq', 'cash_ratioq', 'epspxq', 'opcfq',\n",
       "        'debt_invcapq', 'piq', 'inv_turnq', 'rect_actq', 'pe_exiq', 'lctq',\n",
       "        'epspiq', 'book_value_yield', 'epspi12', 'rect_turnq',\n",
       "        'equity_invcapq', 'ibadjq', 'pe_op_dilq', 'be4', 'dvpspq', 'revty',\n",
       "        'oancfy', 'ceq4', 'oepf12'], dtype=object),\n",
       " array(['cf_yield', 'oancfy_q', 'opepsq', 'fcf_yield', 'capeiq',\n",
       "        'cash_ratioq', 'oepf12', 'pe_op_basicq', 'oancfy', 'epspiq',\n",
       "        'oepsxy', 'cash_ltq', 'quick_ratioq', 'dltry', 'pretret_noaq',\n",
       "        'epspi12', 'rd_saleq', 'lctq4', 'dvpspq', 'roeq', 'lctq', 'seqq',\n",
       "        'xoprq', 'epsf12', 'req', 'apq', 'cshfdq', 'oibdpy', 'epsfi12',\n",
       "        'cshprq', 'revty', 'atq', 'ibq', 'debt_capitalq', 'epspxq',\n",
       "        'fcf_csfhdq', 'cfmq', 'csh12q', 'ptpmq', 'actq', 'lagppent_alt4',\n",
       "        'book_value_yield', 'lagppent4', 'pretret_earnatq', 'xrdq',\n",
       "        'debt_assetsq', 'revtq', 'at5', 'dlttq', 'xidoy', 'bmq',\n",
       "        'curr_ratioq', 'rectq', 'dvq', 'epsfxq', 'saleq', 'prccq', 'npmq',\n",
       "        'seq4', 'int_totdebtq', 'cash_conversionq', 'profit_lctq', 'roceq',\n",
       "        'xintq', 'lagseq4', 'epsfiq', 'nopiq', 'cash_debtq', 'ppentq',\n",
       "        'efftaxq', 'cfo-per-share', 'ceq4', 'equity_invcapq', 'invt_actq',\n",
       "        'dpcq', 'lagbe4', 'at4', 'debt_atq', 'oiadpq', 'pe_exiq',\n",
       "        'rect_actq', 'ibcq', 'ibcy', 'dvy', 'accrualq', 'cogsy', 'capxy',\n",
       "        'cshoq', 'sale_invcapq', 'capital_ratioq', 'aftret_equityq',\n",
       "        'oeps12', 'chechy', 'ibadjq', 'inv_turnq', 'ibcomy', 'ibcomq',\n",
       "        'opmbdq', 'pay_turnq', 'oepsxq', 'de_ratioq', 'niq', 'txpq',\n",
       "        'intcovq', 'dpcy', 'at_turnq', 'epsx12', 'cheq', 'xinty', 'cogsq',\n",
       "        'evmq', 'ceqq', 'fqtr_2', 'capxq', 'lt_ppentq', 'yearly_sales',\n",
       "        'txtq', 'rect_turnq', 'pe_op_dilq', 'debt_invcapq', 'debt_ebitdaq',\n",
       "        'ltq', 'aftret_eqq', 'lt_debtq', 'mibq', 'roaq', 'short_debtq',\n",
       "        'invtq', 'miiq', 'pcfq', 'intcov_ratioq', 'dlcq', 'beq', 'txditcq',\n",
       "        'xsgay', 'fqtr_1', 'icaptq', 'opmadq', 'sale_equityq',\n",
       "        'totdebt_invcapq', 'int_debtq', 'cshiq', 'ibadj12',\n",
       "        'aftret_invcapxq', 'fcf_ocfq', 'sale_nwcq', 'cstkq', 'dltt_beq',\n",
       "        'spiq', 'psq'], dtype=object),\n",
       " array(['cash_ltq', 'oepf12', 'fcf_yield', 'cfo-per-share', 'curr_ratioq',\n",
       "        'capeiq', 'epsfiq', 'cf_yield', 'epspiq', 'oepsxq', 'cash_ratioq',\n",
       "        'oancfy_q', 'cogsq', 'yearly_sales', 'epsf12', 'epsfxq', 'oibdpy',\n",
       "        'dlttq', 'fcf_csfhdq', 'at5', 'oeps12', 'ptpmq', 'at4', 'epsfi12',\n",
       "        'atq', 'apq', 'psq', 'rectq', 'rect_turnq', 'pretret_earnatq',\n",
       "        'book_value_yield', 'evmq', 'sale_invcapq', 'pe_op_dilq', 'fqtr_3',\n",
       "        'xrdy', 'dprq', 'gpmq', 'xrdq', 'ibcomq', 'cfmq', 'aftret_equityq',\n",
       "        'debt_capitalq', 'niq', 'pe_op_basicq', 'lctq4', 'at_turnq',\n",
       "        'ibcq', 'roceq', 'cash_conversionq', 'cshiq', 'piq', 'oancfy',\n",
       "        'ibq', 'lagppent4', 'prccq', 'quick_ratioq', 'ibadj12', 'ibcomy',\n",
       "        'xsgaq', 'icaptq', 'intcov_ratioq', 'pe_incq', 'ceq4', 'cheq',\n",
       "        'cash_debtq', 'fcf_ocfq', 'dltry', 'oiadpq', 'aftret_eqq',\n",
       "        'cshfdq', 'book_value_per_share', 'xintq', 'txtq', 'cshprq',\n",
       "        'ibadjq', 'xsgay', 'capxy', 'seqq', 'revty', 'cstkq',\n",
       "        'int_totdebtq', 'short_debtq', 'dpcq', 'beq', 'profit_lctq',\n",
       "        'ibcy', 'market_cap', 'totdebt_invcapq', 'lagseq4', 'dpq',\n",
       "        'dltt_beq', 'epsx12', 'capxq', 'efftaxq', 'dvpspq', 'xoprq',\n",
       "        'rect_actq', 'miiy', 'chechy', 'opmadq', 'lagicapt4', 'epspi12',\n",
       "        'equity_invcapq', 'fqtr_1', 'accrualq', 'pay_turnq', 'xidoy',\n",
       "        'be4', 'capital_ratioq', 'dvy', 'intcovq', 'gprofq', 'rd_saleq',\n",
       "        'saleq', 'req', 'actq', 'seq4', 'debt_invcapq', 'pretret_noaq',\n",
       "        'lt_ppentq', 'sale_nwcq', 'ppentq', 'oibdpq', 'aftret_invcapxq'],\n",
       "       dtype=object),\n",
       " array(['de_ratioq', 'cf_yield', 'epsx12', 'xrdy', 'dlttq',\n",
       "        'book_value_yield', 'fcf_yield', 'beq', 'xsgaq', 'cfmq', 'ibadj12',\n",
       "        'xsgay', 'oepsxy', 'at4', 'fcf_ocfq', 'pe_exiq', 'profit_lctq'],\n",
       "       dtype=object),\n",
       " array(['epsfxq', 'fcf_yield', 'cfo-per-share', 'xsgay', 'opcfq',\n",
       "        'book_value_per_share', 'cash_ratioq', 'equity_invcapq', 'epsfi12',\n",
       "        'dvq', 'dlttq', 'yearly_sales', 'cash_ltq', 'epspi12', 'cshoq',\n",
       "        'invtq', 'aftret_eqq', 'aftret_equityq', 'revty', 'ppentq',\n",
       "        'market_cap', 'rectq', 'debt_atq', 'xinty', 'debt_assetsq', 'lctq',\n",
       "        'pretret_earnatq', 'book_value_yield', 'roceq', 'at4', 'lagppent4',\n",
       "        'cshprq', 'cf_yield', 'epspiq', 'evmq', 'oepsxy', 'curr_debtq',\n",
       "        'ibadjq', 'sale_equityq', 'epsfiq', 'seq4', 'ibcomy', 'cogsy',\n",
       "        'txtq', 'pcfq', 'lagppent_alt4', 'dltisy', 'dltt_beq', 'dpq'],\n",
       "       dtype=object),\n",
       " array(['dlttq', 'epsfxq', 'lt_ppentq', 'cf_yield', 'epspxq', 'ceqq',\n",
       "        'epsf12', 'dvy', 'nopiq', 'gprofq', 'ltq', 'chechy', 'lagbe4',\n",
       "        'epspi12', 'oancfy_q'], dtype=object),\n",
       " array(['ibadjq', 'fcf_csfhdq', 'epsfi12', 'lt_ppentq', 'pe_exiq',\n",
       "        'book_value_per_share', 'oepsxq', 'gpmq', 'epspxq', 'opcfq',\n",
       "        'epspi12', 'epsfiq', 'fcf_yield', 'epspiq', 'cash_ratioq', 'xsgay',\n",
       "        'dvy', 'pe_op_basicq', 'opepsq', 'int_totdebtq', 'cfo-per-share',\n",
       "        'dvq', 'ptpmq', 'ibq', 'oancfy', 'dprq', 'quick_ratioq',\n",
       "        'cf_yield', 'xsgaq', 'opmbdq', 'revty', 'cogsy', 'cash_debtq',\n",
       "        'icaptq', 'seqq', 'gprofq', 'at_turnq', 'capxy', 'aftret_eqq',\n",
       "        'oepf12', 'saleq', 'roaq', 'xrdy', 'curr_debtq', 'oancfy_q',\n",
       "        'yearly_sales', 'pe_incq', 'market_cap', 'opmadq',\n",
       "        'aftret_equityq', 'lctq4', 'oibdpq', 'sale_invcapq', 'apq',\n",
       "        'curr_ratioq', 'pe_op_dilq', 'dlttq', 'ibadj12', 'ceq4', 'dvpspq',\n",
       "        'lt_debtq', 'dpq', 'ibcomq', 'ltq', 'csh12q', 'xrdq', 'at4',\n",
       "        'oeps12', 'bmq', 'buy_back_yield', 'capeiq', 'accrualq', 'ppentq',\n",
       "        'txpdy', 'cshiq', 'npmq', 'beq', 'seq4', 'fqtr_1',\n",
       "        'totdebt_invcapq', 'epsx12', 'niq', 'debt_assetsq', 'revtq',\n",
       "        'rectq', 'roeq', 'short_debtq', 'roceq', 'xinty', 'cshoq',\n",
       "        'cash_ltq', 'miiy', 'chechy', 'txpq', 'cstkq', 'evmq',\n",
       "        'aftret_invcapxq', 'oibdpy', 'psq', 'cfmq', 'dpcq', 'debt_ebitdaq',\n",
       "        'pay_turnq', 'pretret_earnatq', 'nopiq', 'intcov_ratioq',\n",
       "        'pretret_noaq', 'debt_atq', 'book_value_yield', 'ceqq',\n",
       "        'equity_invcapq', 'ocf_lctq', 'ibcomy', 'xintq', 'atq', 'oepsxy',\n",
       "        'capxq', 'miiq', 'lagbe4', 'txditcq', 'invtq', 'efftaxq', 'dlcq',\n",
       "        'rect_actq', 'fcf_ocfq'], dtype=object),\n",
       " array(['cf_yield', 'cfo-per-share', 'fcf_yield', 'epsfxq', 'ptpmq',\n",
       "        'epspxq', 'oepsxq', 'book_value_per_share', 'oancfy_q', 'epsfiq',\n",
       "        'rectq', 'epsfi12', 'dvpspq', 'quick_ratioq', 'aftret_equityq',\n",
       "        'oepf12', 'cash_ltq', 'cogsy', 'at5', 'oancfy', 'cfmq', 'ibcomq',\n",
       "        'yearly_sales', 'cshprq', 'market_cap', 'capeiq', 'txtq', 'dlcq',\n",
       "        'xsgaq', 'req', 'pcfq', 'pe_exiq', 'epsx12', 'dpcq', 'curr_debtq',\n",
       "        'apq', 'lagseq4', 'de_ratioq', 'saleq', 'book_value_yield',\n",
       "        'oeps12', 'npmq', 'revty', 'aftret_eqq', 'bmq', 'epsf12', 'epspiq',\n",
       "        'ltq', 'xinty', 'cheq', 'lagbe4', 'capxq', 'pretret_noaq',\n",
       "        'ppentq', 'pe_incq', 'pe_op_basicq', 'rd_saleq', 'dpq',\n",
       "        'debt_ebitdaq', 'cash_ratioq', 'pe_op_dilq', 'ceqq', 'cshopq',\n",
       "        'pretret_earnatq', 'gprofq', 'debt_assetsq', 'accrualq', 'dprq',\n",
       "        'dvq', 'opmbdq', 'equity_invcapq', 'ibadj12', 'oiadpq', 'piq',\n",
       "        'cstkq', 'atq', 'at4', 'buy_back_yield', 'sale_equityq',\n",
       "        'lagppent4', 'nopiq', 'ibadjq', 'chechy', 'psq', 'revtq', 'gpmq',\n",
       "        'epspi12', 'xsgay', 'seqq', 'sale_invcapq', 'xrdy', 'be4',\n",
       "        'cshfdq', 'int_totdebtq', 'lt_debtq', 'lt_ppentq', 'xrdq', 'roaq',\n",
       "        'lctq4', 'profit_lctq', 'opcfq', 'rect_actq', 'curr_ratioq', 'dvy',\n",
       "        'fcf_ocfq', 'dlcchy', 'efftaxq', 'oepsxy', 'ceq4', 'xoprq',\n",
       "        'opmadq', 'at_turnq', 'debt_invcapq', 'xintq', 'miiq', 'txpdy',\n",
       "        'oibdpy', 'dltt_beq', 'ibcy', 'beq', 'totdebt_invcapq', 'ibq',\n",
       "        'icaptq', 'lagicapt4', 'oibdpq', 'fcf_csfhdq', 'fqtr_1',\n",
       "        'cash_debtq', 'aftret_invcapxq', 'evmq', 'pay_turnq', 'opepsq',\n",
       "        'csh12q', 'dltisy', 'prcraq', 'cash_conversionq', 'dltry', 'invtq',\n",
       "        'cshiq', 'intcovq', 'inv_turnq', 'dpcy', 'int_debtq', 'debt_atq',\n",
       "        'rect_turnq', 'capxy', 'roceq'], dtype=object),\n",
       " array(['epsfiq', 'beq', 'txtq', 'curr_debtq', 'oancfy_q', 'oancfy',\n",
       "        'intcov_ratioq', 'debt_invcapq', 'seqq', 'dvpspq', 'epsfxq', 'dvq',\n",
       "        'fcf_csfhdq', 'book_value_yield', 'efftaxq', 'dpcq', 'actq', 'psq',\n",
       "        'at4', 'oibdpy'], dtype=object),\n",
       " array(['fcf_yield', 'oancfy_q', 'epspi12', 'roeq', 'dltisy', 'ibq',\n",
       "        'cfo-per-share', 'oepsxq', 'aftret_eqq', 'capeiq', 'fcf_csfhdq',\n",
       "        'rd_saleq', 'equity_invcapq', 'de_ratioq', 'epsfi12', 'epsfiq',\n",
       "        'xsgaq', 'dlttq', 'int_totdebtq', 'ptpmq', 'mibq', 'lctq',\n",
       "        'epsfxq', 'opcfq', 'debt_capitalq', 'debt_invcapq', 'epspxq',\n",
       "        'bmq', 'cash_ltq', 'cf_yield', 'pretret_earnatq', 'lctq4', 'dprq',\n",
       "        'pe_op_basicq', 'miiq', 'opepsq', 'dpcy', 'book_value_per_share',\n",
       "        'icaptq', 'ltq', 'sale_nwcq', 'epspiq', 'ppentq', 'oibdpq',\n",
       "        'oibdpy', 'rect_turnq', 'at4', 'xrdy', 'at_turnq', 'cshfdq',\n",
       "        'txtq', 'pe_op_dilq', 'ceqq', 'lagppent_alt4', 'nopiq', 'prcraq',\n",
       "        'npmq', 'intcovq', 'pe_incq', 'rectq', 'ibadj12', 'xrdq', 'epsx12',\n",
       "        'pstkq', 'invtq', 'xsgay', 'be4', 'chechy', 'lt_ppentq', 'xintq',\n",
       "        'cash_conversionq', 'at5', 'lagseq4', 'psq', 'cshprq',\n",
       "        'debt_assetsq', 'capxy', 'lagicapt4', 'oeps12', 'book_value_yield',\n",
       "        'cash_ratioq', 'curr_ratioq', 'fcf_ocfq', 'txpdy', 'intcov_ratioq',\n",
       "        'req', 'sale_equityq', 'gpmq', 'cshiq', 'opmbdq', 'cfmq', 'cshopq',\n",
       "        'ceq4', 'ibcomy', 'xidoy', 'txpq', 'buy_back_yield', 'xoprq',\n",
       "        'dlcq', 'saleq', 'short_debtq', 'ocf_lctq', 'sale_invcapq',\n",
       "        'gprofq', 'evmq', 'ibcq', 'invt_actq', 'dltry', 'roaq', 'seqq',\n",
       "        'int_debtq', 'dpq', 'aftret_equityq', 'teqq', 'capxq', 'atq',\n",
       "        'seq4', 'totdebt_invcapq', 'debt_ebitdaq', 'csh12q',\n",
       "        'yearly_sales', 'xinty', 'cogsq', 'ibcomq', 'actq', 'apq',\n",
       "        'pretret_noaq', 'oepsxy', 'rect_actq', 'lagbe4', 'quick_ratioq',\n",
       "        'miiy', 'dvq', 'lt_debtq', 'cheq', 'xidocy', 'piq', 'market_cap',\n",
       "        'roceq', 'ibcy', 'profit_lctq', 'dvy', 'accrualq', 'opmadq',\n",
       "        'oancfy', 'efftaxq', 'niq', 'prccq', 'spcsrc_A'], dtype=object),\n",
       " array(['ibadj12', 'ibcy', 'oancfy', 'epspxq', 'cf_yield',\n",
       "        'book_value_yield', 'epspi12', 'xsgay', 'de_ratioq', 'saleq',\n",
       "        'ppentq', 'rd_saleq', 'capital_ratioq', 'cash_ratioq', 'lctq',\n",
       "        'fcf_yield', 'ltq', 'oiadpq', 'pretret_earnatq', 'quick_ratioq',\n",
       "        'dpcq', 'bmq', 'epsfiq', 'dltt_beq', 'accrualq', 'cfo-per-share',\n",
       "        'oepf12', 'cogsq', 'cash_ltq', 'debt_assetsq', 'oibdpq', 'dvpspq',\n",
       "        'pretret_noaq', 'piq', 'dvq', 'sale_invcapq', 'epspiq', 'opepsq',\n",
       "        'epsfi12', 'at4', 'ibcomy', 'rectq', 'totdebt_invcapq', 'xintq',\n",
       "        'ibadjq', 'intcov_ratioq', 'int_debtq', 'oeps12', 'dprq', 'oibdpy',\n",
       "        'equity_invcapq', 'epsfxq', 'ibq', 'xrdq', 'debt_invcapq',\n",
       "        'icaptq', 'ptpmq', 'rect_turnq', 'capxq', 'revtq', 'be4',\n",
       "        'debt_capitalq', 'curr_ratioq', 'revty', 'roeq', 'beq',\n",
       "        'curr_debtq', 'xoprq', 'seqq', 'txditcq', 'txpdy', 'xsgaq',\n",
       "        'pe_incq', 'lagicapt4', 'lagppent_alt4', 'cshoq', 'pcfq',\n",
       "        'lagppent4', 'fcf_csfhdq', 'buy_back_yield', 'miiy', 'roceq',\n",
       "        'cash_conversionq', 'xinty', 'lt_ppentq', 'ibcq', 'cash_debtq',\n",
       "        'at_turnq', 'rect_actq', 'int_totdebtq', 'opcfq', 'csh12q',\n",
       "        'pe_op_dilq', 'pe_op_basicq', 'lagseq4', 'cfmq', 'sale_equityq',\n",
       "        'mibq', 'evmq', 'fcf_ocfq', 'invtq', 'debt_atq', 'ibcomq',\n",
       "        'intcovq', 'lagbe4', 'fqtr_1', 'actq', 'chechy', 'aftret_equityq',\n",
       "        'short_debtq', 'miiq', 'dvy', 'cstkq', 'oancfy_q', 'sale_nwcq',\n",
       "        'oepsxq', 'seq4', 'opmbdq', 'npmq', 'at5', 'xidocy', 'roaq',\n",
       "        'nopiq', 'atq', 'oepsxy', 'apq', 'dlcq', 'fqtr_3', 'prcraq', 'niq',\n",
       "        'gprofq', 'lt_debtq', 'xrdy', 'aftret_invcapxq', 'lctq4', 'dlttq',\n",
       "        'dpcy', 'gpmq', 'optdrq', 'opmadq', 'cheq', 'epsx12',\n",
       "        'book_value_per_share', 'cshopq', 'psq', 'ceq4', 'profit_lctq',\n",
       "        'aftret_eqq', 'req', 'spiq', 'cshfdq', 'spcsrc_B', 'cshiq',\n",
       "        'market_cap', 'spcsrc_B+'], dtype=object),\n",
       " array(['cfo-per-share', 'oancfy_q', 'niq', 'bmq', 'oiadpq', 'oepsxq',\n",
       "        'lt_ppentq', 'revtq', 'fcf_csfhdq', 'cash_ltq', 'buy_back_yield',\n",
       "        'at5', 'debt_atq', 'epsfi12', 'lagbe4', 'capxy', 'opepsq',\n",
       "        'int_totdebtq', 'dpq', 'opcfq', 'epsf12', 'cash_ratioq',\n",
       "        'cf_yield', 'be4', 'npmq', 'epsfxq', 'dltry', 'oeps12', 'actq',\n",
       "        'oancfy', 'debt_ebitdaq', 'lagppent4', 'ltq', 'pretret_earnatq',\n",
       "        'ibcomy', 'gpmq', 'rect_turnq', 'dpcy', 'curr_debtq', 'roaq',\n",
       "        'short_debtq', 'dvy', 'pe_incq', 'prcraq', 'debt_capitalq', 'ceqq',\n",
       "        'dprq', 'pretret_noaq', 'evmq', 'gprofq', 'lctq', 'market_cap',\n",
       "        'rd_saleq', 'aftret_equityq', 'dvpspq', 'epsx12', 'optdrq',\n",
       "        'intcov_ratioq', 'piq', 'ibadjq', 'csh12q', 'miiq', 'invt_actq',\n",
       "        'at4', 'pay_turnq', 'epspiq', 'lt_debtq', 'cshfdq', 'dlcq',\n",
       "        'invtq', 'dvq', 'cogsq', 'cshiq', 'cshprq', 'opmbdq', 'pcfq',\n",
       "        'cshoq', 'epsfiq', 'lagppent_alt4', 'oepsxy', 'xintq', 'txditcq',\n",
       "        'apq', 'int_debtq', 'capital_ratioq', 'ibadj12', 'lagicapt4',\n",
       "        'beq', 'equity_invcapq', 'rect_actq', 'cash_conversionq', 'txtq',\n",
       "        'yearly_sales', 'xsgay', 'saleq', 'debt_invcapq', 'sale_nwcq',\n",
       "        'dpcq', 'dltt_beq', 'xsgaq', 'cstkq', 'ceq4', 'rectq', 'psq',\n",
       "        'txpdy'], dtype=object),\n",
       " array(['oancfy_q', 'lt_ppentq', 'oancfy', 'opcfq', 'revty', 'fcf_yield',\n",
       "        'cf_yield', 'epspiq', 'oepsxy', 'niq', 'oiadpq', 'epspxq',\n",
       "        'book_value_yield', 'rect_actq', 'revtq', 'dlcq', 'rect_turnq',\n",
       "        'cfo-per-share', 'xinty', 'cogsy', 'cash_conversionq', 'xsgay',\n",
       "        'curr_debtq', 'equity_invcapq', 'epspi12', 'curr_ratioq',\n",
       "        'buy_back_yield', 'cash_ltq', 'sale_invcapq', 'oepsxq', 'txditcq',\n",
       "        'ptpmq', 'atq', 'ibcy', 'dlcchy', 'epsfiq', 'ibcq', 'debt_assetsq',\n",
       "        'roceq', 'sic_6020', 'gprofq', 'lctq', 'pe_op_dilq', 'dprq',\n",
       "        'epsf12', 'intcov_ratioq', 'debt_atq', 'seq4', 'fcf_csfhdq',\n",
       "        'totdebt_invcapq', 'aftret_invcapxq', 'gpmq', 'at_turnq', 'bmq',\n",
       "        'de_ratioq', 'prcraq', 'lagppent_alt4', 'piq', 'debt_ebitdaq',\n",
       "        'ibq', 'accrualq', 'epsfi12', 'debt_invcapq', 'xsgaq', 'oepf12',\n",
       "        'opepsq', 'chechy', 'actq', 'pay_turnq', 'short_debtq',\n",
       "        'cash_ratioq', 'cfmq', 'yearly_sales', 'inv_turnq', 'quick_ratioq',\n",
       "        'ibcomy', 'psq', 'spcsrc_C', 'oibdpq', 'icaptq', 'cstkq', 'ppentq',\n",
       "        'at5', 'fqtr_1', 'capxy', 'epsfxq', 'dltt_beq', 'evmq', 'dltisy',\n",
       "        'dvpspq', 'xoprq', 'req', 'dvq', 'cheq', 'npmq', 'at4',\n",
       "        'aftret_eqq', 'txpq', 'cshopq', 'pretret_noaq', 'pe_exiq', 'ltq',\n",
       "        'lagbe4', 'market_cap', 'oeps12', 'sale_nwcq',\n",
       "        'book_value_per_share', 'lagicapt4', 'opmbdq', 'fqtr_3', 'cshiq',\n",
       "        'oibdpy', 'apq', 'pcfq', 'txpdy', 'cshprq', 'xidoy', 'miiq',\n",
       "        'profit_lctq', 'lagseq4', 'lctq4', 'int_totdebtq', 'lagppent4',\n",
       "        'fcf_ocfq', 'capeiq', 'rd_saleq', 'lt_debtq', 'cshfdq', 'dlttq',\n",
       "        'xidocy', 'ibadj12', 'invtq', 'rectq', 'ocf_lctq', 'txtq', 'ceq4',\n",
       "        'ibcomq', 'ibadjq', 'pe_op_basicq', 'beq', 'capxq', 'ceqq',\n",
       "        'sale_equityq', 'prccq', 'opmadq', 'dpcy', 'pretret_earnatq',\n",
       "        'cogsq', 'capital_ratioq', 'intcovq', 'xintq', 'invt_actq'],\n",
       "       dtype=object),\n",
       " array(['debt_assetsq', 'opcfq', 'cash_conversionq', 'revty', 'lagbe4',\n",
       "        'fcf_csfhdq', 'roeq', 'oepf12', 'ibadjq', 'dpcy', 'opmadq',\n",
       "        'fcf_yield', 'oepsxy', 'rectq', 'epspiq', 'cfo-per-share',\n",
       "        'cf_yield', 'xsgay', 'evmq', 'lagppent4', 'oancfy', 'chechy',\n",
       "        'epsfiq', 'lt_ppentq', 'epsfxq', 'be4', 'ibcy', 'opepsq',\n",
       "        'book_value_per_share', 'ibcomy', 'lagicapt4', 'xintq', 'fcf_ocfq',\n",
       "        'actq', 'debt_atq', 'txtq', 'curr_debtq', 'dprq', 'pay_turnq',\n",
       "        'capxq', 'dvy', 'cogsq', 'int_totdebtq', 'npmq', 'lctq', 'oepsxq',\n",
       "        'sale_equityq', 'cshoq', 'optdrq', 'epspxq', 'totdebt_invcapq',\n",
       "        'gprofq', 'revtq', 'niq', 'gpmq', 'debt_ebitdaq', 'csh12q',\n",
       "        'prcraq', 'int_debtq', 'fqtr_3', 'lagseq4', 'cshopq', 'prccq',\n",
       "        'cash_ratioq', 'txpdy', 'ppentq', 'curr_ratioq', 'dltry', 'dlttq',\n",
       "        'buy_back_yield', 'oibdpy', 'quick_ratioq', 'saleq',\n",
       "        'pe_op_basicq', 'intcovq', 'oibdpq', 'bmq', 'pe_incq', 'icaptq',\n",
       "        'dlcq', 'epsx12', 'profit_lctq', 'seq4', 'atq', 'oancfy_q',\n",
       "        'dltisy', 'debt_invcapq', 'rect_actq', 'dpcq', 'yearly_sales',\n",
       "        'ceq4', 'psq', 'equity_invcapq', 'ceqq', 'xsgaq', 'seqq', 'at5',\n",
       "        'pstkq', 'ibcq', 'req', 'cshiq', 'aftret_invcapxq', 'xrdq', 'pcfq',\n",
       "        'cogsy', 'cheq', 'capital_ratioq', 'oiadpq', 'invtq', 'rd_saleq',\n",
       "        'dvpspq', 'pretret_noaq', 'beq'], dtype=object),\n",
       " array(['oancfy_q', 'fcf_csfhdq', 'ibcomy', 'lt_ppentq', 'oepsxy', 'opcfq',\n",
       "        'lagppent4', 'oancfy', 'ibadjq', 'fcf_yield', 'revtq', 'ibq',\n",
       "        'ibcy', 'de_ratioq', 'ibcomq', 'cf_yield', 'debt_capitalq',\n",
       "        'book_value_yield', 'chechy', 'xsgaq', 'intcovq', 'lagppent_alt4',\n",
       "        'epsfiq', 'epsfxq', 'cfo-per-share', 'capxy', 'be4', 'evmq',\n",
       "        'dpcy', 'debt_ebitdaq', 'opepsq', 'totdebt_invcapq', 'bmq', 'at5',\n",
       "        'atq', 'curr_ratioq', 'lctq', 'rect_turnq', 'csh12q', 'prcraq',\n",
       "        'oiadpq', 'lctq4', 'cash_conversionq', 'debt_assetsq',\n",
       "        'book_value_per_share', 'dvy', 'ocf_lctq', 'nopiq', 'txditcq',\n",
       "        'epspxq', 'at_turnq', 'dlcq', 'cash_ratioq', 'epspiq', 'capeiq',\n",
       "        'mibq', 'epsf12', 'cshiq', 'seq4', 'cfmq', 'dvq', 'oepf12',\n",
       "        'dvpspq', 'short_debtq', 'rect_actq', 'pcfq', 'debt_atq',\n",
       "        'sale_invcapq', 'xinty', 'cogsq', 'dpcq', 'capital_ratioq',\n",
       "        'buy_back_yield', 'niq', 'epspi12', 'fcf_ocfq', 'invt_actq',\n",
       "        'ceq4', 'oibdpq', 'int_totdebtq', 'dltt_beq', 'oibdpy', 'epsfi12',\n",
       "        'profit_lctq', 'cshopq', 'pretret_earnatq', 'miiy', 'debt_invcapq',\n",
       "        'pe_op_basicq', 'cshfdq', 'pe_exiq', 'ppentq', 'dpq', 'dprq',\n",
       "        'gprofq', 'txtq', 'gpmq', 'roeq', 'xoprq', 'ibadj12', 'cshoq',\n",
       "        'accrualq', 'apq', 'sale_nwcq', 'psq', 'dlttq', 'fqtr_2',\n",
       "        'market_cap', 'ptpmq', 'rectq', 'int_debtq', 'quick_ratioq',\n",
       "        'opmbdq', 'pretret_noaq', 'ceqq', 'actq', 'invtq', 'oeps12',\n",
       "        'equity_invcapq', 'capxq', 'oepsxq', 'cash_debtq', 'cogsy',\n",
       "        'aftret_invcapxq', 'aftret_eqq', 'prccq', 'txpdy', 'pay_turnq',\n",
       "        'curr_debtq', 'seqq', 'lagseq4', 'npmq', 'miiq', 'lagicapt4',\n",
       "        'inv_turnq', 'cstkq', 'lt_debtq', 'xrdq', 'ibcq', 'cshprq'],\n",
       "       dtype=object),\n",
       " array(['cfo-per-share', 'niq', 'totdebt_invcapq', 'oancfy_q',\n",
       "        'aftret_eqq', 'opepsq', 'lt_ppentq', 'cash_conversionq', 'epsfxq',\n",
       "        'lagbe4', 'oancfy', 'at5', 'oibdpy', 'chechy', 'epspxq', 'dpcy',\n",
       "        'rectq', 'lagppent_alt4', 'epspiq', 'rect_actq', 'debt_assetsq',\n",
       "        'lagseq4', 'ibadjq', 'pretret_noaq', 'ibcy', 'dpcq', 'gprofq',\n",
       "        'epsfiq', 'debt_ebitdaq', 'cfmq', 'dlttq', 'rect_turnq',\n",
       "        'debt_invcapq', 'cf_yield', 'inv_turnq', 'atq', 'miiq', 'revty',\n",
       "        'dlcq', 'bmq', 'profit_lctq', 'be4', 'accrualq', 'pretret_earnatq',\n",
       "        'ibcq', 'debt_atq', 'prcraq', 'capital_ratioq', 'txpdy', 'ibcomy',\n",
       "        'npmq', 'sale_nwcq', 'lt_debtq', 'opcfq', 'fqtr_2', 'psq', 'xoprq',\n",
       "        'cash_ltq', 'roceq', 'lctq4', 'opmadq', 'equity_invcapq', 'dvq',\n",
       "        'at4', 'dlcchy', 'cshfdq', 'evmq', 'short_debtq', 'xsgaq',\n",
       "        'pe_exiq', 'capxq', 'spiq', 'epsf12', 'icaptq', 'txpq', 'seq4',\n",
       "        'ppentq', 'at_turnq', 'fcf_ocfq', 'dltt_beq', 'cshprq', 'prccq',\n",
       "        'quick_ratioq', 'xsgay', 'invt_actq', 'pe_op_dilq', 'gpmq',\n",
       "        'buy_back_yield', 'yearly_sales', 'optdrq', 'csh12q', 'saleq',\n",
       "        'dprq', 'roaq', 'oeps12', 'ptpmq', 'piq', 'ibadj12', 'oepsxy',\n",
       "        'roeq', 'cshoq', 'pay_turnq', 'ibq', 'dltisy', 'epsx12', 'xintq',\n",
       "        'rd_saleq', 'epsfi12', 'revtq', 'capeiq'], dtype=object),\n",
       " array(['totdebt_invcapq', 'oancfy', 'quick_ratioq', 'debt_assetsq',\n",
       "        'lagppent_alt4', 'lt_ppentq', 'cf_yield', 'fcf_csfhdq', 'epsx12',\n",
       "        'dpcy', 'intcovq', 'epsfxq', 'rect_turnq', 'opmbdq', 'profit_lctq',\n",
       "        'txpq', 'cfo-per-share', 'epspiq', 'pretret_earnatq', 'rect_actq',\n",
       "        'debt_invcapq', 'inv_turnq', 'debt_atq', 'ibadjq', 'cash_ltq',\n",
       "        'evmq', 'roaq', 'fqtr_2', 'oancfy_q', 'de_ratioq', 'at_turnq',\n",
       "        'at5', 'oepsxy', 'book_value_yield', 'ibcy', 'icaptq', 'fcf_yield',\n",
       "        'book_value_per_share', 'cash_conversionq', 'opcfq', 'opmadq',\n",
       "        'ibcq', 'pay_turnq', 'dvy', 'miiy', 'fqtr_4', 'revty',\n",
       "        'capital_ratioq', 'lctq4', 'debt_capitalq', 'chechy', 'ibcomy',\n",
       "        'roeq', 'aftret_equityq', 'cash_ratioq', 'lagbe4', 'pe_op_basicq',\n",
       "        'ibcomq', 'dltisy', 'seq4', 'oeps12', 'yearly_sales', 'xrdy',\n",
       "        'short_debtq', 'lagicapt4', 'dlttq', 'ppentq', 'curr_ratioq',\n",
       "        'lagppent4', 'optdrq', 'atq', 'seqq', 'apq', 'at4', 'cogsq',\n",
       "        'oepsxq', 'bmq', 'gprofq', 'equity_invcapq', 'xinty', 'actq',\n",
       "        'revtq', 'roceq', 'niq', 'accrualq', 'ceqq', 'oepf12', 'capxy',\n",
       "        'npmq', 'pe_exiq', 'xsgaq', 'saleq', 'aftret_eqq', 'psq', 'cshfdq',\n",
       "        'dvq', 'invt_actq', 'ibadj12', 'epspi12', 'dvpspq', 'oiadpq',\n",
       "        'lctq', 'cstkq', 'pe_op_dilq', 'spcsrc_B', 'xoprq', 'ceq4', 'gpmq',\n",
       "        'lt_debtq', 'cfmq', 'capeiq', 'dltt_beq', 'cogsy', 'piq', 'prccq'],\n",
       "       dtype=object),\n",
       " array(['oancfy', 'ibcomy', 'fcf_yield', 'lctq4', 'fqtr_2', 'ibadjq',\n",
       "        'inv_turnq', 'lctq', 'oepsxq', 'debt_capitalq', 'actq', 'dltt_beq',\n",
       "        'opcfq', 'nopiq', 'lt_ppentq', 'be4', 'xoprq', 'miiq', 'dvpspq',\n",
       "        'oancfy_q', 'icaptq', 'epsf12', 'ibcomq', 'oibdpy', 'dprq', 'at4',\n",
       "        'piq', 'pretret_earnatq', 'cshoq', 'at_turnq', 'aftret_eqq',\n",
       "        'curr_debtq', 'rect_actq', 'beq', 'xsgaq', 'gpmq', 'cf_yield',\n",
       "        'evmq', 'epsfxq', 'de_ratioq', 'book_value_per_share', 'revty',\n",
       "        'debt_assetsq', 'at5', 'profit_lctq', 'dpq', 'intcovq',\n",
       "        'rect_turnq', 'accrualq', 'atq', 'req', 'fcf_ocfq', 'ocf_lctq',\n",
       "        'saleq', 'pretret_noaq', 'debt_invcapq', 'gprofq', 'oepsxy', 'apq',\n",
       "        'ibcq', 'cshfdq', 'seqq', 'chechy', 'lagseq4', 'cogsq', 'dlcq',\n",
       "        'cshopq', 'yearly_sales', 'book_value_yield', 'bmq', 'int_debtq',\n",
       "        'capxq', 'xrdy', 'npmq', 'txpdy', 'curr_ratioq', 'invtq', 'dlttq',\n",
       "        'ceq4', 'opepsq', 'dltisy', 'aftret_equityq', 'dpcy', 'opmadq',\n",
       "        'cstkq', 'int_totdebtq', 'cash_ratioq', 'niq', 'psq', 'ibcy',\n",
       "        'market_cap', 'cash_debtq', 'equity_invcapq', 'lagppent_alt4',\n",
       "        'sale_nwcq', 'xintq', 'txtq', 'dvpq', 'xidocy', 'dpcq', 'epspxq',\n",
       "        'cfmq', 'fqtr_4', 'xrdq', 'pe_exiq', 'cshprq', 'epsfi12',\n",
       "        'ibadj12', 'debt_ebitdaq', 'epspiq', 'xsgay', 'lagbe4',\n",
       "        'sale_invcapq', 'ceqq', 'debt_atq', 'cheq', 'roaq'], dtype=object),\n",
       " array(['cash_ratioq', 'cf_yield', 'cfo-per-share', 'revty', 'piq',\n",
       "        'oepsxy', 'debt_ebitdaq', 'dvpspq', 'intcovq', 'de_ratioq',\n",
       "        'profit_lctq', 'int_debtq', 'epsf12', 'miiy', 'oancfy', 'cstkq',\n",
       "        'oancfy_q', 'lagppent_alt4', 'pretret_noaq', 'seqq', 'lctq4',\n",
       "        'fqtr_3', 'txditcq', 'dlcq', 'debt_assetsq', 'epsx12', 'niq',\n",
       "        'rect_turnq', 'intcov_ratioq', 'sale_nwcq', 'equity_invcapq',\n",
       "        'capeiq', 'ibadjq', 'fcf_yield', 'ltq', 'invt_actq', 'cshfdq',\n",
       "        'dvy', 'psq', 'opmadq', 'roceq', 'inv_turnq', 'ibcomq', 'opcfq',\n",
       "        'totdebt_invcapq', 'ibcomy', 'lagseq4', 'roaq', 'lctq', 'pcfq',\n",
       "        'ppentq', 'dprq', 'revtq', 'txtq', 'apq', 'chechy', 'pe_op_basicq',\n",
       "        'buy_back_yield', 'lagicapt4', 'mibq', 'capxq', 'xidocy', 'req',\n",
       "        'epspiq', 'market_cap', 'epspxq', 'lagppent4', 'cash_conversionq',\n",
       "        'rectq', 'beq', 'int_totdebtq', 'pretret_earnatq', 'cshiq',\n",
       "        'epsfi12', 'capital_ratioq', 'short_debtq', 'ptpmq', 'xrdq',\n",
       "        'prccq', 'yearly_sales', 'at_turnq', 'xsgaq', 'dpcy', 'opepsq',\n",
       "        'evmq', 'oepsxq', 'accrualq', 'cshprq', 'ibcy', 'be4', 'nopiq',\n",
       "        'book_value_per_share', 'capxy', 'epspi12'], dtype=object),\n",
       " array(['fcf_yield', 'oancfy', 'ibcomy', 'cf_yield', 'oancfy_q', 'oepsxy',\n",
       "        'fqtr_3', 'curr_debtq', 'roaq', 'ceq4', 'ocf_lctq', 'lctq',\n",
       "        'lt_ppentq', 'actq', 'book_value_per_share', 'roeq', 'be4',\n",
       "        'fcf_csfhdq', 'dpcy', 'ibcy', 'oibdpy', 'ibadj12', 'gprofq',\n",
       "        'epsf12', 'debt_atq', 'opcfq', 'pretret_noaq', 'capeiq', 'chechy',\n",
       "        'book_value_yield', 'epspi12', 'txpq', 'at_turnq',\n",
       "        'cash_conversionq', 'accrualq', 'rect_actq', 'fqtr_2', 'lagbe4',\n",
       "        'capxq', 'evmq', 'cshprq', 'miiy', 'pretret_earnatq', 'sale_nwcq',\n",
       "        'epsfi12', 'aftret_equityq', 'revty', 'invt_actq', 'ceqq',\n",
       "        'rect_turnq', 'apq', 'dpcq', 'cfo-per-share', 'aftret_invcapxq',\n",
       "        'totdebt_invcapq', 'cash_ratioq', 'at5', 'txditcq', 'oiadpq',\n",
       "        'dvy', 'seq4', 'de_ratioq', 'roceq', 'niq', 'spcsrc_B-', 'dvpspq',\n",
       "        'pay_turnq', 'intcovq', 'ibadjq', 'saleq', 'opepsq',\n",
       "        'capital_ratioq', 'inv_turnq', 'fqtr_4', 'lagppent_alt4',\n",
       "        'int_totdebtq', 'bmq', 'pcfq', 'lagppent4', 'pe_op_dilq', 'oibdpq',\n",
       "        'csh12q', 'curr_ratioq', 'debt_assetsq', 'sale_equityq', 'epsfxq',\n",
       "        'market_cap', 'ibcomq', 'dvq', 'invtq', 'dprq', 'debt_ebitdaq',\n",
       "        'cshoq', 'mibq', 'dlcq', 'equity_invcapq', 'lctq4', 'xintq',\n",
       "        'cshfdq', 'dpq', 'xoprq', 'npmq', 'prcraq', 'cogsq', 'profit_lctq',\n",
       "        'opmadq', 'at4'], dtype=object),\n",
       " array(['profit_lctq', 'capeiq', 'xintq', 'debt_invcapq', 'rectq',\n",
       "        'fqtr_3', 'ibcy', 'fcf_yield', 'revtq', 'dvpspq', 'fcf_ocfq',\n",
       "        'ibcomq', 'xrdy', 'lagicapt4', 'book_value_per_share', 'at5',\n",
       "        'ibcq', 'chechy', 'accrualq', 'nopiq', 'epspi12', 'intcovq',\n",
       "        'cshfdq', 'dpq', 'epsx12', 'lagseq4', 'opmbdq', 'cshprq',\n",
       "        'at_turnq', 'lagppent_alt4', 'cfo-per-share', 'dvq', 'epsf12',\n",
       "        'seq4', 'xrdq', 'xsgaq', 'pe_incq', 'yearly_sales', 'oepf12',\n",
       "        'oibdpq', 'spcsrc_B', 'invtq', 'invt_actq', 'atq'], dtype=object),\n",
       " array(['totdebt_invcapq', 'ibcomy', 'intcovq', 'oiadpq', 'oancfy_q',\n",
       "        'fcf_csfhdq', 'lctq4', 'dpq', 'dltt_beq', 'debt_assetsq', 'ibcy',\n",
       "        'oibdpy', 'actq', 'quick_ratioq', 'rd_saleq', 'req', 'roceq',\n",
       "        'cshfdq', 'teqq', 'fqtr_3', 'spiq', 'ibcomq', 'ceqq', 'niq',\n",
       "        'oeps12', 'txtq', 'lagppent_alt4', 'sale_equityq', 'fqtr_2',\n",
       "        'prccq', 'dpcq', 'rect_turnq', 'fcf_ocfq', 'beq', 'bmq',\n",
       "        'rect_actq', 'aftret_equityq', 'profit_lctq', 'opepsq', 'roeq',\n",
       "        'ptpmq', 'dvy', 'rectq', 'dprq', 'lagppent4', 'cheq', 'piq', 'ibq',\n",
       "        'ceq4', 'debt_capitalq', 'de_ratioq', 'at5', 'opcfq', 'aftret_eqq',\n",
       "        'cash_ltq', 'atq', 'buy_back_yield', 'epspiq', 'icaptq'],\n",
       "       dtype=object),\n",
       " array(['lagppent_alt4', 'cf_yield', 'fcf_yield', 'pretret_earnatq',\n",
       "        'lctq4', 'oancfy', 'roceq', 'teqq', 'dlttq', 'aftret_equityq',\n",
       "        'lagbe4', 'pe_op_dilq', 'dltisy', 'chechy', 'intcovq',\n",
       "        'cfo-per-share', 'debt_assetsq', 'pe_incq', 'cash_ltq',\n",
       "        'fcf_csfhdq', 'prccq', 'market_cap', 'cshoq', 'epsfi12', 'evmq',\n",
       "        'pe_op_basicq', 'fcf_ocfq', 'intcov_ratioq', 'quick_ratioq',\n",
       "        'opcfq', 'debt_ebitdaq', 'book_value_yield', 'curr_ratioq',\n",
       "        'invt_actq', 'dltt_beq', 'aftret_eqq', 'rect_turnq', 'bmq',\n",
       "        'cshfdq', 'capxq', 'epspi12', 'lt_ppentq', 'sale_invcapq',\n",
       "        'rect_actq', 'txtq', 'rectq', 'ocf_lctq', 'book_value_per_share',\n",
       "        'at_turnq', 'fqtr_3', 'nopiq', 'oepsxy', 'int_totdebtq', 'xsgay',\n",
       "        'pcfq', 'dpq', 'cshiq', 'req', 'gpmq', 'roeq', 'oibdpq', 'at4',\n",
       "        'epsfiq', 'opmbdq', 'dprq', 'aftret_invcapxq', 'dpcy', 'npmq',\n",
       "        'at5', 'ptpmq', 'gprofq', 'dpcq', 'lagppent4', 'oiadpq', 'prcraq',\n",
       "        'ibcomq', 'accrualq', 'debt_invcapq', 'txditcq', 'spiq', 'revty',\n",
       "        'csh12q', 'sale_nwcq'], dtype=object),\n",
       " array(['cash_debtq', 'beq', 'ibcomy', 'lt_ppentq', 'txpdy', 'oancfy',\n",
       "        'dltisy', 'cash_ltq', 'xrdq', 'epsfi12', 'dpq', 'ptpmq', 'be4',\n",
       "        'cf_yield', 'book_value_per_share', 'yearly_sales', 'cshfdq',\n",
       "        'cogsq', 'capeiq', 'int_debtq', 'optdrq', 'roaq', 'ocf_lctq',\n",
       "        'lctq4', 'debt_capitalq', 'oepf12', 'de_ratioq', 'revtq'],\n",
       "       dtype=object),\n",
       " array(['fqtr_2', 'fcf_ocfq', 'fcf_csfhdq', 'opcfq', 'book_value_yield',\n",
       "        'oancfy_q', 'fcf_yield', 'debt_ebitdaq', 'chechy', 'pcfq',\n",
       "        'accrualq', 'market_cap', 'bmq', 'ppentq', 'dpq', 'epspxq',\n",
       "        'xoprq', 'dpcy', 'apq', 'sale_nwcq', 'teqq', 'int_debtq', 'oibdpq',\n",
       "        'piq', 'beq', 'dprq', 'int_totdebtq', 'revty', 'roceq', 'fqtr_4',\n",
       "        'csh12q', 'capxy', 'aftret_invcapxq', 'ocf_lctq', 'ibcy',\n",
       "        'lt_ppentq', 'dlttq', 'sector_code_850.0', 'cshiq', 'sale_equityq',\n",
       "        'oancfy', 'xinty', 'req', 'pe_op_basicq', 'opepsq', 'lagicapt4',\n",
       "        'pe_incq', 'cf_yield', 'cshopq', 'invtq', 'at_turnq',\n",
       "        'book_value_per_share', 'evmq', 'txtq', 'ltq', 'at5', 'cshprq',\n",
       "        'cfmq', 'rectq', 'atq', 'sale_invcapq', 'pretret_noaq', 'capeiq',\n",
       "        'ibcq', 'gprofq', 'dlcq', 'epsx12', 'dpcq', 'roaq',\n",
       "        'totdebt_invcapq', 'de_ratioq', 'oiadpq', 'yearly_sales',\n",
       "        'cfo-per-share', 'ibadj12', 'oepsxy', 'pe_op_dilq',\n",
       "        'cash_conversionq', 'epsfi12', 'pay_turnq', 'dvq', 'debt_assetsq',\n",
       "        'seqq', 'cash_ratioq', 'at4', 'cogsy', 'revtq', 'cshoq', 'niq',\n",
       "        'ptpmq', 'dvpq', 'ceq4', 'opmadq', 'optdrq', 'ibq', 'cash_ltq',\n",
       "        'gpmq', 'epspi12', 'xsgay', 'oeps12', 'curr_ratioq', 'be4',\n",
       "        'cstkq', 'rect_actq', 'debt_atq', 'aftret_eqq', 'lagbe4', 'epspiq',\n",
       "        'prccq', 'capital_ratioq', 'debt_capitalq', 'curr_debtq', 'capxq',\n",
       "        'ibcomy', 'dltt_beq', 'seq4', 'txpq', 'ibadjq', 'epsf12', 'roeq',\n",
       "        'short_debtq', 'epsfiq', 'dvy', 'dltry', 'lagseq4', 'txpdy',\n",
       "        'inv_turnq', 'lagppent4', 'dltisy', 'aftret_equityq', 'npmq',\n",
       "        'quick_ratioq'], dtype=object),\n",
       " array(['oepf12', 'dprq', 'cfo-per-share', 'cshprq', 'aftret_equityq',\n",
       "        'txtq', 'cheq', 'cash_debtq', 'revtq', 'gprofq', 'lagicapt4',\n",
       "        'prcraq', 'niq', 'oibdpq', 'xsgaq', 'icaptq', 'lagppent_alt4',\n",
       "        'capxy', 'sale_equityq'], dtype=object),\n",
       " array(['cash_debtq', 'cheq', 'fqtr_2', 'ocf_lctq', 'niq', 'ibcomq',\n",
       "        'dpcy', 'ibadjq', 'teqq', 'roceq', 'icaptq', 'oancfy_q', 'revty',\n",
       "        'sale_equityq', 'fqtr_4', 'be4', 'inv_turnq', 'book_value_yield',\n",
       "        'pe_exiq', 'ibcy', 'roeq', 'short_debtq', 'intcovq', 'lagicapt4',\n",
       "        'ibq', 'opmbdq', 'xsgay', 'dprq', 'cash_conversionq', 'dvy',\n",
       "        'intcov_ratioq', 'buy_back_yield', 'oancfy', 'lagbe4', 'ibcq',\n",
       "        'debt_atq', 'dvpspq', 'xrdy', 'int_debtq', 'lt_debtq', 'opmadq',\n",
       "        'at4', 'lagppent_alt4', 'txditcq', 'lctq4', 'pe_incq', 'dlcq',\n",
       "        'pretret_earnatq'], dtype=object),\n",
       " array(['fcf_yield', 'fcf_ocfq', 'teqq', 'curr_ratioq', 'oancfy', 'atq',\n",
       "        'apq', 'cash_debtq', 'opcfq', 'dltt_beq', 'at5', 'pretret_earnatq',\n",
       "        'dvpspq', 'pe_op_dilq', 'icaptq', 'ibcomq', 'cfmq', 'pay_turnq',\n",
       "        'dvq', 'ocf_lctq', 'lt_debtq', 'lagppent_alt4', 'dpcq', 'accrualq'],\n",
       "       dtype=object),\n",
       " array(['fcf_yield', 'dvq', 'pay_turnq', 'cf_yield', 'gpmq', 'revty',\n",
       "        'fqtr_2', 'atq', 'capxy', 'niq', 'optdrq', 'oancfy', 'dpcy',\n",
       "        'fqtr_4', 'lt_debtq', 'cfo-per-share', 'ppentq', 'lagbe4', 'teqq',\n",
       "        'equity_invcapq', 'txpdy', 'lagicapt4', 'pcfq', 'dvy', 'xsgay',\n",
       "        'fcf_ocfq', 'ibcy', 'oibdpy', 'actq', 'ibcq', 'epsf12', 'be4',\n",
       "        'oancfy_q', 'yearly_sales', 'short_debtq', 'dpcq', 'cash_debtq',\n",
       "        'xsgaq', 'dprq', 'epsfxq', 'epspxq', 'rectq', 'icaptq',\n",
       "        'book_value_yield', 'bmq', 'gprofq', 'buy_back_yield', 'seq4',\n",
       "        'int_totdebtq', 'pe_incq', 'fcf_csfhdq', 'curr_ratioq', 'opcfq',\n",
       "        'cash_conversionq', 'debt_invcapq', 'txtq', 'book_value_per_share',\n",
       "        'ocf_lctq', 'cstkq', 'piq', 'cash_ratioq', 'epspi12', 'ibadj12',\n",
       "        'xinty', 'xintq', 'lt_ppentq', 'nopiq', 'sic_6798', 'rect_turnq',\n",
       "        'market_cap', 'pretret_noaq', 'cogsq', 'cshfdq', 'lagseq4',\n",
       "        'quick_ratioq', 'epsx12', 'curr_debtq', 'beq', 'debt_capitalq',\n",
       "        'ibadjq', 'ibcomy', 'spiq', 'cshprq', 'revtq', 'epsfiq', 'saleq',\n",
       "        'xrdy', 'cogsy', 'lctq', 'xoprq', 'oepsxy', 'capeiq',\n",
       "        'intcov_ratioq', 'apq', 'oepsxq', 'sale_equityq', 'at_turnq',\n",
       "        'ceqq', 'roceq', 'dvpspq', 'oiadpq', 'lctq4', 'seqq', 'req',\n",
       "        'oepf12', 'cfmq', 'opmadq', 'capital_ratioq', 'efftaxq', 'dltry',\n",
       "        'dpq', 'evmq', 'lagppent_alt4', 'aftret_eqq', 'dlttq', 'inv_turnq',\n",
       "        'debt_ebitdaq', 'miiy', 'rd_saleq', 'profit_lctq', 'cheq',\n",
       "        'sale_nwcq', 'dlcq', 'npmq', 'pretret_earnatq', 'pe_op_basicq',\n",
       "        'cash_ltq', 'debt_atq'], dtype=object),\n",
       " array(['ceqq', 'rectq', 'ibq', 'efftaxq', 'profit_lctq', 'int_totdebtq',\n",
       "        'xsgaq', 'cstkq', 'lagppent_alt4', 'txpdy', 'cash_ltq', 'dlcq',\n",
       "        'dltry', 'invtq', 'chechy', 'inv_turnq', 'opepsq',\n",
       "        'book_value_yield', 'cfo-per-share', 'oeps12', 'capeiq',\n",
       "        'totdebt_invcapq', 'actq', 'market_cap', 'saleq', 'spiq', 'gpmq',\n",
       "        'ceq4', 'intcov_ratioq'], dtype=object),\n",
       " array(['lagseq4', 'fqtr_4', 'oancfy', 'oancfy_q', 'oibdpq', 'optdrq',\n",
       "        'txtq', 'lt_debtq', 'rectq', 'fcf_yield', 'market_cap', 'gpmq',\n",
       "        'sic_6798', 'teqq', 'ptpmq', 'capxy', 'cogsy', 'cf_yield', 'revty',\n",
       "        'dpcy', 'cshopq', 'apq', 'cshfdq', 'opmadq', 'lctq', 'ibcomq',\n",
       "        'cshprq', 'cfo-per-share', 'xsgay', 'lagppent_alt4', 'req',\n",
       "        'fcf_csfhdq', 'npmq', 'rect_turnq', 'inv_turnq', 'accrualq',\n",
       "        'saleq', 'ceq4', 'dpcq', 'lagicapt4', 'xinty', 'dltt_beq',\n",
       "        'invt_actq', 'roceq', 'int_totdebtq', 'prccq', 'ibcy', 'ocf_lctq',\n",
       "        'opmbdq', 'debt_invcapq', 'roeq', 'capxq', 'niq', 'be4', 'oibdpy',\n",
       "        'efftaxq', 'icaptq', 'profit_lctq', 'chechy', 'at_turnq',\n",
       "        'debt_ebitdaq', 'ppentq', 'bmq', 'ibadjq', 'csh12q',\n",
       "        'equity_invcapq', 'epsfi12', 'lagbe4', 'revtq', 'epsf12', 'fqtr_1',\n",
       "        'xrdq', 'lctq4', 'opcfq', 'pe_op_basicq', 'oeps12', 'actq',\n",
       "        'cshiq', 'pay_turnq', 'sale_equityq', 'debt_capitalq', 'prcraq',\n",
       "        'fqtr_2', 'buy_back_yield', 'dlcq', 'atq', 'debt_atq', 'pcfq',\n",
       "        'aftret_invcapxq', 'curr_debtq', 'ibcomy', 'ibq', 'oepsxy',\n",
       "        'intcovq', 'ibadj12', 'epspxq', 'seq4', 'cfmq', 'capital_ratioq',\n",
       "        'cash_debtq', 'beq', 'capeiq', 'cshoq', 'gprofq',\n",
       "        'cash_conversionq', 'evmq', 'aftret_equityq', 'epsfxq', 'cogsq',\n",
       "        'mibq', 'xrdy', 'roaq', 'spiq', 'epsfiq', 'txpdy', 'epsx12',\n",
       "        'cash_ratioq', 'sale_nwcq', 'oepsxq', 'piq', 'short_debtq',\n",
       "        'sector_code_850.0', 'xsgaq', 'yearly_sales', 'curr_ratioq',\n",
       "        'txditcq', 'book_value_per_share', 'lagppent4', 'cdvcy',\n",
       "        'rect_actq', 'seqq', 'epspi12', 'fcf_ocfq', 'de_ratioq', 'pe_incq',\n",
       "        'invtq', 'int_debtq', 'nopiq', 'psq', 'spcsrc_B-', 'ceqq',\n",
       "        'dvpspq', 'lt_ppentq', 'cheq', 'miiq', 'at5', 'cstkq',\n",
       "        'totdebt_invcapq', 'oepf12', 'opepsq', 'cash_ltq', 'intcov_ratioq',\n",
       "        'pretret_earnatq', 'rd_saleq', 'spcsrc_B+', 'at4', 'pretret_noaq',\n",
       "        'epspiq', 'book_value_yield', 'dprq', 'oiadpq', 'aftret_eqq',\n",
       "        'pe_exiq'], dtype=object),\n",
       " array(['oancfy', 'oancfy_q', 'gpmq', 'fcf_csfhdq', 'cshoq',\n",
       "        'sale_equityq', 'opmbdq', 'lagseq4', 'buy_back_yield', 'revty',\n",
       "        'capxy', 'fcf_yield', 'cfo-per-share', 'lt_ppentq', 'at4',\n",
       "        'pay_turnq', 'dlttq', 'ibcomy', 'req', 'xoprq', 'aftret_invcapxq',\n",
       "        'atq', 'xsgaq', 'cshiq', 'ceqq', 'txditcq', 'int_totdebtq',\n",
       "        'sale_nwcq', 'short_debtq', 'debt_invcapq', 'rectq', 'at_turnq',\n",
       "        'oeps12', 'cash_conversionq', 'rect_turnq', 'dltry', 'evmq',\n",
       "        'ibcomq', 'oibdpq', 'cshopq', 'lagicapt4', 'cfmq', 'inv_turnq',\n",
       "        'cash_debtq', 'dltt_beq', 'txtq', 'dpq', 'beq', 'cstkq',\n",
       "        'equity_invcapq', 'dpcy', 'pe_op_basicq', 'spcsrc_B+', 'cheq',\n",
       "        'opcfq', 'prcraq', 'roaq', 'cogsy', 'intcovq', 'xinty', 'xintq',\n",
       "        'epsf12', 'book_value_yield', 'de_ratioq', 'rect_actq', 'txpq',\n",
       "        'be4', 'ocf_lctq', 'dpcq', 'lctq', 'invtq', 'debt_assetsq',\n",
       "        'debt_ebitdaq', 'invt_actq', 'int_debtq', 'dltisy', 'lt_debtq',\n",
       "        'debt_atq', 'ppentq', 'miiy', 'actq', 'psq', 'npmq', 'oepsxy',\n",
       "        'aftret_eqq', 'spiq', 'ltq', 'profit_lctq', 'saleq', 'lagbe4',\n",
       "        'cash_ratioq', 'dlcq', 'fcf_ocfq', 'pe_incq', 'capeiq', 'ptpmq',\n",
       "        'teqq', 'totdebt_invcapq', 'icaptq', 'txdbq', 'xrdq', 'lctq4',\n",
       "        'accrualq', 'roceq', 'intcov_ratioq', 'opepsq', 'efftaxq', 'dprq',\n",
       "        'sale_invcapq', 'epspxq', 'chechy', 'piq', 'aftret_equityq',\n",
       "        'pretret_noaq', 'yearly_sales', 'ibcy', 'epspi12'], dtype=object),\n",
       " array(['oancfy_q', 'oancfy', 'dvpspq', 'fcf_csfhdq', 'xinty', 'prcraq',\n",
       "        'accrualq', 'lctq4', 'capital_ratioq', 'prccq', 'sic_6798',\n",
       "        'rectq', 'optdrq', 'ppentq', 'pay_turnq', 'niq', 'ceq4', 'xsgay',\n",
       "        'ibcy', 'cash_conversionq', 'fcf_yield', 'cf_yield', 'fqtr_3',\n",
       "        'cshiq', 'dpcq', 'pretret_noaq', 'ceqq', 'lagppent4', 'be4',\n",
       "        'chechy', 'cshoq', 'ibq', 'equity_invcapq', 'debt_invcapq',\n",
       "        'int_debtq', 'fcf_ocfq', 'lctq', 'dlttq', 'teqq', 'rect_actq',\n",
       "        'de_ratioq', 'opepsq', 'cshfdq', 'lt_debtq', 'lt_ppentq', 'oeps12',\n",
       "        'at4', 'cshopq', 'ltq', 'profit_lctq', 'dprq', 'gprofq', 'icaptq',\n",
       "        'miiq', 'sale_invcapq', 'cogsy', 'cash_ltq', 'lagppent_alt4',\n",
       "        'txditcq', 'buy_back_yield', 'oibdpq', 'curr_ratioq', 'roeq',\n",
       "        'csh12q', 'short_debtq', 'totdebt_invcapq', 'seqq', 'ocf_lctq',\n",
       "        'npmq', 'roaq', 'dpcy', 'oibdpy', 'xsgaq', 'opcfq', 'cstkq',\n",
       "        'xoprq', 'opmbdq', 'capeiq', 'debt_atq', 'apq', 'epsx12',\n",
       "        'sale_equityq', 'ibcomq', 'yearly_sales', 'epsf12', 'revtq',\n",
       "        'book_value_per_share', 'dltt_beq', 'xintq', 'dvq', 'dpq',\n",
       "        'pe_exiq', 'atq', 'epsfiq', 'rd_saleq', 'xidoy', 'aftret_eqq',\n",
       "        'seq4', 'inv_turnq', 'at_turnq', 'cash_debtq', 'at5', 'roceq',\n",
       "        'bmq', 'intcov_ratioq', 'evmq', 'miiy', 'lagbe4', 'capxq',\n",
       "        'book_value_yield', 'pcfq', 'req', 'actq', 'oepsxy', 'oepsxq',\n",
       "        'fqtr_1'], dtype=object),\n",
       " array(['oancfy', 'fcf_yield', 'rectq', 'int_debtq', 'apq', 'rect_turnq',\n",
       "        'oancfy_q', 'seqq', 'pcfq', 'lt_debtq', 'dpcy', 'revtq', 'opmbdq',\n",
       "        'oibdpq', 'capxy', 'npmq', 'dvq', 'opmadq', 'epspi12', 'dltt_beq',\n",
       "        'at_turnq', 'ibcq', 'xsgaq', 'cogsy', 'xinty', 'oepsxq',\n",
       "        'sale_equityq', 'lt_ppentq', 'invt_actq', 'accrualq', 'oiadpq',\n",
       "        'fcf_csfhdq', 'oepsxy', 'xoprq', 'debt_invcapq', 'epsx12', 'cheq',\n",
       "        'pay_turnq', 'ibcy', 'dvy', 'intcovq', 'dvpspq', 'dprq',\n",
       "        'cf_yield', 'dlcq', 'dlttq', 'xintq', 'icaptq', 'rd_saleq',\n",
       "        'ibcomy', 'curr_debtq', 'ibq', 'csh12q', 'capital_ratioq', 'opcfq',\n",
       "        'cogsq', 'spcsrc_B-', 'cshprq', 'roceq', 'ltq', 'pretret_earnatq',\n",
       "        'at4', 'book_value_per_share', 'be4', 'atq', 'debt_assetsq', 'niq',\n",
       "        'dpcq', 'epsfi12', 'revty', 'nopiq', 'lagicapt4', 'de_ratioq',\n",
       "        'quick_ratioq', 'epsfiq', 'market_cap', 'cstkq', 'evmq', 'actq',\n",
       "        'ocf_lctq', 'fcf_ocfq', 'ceq4', 'ptpmq', 'xsgay', 'ibcomq',\n",
       "        'sale_nwcq', 'psq', 'seq4', 'prccq', 'buy_back_yield', 'cshopq',\n",
       "        'aftret_invcapxq', 'ibadj12', 'int_totdebtq', 'at5', 'dltry',\n",
       "        'inv_turnq', 'cash_conversionq', 'teqq', 'beq', 'debt_capitalq',\n",
       "        'gprofq', 'pe_op_basicq', 'roeq', 'dpq', 'pe_incq', 'pe_exiq',\n",
       "        'equity_invcapq', 'dltisy', 'gpmq', 'opepsq', 'capeiq', 'capxq',\n",
       "        'cash_ltq', 'pretret_noaq', 'saleq', 'rect_actq', 'cash_debtq',\n",
       "        'txditcq', 'intcov_ratioq', 'oeps12'], dtype=object),\n",
       " array(['epspiq', 'de_ratioq', 'oancfy_q', 'seq4', 'int_totdebtq', 'xinty',\n",
       "        'ptpmq', 'capxy', 'epspxq', 'oiadpq', 'dvpspq', 'oancfy',\n",
       "        'fcf_yield', 'dpq', 'epsfiq', 'at5', 'apq', 'pcfq', 'fqtr_3',\n",
       "        'rectq', 'cstkq', 'debt_atq', 'dpcy', 'ocf_lctq', 'xintq',\n",
       "        'cash_conversionq', 'inv_turnq', 'revtq', 'intcov_ratioq', 'beq',\n",
       "        'epsx12', 'lagseq4', 'lagppent_alt4', 'lagppent4', 'cshprq',\n",
       "        'roceq', 'debt_invcapq', 'atq', 'dltisy', 'cf_yield', 'ibq',\n",
       "        'capxq', 'cash_ltq', 'ibadj12', 'prccq', 'actq', 'cshoq', 'niq',\n",
       "        'req', 'npmq', 'cfo-per-share', 'lagbe4', 'ibcq', 'gpmq', 'dvy',\n",
       "        'be4', 'quick_ratioq', 'cshiq', 'txdbq', 'dlcq', 'aftret_equityq',\n",
       "        'lctq', 'oepsxq', 'opmadq', 'at4', 'psq', 'oepf12', 'rect_actq',\n",
       "        'curr_ratioq', 'cheq', 'ceq4', 'dpcq', 'opepsq', 'chechy',\n",
       "        'aftret_invcapxq', 'oeps12', 'xsgay', 'oibdpy', 'capital_ratioq',\n",
       "        'market_cap', 'lagicapt4', 'ibcomy', 'fcf_csfhdq', 'accrualq',\n",
       "        'ibcomq', 'opmbdq', 'invtq', 'curr_debtq', 'totdebt_invcapq',\n",
       "        'cogsq', 'dprq', 'xrdq', 'piq', 'xoprq', 'txditcq', 'efftaxq',\n",
       "        'pe_exiq', 'seqq', 'oibdpq', 'yearly_sales', 'ltq',\n",
       "        'buy_back_yield', 'book_value_per_share', 'ibcy', 'rect_turnq',\n",
       "        'equity_invcapq', 'icaptq', 'revty', 'xidocy', 'opcfq', 'spcsrc_B',\n",
       "        'csh12q', 'short_debtq', 'xsgaq', 'debt_assetsq', 'epsf12', 'cfmq',\n",
       "        'dlttq'], dtype=object),\n",
       " array(['fcf_ocfq', 'sale_equityq', 'fcf_yield', 'intcovq', 'dvpspq',\n",
       "        'opmbdq', 'fqtr_3', 'fcf_csfhdq', 'oancfy_q', 'piq', 'ibcq', 'dvy',\n",
       "        'epsfiq', 'cash_ltq', 'pay_turnq', 'rect_turnq', 'epspi12', 'ceqq',\n",
       "        'cfo-per-share', 'oancfy', 'ptpmq', 'gprofq', 'apq', 'pcfq',\n",
       "        'cfmq', 'roceq', 'icaptq', 'opepsq', 'oeps12', 'epspiq',\n",
       "        'lt_ppentq', 'revty', 'oibdpy', 'pe_op_basicq', 'dlttq', 'oepsxq',\n",
       "        'capxq', 'xintq', 'prcraq', 'equity_invcapq', 'at4', 'xoprq',\n",
       "        'cshiq', 'pe_incq', 'dprq', 'dltisy', 'cshfdq', 'roaq', 'txdbq',\n",
       "        'debt_atq', 'dvq', 'rectq', 'evmq', 'req', 'fqtr_1', 'int_debtq',\n",
       "        'sale_nwcq', 'npmq', 'cogsy', 'xinty', 'aftret_equityq', 'capxy',\n",
       "        'ibcomy', 'dltt_beq', 'ltq', 'oepsxy', 'epsfxq', 'debt_assetsq',\n",
       "        'short_debtq', 'inv_turnq', 'txpdy', 'cshoq', 'dpcq',\n",
       "        'buy_back_yield', 'cstkq', 'de_ratioq', 'debt_invcapq',\n",
       "        'quick_ratioq', 'prccq', 'xsgaq', 'txditcq', 'roeq',\n",
       "        'pretret_earnatq', 'miiy', 'spiq', 'capital_ratioq',\n",
       "        'sale_invcapq', 'pe_op_dilq', 'accrualq', 'bmq', 'opcfq', 'be4',\n",
       "        'invtq', 'pretret_noaq', 'oepf12', 'cf_yield', 'epsf12', 'dpcy',\n",
       "        'efftaxq', 'seq4', 'xsgay', 'rect_actq', 'xrdq', 'market_cap',\n",
       "        'teqq', 'ibcy'], dtype=object),\n",
       " array(['at_turnq', 'fqtr_3', 'fcf_csfhdq', 'dvq', 'capxy', 'de_ratioq',\n",
       "        'buy_back_yield', 'epsfiq', 'pretret_earnatq', 'pe_op_basicq',\n",
       "        'xinty', 'fqtr_1', 'ibadj12', 'pay_turnq', 'sale_nwcq',\n",
       "        'intcov_ratioq', 'oepsxy', 'dvy', 'psq', 'cshopq', 'capxq', 'cheq',\n",
       "        'cfmq', 'sale_equityq', 'cstkq', 'opmadq', 'pretret_noaq',\n",
       "        'debt_assetsq', 'sale_invcapq', 'xsgaq', 'yearly_sales',\n",
       "        'curr_ratioq', 'chechy', 'quick_ratioq', 'cshoq', 'xoprq', 'dprq',\n",
       "        'roeq'], dtype=object),\n",
       " array(['fcf_csfhdq', 'oancfy_q', 'sale_equityq', 'epspiq', 'cshprq',\n",
       "        'pay_turnq', 'opmbdq', 'oancfy', 'revty', 'at4', 'fcf_ocfq',\n",
       "        'cshopq', 'dpq', 'ceq4', 'seq4', 'be4', 'npmq', 'cogsq', 'pstkq',\n",
       "        'de_ratioq', 'lt_ppentq', 'cf_yield', 'efftaxq', 'pe_op_basicq',\n",
       "        'ibcomq', 'txpq', 'revtq', 'debt_atq', 'capxq', 'spcsrc_B+',\n",
       "        'dpcy', 'xoprq', 'cshiq', 'int_debtq', 'oiadpq', 'sale_nwcq',\n",
       "        'ibadjq', 'teqq', 'ceqq', 'dlcq', 'opmadq', 'lagppent4',\n",
       "        'cfo-per-share', 'opepsq', 'xintq', 'quick_ratioq', 'xsgaq',\n",
       "        'spiq', 'rect_actq', 'cash_debtq', 'curr_ratioq', 'miiq',\n",
       "        'intcov_ratioq', 'rd_saleq', 'aftret_equityq', 'dvpq', 'dltt_beq',\n",
       "        'pe_op_dilq', 'req', 'lctq', 'epsfxq', 'accrualq', 'cshfdq',\n",
       "        'dvpspq', 'inv_turnq', 'dpcq', 'gpmq', 'pretret_noaq', 'epsf12',\n",
       "        'epspi12', 'txpdy', 'dltry', 'cash_ltq', 'debt_ebitdaq', 'csh12q',\n",
       "        'oibdpq', 'epspxq', 'roeq', 'invt_actq', 'cheq', 'beq', 'lagseq4',\n",
       "        'xsgay', 'book_value_per_share'], dtype=object),\n",
       " array(['cshopq', 'fcf_ocfq', 'fcf_csfhdq', 'seq4', 'fqtr_3', 'txdbq',\n",
       "        'fcf_yield', 'opepsq', 'spiq', 'oepsxy', 'miiq', 'evmq', 'ibcq',\n",
       "        'epspiq', 'cshfdq', 'revty', 'buy_back_yield', 'epsfxq', 'fqtr_1',\n",
       "        'ibadj12', 'npmq', 'cshprq', 'pretret_noaq', 'ocf_lctq', 'cfmq',\n",
       "        'dlttq', 'oepf12', 'dvq', 'opmadq', 'yearly_sales', 'lctq4',\n",
       "        'epspxq', 'ceqq', 'cash_ltq', 'prcraq', 'piq', 'dpcq', 'cf_yield',\n",
       "        'dprq', 'debt_invcapq', 'csh12q', 'cash_conversionq',\n",
       "        'aftret_equityq', 'xinty', 'rect_turnq', 'teqq', 'at_turnq',\n",
       "        'revtq', 'ibadjq', 'bmq', 'cstkq', 'pcfq', 'lagbe4', 'actq',\n",
       "        'roceq'], dtype=object),\n",
       " array(['opmadq', 'epspiq', 'dvq', 'buy_back_yield', 'debt_capitalq',\n",
       "        'epspxq', 'capital_ratioq', 'xintq', 'ppentq', 'oancfy', 'dvy',\n",
       "        'lagppent_alt4', 'fcf_ocfq', 'fcf_yield', 'apq', 'lt_ppentq',\n",
       "        'atq', 'accrualq', 'yearly_sales', 'txdbq', 'ibcy', 'oiadpq',\n",
       "        'lt_debtq', 'lagseq4', 'capxq', 'pe_op_basicq', 'ibcomq',\n",
       "        'cf_yield', 'revty', 'fqtr_3', 'sale_invcapq', 'short_debtq',\n",
       "        'ltq', 'opmbdq', 'xinty', 'gpmq', 'oeps12', 'oepf12',\n",
       "        'debt_invcapq', 'evmq', 'debt_assetsq', 'dpcq', 'cshfdq', 'pstkq',\n",
       "        'xrdy', 'capxy', 'dvpspq', 'txtq', 'npmq', 'curr_ratioq', 'at5',\n",
       "        'oepsxy', 'prcraq', 'cshiq', 'fqtr_4', 'seq4', 'actq',\n",
       "        'totdebt_invcapq', 'sale_equityq', 'pe_incq', 'pretret_noaq',\n",
       "        'ibcomy', 'lctq4', 'icaptq', 'nopiq', 'txditcq', 'saleq', 'ibq',\n",
       "        'dpq', 'psq', 'roaq', 'xsgay', 'pay_turnq', 'seqq', 'dltry',\n",
       "        'epsfiq', 'epspi12', 'xoprq', 'pcfq', 'cstkq', 'dprq', 'roceq',\n",
       "        'cshopq', 'oepsxq', 'cfo-per-share', 'quick_ratioq',\n",
       "        'equity_invcapq', 'prccq', 'optdrq', 'efftaxq', 'miiy', 'beq',\n",
       "        'gprofq', 'cogsy', 'at_turnq', 'spcsrc_C', 'oibdpq', 'int_debtq',\n",
       "        'teqq', 'cshoq', 'epsx12', 'cheq', 'book_value_yield',\n",
       "        'pe_op_dilq', 'oancfy_q', 'de_ratioq', 'opcfq', 'aftret_eqq',\n",
       "        'pretret_earnatq', 'epsf12', 'spiq', 'niq', 'cash_ratioq',\n",
       "        'ibadjq', 'opepsq', 'at4', 'lctq', 'cash_debtq', 'profit_lctq',\n",
       "        'rectq', 'txpq', 'cshprq', 'lagbe4', 'piq', 'revtq', 'invtq',\n",
       "        'rect_actq', 'bmq', 'dltt_beq', 'fqtr_1', 'debt_ebitdaq', 'dlttq',\n",
       "        'epsfxq', 'txpdy', 'ptpmq', 'intcov_ratioq', 'spcsrc_A-',\n",
       "        'ibadj12', 'epsfi12', 'capeiq', 'roeq', 'cash_conversionq',\n",
       "        'pe_exiq', 'book_value_per_share', 'debt_atq', 'ceqq', 'req',\n",
       "        'be4', 'curr_debtq'], dtype=object),\n",
       " array(['fcf_yield', 'fcf_csfhdq', 'fqtr_3', 'revty', 'buy_back_yield',\n",
       "        'xinty', 'dvpspq', 'dlttq', 'cshopq', 'cstkq', 'cf_yield',\n",
       "        'opmbdq', 'seq4', 'seqq', 'apq', 'dvq', 'cogsy', 'fcf_ocfq',\n",
       "        'dprq', 'lt_ppentq', 'opmadq', 'xintq', 'equity_invcapq',\n",
       "        'aftret_invcapxq', 'oeps12', 'de_ratioq', 'xsgay', 'cash_ltq',\n",
       "        'prccq', 'nopiq', 'req', 'roaq', 'yearly_sales', 'debt_atq',\n",
       "        'txdbq', 'capxq', 'debt_capitalq', 'quick_ratioq', 'epsfiq', 'atq',\n",
       "        'intcov_ratioq', 'oiadpq', 'oibdpy', 'cfo-per-share',\n",
       "        'book_value_yield', 'accrualq', 'debt_assetsq', 'beq', 'pay_turnq',\n",
       "        'gpmq', 'ibcq', 'txpdy', 'txditcq', 'debt_invcapq', 'gprofq',\n",
       "        'at_turnq', 'bmq', 'cash_conversionq', 'sale_invcapq', 'roceq',\n",
       "        'cshprq', 'lt_debtq', 'cash_ratioq', 'rectq', 'oancfy', 'at4',\n",
       "        'invt_actq', 'npmq', 'saleq', 'int_totdebtq', 'short_debtq',\n",
       "        'dpcq', 'spcsrc_B-', 'ptpmq', 'ppentq', 'txtq', 'inv_turnq',\n",
       "        'lctq', 'opcfq', 'lagseq4', 'pretret_noaq', 'dltt_beq', 'piq',\n",
       "        'int_debtq', 'pe_incq', 'epsx12', 'pcfq', 'capital_ratioq',\n",
       "        'curr_ratioq', 'evmq', 'rd_saleq', 'ibadjq', 'roeq', 'aftret_eqq',\n",
       "        'oancfy_q', 'be4', 'curr_debtq', 'spcsrc_C', 'oepsxy', 'xoprq',\n",
       "        'at5', 'revtq', 'cheq', 'intcovq', 'rect_actq', 'xrdy', 'ceq4',\n",
       "        'capeiq', 'teqq', 'ibcomy', 'ocf_lctq', 'debt_ebitdaq', 'dpq',\n",
       "        'dvpq', 'efftaxq', 'icaptq', 'cfmq', 'niq', 'dlcchy', 'epspxq',\n",
       "        'oepsxq', 'spiq', 'dlcq', 'lagicapt4', 'xsgaq', 'rect_turnq',\n",
       "        'prcraq', 'cogsq', 'sale_nwcq', 'pe_op_basicq', 'ibq',\n",
       "        'lagppent_alt4', 'miiy', 'ibcy', 'capxy', 'ltq', 'epsfxq',\n",
       "        'pe_exiq', 'fqtr_1', 'lagbe4', 'epspiq', 'oepf12', 'fqtr_4',\n",
       "        'dpcy', 'actq', 'profit_lctq', 'cshfdq', 'cshiq', 'epsfi12',\n",
       "        'txpq', 'market_cap', 'cshoq', 'ibcomq', 'epspi12', 'chechy',\n",
       "        'dltry'], dtype=object),\n",
       " array(['fcf_ocfq', 'dprq', 'fcf_csfhdq', 'oancfy_q', 'ibcomq',\n",
       "        'buy_back_yield', 'cstkq', 'dvy', 'fqtr_3', 'atq', 'icaptq', 'ltq',\n",
       "        'beq', 'fqtr_4', 'capxq', 'niq', 'opepsq', 'xrdq', 'gpmq',\n",
       "        'inv_turnq', 'epsfxq', 'nopiq', 'cfo-per-share', 'dvq',\n",
       "        'curr_debtq', 'cshiq', 'roceq', 'actq', 'book_value_per_share',\n",
       "        'opmadq', 'opmbdq', 'cshopq', 'ocf_lctq', 'sale_equityq', 'dvpspq',\n",
       "        'ptpmq', 'seq4', 'short_debtq', 'ibcq', 'lagppent4', 'seqq',\n",
       "        'txditcq', 'pretret_noaq', 'dltry', 'cheq', 'accrualq', 'cf_yield',\n",
       "        'xinty', 'debt_capitalq', 'lctq', 'oibdpq', 'oancfy', 'de_ratioq',\n",
       "        'pcfq', 'rectq', 'fqtr_1', 'gprofq', 'sale_invcapq', 'opcfq',\n",
       "        'lagppent_alt4', 'be4', 'saleq', 'dltt_beq', 'sale_nwcq', 'bmq',\n",
       "        'capeiq', 'oepsxy', 'capxy', 'at5', 'csh12q', 'int_debtq', 'evmq',\n",
       "        'xoprq', 'dpq', 'profit_lctq', 'cash_ltq', 'prcraq', 'intcovq',\n",
       "        'lctq4', 'req', 'int_totdebtq', 'cash_conversionq', 'ceq4',\n",
       "        'debt_atq', 'pay_turnq', 'cogsy', 'fcf_yield', 'oeps12',\n",
       "        'capital_ratioq', 'market_cap', 'efftaxq', 'miiy', 'rect_turnq',\n",
       "        'invt_actq', 'oibdpy', 'epspxq', 'aftret_invcapxq', 'apq', 'xrdy',\n",
       "        'roeq', 'epspi12', 'ibq'], dtype=object),\n",
       " array(['fcf_yield', 'buy_back_yield', 'fcf_ocfq', 'fcf_csfhdq', 'txdbq',\n",
       "        'dvpspq', 'at_turnq', 'debt_invcapq', 'rect_turnq', 'cfmq',\n",
       "        'cfo-per-share', 'xoprq', 'sale_equityq', 'evmq', 'ocf_lctq',\n",
       "        'nopiq', 'lagseq4', 'oepsxq', 'lctq4', 'oancfy_q', 'opcfq', 'dprq',\n",
       "        'ibadj12', 'rectq', 'sale_nwcq', 'niq', 'cf_yield', 'txditcq',\n",
       "        'profit_lctq', 'revtq'], dtype=object),\n",
       " array(['fcf_yield', 'lt_ppentq', 'ppentq', 'ibcy', 'fcf_ocfq', 'efftaxq',\n",
       "        'ltq', 'rectq', 'ptpmq', 'at_turnq', 'dvq', 'cogsy', 'oibdpy',\n",
       "        'evmq', 'dvy', 'lagppent4', 'sale_invcapq', 'debt_capitalq', 'psq',\n",
       "        'pretret_noaq', 'book_value_per_share', 'cf_yield', 'yearly_sales',\n",
       "        'pretret_earnatq', 'cash_ratioq', 'cshiq', 'chechy', 'invtq',\n",
       "        'debt_assetsq', 'sale_nwcq', 'xsgaq', 'oepsxq', 'txpdy',\n",
       "        'rect_actq', 'accrualq', 'curr_ratioq', 'lagppent_alt4',\n",
       "        'pe_op_basicq', 'xrdy', 'fcf_csfhdq', 'niq', 'xintq', 'pe_incq',\n",
       "        'icaptq', 'int_totdebtq', 'piq', 'opcfq', 'opepsq', 'oibdpq',\n",
       "        'capeiq', 'xsgay', 'xrdq', 'dpcy', 'inv_turnq', 'dprq', 'ocf_lctq',\n",
       "        'at4', 'revty', 'req', 'cash_ltq', 'cshprq', 'gpmq',\n",
       "        'buy_back_yield', 'int_debtq', 'aftret_equityq', 'ibcomy',\n",
       "        'epspi12', 'epsx12', 'debt_ebitdaq', 'epsfxq', 'lctq4', 'opmadq',\n",
       "        'invt_actq', 'totdebt_invcapq', 'txpq', 'lagicapt4', 'rd_saleq',\n",
       "        'roeq', 'intcov_ratioq', 'bmq', 'dltisy', 'opmbdq', 'fqtr_3',\n",
       "        'oeps12', 'epspxq', 'oancfy', 'dvpspq', 'txtq', 'lagseq4', 'cshoq',\n",
       "        'at5', 'lt_debtq', 'capxq', 'atq', 'prccq', 'cshopq', 'dlttq',\n",
       "        'equity_invcapq', 'dpq', 'xinty', 'seq4', 'cstkq', 'cheq',\n",
       "        'oiadpq', 'pcfq', 'roaq', 'epsfiq', 'csh12q', 'capxy', 'fqtr_2',\n",
       "        'dpcq', 'oancfy_q', 'gprofq', 'txdbq', 'debt_atq',\n",
       "        'book_value_yield', 'apq', 'pe_exiq', 'oepsxy', 'ceqq', 'epspiq',\n",
       "        'ibcomq', 'capital_ratioq', 'cash_conversionq', 'dltry', 'epsfi12',\n",
       "        'ibadjq', 'debt_invcapq', 'intcovq'], dtype=object),\n",
       " array(['fcf_yield', 'sale_invcapq', 'xsgay', 'ppentq', 'fcf_ocfq',\n",
       "        'dvpspq', 'dprq', 'fcf_csfhdq', 'opepsq', 'dvy',\n",
       "        'book_value_yield', 'oancfy', 'lt_ppentq', 'capxq', 'at4', 'evmq',\n",
       "        'cshopq', 'oepsxy', 'atq', 'dvq', 'revty', 'csh12q',\n",
       "        'debt_invcapq', 'revtq', 'ocf_lctq', 'rd_saleq', 'cfmq', 'gpmq',\n",
       "        'chechy', 'actq', 'sale_equityq', 'cogsy', 'prcraq', 'gprofq',\n",
       "        'oepf12', 'roceq', 'at_turnq', 'lagppent_alt4', 'ceqq', 'opmadq',\n",
       "        'capital_ratioq', 'capeiq', 'ltq', 'cshprq', 'ibcomy', 'fqtr_3',\n",
       "        'dltisy', 'npmq', 'roaq', 'oiadpq', 'ibcq', 'dlttq', 'lt_debtq',\n",
       "        'debt_assetsq', 'cstkq', 'invt_actq', 'capxy', 'bmq', 'epspiq',\n",
       "        'txditcq', 'cheq', 'dpq', 'roeq', 'oancfy_q', 'opcfq',\n",
       "        'pretret_earnatq', 'beq', 'aftret_equityq', 'ibadj12',\n",
       "        'curr_ratioq', 'apq', 'pcfq', 'txpdy', 'dpcq', 'aftret_eqq',\n",
       "        'debt_capitalq', 'be4', 'dltt_beq', 'ibq', 'nopiq',\n",
       "        'intcov_ratioq', 'saleq', 'totdebt_invcapq', 'lctq4', 'oibdpq',\n",
       "        'pretret_noaq', 'lagseq4', 'txdbq', 'spcsrc_B-', 'ceq4', 'miiq',\n",
       "        'accrualq', 'quick_ratioq', 'miiy', 'rectq', 'seq4', 'xrdq',\n",
       "        'pe_exiq', 'prccq', 'spiq', 'req', 'dpcy', 'efftaxq', 'ibadjq',\n",
       "        'lagicapt4', 'int_totdebtq', 'fqtr_4', 'txtq', 'ibcy', 'xinty',\n",
       "        'pe_op_basicq', 'niq', 'epspxq', 'sale_nwcq', 'cshfdq', 'intcovq',\n",
       "        'dltry', 'cogsq', 'de_ratioq', 'invtq', 'epsfxq', 'ptpmq',\n",
       "        'pe_incq', 'book_value_per_share', 'rect_turnq', 'cash_debtq',\n",
       "        'buy_back_yield', 'oibdpy', 'ibcomq', 'cf_yield', 'int_debtq',\n",
       "        'equity_invcapq', 'cash_conversionq', 'lagppent4'], dtype=object),\n",
       " array(['fcf_ocfq', 'ppentq', 'fcf_yield', 'fcf_csfhdq', 'sale_equityq',\n",
       "        'dvq', 'capxq', 'lt_ppentq', 'dvpspq', 'cf_yield', 'ibcomy',\n",
       "        'curr_debtq', 'icaptq', 'pretret_noaq', 'curr_ratioq',\n",
       "        'cfo-per-share', 'evmq', 'invtq', 'xrdq', 'book_value_yield',\n",
       "        'txdbq', 'capxy', 'short_debtq', 'gpmq', 'oepsxy', 'at5',\n",
       "        'intcovq', 'cstkq', 'inv_turnq', 'oancfy', 'xoprq', 'lt_debtq',\n",
       "        'invt_actq', 'pay_turnq', 'cash_ratioq', 'capeiq', 'cash_ltq',\n",
       "        'npmq', 'sale_invcapq', 'dvy', 'pretret_earnatq', 'revtq',\n",
       "        'lagppent4', 'opmbdq', 'revty', 'roaq', 'cogsy', 'ibcq', 'txpq',\n",
       "        'ibcomq', 'xinty', 'seqq', 'opmadq', 'cshprq', 'seq4', 'xrdy',\n",
       "        'apq', 'aftret_invcapxq', 'nopiq', 'txditcq', 'dlcq', 'niq',\n",
       "        'xsgay', 'roceq', 'req', 'lagseq4', 'txtq', 'epspi12', 'lagbe4',\n",
       "        'spcsrc_B-', 'at4', 'cogsq', 'fqtr_3', 'fqtr_4', 'at_turnq',\n",
       "        'capital_ratioq', 'lctq', 'dltry', 'cash_conversionq', 'epsf12',\n",
       "        'atq', 'miiq', 'dpq', 'ocf_lctq', 'dlttq', 'int_debtq', 'epsfxq',\n",
       "        'saleq', 'accrualq', 'cshfdq', 'debt_assetsq', 'rect_turnq', 'piq',\n",
       "        'pstkq', 'spiq', 'pe_op_basicq', 'rectq', 'de_ratioq', 'ptpmq',\n",
       "        'cheq', 'opcfq', 'ceq4', 'rd_saleq', 'sale_nwcq', 'ltq', 'oepsxq',\n",
       "        'dltt_beq', 'epsx12', 'profit_lctq', 'oiadpq', 'cshopq', 'epspxq',\n",
       "        'efftaxq', 'be4', 'ibcy', 'oibdpy', 'xintq', 'yearly_sales',\n",
       "        'quick_ratioq', 'epsfi12', 'cshiq', 'intcov_ratioq',\n",
       "        'totdebt_invcapq', 'prccq', 'market_cap', 'fqtr_1'], dtype=object),\n",
       " array(['icaptq', 'lt_ppentq', 'fcf_yield', 'sale_invcapq', 'gprofq',\n",
       "        'efftaxq', 'at_turnq', 'fqtr_2', 'dprq', 'fcf_csfhdq', 'fcf_ocfq',\n",
       "        'miiy', 'pretret_noaq', 'pe_exiq', 'ibcomy', 'ibcy',\n",
       "        'pretret_earnatq', 'dvy', 'ibcq', 'oancfy', 'epsfiq',\n",
       "        'pe_op_basicq', 'dvpspq', 'pcfq', 'at4', 'epsfxq', 'sale_equityq',\n",
       "        'capxq', 'evmq', 'actq', 'oepf12', 'epspiq', 'cfo-per-share',\n",
       "        'pay_turnq', 'dltisy', 'cshfdq', 'cogsy', 'cash_ltq',\n",
       "        'totdebt_invcapq', 'rectq', 'lagppent4', 'lt_debtq', 'lagbe4',\n",
       "        'oibdpy', 'debt_atq', 'equity_invcapq', 'ibadjq', 'curr_debtq',\n",
       "        'cshoq', 'opepsq', 'oiadpq', 'revtq', 'spiq', 'txdbq', 'revty',\n",
       "        'epsfi12', 'buy_back_yield', 'gpmq', 'oepsxq', 'ptpmq',\n",
       "        'quick_ratioq', 'rect_actq', 'csh12q', 'dltt_beq', 'epspxq', 'psq',\n",
       "        'xoprq', 'cash_conversionq', 'int_debtq', 'dvq', 'niq',\n",
       "        'debt_capitalq', 'lagseq4', 'roeq'], dtype=object),\n",
       " array(['fcf_yield', 'ceqq', 'txpdy', 'xsgay', 'evmq', 'opmadq',\n",
       "        'rect_turnq', 'rectq', 'roceq', 'pretret_noaq', 'actq', 'opcfq',\n",
       "        'xrdq', 'at5', 'dlttq', 'ibcq', 'profit_lctq', 'pcfq', 'oancfy',\n",
       "        'sale_invcapq', 'psq', 'xrdy', 'oepsxq', 'epspi12', 'short_debtq',\n",
       "        'seq4', 'aftret_equityq', 'accrualq', 'miiy', 'spcsrc_B+',\n",
       "        'pretret_earnatq', 'inv_turnq', 'cfo-per-share', 'txtq', 'dvq',\n",
       "        'lt_ppentq', 'pe_incq', 'intcov_ratioq', 'ibcomy', 'ceq4', 'niq',\n",
       "        'pe_op_dilq', 'dvy', 'dpcy', 'ppentq', 'aftret_invcapxq',\n",
       "        'fcf_ocfq', 'xsgaq', 'gpmq', 'cshiq', 'buy_back_yield', 'apq',\n",
       "        'piq', 'lctq', 'dpq', 'oeps12', 'req', 'seqq', 'ptpmq', 'ibadj12',\n",
       "        'lagicapt4', 'icaptq', 'beq', 'oepsxy', 'curr_ratioq', 'dpcq',\n",
       "        'txditcq', 'ocf_lctq', 'debt_atq', 'pay_turnq', 'epsx12',\n",
       "        'sale_equityq', 'cshoq', 'oibdpq', 'capxq', 'equity_invcapq',\n",
       "        'de_ratioq', 'txdbq', 'revtq', 'yearly_sales',\n",
       "        'book_value_per_share', 'debt_ebitdaq', 'prccq', 'totdebt_invcapq',\n",
       "        'invt_actq', 'dltry', 'dltt_beq', 'xintq', 'lagppent_alt4',\n",
       "        'debt_invcapq', 'cogsq', 'ibcy', 'curr_debtq', 'debt_assetsq',\n",
       "        'cash_ratioq', 'epsfxq', 'market_cap', 'xinty', 'int_debtq',\n",
       "        'cshfdq', 'dltisy', 'ibcomq', 'dlcq', 'epsf12', 'cshprq'],\n",
       "       dtype=object),\n",
       " array(['fcf_yield', 'fcf_ocfq', 'evmq', 'pretret_noaq', 'rd_saleq',\n",
       "        'invt_actq', 'dpq', 'roceq', 'rect_turnq', 'xrdq', 'cf_yield',\n",
       "        'at_turnq', 'fqtr_4', 'lctq', 'dprq', 'gprofq', 'txpdy', 'oepsxq',\n",
       "        'opmbdq', 'pcfq', 'sale_nwcq', 'lt_ppentq', 'curr_ratioq', 'dvq',\n",
       "        'oepsxy', 'opmadq', 'cshprq', 'xsgaq', 'cash_conversionq',\n",
       "        'cfo-per-share', 'cash_debtq', 'ltq', 'xsgay', 'rectq', 'epsfxq',\n",
       "        'lagseq4', 'dvpspq', 'apq', 'csh12q', 'epspi12', 'invtq',\n",
       "        'curr_debtq', 'chechy', 'at4', 'prcraq', 'dpcy', 'req',\n",
       "        'fcf_csfhdq', 'capxy', 'nopiq', 'dlttq', 'epsfi12', 'inv_turnq',\n",
       "        'lagppent4', 'roaq', 'lagppent_alt4', 'ocf_lctq', 'aftret_eqq',\n",
       "        'revty', 'gpmq', 'ibcy', 'teqq', 'npmq', 'rect_actq',\n",
       "        'yearly_sales', 'intcovq', 'epspxq', 'dltry', 'lagbe4',\n",
       "        'intcov_ratioq', 'capeiq', 'icaptq', 'cshiq', 'xoprq',\n",
       "        'book_value_per_share', 'optdrq', 'cogsy', 'epsf12',\n",
       "        'pe_op_basicq', 'txtq', 'totdebt_invcapq', 'epsx12', 'revtq'],\n",
       "       dtype=object),\n",
       " array(['fcf_yield', 'fcf_ocfq', 'fqtr_2', 'dvpspq', 'oancfy', 'cshopq',\n",
       "        'lt_ppentq', 'ptpmq', 'oeps12', 'evmq', 'dvy', 'niq', 'opmadq',\n",
       "        'dprq', 'fqtr_4', 'rectq', 'xrdq', 'sale_equityq', 'at5', 'gprofq',\n",
       "        'cash_ltq', 'dvq', 'buy_back_yield', 'ppentq', 'prccq', 'oepsxy',\n",
       "        'dpq', 'actq', 'npmq', 'xrdy', 'opmbdq', 'profit_lctq', 'roaq',\n",
       "        'ibcy', 'ibadj12', 'debt_assetsq', 'accrualq',\n",
       "        'book_value_per_share', 'inv_turnq', 'sale_nwcq', 'pe_op_dilq',\n",
       "        'oiadpq', 'opcfq', 'cshfdq', 'rect_turnq', 'csh12q', 'roeq',\n",
       "        'miiy', 'dpcy', 'lagppent4', 'cf_yield', 'efftaxq', 'opepsq',\n",
       "        'pcfq', 'int_totdebtq', 'market_cap', 'cogsy', 'debt_capitalq',\n",
       "        'dlttq', 'cfmq', 'at_turnq', 'capeiq', 'miiq', 'chechy',\n",
       "        'aftret_equityq', 'seqq', 'debt_invcapq', 'debt_ebitdaq', 'piq',\n",
       "        'cash_conversionq', 'at4', 'atq', 'intcovq', 'oibdpq', 'ocf_lctq',\n",
       "        'de_ratioq', 'curr_ratioq', 'aftret_invcapxq', 'capxy', 'ibq',\n",
       "        'oibdpy', 'epsfiq', 'epspi12', 'intcov_ratioq'], dtype=object),\n",
       " array(['fqtr_2', 'fcf_ocfq', 'dvy', 'oancfy', 'roaq', 'opmbdq', 'evmq',\n",
       "        'fcf_csfhdq', 'atq', 'xsgay', 'gpmq', 'invtq', 'equity_invcapq',\n",
       "        'ibcomq', 'xrdq', 'debt_assetsq', 'cash_conversionq', 'inv_turnq',\n",
       "        'ppentq', 'invt_actq', 'sale_invcapq', 'lctq4', 'npmq', 'epsfiq',\n",
       "        'cfmq', 'dvpspq', 'cf_yield', 'lt_ppentq', 'opmadq', 'lctq', 'at4',\n",
       "        'dprq', 'cshopq', 'fqtr_4', 'epsfxq', 'ibadjq', 'ocf_lctq',\n",
       "        'pe_op_dilq', 'actq', 'pcfq', 'cogsq', 'capital_ratioq', 'roceq',\n",
       "        'epspiq', 'beq', 'capxq', 'ltq', 'ptpmq', 'xintq', 'intcov_ratioq',\n",
       "        'de_ratioq', 'xinty', 'ibcy', 'niq', 'cash_ratioq', 'gprofq',\n",
       "        'accrualq', 'cash_ltq', 'int_debtq', 'dpq', 'rect_actq',\n",
       "        'pretret_earnatq', 'totdebt_invcapq', 'lagbe4', 'txpdy', 'ibcomy',\n",
       "        'oibdpy', 'lt_debtq', 'ceq4', 'lagicapt4', 'profit_lctq',\n",
       "        'debt_capitalq', 'rd_saleq', 'buy_back_yield', 'oepsxy',\n",
       "        'fcf_yield', 'pe_incq', 'miiq', 'efftaxq', 'aftret_equityq',\n",
       "        'dlcq', 'ibq', 'aftret_invcapxq', 'oancfy_q', 'dvq', 'intcovq',\n",
       "        'sale_nwcq', 'sic_3674', 'rectq', 'book_value_per_share',\n",
       "        'pretret_noaq', 'chechy', 'dltisy', 'fqtr_1', 'be4', 'spcsrc_A-',\n",
       "        'rect_turnq', 'nopiq', 'curr_ratioq', 'opcfq', 'quick_ratioq',\n",
       "        'oiadpq', 'epspi12', 'prcraq', 'epsx12', 'cash_debtq', 'epsfi12',\n",
       "        'spcsrc_B-', 'pe_exiq', 'cogsy', 'at5', 'txditcq', 'teqq', 'dltry',\n",
       "        'revtq', 'dltt_beq', 'cshfdq', 'oeps12', 'txpq', 'psq',\n",
       "        'yearly_sales', 'cstkq', 'oepf12', 'ceqq', 'cshiq', 'oepsxq',\n",
       "        'epsf12', 'debt_invcapq', 'dlttq', 'market_cap', 'debt_ebitdaq',\n",
       "        'seqq', 'bmq', 'aftret_eqq', 'sale_equityq', 'cshprq'],\n",
       "       dtype=object),\n",
       " array(['fcf_yield', 'ppentq', 'rd_saleq', 'fcf_csfhdq', 'fqtr_2', 'evmq',\n",
       "        'lt_ppentq', 'fcf_ocfq', 'fqtr_4', 'gpmq', 'xrdq', 'cfmq',\n",
       "        'invt_actq', 'xrdy', 'gprofq', 'quick_ratioq', 'pe_op_dilq',\n",
       "        'pcfq', 'ibq', 'ibadj12', 'lagppent4', 'epspiq', 'invtq',\n",
       "        'cfo-per-share', 'opmbdq', 'oepsxy', 'txpdy', 'oibdpy',\n",
       "        'aftret_equityq', 'dvpspq', 'revty', 'opmadq', 'apq', 'dltisy',\n",
       "        'ibcy', 'equity_invcapq', 'oancfy', 'debt_ebitdaq', 'inv_turnq',\n",
       "        'de_ratioq', 'at_turnq', 'dvq', 'pretret_noaq', 'lagppent_alt4',\n",
       "        'ptpmq', 'aftret_invcapxq', 'capxq', 'miiq', 'be4', 'xintq',\n",
       "        'capital_ratioq', 'epsfiq', 'cshoq', 'bmq', 'at5', 'ceqq',\n",
       "        'oeps12', 'at4', 'ltq', 'debt_assetsq', 'epsfi12', 'npmq', 'niq',\n",
       "        'roaq', 'debt_capitalq', 'rect_turnq', 'ibcomy', 'lagicapt4',\n",
       "        'cheq', 'cf_yield', 'dlttq', 'req', 'intcovq', 'cogsy', 'spcsrc_C',\n",
       "        'epspi12', 'xsgaq', 'piq', 'ibcq', 'ibadjq', 'nopiq',\n",
       "        'pe_op_basicq', 'yearly_sales', 'sale_invcapq', 'pay_turnq',\n",
       "        'chechy', 'seq4', 'pe_incq', 'xinty', 'oepf12', 'opcfq',\n",
       "        'cash_ratioq', 'sale_nwcq', 'seqq', 'short_debtq', 'accrualq',\n",
       "        'cash_conversionq', 'int_debtq', 'xsgay', 'ocf_lctq', 'cshprq',\n",
       "        'dvy', 'buy_back_yield', 'epspxq', 'pretret_earnatq', 'actq',\n",
       "        'dltt_beq', 'csh12q', 'epsx12', 'sale_equityq', 'atq', 'rectq',\n",
       "        'dprq', 'rect_actq', 'oancfy_q', 'saleq', 'ceq4', 'roceq',\n",
       "        'cshopq', 'spcsrc_A-', 'efftaxq', 'oiadpq', 'oibdpq', 'dpcq',\n",
       "        'prccq', 'teqq', 'fqtr_3', 'beq', 'dlcq', 'curr_debtq', 'lctq',\n",
       "        'cshiq', 'lt_debtq', 'curr_ratioq', 'capeiq', 'lagseq4',\n",
       "        'cash_ltq', 'capxy', 'txtq', 'oepsxq', 'prcraq', 'cshfdq',\n",
       "        'opepsq', 'ibcomq', 'roeq', 'epsf12', 'psq', 'txdbq', 'epsfxq',\n",
       "        'pe_exiq', 'int_totdebtq', 'txditcq', 'cogsq', 'cash_debtq',\n",
       "        'lagbe4', 'debt_invcapq', 'book_value_yield', 'totdebt_invcapq',\n",
       "        'revtq', 'cstkq', 'aftret_eqq', 'profit_lctq', 'txpq', 'icaptq'],\n",
       "       dtype=object),\n",
       " array(['fcf_csfhdq', 'rd_saleq', 'pe_op_dilq', 'ibcomy', 'ptpmq', 'dprq',\n",
       "        'lt_ppentq', 'cf_yield', 'pay_turnq', 'epspxq', 'sale_equityq',\n",
       "        'npmq', 'piq', 'xrdq', 'cfmq', 'actq', 'xrdy', 'bmq', 'beq',\n",
       "        'seqq', 'icaptq', 'fcf_ocfq', 'buy_back_yield', 'pe_exiq',\n",
       "        'ppentq', 'cshopq', 'lagppent4', 'efftaxq', 'ibcy', 'cstkq',\n",
       "        'int_totdebtq', 'revty', 'prcraq', 'debt_ebitdaq', 'capxq',\n",
       "        'equity_invcapq', 'int_debtq', 'market_cap', 'opmbdq', 'dltt_beq',\n",
       "        'de_ratioq', 'profit_lctq', 'ceqq', 'short_debtq', 'ibadj12',\n",
       "        'at_turnq', 'chechy', 'epspi12', 'oancfy_q', 'cfo-per-share',\n",
       "        'psq', 'capital_ratioq', 'invtq', 'cogsq', 'oibdpq', 'roceq',\n",
       "        'inv_turnq', 'at4', 'accrualq', 'nopiq', 'aftret_equityq', 'dlttq',\n",
       "        'cheq'], dtype=object),\n",
       " array(['evmq', 'xrdq', 'xrdy', 'ppentq', 'lt_debtq', 'fcf_ocfq', 'fqtr_4',\n",
       "        'txpdy', 'ibcy', 'oepsxq', 'fcf_csfhdq', 'at_turnq', 'fcf_yield',\n",
       "        'prccq', 'sale_invcapq', 'capeiq', 'apq', 'lt_ppentq', 'cfmq',\n",
       "        'fqtr_2', 'market_cap', 'pe_op_basicq', 'epsfiq', 'opepsq', 'dvy',\n",
       "        'rect_turnq', 'xsgaq', 'xsgay', 'invtq', 'cheq', 'rd_saleq',\n",
       "        'gprofq', 'gpmq', 'dvq', 'lagbe4', 'cstkq', 'revty',\n",
       "        'debt_assetsq', 'cash_ltq', 'cf_yield', 'oepsxy', 'dprq', 'ibq',\n",
       "        'lagppent4', 'opcfq', 'epspiq', 'roceq', 'cogsy', 'oancfy', 'dpq',\n",
       "        'oibdpy', 'sale_equityq', 'ibadjq', 'cshprq', 'bmq', 'xintq',\n",
       "        'req', 'ltq', 'revtq', 'piq', 'ibcomy', 'epsfxq', 'rect_actq',\n",
       "        'chechy', 'saleq', 'capital_ratioq', 'intcov_ratioq', 'ibcq',\n",
       "        'efftaxq', 'cogsq', 'ptpmq', 'txtq', 'nopiq', 'roaq', 'epspi12',\n",
       "        'debt_invcapq', 'at5', 'invt_actq', 'opmbdq', 'npmq', 'prcraq',\n",
       "        'oiadpq', 'pe_op_dilq', 'csh12q', 'intcovq', 'debt_ebitdaq',\n",
       "        'capxq', 'epspxq', 'miiy', 'pretret_noaq', 'epsf12', 'niq',\n",
       "        'dvpspq', 'capxy', 'at4', 'lctq', 'totdebt_invcapq', 'lctq4',\n",
       "        'oibdpq', 'yearly_sales', 'aftret_equityq', 'oeps12', 'seq4',\n",
       "        'pe_exiq', 'buy_back_yield', 'cash_ratioq', 'dlttq', 'xinty',\n",
       "        'aftret_invcapxq', 'miiq', 'curr_debtq', 'ceq4', 'pcfq', 'ibadj12',\n",
       "        'pretret_earnatq', 'de_ratioq', 'lagicapt4', 'curr_ratioq',\n",
       "        'quick_ratioq', 'seqq', 'accrualq', 'equity_invcapq', 'sale_nwcq',\n",
       "        'debt_atq', 'int_totdebtq', 'pe_incq', 'psq', 'cfo-per-share',\n",
       "        'beq', 'teqq', 'epsfi12', 'dlcq', 'book_value_yield', 'ibcomq',\n",
       "        'lagppent_alt4', 'icaptq', 'ceqq', 'profit_lctq', 'txditcq', 'be4',\n",
       "        'atq', 'rectq', 'book_value_per_share', 'aftret_eqq', 'txdbq',\n",
       "        'cash_conversionq', 'lagseq4', 'opmadq', 'actq', 'spcsrc_C',\n",
       "        'dpcy', 'debt_capitalq', 'cash_debtq', 'dpcq', 'ocf_lctq', 'xoprq',\n",
       "        'cshopq', 'cshfdq', 'inv_turnq', 'epsx12', 'dltry', 'short_debtq',\n",
       "        'int_debtq', 'cshiq', 'txpq', 'fqtr_1', 'dlcchy', 'oepf12',\n",
       "        'oancfy_q', 'cshoq', 'pay_turnq', 'roeq', 'pstkq', 'dltisy',\n",
       "        'fqtr_3'], dtype=object)]"
      ]
     },
     "execution_count": 24,
     "metadata": {},
     "output_type": "execute_result"
    }
   ],
   "source": [
    "significant_features"
   ]
  },
  {
   "cell_type": "code",
   "execution_count": 203,
   "metadata": {},
   "outputs": [],
   "source": [
    "with open(r'significant_features_01.pkl','wb') as f:\n",
    "    pickle.dump(significant_features,f)"
   ]
  },
  {
   "cell_type": "code",
   "execution_count": 27,
   "metadata": {},
   "outputs": [],
   "source": [
    "with open(r'significant_features.pkl','rb') as f:\n",
    "    significant_features = pickle.load(f)"
   ]
  },
  {
   "cell_type": "code",
   "execution_count": 28,
   "metadata": {},
   "outputs": [],
   "source": [
    "new_training_data = []\n",
    "new_valid_data = []\n",
    "new_test_data = []"
   ]
  },
  {
   "cell_type": "code",
   "execution_count": 29,
   "metadata": {},
   "outputs": [],
   "source": [
    "for i in range(len(start_dates)-1): \n",
    "    new_training_data.append(training_data[i][significant_features[i]])\n",
    "    new_valid_data.append(valid_data[i][significant_features[i]])\n",
    "    new_test_data.append(test_data[i][significant_features[i]])\n",
    "    "
   ]
  },
  {
   "cell_type": "code",
   "execution_count": 30,
   "metadata": {},
   "outputs": [
    {
     "data": {
      "text/plain": [
       "Index(['cfmq', 'epspi12', 'oeps12', 'oepf12', 'saleq', 'epsfi12',\n",
       "       'curr_ratioq', 'pe_op_dilq', 'ptpmq', 'csh12q', 'market_cap', 'dvpspq',\n",
       "       'cfo-per-share', 'capeiq', 'fcf_yield', 'pe_incq', 'fcf_csfhdq', 'req',\n",
       "       'rectq', 'yearly_sales', 'oancfy', 'pay_turnq', 'lagicapt4', 'oancfy_q',\n",
       "       'prccq', 'lagppent_alt4', 'pretret_noaq', 'rd_saleq', 'sale_nwcq',\n",
       "       'cshfdq', 'be4', 'opepsq', 'lctq', 'book_value_yield', 'cogsq',\n",
       "       'pe_op_basicq', 'beq', 'debt_assetsq', 'curr_debtq', 'xrdq', 'apq',\n",
       "       'roeq', 'cshprq', 'profit_lctq', 'at_turnq', 'cf_yield', 'dprq', 'ibcq',\n",
       "       'xsgay', 'txpdy', 'txpq', 'atq', 'quick_ratioq', 'pe_exiq', 'dpcq',\n",
       "       'de_ratioq', 'intcov_ratioq', 'xidoy', 'epsx12', 'roceq', 'actq',\n",
       "       'sale_invcapq', 'sic_6020', 'dvy', 'icaptq', 'cash_debtq', 'cash_ltq',\n",
       "       'seq4', 'fqtr_4', 'dvq', 'epspxq', 'niq', 'oibdpy', 'ibadj12', 'pcfq',\n",
       "       'inv_turnq', 'psq', 'dltry', 'opmadq', 'accrualq', 'ibq', 'at5',\n",
       "       'cshiq'],\n",
       "      dtype='object')"
      ]
     },
     "execution_count": 30,
     "metadata": {},
     "output_type": "execute_result"
    }
   ],
   "source": [
    "new_valid_data[1].columns"
   ]
  },
  {
   "cell_type": "code",
   "execution_count": 30,
   "metadata": {},
   "outputs": [],
   "source": [
    "for i in range(len(start_dates)-1):\n",
    "    float_vars = [x for x in new_training_data[i].columns if data[x].dtype == 'float64']\n",
    "\n",
    "    scaler = StandardScaler()\n",
    "    new_training_data[i] = new_training_data[i].copy()\n",
    "    new_valid_data[i] = new_valid_data[i].copy()\n",
    "    new_test_data[i] = new_test_data[i].copy()\n",
    "    new_training_data[i][float_vars] = scaler.fit_transform(new_training_data[i][float_vars])\n",
    "    new_valid_data[i][float_vars] = scaler.transform(new_valid_data[i][float_vars])\n",
    "    new_test_data[i][float_vars] = scaler.transform(new_test_data[i][float_vars])"
   ]
  },
  {
   "cell_type": "code",
   "execution_count": 31,
   "metadata": {},
   "outputs": [],
   "source": [
    "for i in range(len(start_dates)-1): \n",
    "    classifiers[i].fit(new_training_data[i],training_labels[i])"
   ]
  },
  {
   "cell_type": "code",
   "execution_count": 32,
   "metadata": {},
   "outputs": [],
   "source": [
    "with open(r'classifiers.pkl','wb') as f:\n",
    "    pickle.dump(classifiers,f)"
   ]
  },
  {
   "cell_type": "code",
   "execution_count": 33,
   "metadata": {},
   "outputs": [],
   "source": [
    "with open(r'classifiers.pkl','rb') as f:\n",
    "    classifiers = pickle.load(f)"
   ]
  },
  {
   "cell_type": "code",
   "execution_count": 34,
   "metadata": {},
   "outputs": [],
   "source": [
    "def model(features):\n",
    "    tree_features = features[features.columns[:-1].values]\n",
    "\n",
    "    pred = rf_clf.predict(tree_features)\n",
    "\n",
    "    ret = pred * features[features.columns[-1]]\n",
    "\n",
    "    return ret"
   ]
  },
  {
   "cell_type": "code",
   "execution_count": 35,
   "metadata": {},
   "outputs": [],
   "source": [
    "import shap"
   ]
  },
  {
   "cell_type": "code",
   "execution_count": 36,
   "metadata": {},
   "outputs": [],
   "source": [
    "shap_features = []"
   ]
  },
  {
   "cell_type": "code",
   "execution_count": 37,
   "metadata": {},
   "outputs": [
    {
     "name": "stdout",
     "output_type": "stream",
     "text": [
      "51\n"
     ]
    },
    {
     "name": "stderr",
     "output_type": "stream",
     "text": [
      "Permutation explainer: 1123it [05:02,  3.60it/s]                                                                       \n"
     ]
    },
    {
     "name": "stdout",
     "output_type": "stream",
     "text": [
      "15\n",
      "83\n"
     ]
    },
    {
     "name": "stderr",
     "output_type": "stream",
     "text": [
      "Permutation explainer: 1156it [03:23,  5.40it/s]                                                                       \n"
     ]
    },
    {
     "name": "stdout",
     "output_type": "stream",
     "text": [
      "41\n",
      "41\n"
     ]
    },
    {
     "name": "stderr",
     "output_type": "stream",
     "text": [
      "Permutation explainer: 1174it [03:01,  6.08it/s]                                                                       \n"
     ]
    },
    {
     "name": "stdout",
     "output_type": "stream",
     "text": [
      "10\n",
      "150\n"
     ]
    },
    {
     "name": "stderr",
     "output_type": "stream",
     "text": [
      "Permutation explainer: 1137it [07:48,  2.38it/s]                                                                       \n"
     ]
    },
    {
     "name": "stdout",
     "output_type": "stream",
     "text": [
      "106\n",
      "125\n"
     ]
    },
    {
     "name": "stderr",
     "output_type": "stream",
     "text": [
      "Permutation explainer: 1266it [05:38,  3.64it/s]                                                                       \n"
     ]
    },
    {
     "name": "stdout",
     "output_type": "stream",
     "text": [
      "84\n",
      "17\n"
     ]
    },
    {
     "name": "stderr",
     "output_type": "stream",
     "text": [
      "Permutation explainer: 1261it [03:34,  5.61it/s]                                                                       \n"
     ]
    },
    {
     "name": "stdout",
     "output_type": "stream",
     "text": [
      "10\n",
      "49\n"
     ]
    },
    {
     "name": "stderr",
     "output_type": "stream",
     "text": [
      "Permutation explainer: 1256it [03:13,  6.11it/s]                                                                       \n"
     ]
    },
    {
     "name": "stdout",
     "output_type": "stream",
     "text": [
      "10\n",
      "15\n"
     ]
    },
    {
     "name": "stderr",
     "output_type": "stream",
     "text": [
      "Permutation explainer: 1284it [04:03,  5.03it/s]                                                                       \n"
     ]
    },
    {
     "name": "stdout",
     "output_type": "stream",
     "text": [
      "14\n",
      "125\n"
     ]
    },
    {
     "name": "stderr",
     "output_type": "stream",
     "text": [
      "Permutation explainer: 1316it [05:10,  4.09it/s]                                                                       \n"
     ]
    },
    {
     "name": "stdout",
     "output_type": "stream",
     "text": [
      "49\n",
      "147\n"
     ]
    },
    {
     "name": "stderr",
     "output_type": "stream",
     "text": [
      "Permutation explainer: 1414it [09:54,  2.34it/s]                                                                       \n"
     ]
    },
    {
     "name": "stdout",
     "output_type": "stream",
     "text": [
      "41\n",
      "20\n"
     ]
    },
    {
     "name": "stderr",
     "output_type": "stream",
     "text": [
      "Permutation explainer: 1361it [04:39,  4.69it/s]                                                                       \n"
     ]
    },
    {
     "name": "stdout",
     "output_type": "stream",
     "text": [
      "18\n",
      "149\n"
     ]
    },
    {
     "name": "stderr",
     "output_type": "stream",
     "text": [
      "Permutation explainer: 1355it [09:25,  2.35it/s]                                                                       \n"
     ]
    },
    {
     "name": "stdout",
     "output_type": "stream",
     "text": [
      "129\n",
      "155\n"
     ]
    },
    {
     "name": "stderr",
     "output_type": "stream",
     "text": [
      "Permutation explainer: 1475it [11:40,  2.08it/s]                                                                       \n"
     ]
    },
    {
     "name": "stdout",
     "output_type": "stream",
     "text": [
      "142\n",
      "105\n"
     ]
    },
    {
     "name": "stderr",
     "output_type": "stream",
     "text": [
      "Permutation explainer: 1512it [05:21,  4.53it/s]                                                                       \n"
     ]
    },
    {
     "name": "stdout",
     "output_type": "stream",
     "text": [
      "87\n",
      "152\n"
     ]
    },
    {
     "name": "stderr",
     "output_type": "stream",
     "text": [
      "Permutation explainer: 1523it [09:07,  2.73it/s]                                                                       \n"
     ]
    },
    {
     "name": "stdout",
     "output_type": "stream",
     "text": [
      "130\n",
      "113\n"
     ]
    },
    {
     "name": "stderr",
     "output_type": "stream",
     "text": [
      "Permutation explainer: 1499it [05:46,  4.22it/s]                                                                       \n"
     ]
    },
    {
     "name": "stdout",
     "output_type": "stream",
     "text": [
      "90\n",
      "140\n"
     ]
    },
    {
     "name": "stderr",
     "output_type": "stream",
     "text": [
      "Permutation explainer: 1455it [10:49,  2.21it/s]                                                                       \n"
     ]
    },
    {
     "name": "stdout",
     "output_type": "stream",
     "text": [
      "115\n",
      "110\n"
     ]
    },
    {
     "name": "stderr",
     "output_type": "stream",
     "text": [
      "Permutation explainer: 1400it [05:05,  4.42it/s]                                                                       \n"
     ]
    },
    {
     "name": "stdout",
     "output_type": "stream",
     "text": [
      "90\n",
      "115\n"
     ]
    },
    {
     "name": "stderr",
     "output_type": "stream",
     "text": [
      "Permutation explainer: 1376it [05:29,  4.04it/s]                                                                       \n"
     ]
    },
    {
     "name": "stdout",
     "output_type": "stream",
     "text": [
      "83\n",
      "117\n"
     ]
    },
    {
     "name": "stderr",
     "output_type": "stream",
     "text": [
      "Permutation explainer: 1301it [05:17,  3.95it/s]                                                                       \n"
     ]
    },
    {
     "name": "stdout",
     "output_type": "stream",
     "text": [
      "89\n",
      "94\n"
     ]
    },
    {
     "name": "stderr",
     "output_type": "stream",
     "text": [
      "Permutation explainer: 1099it [06:26,  2.77it/s]                                                                       \n"
     ]
    },
    {
     "name": "stdout",
     "output_type": "stream",
     "text": [
      "72\n",
      "107\n"
     ]
    },
    {
     "name": "stderr",
     "output_type": "stream",
     "text": [
      "Permutation explainer: 1029it [05:40,  2.92it/s]                                                                       \n"
     ]
    },
    {
     "name": "stdout",
     "output_type": "stream",
     "text": [
      "67\n",
      "44\n"
     ]
    },
    {
     "name": "stderr",
     "output_type": "stream",
     "text": [
      "Permutation explainer: 1180it [04:24,  4.29it/s]                                                                       \n"
     ]
    },
    {
     "name": "stdout",
     "output_type": "stream",
     "text": [
      "10\n",
      "59\n"
     ]
    },
    {
     "name": "stderr",
     "output_type": "stream",
     "text": [
      "Permutation explainer: 1279it [04:22,  4.68it/s]                                                                       \n"
     ]
    },
    {
     "name": "stdout",
     "output_type": "stream",
     "text": [
      "32\n",
      "83\n"
     ]
    },
    {
     "name": "stderr",
     "output_type": "stream",
     "text": [
      "Permutation explainer: 1353it [04:44,  4.56it/s]                                                                       \n"
     ]
    },
    {
     "name": "stdout",
     "output_type": "stream",
     "text": [
      "54\n",
      "28\n"
     ]
    },
    {
     "name": "stderr",
     "output_type": "stream",
     "text": [
      "Permutation explainer: 1442it [03:47,  6.09it/s]                                                                       \n"
     ]
    },
    {
     "name": "stdout",
     "output_type": "stream",
     "text": [
      "10\n",
      "132\n"
     ]
    },
    {
     "name": "stderr",
     "output_type": "stream",
     "text": [
      "Permutation explainer: 1388it [05:52,  3.83it/s]                                                                       \n"
     ]
    },
    {
     "name": "stdout",
     "output_type": "stream",
     "text": [
      "96\n",
      "19\n"
     ]
    },
    {
     "name": "stderr",
     "output_type": "stream",
     "text": [
      "Permutation explainer: 1443it [03:58,  5.81it/s]                                                                       \n"
     ]
    },
    {
     "name": "stdout",
     "output_type": "stream",
     "text": [
      "10\n",
      "48\n"
     ]
    },
    {
     "name": "stderr",
     "output_type": "stream",
     "text": [
      "Permutation explainer: 1554it [05:52,  4.28it/s]                                                                       \n"
     ]
    },
    {
     "name": "stdout",
     "output_type": "stream",
     "text": [
      "10\n",
      "24\n"
     ]
    },
    {
     "name": "stderr",
     "output_type": "stream",
     "text": [
      "Permutation explainer: 1547it [03:57,  6.20it/s]                                                                       \n"
     ]
    },
    {
     "name": "stdout",
     "output_type": "stream",
     "text": [
      "10\n",
      "128\n"
     ]
    },
    {
     "name": "stderr",
     "output_type": "stream",
     "text": [
      "Permutation explainer: 1612it [06:31,  4.01it/s]                                                                       \n"
     ]
    },
    {
     "name": "stdout",
     "output_type": "stream",
     "text": [
      "105\n",
      "29\n"
     ]
    },
    {
     "name": "stderr",
     "output_type": "stream",
     "text": [
      "Permutation explainer: 1426it [03:39,  6.24it/s]                                                                       \n"
     ]
    },
    {
     "name": "stdout",
     "output_type": "stream",
     "text": [
      "10\n",
      "163\n"
     ]
    },
    {
     "name": "stderr",
     "output_type": "stream",
     "text": [
      "Permutation explainer: 1528it [10:35,  2.37it/s]                                                                       \n"
     ]
    },
    {
     "name": "stdout",
     "output_type": "stream",
     "text": [
      "120\n",
      "117\n"
     ]
    },
    {
     "name": "stderr",
     "output_type": "stream",
     "text": [
      "Permutation explainer: 1610it [06:13,  4.21it/s]                                                                       \n"
     ]
    },
    {
     "name": "stdout",
     "output_type": "stream",
     "text": [
      "93\n",
      "116\n"
     ]
    },
    {
     "name": "stderr",
     "output_type": "stream",
     "text": [
      "Permutation explainer: 1619it [06:07,  4.28it/s]                                                                       \n"
     ]
    },
    {
     "name": "stdout",
     "output_type": "stream",
     "text": [
      "92\n",
      "121\n"
     ]
    },
    {
     "name": "stderr",
     "output_type": "stream",
     "text": [
      "Permutation explainer: 1531it [08:58,  2.79it/s]                                                                       \n"
     ]
    },
    {
     "name": "stdout",
     "output_type": "stream",
     "text": [
      "87\n",
      "118\n"
     ]
    },
    {
     "name": "stderr",
     "output_type": "stream",
     "text": [
      "Permutation explainer: 1625it [07:26,  3.56it/s]                                                                       \n"
     ]
    },
    {
     "name": "stdout",
     "output_type": "stream",
     "text": [
      "104\n",
      "106\n"
     ]
    },
    {
     "name": "stderr",
     "output_type": "stream",
     "text": [
      "Permutation explainer: 1751it [09:10,  3.11it/s]                                                                       \n"
     ]
    },
    {
     "name": "stdout",
     "output_type": "stream",
     "text": [
      "65\n",
      "38\n"
     ]
    },
    {
     "name": "stderr",
     "output_type": "stream",
     "text": [
      "Permutation explainer: 1802it [04:30,  6.46it/s]                                                                       \n"
     ]
    },
    {
     "name": "stdout",
     "output_type": "stream",
     "text": [
      "21\n",
      "84\n"
     ]
    },
    {
     "name": "stderr",
     "output_type": "stream",
     "text": [
      "Permutation explainer: 1875it [05:21,  5.63it/s]                                                                       \n"
     ]
    },
    {
     "name": "stdout",
     "output_type": "stream",
     "text": [
      "64\n",
      "55\n"
     ]
    },
    {
     "name": "stderr",
     "output_type": "stream",
     "text": [
      "Permutation explainer: 1957it [04:54,  6.45it/s]                                                                       \n"
     ]
    },
    {
     "name": "stdout",
     "output_type": "stream",
     "text": [
      "37\n",
      "149\n"
     ]
    },
    {
     "name": "stderr",
     "output_type": "stream",
     "text": [
      "Permutation explainer: 1969it [15:15,  2.13it/s]                                                                       \n"
     ]
    },
    {
     "name": "stdout",
     "output_type": "stream",
     "text": [
      "136\n",
      "156\n"
     ]
    },
    {
     "name": "stderr",
     "output_type": "stream",
     "text": [
      "Permutation explainer: 2061it [12:09,  2.79it/s]                                                                       \n"
     ]
    },
    {
     "name": "stdout",
     "output_type": "stream",
     "text": [
      "139\n",
      "102\n"
     ]
    },
    {
     "name": "stderr",
     "output_type": "stream",
     "text": [
      "Permutation explainer: 1973it [06:06,  5.24it/s]                                                                       \n"
     ]
    },
    {
     "name": "stdout",
     "output_type": "stream",
     "text": [
      "74\n",
      "30\n"
     ]
    },
    {
     "name": "stderr",
     "output_type": "stream",
     "text": [
      "Permutation explainer: 2042it [05:00,  6.56it/s]                                                                       \n"
     ]
    },
    {
     "name": "stdout",
     "output_type": "stream",
     "text": [
      "18\n",
      "129\n"
     ]
    },
    {
     "name": "stderr",
     "output_type": "stream",
     "text": [
      "Permutation explainer: 2081it [07:21,  4.60it/s]                                                                       \n"
     ]
    },
    {
     "name": "stdout",
     "output_type": "stream",
     "text": [
      "106\n",
      "134\n"
     ]
    },
    {
     "name": "stderr",
     "output_type": "stream",
     "text": [
      "Permutation explainer: 2136it [08:17,  4.20it/s]                                                                       \n"
     ]
    },
    {
     "name": "stdout",
     "output_type": "stream",
     "text": [
      "108\n",
      "126\n"
     ]
    },
    {
     "name": "stderr",
     "output_type": "stream",
     "text": [
      "Permutation explainer: 1949it [07:05,  4.46it/s]                                                                       \n"
     ]
    },
    {
     "name": "stdout",
     "output_type": "stream",
     "text": [
      "103\n",
      "74\n"
     ]
    },
    {
     "name": "stderr",
     "output_type": "stream",
     "text": [
      "Permutation explainer: 1965it [10:51,  2.97it/s]                                                                       \n"
     ]
    },
    {
     "name": "stdout",
     "output_type": "stream",
     "text": [
      "42\n",
      "105\n"
     ]
    },
    {
     "name": "stderr",
     "output_type": "stream",
     "text": [
      "Permutation explainer: 1951it [12:14,  2.62it/s]                                                                       \n"
     ]
    },
    {
     "name": "stdout",
     "output_type": "stream",
     "text": [
      "76\n",
      "83\n"
     ]
    },
    {
     "name": "stderr",
     "output_type": "stream",
     "text": [
      "Permutation explainer: 2006it [06:06,  5.31it/s]                                                                       \n"
     ]
    },
    {
     "name": "stdout",
     "output_type": "stream",
     "text": [
      "64\n",
      "84\n"
     ]
    },
    {
     "name": "stderr",
     "output_type": "stream",
     "text": [
      "Permutation explainer: 2006it [10:08,  3.24it/s]                                                                       \n"
     ]
    },
    {
     "name": "stdout",
     "output_type": "stream",
     "text": [
      "60\n",
      "136\n"
     ]
    },
    {
     "name": "stderr",
     "output_type": "stream",
     "text": [
      "Permutation explainer: 2067it [08:08,  4.14it/s]                                                                       \n"
     ]
    },
    {
     "name": "stdout",
     "output_type": "stream",
     "text": [
      "111\n",
      "164\n"
     ]
    },
    {
     "name": "stderr",
     "output_type": "stream",
     "text": [
      "Permutation explainer: 2109it [18:31,  1.88it/s]                                                                       \n"
     ]
    },
    {
     "name": "stdout",
     "output_type": "stream",
     "text": [
      "158\n",
      "63\n"
     ]
    },
    {
     "name": "stderr",
     "output_type": "stream",
     "text": [
      "Permutation explainer: 2155it [08:53,  3.97it/s]                                                                       \n"
     ]
    },
    {
     "name": "stdout",
     "output_type": "stream",
     "text": [
      "37\n",
      "175\n"
     ]
    },
    {
     "name": "stderr",
     "output_type": "stream",
     "text": [
      "Permutation explainer: 2155it [17:12,  2.06it/s]                                                                       "
     ]
    },
    {
     "name": "stdout",
     "output_type": "stream",
     "text": [
      "174\n"
     ]
    },
    {
     "name": "stderr",
     "output_type": "stream",
     "text": [
      "\n"
     ]
    }
   ],
   "source": [
    "for i in range(len(start_dates)-1):\n",
    "    valid_1 = new_valid_data[i].copy()\n",
    "    cols = new_valid_data[i].columns\n",
    "    print(len(cols))\n",
    "    valid_1['rets'] = valid_frames[i]['next_period_return'].values\n",
    "    rf_clf = classifiers[i]\n",
    "    explainer = shap.explainers.Permutation(model,valid_1)\n",
    "    shap_values = explainer(valid_1,max_evals=1000,)\n",
    "    shap_cols = cols[np.abs(shap_values[:,:-1].values).mean(axis=0)>0.000]\n",
    "    if shap_cols.empty:\n",
    "        shap_cols = cols[:10]\n",
    "    print(len(shap_cols))\n",
    "    shap_features.append(shap_cols)\n",
    "    "
   ]
  },
  {
   "cell_type": "code",
   "execution_count": 38,
   "metadata": {},
   "outputs": [],
   "source": [
    "with open(r'shap_features_01.pkl','wb') as f:\n",
    "    pickle.dump(shap_features,f)"
   ]
  },
  {
   "cell_type": "code",
   "execution_count": 39,
   "metadata": {},
   "outputs": [],
   "source": [
    "with open(r'shap_features.pkl','rb') as f:\n",
    "    shap_features = pickle.load(f)"
   ]
  },
  {
   "cell_type": "code",
   "execution_count": 46,
   "metadata": {},
   "outputs": [],
   "source": [
    "start_dates = [pd.to_datetime('2001-01-01') + pd.DateOffset(months = 3*i) for i in range(57)]\n",
    "end_dates = [d + pd.DateOffset(months = 39) for d in start_dates]"
   ]
  },
  {
   "cell_type": "code",
   "execution_count": 47,
   "metadata": {},
   "outputs": [],
   "source": [
    "training_frames = [data.loc[d:d+pd.DateOffset(months = 39)] for d in start_dates]\n",
    "test_frames = [data.loc[d+pd.DateOffset(months = 3):d+pd.DateOffset(months = 6)] for d in end_dates]"
   ]
  },
  {
   "cell_type": "code",
   "execution_count": 48,
   "metadata": {},
   "outputs": [],
   "source": [
    "training_labels = [d['rel_performance'].values for d in training_frames]"
   ]
  },
  {
   "cell_type": "code",
   "execution_count": 49,
   "metadata": {
    "ExecuteTime": {
     "end_time": "2020-02-11T01:00:33.994294Z",
     "start_time": "2020-02-11T01:00:33.869286Z"
    }
   },
   "outputs": [],
   "source": [
    "scalers = [StandardScaler() for i in range(len(start_dates)-1)]\n",
    "           \n",
    "opt_training_data = [pd.DataFrame(scalers[i].fit_transform(training_frames[i][shap_features[i]].values),columns=shap_features[i]) for i in range(len(start_dates)-1)]\n",
    "opt_test_data = [pd.DataFrame(scalers[i].transform(test_frames[i][shap_features[i]].values),columns=shap_features[i]) for i in range(len(start_dates)-1)]"
   ]
  },
  {
   "cell_type": "code",
   "execution_count": 217,
   "metadata": {},
   "outputs": [
    {
     "data": {
      "text/html": [
       "<div>\n",
       "<style scoped>\n",
       "    .dataframe tbody tr th:only-of-type {\n",
       "        vertical-align: middle;\n",
       "    }\n",
       "\n",
       "    .dataframe tbody tr th {\n",
       "        vertical-align: top;\n",
       "    }\n",
       "\n",
       "    .dataframe thead th {\n",
       "        text-align: right;\n",
       "    }\n",
       "</style>\n",
       "<table border=\"1\" class=\"dataframe\">\n",
       "  <thead>\n",
       "    <tr style=\"text-align: right;\">\n",
       "      <th></th>\n",
       "      <th>quick_ratioq</th>\n",
       "      <th>fcf_csfhdq</th>\n",
       "      <th>pcfq</th>\n",
       "      <th>xsgay</th>\n",
       "      <th>evmq</th>\n",
       "      <th>fcf_yield</th>\n",
       "      <th>oepf12</th>\n",
       "      <th>cf_yield</th>\n",
       "      <th>dvpspq</th>\n",
       "      <th>oeps12</th>\n",
       "      <th>...</th>\n",
       "      <th>opcfq</th>\n",
       "      <th>capeiq</th>\n",
       "      <th>actq</th>\n",
       "      <th>nopiq</th>\n",
       "      <th>cshoq</th>\n",
       "      <th>epspiq</th>\n",
       "      <th>intcovq</th>\n",
       "      <th>cash_ltq</th>\n",
       "      <th>piq</th>\n",
       "      <th>epsfiq</th>\n",
       "    </tr>\n",
       "  </thead>\n",
       "  <tbody>\n",
       "    <tr>\n",
       "      <th>0</th>\n",
       "      <td>0.943761</td>\n",
       "      <td>-0.217266</td>\n",
       "      <td>0.122199</td>\n",
       "      <td>-0.267934</td>\n",
       "      <td>0.079080</td>\n",
       "      <td>-0.198007</td>\n",
       "      <td>-0.034950</td>\n",
       "      <td>-0.642707</td>\n",
       "      <td>-0.609345</td>\n",
       "      <td>-0.034056</td>\n",
       "      <td>...</td>\n",
       "      <td>-0.251530</td>\n",
       "      <td>0.007903</td>\n",
       "      <td>-0.182217</td>\n",
       "      <td>0.050709</td>\n",
       "      <td>-0.186967</td>\n",
       "      <td>0.024099</td>\n",
       "      <td>0.004608</td>\n",
       "      <td>2.266002</td>\n",
       "      <td>-0.127235</td>\n",
       "      <td>0.021062</td>\n",
       "    </tr>\n",
       "    <tr>\n",
       "      <th>1</th>\n",
       "      <td>-0.086185</td>\n",
       "      <td>-0.356346</td>\n",
       "      <td>-0.035955</td>\n",
       "      <td>-0.337319</td>\n",
       "      <td>-1.008394</td>\n",
       "      <td>-0.406912</td>\n",
       "      <td>-0.148162</td>\n",
       "      <td>2.737811</td>\n",
       "      <td>-0.416958</td>\n",
       "      <td>-0.151559</td>\n",
       "      <td>...</td>\n",
       "      <td>0.419426</td>\n",
       "      <td>0.008470</td>\n",
       "      <td>1.396938</td>\n",
       "      <td>0.955536</td>\n",
       "      <td>0.368063</td>\n",
       "      <td>-0.397836</td>\n",
       "      <td>0.005611</td>\n",
       "      <td>-0.323813</td>\n",
       "      <td>-0.490005</td>\n",
       "      <td>-0.398602</td>\n",
       "    </tr>\n",
       "    <tr>\n",
       "      <th>2</th>\n",
       "      <td>-0.317386</td>\n",
       "      <td>-0.111938</td>\n",
       "      <td>-0.011194</td>\n",
       "      <td>0.345250</td>\n",
       "      <td>0.015285</td>\n",
       "      <td>-0.016963</td>\n",
       "      <td>-0.008932</td>\n",
       "      <td>-0.108673</td>\n",
       "      <td>-0.200524</td>\n",
       "      <td>-0.011540</td>\n",
       "      <td>...</td>\n",
       "      <td>-0.179077</td>\n",
       "      <td>0.017206</td>\n",
       "      <td>-0.159999</td>\n",
       "      <td>0.027119</td>\n",
       "      <td>-0.212314</td>\n",
       "      <td>-0.040432</td>\n",
       "      <td>0.004608</td>\n",
       "      <td>-0.118076</td>\n",
       "      <td>-0.134250</td>\n",
       "      <td>-0.034556</td>\n",
       "    </tr>\n",
       "    <tr>\n",
       "      <th>3</th>\n",
       "      <td>-0.232305</td>\n",
       "      <td>0.049499</td>\n",
       "      <td>0.007315</td>\n",
       "      <td>-0.198088</td>\n",
       "      <td>0.013118</td>\n",
       "      <td>0.051241</td>\n",
       "      <td>0.069825</td>\n",
       "      <td>-0.203505</td>\n",
       "      <td>-0.609345</td>\n",
       "      <td>0.077115</td>\n",
       "      <td>...</td>\n",
       "      <td>-0.200667</td>\n",
       "      <td>0.027228</td>\n",
       "      <td>0.044884</td>\n",
       "      <td>0.027669</td>\n",
       "      <td>-0.286651</td>\n",
       "      <td>0.197838</td>\n",
       "      <td>0.009246</td>\n",
       "      <td>-0.356163</td>\n",
       "      <td>-0.046697</td>\n",
       "      <td>0.187917</td>\n",
       "    </tr>\n",
       "    <tr>\n",
       "      <th>4</th>\n",
       "      <td>-0.164772</td>\n",
       "      <td>0.098515</td>\n",
       "      <td>-0.033265</td>\n",
       "      <td>3.390534</td>\n",
       "      <td>0.019836</td>\n",
       "      <td>0.009106</td>\n",
       "      <td>0.048026</td>\n",
       "      <td>-0.334669</td>\n",
       "      <td>0.496878</td>\n",
       "      <td>0.048971</td>\n",
       "      <td>...</td>\n",
       "      <td>1.090416</td>\n",
       "      <td>0.019878</td>\n",
       "      <td>1.279020</td>\n",
       "      <td>0.472100</td>\n",
       "      <td>1.685134</td>\n",
       "      <td>0.237549</td>\n",
       "      <td>0.042413</td>\n",
       "      <td>-0.244303</td>\n",
       "      <td>2.158498</td>\n",
       "      <td>0.238479</td>\n",
       "    </tr>\n",
       "    <tr>\n",
       "      <th>...</th>\n",
       "      <td>...</td>\n",
       "      <td>...</td>\n",
       "      <td>...</td>\n",
       "      <td>...</td>\n",
       "      <td>...</td>\n",
       "      <td>...</td>\n",
       "      <td>...</td>\n",
       "      <td>...</td>\n",
       "      <td>...</td>\n",
       "      <td>...</td>\n",
       "      <td>...</td>\n",
       "      <td>...</td>\n",
       "      <td>...</td>\n",
       "      <td>...</td>\n",
       "      <td>...</td>\n",
       "      <td>...</td>\n",
       "      <td>...</td>\n",
       "      <td>...</td>\n",
       "      <td>...</td>\n",
       "      <td>...</td>\n",
       "      <td>...</td>\n",
       "    </tr>\n",
       "    <tr>\n",
       "      <th>1131</th>\n",
       "      <td>-0.240716</td>\n",
       "      <td>-0.144245</td>\n",
       "      <td>-0.025578</td>\n",
       "      <td>0.083521</td>\n",
       "      <td>-0.004318</td>\n",
       "      <td>-0.058058</td>\n",
       "      <td>-0.015964</td>\n",
       "      <td>-0.278956</td>\n",
       "      <td>0.641168</td>\n",
       "      <td>-0.019983</td>\n",
       "      <td>...</td>\n",
       "      <td>-0.031139</td>\n",
       "      <td>0.017299</td>\n",
       "      <td>0.696185</td>\n",
       "      <td>0.062553</td>\n",
       "      <td>0.221718</td>\n",
       "      <td>0.068775</td>\n",
       "      <td>0.009303</td>\n",
       "      <td>-0.325713</td>\n",
       "      <td>0.211921</td>\n",
       "      <td>0.071624</td>\n",
       "    </tr>\n",
       "    <tr>\n",
       "      <th>1132</th>\n",
       "      <td>-0.246900</td>\n",
       "      <td>0.077786</td>\n",
       "      <td>0.162820</td>\n",
       "      <td>-0.263041</td>\n",
       "      <td>0.016386</td>\n",
       "      <td>-0.032305</td>\n",
       "      <td>0.032556</td>\n",
       "      <td>-0.387362</td>\n",
       "      <td>-0.416958</td>\n",
       "      <td>0.034899</td>\n",
       "      <td>...</td>\n",
       "      <td>-0.263126</td>\n",
       "      <td>0.016968</td>\n",
       "      <td>-0.378984</td>\n",
       "      <td>0.023169</td>\n",
       "      <td>-0.372983</td>\n",
       "      <td>0.138270</td>\n",
       "      <td>0.004608</td>\n",
       "      <td>-0.272076</td>\n",
       "      <td>-0.173443</td>\n",
       "      <td>0.137355</td>\n",
       "    </tr>\n",
       "    <tr>\n",
       "      <th>1133</th>\n",
       "      <td>0.176708</td>\n",
       "      <td>-0.307842</td>\n",
       "      <td>-0.033820</td>\n",
       "      <td>-0.211596</td>\n",
       "      <td>0.004571</td>\n",
       "      <td>-0.232850</td>\n",
       "      <td>-0.084172</td>\n",
       "      <td>0.400038</td>\n",
       "      <td>-0.609345</td>\n",
       "      <td>-0.084716</td>\n",
       "      <td>...</td>\n",
       "      <td>0.071823</td>\n",
       "      <td>0.007877</td>\n",
       "      <td>0.125469</td>\n",
       "      <td>0.039205</td>\n",
       "      <td>0.343712</td>\n",
       "      <td>-0.045396</td>\n",
       "      <td>0.018186</td>\n",
       "      <td>0.032240</td>\n",
       "      <td>0.016430</td>\n",
       "      <td>-0.044668</td>\n",
       "    </tr>\n",
       "    <tr>\n",
       "      <th>1134</th>\n",
       "      <td>0.439776</td>\n",
       "      <td>0.014379</td>\n",
       "      <td>0.356613</td>\n",
       "      <td>-0.308801</td>\n",
       "      <td>0.017270</td>\n",
       "      <td>-0.028351</td>\n",
       "      <td>0.009351</td>\n",
       "      <td>-0.453907</td>\n",
       "      <td>-0.609345</td>\n",
       "      <td>0.013790</td>\n",
       "      <td>...</td>\n",
       "      <td>-0.281381</td>\n",
       "      <td>0.014460</td>\n",
       "      <td>-0.395252</td>\n",
       "      <td>0.028248</td>\n",
       "      <td>-0.391962</td>\n",
       "      <td>0.168054</td>\n",
       "      <td>0.004608</td>\n",
       "      <td>0.356833</td>\n",
       "      <td>-0.192321</td>\n",
       "      <td>0.152523</td>\n",
       "    </tr>\n",
       "    <tr>\n",
       "      <th>1135</th>\n",
       "      <td>0.791838</td>\n",
       "      <td>-0.247962</td>\n",
       "      <td>0.019825</td>\n",
       "      <td>-0.223124</td>\n",
       "      <td>0.044668</td>\n",
       "      <td>-0.076280</td>\n",
       "      <td>-0.099642</td>\n",
       "      <td>-0.516281</td>\n",
       "      <td>-0.609345</td>\n",
       "      <td>-0.102306</td>\n",
       "      <td>...</td>\n",
       "      <td>-0.271568</td>\n",
       "      <td>0.009216</td>\n",
       "      <td>-0.300339</td>\n",
       "      <td>0.030479</td>\n",
       "      <td>-0.154234</td>\n",
       "      <td>-0.119855</td>\n",
       "      <td>0.029395</td>\n",
       "      <td>1.242212</td>\n",
       "      <td>-0.192184</td>\n",
       "      <td>-0.120511</td>\n",
       "    </tr>\n",
       "  </tbody>\n",
       "</table>\n",
       "<p>1136 rows × 57 columns</p>\n",
       "</div>"
      ],
      "text/plain": [
       "      quick_ratioq  fcf_csfhdq      pcfq     xsgay      evmq  fcf_yield  \\\n",
       "0         0.943761   -0.217266  0.122199 -0.267934  0.079080  -0.198007   \n",
       "1        -0.086185   -0.356346 -0.035955 -0.337319 -1.008394  -0.406912   \n",
       "2        -0.317386   -0.111938 -0.011194  0.345250  0.015285  -0.016963   \n",
       "3        -0.232305    0.049499  0.007315 -0.198088  0.013118   0.051241   \n",
       "4        -0.164772    0.098515 -0.033265  3.390534  0.019836   0.009106   \n",
       "...            ...         ...       ...       ...       ...        ...   \n",
       "1131     -0.240716   -0.144245 -0.025578  0.083521 -0.004318  -0.058058   \n",
       "1132     -0.246900    0.077786  0.162820 -0.263041  0.016386  -0.032305   \n",
       "1133      0.176708   -0.307842 -0.033820 -0.211596  0.004571  -0.232850   \n",
       "1134      0.439776    0.014379  0.356613 -0.308801  0.017270  -0.028351   \n",
       "1135      0.791838   -0.247962  0.019825 -0.223124  0.044668  -0.076280   \n",
       "\n",
       "        oepf12  cf_yield    dvpspq    oeps12  ...     opcfq    capeiq  \\\n",
       "0    -0.034950 -0.642707 -0.609345 -0.034056  ... -0.251530  0.007903   \n",
       "1    -0.148162  2.737811 -0.416958 -0.151559  ...  0.419426  0.008470   \n",
       "2    -0.008932 -0.108673 -0.200524 -0.011540  ... -0.179077  0.017206   \n",
       "3     0.069825 -0.203505 -0.609345  0.077115  ... -0.200667  0.027228   \n",
       "4     0.048026 -0.334669  0.496878  0.048971  ...  1.090416  0.019878   \n",
       "...        ...       ...       ...       ...  ...       ...       ...   \n",
       "1131 -0.015964 -0.278956  0.641168 -0.019983  ... -0.031139  0.017299   \n",
       "1132  0.032556 -0.387362 -0.416958  0.034899  ... -0.263126  0.016968   \n",
       "1133 -0.084172  0.400038 -0.609345 -0.084716  ...  0.071823  0.007877   \n",
       "1134  0.009351 -0.453907 -0.609345  0.013790  ... -0.281381  0.014460   \n",
       "1135 -0.099642 -0.516281 -0.609345 -0.102306  ... -0.271568  0.009216   \n",
       "\n",
       "          actq     nopiq     cshoq    epspiq   intcovq  cash_ltq       piq  \\\n",
       "0    -0.182217  0.050709 -0.186967  0.024099  0.004608  2.266002 -0.127235   \n",
       "1     1.396938  0.955536  0.368063 -0.397836  0.005611 -0.323813 -0.490005   \n",
       "2    -0.159999  0.027119 -0.212314 -0.040432  0.004608 -0.118076 -0.134250   \n",
       "3     0.044884  0.027669 -0.286651  0.197838  0.009246 -0.356163 -0.046697   \n",
       "4     1.279020  0.472100  1.685134  0.237549  0.042413 -0.244303  2.158498   \n",
       "...        ...       ...       ...       ...       ...       ...       ...   \n",
       "1131  0.696185  0.062553  0.221718  0.068775  0.009303 -0.325713  0.211921   \n",
       "1132 -0.378984  0.023169 -0.372983  0.138270  0.004608 -0.272076 -0.173443   \n",
       "1133  0.125469  0.039205  0.343712 -0.045396  0.018186  0.032240  0.016430   \n",
       "1134 -0.395252  0.028248 -0.391962  0.168054  0.004608  0.356833 -0.192321   \n",
       "1135 -0.300339  0.030479 -0.154234 -0.119855  0.029395  1.242212 -0.192184   \n",
       "\n",
       "        epsfiq  \n",
       "0     0.021062  \n",
       "1    -0.398602  \n",
       "2    -0.034556  \n",
       "3     0.187917  \n",
       "4     0.238479  \n",
       "...        ...  \n",
       "1131  0.071624  \n",
       "1132  0.137355  \n",
       "1133 -0.044668  \n",
       "1134  0.152523  \n",
       "1135 -0.120511  \n",
       "\n",
       "[1136 rows x 57 columns]"
      ]
     },
     "execution_count": 217,
     "metadata": {},
     "output_type": "execute_result"
    }
   ],
   "source": [
    "opt_test_data[1]"
   ]
  },
  {
   "cell_type": "code",
   "execution_count": 50,
   "metadata": {
    "ExecuteTime": {
     "end_time": "2020-02-11T01:01:15.387898Z",
     "start_time": "2020-02-11T01:00:58.271824Z"
    }
   },
   "outputs": [],
   "source": [
    "x = [1]\n",
    "ret = []\n",
    "\n",
    "for i in range(len(start_dates)-1):\n",
    "        \n",
    "        classifiers[i].fit(opt_training_data[i],training_labels[i])\n",
    "\n",
    "        preds = classifiers[i].predict(opt_test_data[i])\n",
    "        profit_i = (preds*test_frames[i]['next_period_return']).sum()\n",
    "        ret.append(profit_i)\n",
    "        num_names = len(opt_test_data[i])\n",
    "        x.append(x[i] + (x[i]/num_names)*profit_i)"
   ]
  },
  {
   "cell_type": "code",
   "execution_count": null,
   "metadata": {},
   "outputs": [],
   "source": []
  },
  {
   "cell_type": "code",
   "execution_count": 51,
   "metadata": {
    "ExecuteTime": {
     "end_time": "2020-02-11T01:01:20.294124Z",
     "start_time": "2020-02-11T01:01:20.107095Z"
    }
   },
   "outputs": [
    {
     "data": {
      "image/png": "[encoded data removed]",
      "text/plain": [
       "<Figure size 432x288 with 1 Axes>"
      ]
     },
     "metadata": {
      "needs_background": "light"
     },
     "output_type": "display_data"
    }
   ],
   "source": [
    "plt.plot(x);"
   ]
  },
  {
   "cell_type": "code",
   "execution_count": 34,
   "metadata": {},
   "outputs": [
    {
     "data": {
      "text/plain": [
       "57"
      ]
     },
     "execution_count": 34,
     "metadata": {},
     "output_type": "execute_result"
    }
   ],
   "source": [
    "len(x)"
   ]
  },
  {
   "cell_type": "code",
   "execution_count": 52,
   "metadata": {
    "ExecuteTime": {
     "end_time": "2020-02-11T01:01:37.494042Z",
     "start_time": "2020-02-11T01:01:37.445007Z"
    }
   },
   "outputs": [],
   "source": [
    "SPY = pd.read_pickle(r'C:\\Users\\niels\\OneDrive\\Machine Learning 2022\\Lecture 2\\SPY_cum_ret.pkl')\n",
    "SPY = SPY.loc['2004-07-01':'2018-09-30']\n",
    "SPY = SPY.resample('Q').ffill()\n",
    "SPY['spy_cum_ret'] = (SPY['spy_cum_ret'] - SPY['spy_cum_ret'][0] + 1)\n",
    "SPY['strategy'] = x"
   ]
  },
  {
   "cell_type": "code",
   "execution_count": 53,
   "metadata": {
    "ExecuteTime": {
     "end_time": "2020-02-11T01:01:41.397432Z",
     "start_time": "2020-02-11T01:01:41.198433Z"
    }
   },
   "outputs": [
    {
     "data": {
      "image/png": "[encoded data removed]",
      "text/plain": [
       "<Figure size 432x288 with 1 Axes>"
      ]
     },
     "metadata": {
      "needs_background": "light"
     },
     "output_type": "display_data"
    }
   ],
   "source": [
    "SPY.plot();"
   ]
  },
  {
   "cell_type": "code",
   "execution_count": 54,
   "metadata": {},
   "outputs": [
    {
     "name": "stdout",
     "output_type": "stream",
     "text": [
      "Strategy Sharpe Ratio:  0.4595911370055951\n"
     ]
    }
   ],
   "source": [
    "strategy_mean_ret = (SPY['strategy'] - 1).diff().mean()\n",
    "strategy_std = (SPY['strategy'] - 1).diff().std()\n",
    "strategy_sr = strategy_mean_ret/strategy_std\n",
    "print('Strategy Sharpe Ratio: ',strategy_sr)"
   ]
  },
  {
   "cell_type": "code",
   "execution_count": 74,
   "metadata": {},
   "outputs": [
    {
     "data": {
      "text/plain": [
       "0.20918527132649586"
      ]
     },
     "execution_count": 74,
     "metadata": {},
     "output_type": "execute_result"
    }
   ],
   "source": [
    " (SPY['strategy'] - 1).diff().std()"
   ]
  },
  {
   "cell_type": "code",
   "execution_count": 55,
   "metadata": {
    "ExecuteTime": {
     "end_time": "2020-02-11T01:01:46.417678Z",
     "start_time": "2020-02-11T01:01:46.157159Z"
    }
   },
   "outputs": [
    {
     "data": {
      "image/png": "[encoded data removed]",
      "text/plain": [
       "<Figure size 432x288 with 1 Axes>"
      ]
     },
     "metadata": {
      "needs_background": "light"
     },
     "output_type": "display_data"
    }
   ],
   "source": [
    "SPY = SPY.resample('Y').ffill()\n",
    "SPY.plot();"
   ]
  },
  {
   "cell_type": "code",
   "execution_count": 56,
   "metadata": {},
   "outputs": [],
   "source": [
    "with open(r'rf strategy.pkl','wb') as f:\n",
    "    pickle.dump(SPY['strategy'].values,f)"
   ]
  },
  {
   "cell_type": "code",
   "execution_count": 57,
   "metadata": {
    "ExecuteTime": {
     "end_time": "2020-02-11T01:01:54.486712Z",
     "start_time": "2020-02-11T01:01:54.468721Z"
    }
   },
   "outputs": [
    {
     "name": "stdout",
     "output_type": "stream",
     "text": [
      "Strategy Sharpe Ratio:  0.7721756327053821\n"
     ]
    }
   ],
   "source": [
    "strategy_mean_ret = (SPY['strategy'] - 1).diff().mean()\n",
    "strategy_std = (SPY['strategy'] - 1).diff().std()\n",
    "strategy_sr = strategy_mean_ret/strategy_std\n",
    "print('Strategy Sharpe Ratio: ',strategy_sr)"
   ]
  },
  {
   "cell_type": "code",
   "execution_count": 58,
   "metadata": {
    "ExecuteTime": {
     "end_time": "2020-02-11T01:02:00.792517Z",
     "start_time": "2020-02-11T01:02:00.786515Z"
    }
   },
   "outputs": [
    {
     "data": {
      "text/plain": [
       "4.512783573171325"
      ]
     },
     "execution_count": 58,
     "metadata": {},
     "output_type": "execute_result"
    }
   ],
   "source": [
    "x[-1]"
   ]
  },
  {
   "cell_type": "code",
   "execution_count": 59,
   "metadata": {
    "ExecuteTime": {
     "end_time": "2020-02-09T20:42:54.524395Z",
     "start_time": "2020-02-09T20:42:54.519365Z"
    }
   },
   "outputs": [
    {
     "data": {
      "text/plain": [
       "2.4779340000000003"
      ]
     },
     "execution_count": 59,
     "metadata": {},
     "output_type": "execute_result"
    }
   ],
   "source": [
    "SPY['spy_cum_ret'][-1]"
   ]
  },
  {
   "cell_type": "code",
   "execution_count": 60,
   "metadata": {
    "ExecuteTime": {
     "end_time": "2020-02-09T20:42:59.954056Z",
     "start_time": "2020-02-09T20:42:59.949042Z"
    }
   },
   "outputs": [],
   "source": [
    "strategy_ret = (SPY['strategy'] - 1).diff().values[1:]\n",
    "spy_ret = (SPY['spy_cum_ret'] - 1).diff().values[1:]"
   ]
  },
  {
   "cell_type": "code",
   "execution_count": 61,
   "metadata": {
    "ExecuteTime": {
     "end_time": "2020-02-09T20:43:01.135837Z",
     "start_time": "2020-02-09T20:43:01.130715Z"
    }
   },
   "outputs": [],
   "source": [
    "beta = (np.cov(spy_ret,strategy_ret)/np.var(spy_ret))[1,0]"
   ]
  },
  {
   "cell_type": "code",
   "execution_count": 62,
   "metadata": {
    "ExecuteTime": {
     "end_time": "2020-02-09T20:43:02.086883Z",
     "start_time": "2020-02-09T20:43:02.081733Z"
    }
   },
   "outputs": [
    {
     "data": {
      "text/plain": [
       "2.02217001480749"
      ]
     },
     "execution_count": 62,
     "metadata": {},
     "output_type": "execute_result"
    }
   ],
   "source": [
    "beta "
   ]
  },
  {
   "cell_type": "code",
   "execution_count": 63,
   "metadata": {},
   "outputs": [
    {
     "name": "stdout",
     "output_type": "stream",
     "text": [
      "beta:  2.02217001480749\n",
      "Information Ratio:  0.38433237994371644\n"
     ]
    }
   ],
   "source": [
    "strategy_ret = (SPY['strategy'] - 1).diff().values[1:]\n",
    "spy_ret = (SPY['spy_cum_ret'] - 1).diff().values[1:]\n",
    "beta = (np.cov(spy_ret,strategy_ret)/np.var(spy_ret))[1,0]\n",
    "print('beta: ',beta)\n",
    "residual_ret = strategy_ret - beta * spy_ret\n",
    "IR = np.mean(residual_ret)/np.std(residual_ret)\n",
    "print('Information Ratio: ',IR)"
   ]
  },
  {
   "cell_type": "code",
   "execution_count": 64,
   "metadata": {
    "ExecuteTime": {
     "end_time": "2020-02-09T20:43:08.280790Z",
     "start_time": "2020-02-09T20:43:08.275790Z"
    }
   },
   "outputs": [],
   "source": [
    "alpha = np.mean(residual_ret)"
   ]
  },
  {
   "cell_type": "code",
   "execution_count": 65,
   "metadata": {
    "ExecuteTime": {
     "end_time": "2020-02-09T20:43:09.378792Z",
     "start_time": "2020-02-09T20:43:09.373790Z"
    }
   },
   "outputs": [
    {
     "data": {
      "text/plain": [
       "0.044056293343408846"
      ]
     },
     "execution_count": 65,
     "metadata": {},
     "output_type": "execute_result"
    }
   ],
   "source": [
    "alpha"
   ]
  },
  {
   "cell_type": "code",
   "execution_count": null,
   "metadata": {},
   "outputs": [],
   "source": []
  }
 ],
 "metadata": {
  "kernelspec": {
   "display_name": "Python 3 (ipykernel)",
   "language": "python",
   "name": "python3"
  },
  "language_info": {
   "codemirror_mode": {
    "name": "ipython",
    "version": 3
   },
   "file_extension": ".py",
   "mimetype": "text/x-python",
   "name": "python",
   "nbconvert_exporter": "python",
   "pygments_lexer": "ipython3",
   "version": "3.10.4"
  },
  "latex_envs": {
   "LaTeX_envs_menu_present": true,
   "autoclose": false,
   "autocomplete": true,
   "bibliofile": "biblio.bib",
   "cite_by": "apalike",
   "current_citInitial": 1,
   "eqLabelWithNumbers": true,
   "eqNumInitial": 1,
   "hotkeys": {
    "equation": "Ctrl-E",
    "itemize": "Ctrl-I"
   },
   "labels_anchors": false,
   "latex_user_defs": false,
   "report_style_numbering": false,
   "user_envs_cfg": false
  }
 },
 "nbformat": 4,
 "nbformat_minor": 2
}
