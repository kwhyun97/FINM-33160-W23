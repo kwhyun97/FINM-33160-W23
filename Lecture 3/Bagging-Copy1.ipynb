{
 "cells": [
  {
   "cell_type": "code",
   "execution_count": 279,
   "metadata": {
    "ExecuteTime": {
     "end_time": "2020-01-27T00:13:36.063406Z",
     "start_time": "2020-01-27T00:13:29.259443Z"
    }
   },
   "outputs": [],
   "source": [
    "import pandas as pd\n",
    "import numpy as np\n",
    "import matplotlib.pyplot as plt\n",
    "%matplotlib inline\n",
    "from sklearn.metrics import accuracy_score, confusion_matrix\n",
    "from sklearn.tree import DecisionTreeClassifier\n",
    "from sklearn.ensemble import BaggingClassifier\n",
    "pd.set_option('use_inf_as_na', True)\n",
    "from collections import Counter"
   ]
  },
  {
   "cell_type": "code",
   "execution_count": 280,
   "metadata": {
    "ExecuteTime": {
     "end_time": "2020-01-27T00:13:38.037842Z",
     "start_time": "2020-01-27T00:13:37.021089Z"
    }
   },
   "outputs": [],
   "source": [
    "raw_data = pd.read_pickle(r'C:\\Users\\niels\\OneDrive\\Machine Learning 2022\\Lecture 2\\dataset.pkl')"
   ]
  },
  {
   "cell_type": "code",
   "execution_count": 281,
   "metadata": {},
   "outputs": [],
   "source": [
    "raw_data = raw_data.drop([x  for x in raw_data.columns if 'fqtr' in x],axis=1)"
   ]
  },
  {
   "cell_type": "code",
   "execution_count": 282,
   "metadata": {
    "ExecuteTime": {
     "end_time": "2020-01-27T00:13:39.622657Z",
     "start_time": "2020-01-27T00:13:39.102621Z"
    }
   },
   "outputs": [],
   "source": [
    "data = raw_data[raw_data['market_cap'] > 1000.0]"
   ]
  },
  {
   "cell_type": "code",
   "execution_count": 283,
   "metadata": {
    "ExecuteTime": {
     "end_time": "2020-01-27T00:13:41.553209Z",
     "start_time": "2020-01-27T00:13:41.184892Z"
    }
   },
   "outputs": [],
   "source": [
    "data = data.copy()\n",
    "data.fillna(0.0,inplace=True)"
   ]
  },
  {
   "cell_type": "code",
   "execution_count": 284,
   "metadata": {
    "ExecuteTime": {
     "end_time": "2020-01-27T00:13:42.994589Z",
     "start_time": "2020-01-27T00:13:42.990586Z"
    }
   },
   "outputs": [],
   "source": [
    "def f(x):\n",
    "    if x > 0.01:\n",
    "        return 1\n",
    "    elif x < -0.025:\n",
    "        return -1\n",
    "    else:\n",
    "    \n",
    "        return 0"
   ]
  },
  {
   "cell_type": "code",
   "execution_count": 285,
   "metadata": {
    "ExecuteTime": {
     "end_time": "2020-01-27T00:13:47.540005Z",
     "start_time": "2020-01-27T00:13:47.479389Z"
    }
   },
   "outputs": [],
   "source": [
    "data['rel_performance'] = data['pred_rel_return'].apply(f)"
   ]
  },
  {
   "cell_type": "code",
   "execution_count": 368,
   "metadata": {
    "ExecuteTime": {
     "end_time": "2020-01-27T20:23:36.651413Z",
     "start_time": "2020-01-27T20:23:36.347410Z"
    }
   },
   "outputs": [],
   "source": [
    "data.reset_index(inplace=True,)\n",
    "data.set_index('date',inplace=True)\n",
    "\n",
    "data.sort_index()\n",
    "data.head()\n",
    "\n",
    "df_train = data.loc['2001-01-01':'2004-01-01']\n",
    "\n",
    "df_valid = data.loc['2004-04-01':'2004-07-01']\n",
    "df_test = data.loc['2004-07-01':'2004-10-01']\n",
    "\n",
    "train = df_train.reset_index().drop(['ticker','date',\n",
    "                                   'next_period_return',\n",
    "                                   'spy_next_period_return',\n",
    "                                   'rel_performance','pred_rel_return',\n",
    "                                  'return', 'cum_ret', 'spy_cum_ret'],axis=1)\n",
    "\n",
    "\n",
    "valid = df_valid.reset_index().drop(['ticker','date',\n",
    "                                   'next_period_return',\n",
    "                                   'spy_next_period_return',\n",
    "                                   'rel_performance','pred_rel_return',\n",
    "                                  'return', 'cum_ret', 'spy_cum_ret'],axis=1)\n",
    "test = df_test.reset_index().drop(['ticker','date',\n",
    "                                   'next_period_return',\n",
    "                                   'spy_next_period_return',\n",
    "                                   'rel_performance','pred_rel_return',\n",
    "                                  'return', 'cum_ret', 'spy_cum_ret'],axis=1)\n",
    "\n",
    "train_stock_returns = df_train['next_period_return']\n",
    "valid_stock_returns = df_valid['next_period_return']\n",
    "test_stock_returns = df_test['next_period_return']\n",
    "\n",
    "y_train = df_train['rel_performance']\n",
    "y_valid = df_valid['rel_performance']\n",
    "y_test = df_test['rel_performance']\n",
    "\n",
    "y_train = y_train.values\n",
    "y_valid = y_valid.values\n",
    "y_test = y_test.values"
   ]
  },
  {
   "cell_type": "code",
   "execution_count": 369,
   "metadata": {},
   "outputs": [],
   "source": [
    "from sklearn.preprocessing import MinMaxScaler,StandardScaler"
   ]
  },
  {
   "cell_type": "code",
   "execution_count": 370,
   "metadata": {},
   "outputs": [],
   "source": [
    "scaler = StandardScaler()"
   ]
  },
  {
   "cell_type": "code",
   "execution_count": 371,
   "metadata": {},
   "outputs": [],
   "source": [
    "float_vars = [x for x in train.columns if data[x].dtype == 'float64']"
   ]
  },
  {
   "cell_type": "code",
   "execution_count": 372,
   "metadata": {},
   "outputs": [
    {
     "data": {
      "text/plain": [
       "179"
      ]
     },
     "execution_count": 372,
     "metadata": {},
     "output_type": "execute_result"
    }
   ],
   "source": [
    "len(float_vars)"
   ]
  },
  {
   "cell_type": "code",
   "execution_count": 373,
   "metadata": {},
   "outputs": [],
   "source": [
    "train_norm = train.copy()\n",
    "valid_norm = valid.copy()\n",
    "test_norm = test.copy()"
   ]
  },
  {
   "cell_type": "code",
   "execution_count": 374,
   "metadata": {},
   "outputs": [],
   "source": [
    "train_norm[float_vars] = scaler.fit_transform(train[float_vars])\n",
    "valid_norm[float_vars] = scaler.transform(valid[float_vars])\n",
    "test_norm[float_vars] = scaler.transform(test[float_vars])"
   ]
  },
  {
   "cell_type": "code",
   "execution_count": 375,
   "metadata": {
    "ExecuteTime": {
     "end_time": "2020-01-27T00:13:51.739242Z",
     "start_time": "2020-01-27T00:13:51.736245Z"
    }
   },
   "outputs": [],
   "source": [
    "t_clf = DecisionTreeClassifier(max_depth=6,min_samples_leaf=200)"
   ]
  },
  {
   "cell_type": "code",
   "execution_count": 376,
   "metadata": {
    "ExecuteTime": {
     "end_time": "2020-01-27T00:13:58.721115Z",
     "start_time": "2020-01-27T00:13:58.717131Z"
    }
   },
   "outputs": [],
   "source": [
    "bg_clf = BaggingClassifier(t_clf,n_estimators=40,random_state=123,n_jobs=-1)"
   ]
  },
  {
   "cell_type": "code",
   "execution_count": 377,
   "metadata": {
    "ExecuteTime": {
     "end_time": "2020-01-27T20:25:24.319055Z",
     "start_time": "2020-01-27T20:25:08.364270Z"
    }
   },
   "outputs": [
    {
     "data": {
      "text/html": [
       "<style>#sk-container-id-13 {color: black;background-color: white;}#sk-container-id-13 pre{padding: 0;}#sk-container-id-13 div.sk-toggleable {background-color: white;}#sk-container-id-13 label.sk-toggleable__label {cursor: pointer;display: block;width: 100%;margin-bottom: 0;padding: 0.3em;box-sizing: border-box;text-align: center;}#sk-container-id-13 label.sk-toggleable__label-arrow:before {content: \"▸\";float: left;margin-right: 0.25em;color: #696969;}#sk-container-id-13 label.sk-toggleable__label-arrow:hover:before {color: black;}#sk-container-id-13 div.sk-estimator:hover label.sk-toggleable__label-arrow:before {color: black;}#sk-container-id-13 div.sk-toggleable__content {max-height: 0;max-width: 0;overflow: hidden;text-align: left;background-color: #f0f8ff;}#sk-container-id-13 div.sk-toggleable__content pre {margin: 0.2em;color: black;border-radius: 0.25em;background-color: #f0f8ff;}#sk-container-id-13 input.sk-toggleable__control:checked~div.sk-toggleable__content {max-height: 200px;max-width: 100%;overflow: auto;}#sk-container-id-13 input.sk-toggleable__control:checked~label.sk-toggleable__label-arrow:before {content: \"▾\";}#sk-container-id-13 div.sk-estimator input.sk-toggleable__control:checked~label.sk-toggleable__label {background-color: #d4ebff;}#sk-container-id-13 div.sk-label input.sk-toggleable__control:checked~label.sk-toggleable__label {background-color: #d4ebff;}#sk-container-id-13 input.sk-hidden--visually {border: 0;clip: rect(1px 1px 1px 1px);clip: rect(1px, 1px, 1px, 1px);height: 1px;margin: -1px;overflow: hidden;padding: 0;position: absolute;width: 1px;}#sk-container-id-13 div.sk-estimator {font-family: monospace;background-color: #f0f8ff;border: 1px dotted black;border-radius: 0.25em;box-sizing: border-box;margin-bottom: 0.5em;}#sk-container-id-13 div.sk-estimator:hover {background-color: #d4ebff;}#sk-container-id-13 div.sk-parallel-item::after {content: \"\";width: 100%;border-bottom: 1px solid gray;flex-grow: 1;}#sk-container-id-13 div.sk-label:hover label.sk-toggleable__label {background-color: #d4ebff;}#sk-container-id-13 div.sk-serial::before {content: \"\";position: absolute;border-left: 1px solid gray;box-sizing: border-box;top: 0;bottom: 0;left: 50%;z-index: 0;}#sk-container-id-13 div.sk-serial {display: flex;flex-direction: column;align-items: center;background-color: white;padding-right: 0.2em;padding-left: 0.2em;position: relative;}#sk-container-id-13 div.sk-item {position: relative;z-index: 1;}#sk-container-id-13 div.sk-parallel {display: flex;align-items: stretch;justify-content: center;background-color: white;position: relative;}#sk-container-id-13 div.sk-item::before, #sk-container-id-13 div.sk-parallel-item::before {content: \"\";position: absolute;border-left: 1px solid gray;box-sizing: border-box;top: 0;bottom: 0;left: 50%;z-index: -1;}#sk-container-id-13 div.sk-parallel-item {display: flex;flex-direction: column;z-index: 1;position: relative;background-color: white;}#sk-container-id-13 div.sk-parallel-item:first-child::after {align-self: flex-end;width: 50%;}#sk-container-id-13 div.sk-parallel-item:last-child::after {align-self: flex-start;width: 50%;}#sk-container-id-13 div.sk-parallel-item:only-child::after {width: 0;}#sk-container-id-13 div.sk-dashed-wrapped {border: 1px dashed gray;margin: 0 0.4em 0.5em 0.4em;box-sizing: border-box;padding-bottom: 0.4em;background-color: white;}#sk-container-id-13 div.sk-label label {font-family: monospace;font-weight: bold;display: inline-block;line-height: 1.2em;}#sk-container-id-13 div.sk-label-container {text-align: center;}#sk-container-id-13 div.sk-container {/* jupyter's `normalize.less` sets `[hidden] { display: none; }` but bootstrap.min.css set `[hidden] { display: none !important; }` so we also need the `!important` here to be able to override the default hidden behavior on the sphinx rendered scikit-learn.org. See: https://github.com/scikit-learn/scikit-learn/issues/21755 */display: inline-block !important;position: relative;}#sk-container-id-13 div.sk-text-repr-fallback {display: none;}</style><div id=\"sk-container-id-13\" class=\"sk-top-container\"><div class=\"sk-text-repr-fallback\"><pre>BaggingClassifier(base_estimator=DecisionTreeClassifier(max_depth=6,\n",
       "                                                        min_samples_leaf=200),\n",
       "                  n_estimators=40, n_jobs=-1, random_state=123)</pre><b>In a Jupyter environment, please rerun this cell to show the HTML representation or trust the notebook. <br />On GitHub, the HTML representation is unable to render, please try loading this page with nbviewer.org.</b></div><div class=\"sk-container\" hidden><div class=\"sk-item sk-dashed-wrapped\"><div class=\"sk-label-container\"><div class=\"sk-label sk-toggleable\"><input class=\"sk-toggleable__control sk-hidden--visually\" id=\"sk-estimator-id-37\" type=\"checkbox\" ><label for=\"sk-estimator-id-37\" class=\"sk-toggleable__label sk-toggleable__label-arrow\">BaggingClassifier</label><div class=\"sk-toggleable__content\"><pre>BaggingClassifier(base_estimator=DecisionTreeClassifier(max_depth=6,\n",
       "                                                        min_samples_leaf=200),\n",
       "                  n_estimators=40, n_jobs=-1, random_state=123)</pre></div></div></div><div class=\"sk-parallel\"><div class=\"sk-parallel-item\"><div class=\"sk-item\"><div class=\"sk-label-container\"><div class=\"sk-label sk-toggleable\"><input class=\"sk-toggleable__control sk-hidden--visually\" id=\"sk-estimator-id-38\" type=\"checkbox\" ><label for=\"sk-estimator-id-38\" class=\"sk-toggleable__label sk-toggleable__label-arrow\">base_estimator: DecisionTreeClassifier</label><div class=\"sk-toggleable__content\"><pre>DecisionTreeClassifier(max_depth=6, min_samples_leaf=200)</pre></div></div></div><div class=\"sk-serial\"><div class=\"sk-item\"><div class=\"sk-estimator sk-toggleable\"><input class=\"sk-toggleable__control sk-hidden--visually\" id=\"sk-estimator-id-39\" type=\"checkbox\" ><label for=\"sk-estimator-id-39\" class=\"sk-toggleable__label sk-toggleable__label-arrow\">DecisionTreeClassifier</label><div class=\"sk-toggleable__content\"><pre>DecisionTreeClassifier(max_depth=6, min_samples_leaf=200)</pre></div></div></div></div></div></div></div></div></div></div>"
      ],
      "text/plain": [
       "BaggingClassifier(base_estimator=DecisionTreeClassifier(max_depth=6,\n",
       "                                                        min_samples_leaf=200),\n",
       "                  n_estimators=40, n_jobs=-1, random_state=123)"
      ]
     },
     "execution_count": 377,
     "metadata": {},
     "output_type": "execute_result"
    }
   ],
   "source": [
    "bg_clf.fit(train_norm,y_train)"
   ]
  },
  {
   "cell_type": "code",
   "execution_count": 378,
   "metadata": {
    "ExecuteTime": {
     "end_time": "2020-01-27T20:25:45.153178Z",
     "start_time": "2020-01-27T20:25:45.143145Z"
    }
   },
   "outputs": [],
   "source": [
    "def bagging_feat_importance(m, df):\n",
    "    feature_importances = []\n",
    "    for est in m.estimators_:\n",
    "        fi = est.feature_importances_\n",
    "        feature_importances.append(fi)\n",
    "    feature_importances = np.array(feature_importances)\n",
    "        \n",
    "    return pd.DataFrame({'cols':train.columns, 'feat_imp':np.mean(feature_importances,axis=0)}\n",
    "                       ).sort_values('feat_imp', ascending=False)\n",
    "\n",
    "\n",
    "def plot_fi(fi): return fi.plot('cols', 'feat_imp', 'barh', figsize=(12,7), legend=False)"
   ]
  },
  {
   "cell_type": "code",
   "execution_count": 379,
   "metadata": {},
   "outputs": [],
   "source": [
    "fi = bagging_feat_importance(bg_clf,train)"
   ]
  },
  {
   "cell_type": "code",
   "execution_count": 380,
   "metadata": {},
   "outputs": [
    {
     "data": {
      "image/png": "[encoded data removed]",
      "text/plain": [
       "<Figure size 864x504 with 1 Axes>"
      ]
     },
     "metadata": {
      "needs_background": "light"
     },
     "output_type": "display_data"
    }
   ],
   "source": [
    "features = fi[(fi['feat_imp'] > 0.0)]\n",
    "plot_fi(features);"
   ]
  },
  {
   "cell_type": "code",
   "execution_count": 381,
   "metadata": {},
   "outputs": [
    {
     "data": {
      "text/plain": [
       "155"
      ]
     },
     "execution_count": 381,
     "metadata": {},
     "output_type": "execute_result"
    }
   ],
   "source": [
    "len(features)"
   ]
  },
  {
   "cell_type": "code",
   "execution_count": 382,
   "metadata": {
    "ExecuteTime": {
     "end_time": "2020-01-27T20:26:17.810888Z",
     "start_time": "2020-01-27T20:26:14.247547Z"
    }
   },
   "outputs": [
    {
     "data": {
      "text/plain": [
       "0.5791708983473364"
      ]
     },
     "execution_count": 382,
     "metadata": {},
     "output_type": "execute_result"
    }
   ],
   "source": [
    "bg_clf.score(train,y_train)"
   ]
  },
  {
   "cell_type": "code",
   "execution_count": 383,
   "metadata": {},
   "outputs": [
    {
     "data": {
      "text/plain": [
       "0.5445887445887446"
      ]
     },
     "execution_count": 383,
     "metadata": {},
     "output_type": "execute_result"
    }
   ],
   "source": [
    "bg_clf.score(valid,y_valid)"
   ]
  },
  {
   "cell_type": "code",
   "execution_count": 387,
   "metadata": {},
   "outputs": [],
   "source": [
    "pred_valid = bg_clf.predict(valid_norm)"
   ]
  },
  {
   "cell_type": "code",
   "execution_count": 388,
   "metadata": {},
   "outputs": [
    {
     "data": {
      "text/plain": [
       "Counter({1: 1127, -1: 28})"
      ]
     },
     "execution_count": 388,
     "metadata": {},
     "output_type": "execute_result"
    }
   ],
   "source": [
    "Counter(pred_valid)"
   ]
  },
  {
   "cell_type": "code",
   "execution_count": 389,
   "metadata": {},
   "outputs": [
    {
     "data": {
      "text/plain": [
       "Counter({1: 628, -1: 402, 0: 125})"
      ]
     },
     "execution_count": 389,
     "metadata": {},
     "output_type": "execute_result"
    }
   ],
   "source": [
    "Counter(y_valid)"
   ]
  },
  {
   "cell_type": "code",
   "execution_count": 390,
   "metadata": {},
   "outputs": [
    {
     "data": {
      "text/plain": [
       "-12.83161799999998"
      ]
     },
     "execution_count": 390,
     "metadata": {},
     "output_type": "execute_result"
    }
   ],
   "source": [
    "profit = (pred_valid*valid_stock_returns).sum()\n",
    "profit"
   ]
  },
  {
   "cell_type": "code",
   "execution_count": null,
   "metadata": {},
   "outputs": [],
   "source": []
  },
  {
   "cell_type": "code",
   "execution_count": 391,
   "metadata": {},
   "outputs": [],
   "source": [
    "import optuna\n",
    "from optuna.trial import Trial"
   ]
  },
  {
   "cell_type": "code",
   "execution_count": 392,
   "metadata": {},
   "outputs": [],
   "source": [
    "def objective(trial:Trial,train=None,labels=None,val=None,val_labels=None,val_rets=None):\n",
    "\n",
    "    t_min_samples_leaf = trial.suggest_int('min_samples_leaf',100,1200,step=100)\n",
    "    t_max_depth = trial.suggest_int('max_depth',5,25,step=5)\n",
    "    t_n_estimators = trial.suggest_int('n_estimators',5,50,step=5)\n",
    "\n",
    "    \n",
    "    t_clf = DecisionTreeClassifier(min_samples_leaf = t_min_samples_leaf,max_depth=t_max_depth,random_state=123)\n",
    "    bg_clf = BaggingClassifier(t_clf,n_estimators=t_n_estimators,random_state=123,n_jobs=1)\n",
    "    bg_clf.fit(train,labels)\n",
    "\n",
    "    preds = bg_clf.predict(val)\n",
    "    profit = (preds * val_rets).sum()\n",
    "\n",
    "#     score = bg_clf.score(val,val_labels)\n",
    "\n",
    "    return profit"
   ]
  },
  {
   "cell_type": "code",
   "execution_count": 393,
   "metadata": {},
   "outputs": [
    {
     "name": "stderr",
     "output_type": "stream",
     "text": [
      "\u001b[32m[I 2023-01-15 10:37:51,525]\u001b[0m A new study created in memory with name: no-name-cede30ae-768b-4dea-8c03-5bc17aab3131\u001b[0m\n"
     ]
    }
   ],
   "source": [
    "study = optuna.create_study(direction=\"maximize\")"
   ]
  },
  {
   "cell_type": "code",
   "execution_count": 303,
   "metadata": {},
   "outputs": [],
   "source": [
    "from functools import partial"
   ]
  },
  {
   "cell_type": "code",
   "execution_count": 394,
   "metadata": {},
   "outputs": [
    {
     "name": "stderr",
     "output_type": "stream",
     "text": [
      "\u001b[32m[I 2023-01-15 10:38:35,905]\u001b[0m Trial 5 finished with value: -26.068305999999993 and parameters: {'min_samples_leaf': 1000, 'max_depth': 20, 'n_estimators': 10}. Best is trial 5 with value: -26.068305999999993.\u001b[0m\n",
      "\u001b[32m[I 2023-01-15 10:38:37,102]\u001b[0m Trial 3 finished with value: -8.359655999999983 and parameters: {'min_samples_leaf': 100, 'max_depth': 15, 'n_estimators': 5}. Best is trial 3 with value: -8.359655999999983.\u001b[0m\n",
      "\u001b[32m[I 2023-01-15 10:38:38,663]\u001b[0m Trial 6 finished with value: -8.225577999999976 and parameters: {'min_samples_leaf': 400, 'max_depth': 10, 'n_estimators': 10}. Best is trial 6 with value: -8.225577999999976.\u001b[0m\n",
      "\u001b[32m[I 2023-01-15 10:38:40,883]\u001b[0m Trial 1 finished with value: -26.068305999999993 and parameters: {'min_samples_leaf': 1000, 'max_depth': 10, 'n_estimators': 20}. Best is trial 6 with value: -8.225577999999976.\u001b[0m\n",
      "\u001b[32m[I 2023-01-15 10:38:41,053]\u001b[0m Trial 4 finished with value: -10.70270999999998 and parameters: {'min_samples_leaf': 500, 'max_depth': 5, 'n_estimators': 15}. Best is trial 6 with value: -8.225577999999976.\u001b[0m\n",
      "\u001b[32m[I 2023-01-15 10:38:42,000]\u001b[0m Trial 8 finished with value: -9.096675999999983 and parameters: {'min_samples_leaf': 100, 'max_depth': 10, 'n_estimators': 5}. Best is trial 6 with value: -8.225577999999976.\u001b[0m\n",
      "\u001b[32m[I 2023-01-15 10:38:46,219]\u001b[0m Trial 9 finished with value: -26.068305999999993 and parameters: {'min_samples_leaf': 700, 'max_depth': 25, 'n_estimators': 15}. Best is trial 6 with value: -8.225577999999976.\u001b[0m\n",
      "\u001b[32m[I 2023-01-15 10:38:48,461]\u001b[0m Trial 2 finished with value: -26.068305999999993 and parameters: {'min_samples_leaf': 1200, 'max_depth': 20, 'n_estimators': 40}. Best is trial 6 with value: -8.225577999999976.\u001b[0m\n",
      "\u001b[32m[I 2023-01-15 10:38:50,865]\u001b[0m Trial 0 finished with value: -26.068305999999993 and parameters: {'min_samples_leaf': 800, 'max_depth': 15, 'n_estimators': 35}. Best is trial 6 with value: -8.225577999999976.\u001b[0m\n",
      "\u001b[32m[I 2023-01-15 10:38:51,106]\u001b[0m Trial 11 finished with value: -26.068305999999993 and parameters: {'min_samples_leaf': 1000, 'max_depth': 10, 'n_estimators': 20}. Best is trial 6 with value: -8.225577999999976.\u001b[0m\n",
      "\u001b[32m[I 2023-01-15 10:38:51,163]\u001b[0m Trial 7 finished with value: -26.068305999999993 and parameters: {'min_samples_leaf': 1000, 'max_depth': 5, 'n_estimators': 40}. Best is trial 6 with value: -8.225577999999976.\u001b[0m\n",
      "\u001b[32m[I 2023-01-15 10:38:52,728]\u001b[0m Trial 12 finished with value: -26.068305999999993 and parameters: {'min_samples_leaf': 800, 'max_depth': 10, 'n_estimators': 20}. Best is trial 6 with value: -8.225577999999976.\u001b[0m\n",
      "\u001b[32m[I 2023-01-15 10:38:52,971]\u001b[0m Trial 14 finished with value: -8.359655999999983 and parameters: {'min_samples_leaf': 100, 'max_depth': 20, 'n_estimators': 5}. Best is trial 6 with value: -8.225577999999976.\u001b[0m\n",
      "\u001b[32m[I 2023-01-15 10:38:53,307]\u001b[0m Trial 15 finished with value: -7.354863999999973 and parameters: {'min_samples_leaf': 300, 'max_depth': 20, 'n_estimators': 5}. Best is trial 15 with value: -7.354863999999973.\u001b[0m\n",
      "\u001b[32m[I 2023-01-15 10:38:53,361]\u001b[0m Trial 16 finished with value: -26.068305999999993 and parameters: {'min_samples_leaf': 1200, 'max_depth': 15, 'n_estimators': 5}. Best is trial 15 with value: -7.354863999999973.\u001b[0m\n",
      "\u001b[32m[I 2023-01-15 10:38:55,150]\u001b[0m Trial 13 finished with value: -26.068305999999993 and parameters: {'min_samples_leaf': 1000, 'max_depth': 20, 'n_estimators': 25}. Best is trial 15 with value: -7.354863999999973.\u001b[0m\n",
      "\u001b[32m[I 2023-01-15 10:38:57,996]\u001b[0m Trial 18 finished with value: -8.359655999999983 and parameters: {'min_samples_leaf': 100, 'max_depth': 15, 'n_estimators': 5}. Best is trial 15 with value: -7.354863999999973.\u001b[0m\n",
      "\u001b[32m[I 2023-01-15 10:38:59,503]\u001b[0m Trial 19 finished with value: -8.359655999999983 and parameters: {'min_samples_leaf': 100, 'max_depth': 15, 'n_estimators': 5}. Best is trial 15 with value: -7.354863999999973.\u001b[0m\n",
      "\u001b[32m[I 2023-01-15 10:39:05,262]\u001b[0m Trial 10 finished with value: -12.027181999999979 and parameters: {'min_samples_leaf': 200, 'max_depth': 15, 'n_estimators': 25}. Best is trial 15 with value: -7.354863999999973.\u001b[0m\n",
      "\u001b[32m[I 2023-01-15 10:39:18,078]\u001b[0m Trial 20 finished with value: -11.91281799999998 and parameters: {'min_samples_leaf': 400, 'max_depth': 15, 'n_estimators': 30}. Best is trial 15 with value: -7.354863999999973.\u001b[0m\n",
      "\u001b[32m[I 2023-01-15 10:39:29,678]\u001b[0m Trial 17 finished with value: -11.256269999999981 and parameters: {'min_samples_leaf': 400, 'max_depth': 5, 'n_estimators': 50}. Best is trial 15 with value: -7.354863999999973.\u001b[0m\n",
      "\u001b[32m[I 2023-01-15 10:39:30,646]\u001b[0m Trial 26 finished with value: -11.91281799999998 and parameters: {'min_samples_leaf': 400, 'max_depth': 25, 'n_estimators': 30}. Best is trial 15 with value: -7.354863999999973.\u001b[0m\n",
      "\u001b[32m[I 2023-01-15 10:39:35,134]\u001b[0m Trial 22 finished with value: -11.256269999999981 and parameters: {'min_samples_leaf': 400, 'max_depth': 25, 'n_estimators': 50}. Best is trial 15 with value: -7.354863999999973.\u001b[0m\n",
      "\u001b[32m[I 2023-01-15 10:39:36,834]\u001b[0m Trial 23 finished with value: -11.256269999999981 and parameters: {'min_samples_leaf': 400, 'max_depth': 25, 'n_estimators': 50}. Best is trial 15 with value: -7.354863999999973.\u001b[0m\n",
      "\u001b[32m[I 2023-01-15 10:39:39,467]\u001b[0m Trial 28 finished with value: -10.125701999999977 and parameters: {'min_samples_leaf': 300, 'max_depth': 25, 'n_estimators': 10}. Best is trial 15 with value: -7.354863999999973.\u001b[0m\n",
      "\u001b[32m[I 2023-01-15 10:39:40,114]\u001b[0m Trial 24 finished with value: -11.256269999999981 and parameters: {'min_samples_leaf': 400, 'max_depth': 25, 'n_estimators': 50}. Best is trial 15 with value: -7.354863999999973.\u001b[0m\n",
      "\u001b[32m[I 2023-01-15 10:39:40,485]\u001b[0m Trial 29 finished with value: -10.125701999999977 and parameters: {'min_samples_leaf': 300, 'max_depth': 20, 'n_estimators': 10}. Best is trial 15 with value: -7.354863999999973.\u001b[0m\n",
      "\u001b[32m[I 2023-01-15 10:39:41,047]\u001b[0m Trial 21 finished with value: -13.40317799999998 and parameters: {'min_samples_leaf': 300, 'max_depth': 25, 'n_estimators': 50}. Best is trial 15 with value: -7.354863999999973.\u001b[0m\n",
      "\u001b[32m[I 2023-01-15 10:39:46,395]\u001b[0m Trial 30 finished with value: -10.125701999999977 and parameters: {'min_samples_leaf': 300, 'max_depth': 20, 'n_estimators': 10}. Best is trial 15 with value: -7.354863999999973.\u001b[0m\n",
      "\u001b[32m[I 2023-01-15 10:39:47,981]\u001b[0m Trial 31 finished with value: -10.125701999999977 and parameters: {'min_samples_leaf': 300, 'max_depth': 10, 'n_estimators': 10}. Best is trial 15 with value: -7.354863999999973.\u001b[0m\n",
      "\u001b[32m[I 2023-01-15 10:39:48,456]\u001b[0m Trial 25 finished with value: -13.40317799999998 and parameters: {'min_samples_leaf': 300, 'max_depth': 25, 'n_estimators': 50}. Best is trial 15 with value: -7.354863999999973.\u001b[0m\n",
      "\u001b[32m[I 2023-01-15 10:39:48,908]\u001b[0m Trial 32 finished with value: -16.383167999999976 and parameters: {'min_samples_leaf': 600, 'max_depth': 10, 'n_estimators': 10}. Best is trial 15 with value: -7.354863999999973.\u001b[0m\n",
      "\u001b[32m[I 2023-01-15 10:39:49,178]\u001b[0m Trial 33 finished with value: -16.383167999999976 and parameters: {'min_samples_leaf': 600, 'max_depth': 10, 'n_estimators': 10}. Best is trial 15 with value: -7.354863999999973.\u001b[0m\n",
      "\u001b[32m[I 2023-01-15 10:39:54,405]\u001b[0m Trial 34 finished with value: -17.49515199999998 and parameters: {'min_samples_leaf': 600, 'max_depth': 20, 'n_estimators': 15}. Best is trial 15 with value: -7.354863999999973.\u001b[0m\n",
      "\u001b[32m[I 2023-01-15 10:39:54,744]\u001b[0m Trial 35 finished with value: -17.49515199999998 and parameters: {'min_samples_leaf': 600, 'max_depth': 20, 'n_estimators': 15}. Best is trial 15 with value: -7.354863999999973.\u001b[0m\n",
      "\u001b[32m[I 2023-01-15 10:39:59,530]\u001b[0m Trial 36 finished with value: -17.49515199999998 and parameters: {'min_samples_leaf': 600, 'max_depth': 20, 'n_estimators': 15}. Best is trial 15 with value: -7.354863999999973.\u001b[0m\n",
      "\u001b[32m[I 2023-01-15 10:40:00,795]\u001b[0m Trial 37 finished with value: -17.49515199999998 and parameters: {'min_samples_leaf': 600, 'max_depth': 20, 'n_estimators': 15}. Best is trial 15 with value: -7.354863999999973.\u001b[0m\n",
      "\u001b[32m[I 2023-01-15 10:40:01,388]\u001b[0m Trial 41 finished with value: -10.142967999999971 and parameters: {'min_samples_leaf': 200, 'max_depth': 20, 'n_estimators': 5}. Best is trial 15 with value: -7.354863999999973.\u001b[0m\n"
     ]
    },
    {
     "name": "stderr",
     "output_type": "stream",
     "text": [
      "\u001b[32m[I 2023-01-15 10:40:01,625]\u001b[0m Trial 42 finished with value: -10.142967999999971 and parameters: {'min_samples_leaf': 200, 'max_depth': 15, 'n_estimators': 5}. Best is trial 15 with value: -7.354863999999973.\u001b[0m\n",
      "\u001b[32m[I 2023-01-15 10:40:04,419]\u001b[0m Trial 27 finished with value: -11.256269999999981 and parameters: {'min_samples_leaf': 400, 'max_depth': 25, 'n_estimators': 50}. Best is trial 15 with value: -7.354863999999973.\u001b[0m\n",
      "\u001b[32m[I 2023-01-15 10:40:06,236]\u001b[0m Trial 43 finished with value: -10.142967999999971 and parameters: {'min_samples_leaf': 200, 'max_depth': 15, 'n_estimators': 5}. Best is trial 15 with value: -7.354863999999973.\u001b[0m\n",
      "\u001b[32m[I 2023-01-15 10:40:08,392]\u001b[0m Trial 38 finished with value: -13.193449999999975 and parameters: {'min_samples_leaf': 200, 'max_depth': 15, 'n_estimators': 15}. Best is trial 15 with value: -7.354863999999973.\u001b[0m\n",
      "\u001b[32m[I 2023-01-15 10:40:09,253]\u001b[0m Trial 40 finished with value: -13.193449999999975 and parameters: {'min_samples_leaf': 200, 'max_depth': 15, 'n_estimators': 15}. Best is trial 15 with value: -7.354863999999973.\u001b[0m\n",
      "\u001b[32m[I 2023-01-15 10:40:10,003]\u001b[0m Trial 44 finished with value: -10.142967999999971 and parameters: {'min_samples_leaf': 200, 'max_depth': 15, 'n_estimators': 5}. Best is trial 15 with value: -7.354863999999973.\u001b[0m\n",
      "\u001b[32m[I 2023-01-15 10:40:10,797]\u001b[0m Trial 45 finished with value: -10.142967999999971 and parameters: {'min_samples_leaf': 200, 'max_depth': 15, 'n_estimators': 5}. Best is trial 15 with value: -7.354863999999973.\u001b[0m\n",
      "\u001b[32m[I 2023-01-15 10:40:11,236]\u001b[0m Trial 46 finished with value: -10.142967999999971 and parameters: {'min_samples_leaf': 200, 'max_depth': 15, 'n_estimators': 5}. Best is trial 15 with value: -7.354863999999973.\u001b[0m\n",
      "\u001b[32m[I 2023-01-15 10:40:11,804]\u001b[0m Trial 39 finished with value: -13.193449999999975 and parameters: {'min_samples_leaf': 200, 'max_depth': 15, 'n_estimators': 15}. Best is trial 15 with value: -7.354863999999973.\u001b[0m\n",
      "\u001b[32m[I 2023-01-15 10:40:12,151]\u001b[0m Trial 47 finished with value: -10.142967999999971 and parameters: {'min_samples_leaf': 200, 'max_depth': 15, 'n_estimators': 5}. Best is trial 15 with value: -7.354863999999973.\u001b[0m\n",
      "\u001b[32m[I 2023-01-15 10:40:15,331]\u001b[0m Trial 48 finished with value: -8.359655999999983 and parameters: {'min_samples_leaf': 100, 'max_depth': 15, 'n_estimators': 5}. Best is trial 15 with value: -7.354863999999973.\u001b[0m\n",
      "\u001b[32m[I 2023-01-15 10:40:15,595]\u001b[0m Trial 50 finished with value: -8.889675999999977 and parameters: {'min_samples_leaf': 100, 'max_depth': 5, 'n_estimators': 5}. Best is trial 15 with value: -7.354863999999973.\u001b[0m\n",
      "\u001b[32m[I 2023-01-15 10:40:16,627]\u001b[0m Trial 51 finished with value: -8.889675999999977 and parameters: {'min_samples_leaf': 100, 'max_depth': 5, 'n_estimators': 5}. Best is trial 15 with value: -7.354863999999973.\u001b[0m\n",
      "\u001b[32m[I 2023-01-15 10:40:17,299]\u001b[0m Trial 49 finished with value: -8.359655999999983 and parameters: {'min_samples_leaf': 100, 'max_depth': 15, 'n_estimators': 5}. Best is trial 15 with value: -7.354863999999973.\u001b[0m\n",
      "\u001b[32m[I 2023-01-15 10:40:17,853]\u001b[0m Trial 52 finished with value: -8.889675999999977 and parameters: {'min_samples_leaf': 100, 'max_depth': 5, 'n_estimators': 5}. Best is trial 15 with value: -7.354863999999973.\u001b[0m\n",
      "\u001b[32m[I 2023-01-15 10:40:22,905]\u001b[0m Trial 55 finished with value: -11.349109999999975 and parameters: {'min_samples_leaf': 100, 'max_depth': 5, 'n_estimators': 10}. Best is trial 15 with value: -7.354863999999973.\u001b[0m\n",
      "\u001b[32m[I 2023-01-15 10:40:23,665]\u001b[0m Trial 54 finished with value: -11.349109999999975 and parameters: {'min_samples_leaf': 100, 'max_depth': 5, 'n_estimators': 10}. Best is trial 15 with value: -7.354863999999973.\u001b[0m\n",
      "\u001b[32m[I 2023-01-15 10:40:23,805]\u001b[0m Trial 53 finished with value: -11.349109999999975 and parameters: {'min_samples_leaf': 100, 'max_depth': 5, 'n_estimators': 10}. Best is trial 15 with value: -7.354863999999973.\u001b[0m\n",
      "\u001b[32m[I 2023-01-15 10:40:27,764]\u001b[0m Trial 60 finished with value: -8.48391599999998 and parameters: {'min_samples_leaf': 500, 'max_depth': 10, 'n_estimators': 10}. Best is trial 15 with value: -7.354863999999973.\u001b[0m\n",
      "\u001b[32m[I 2023-01-15 10:40:31,791]\u001b[0m Trial 61 finished with value: -8.48391599999998 and parameters: {'min_samples_leaf': 500, 'max_depth': 10, 'n_estimators': 10}. Best is trial 15 with value: -7.354863999999973.\u001b[0m\n",
      "\u001b[32m[I 2023-01-15 10:40:33,036]\u001b[0m Trial 59 finished with value: -10.091519999999985 and parameters: {'min_samples_leaf': 100, 'max_depth': 10, 'n_estimators': 10}. Best is trial 15 with value: -7.354863999999973.\u001b[0m\n",
      "\u001b[32m[I 2023-01-15 10:40:33,775]\u001b[0m Trial 58 finished with value: -10.091519999999985 and parameters: {'min_samples_leaf': 100, 'max_depth': 10, 'n_estimators': 10}. Best is trial 15 with value: -7.354863999999973.\u001b[0m\n",
      "\u001b[32m[I 2023-01-15 10:40:35,336]\u001b[0m Trial 65 finished with value: -26.068305999999993 and parameters: {'min_samples_leaf': 1100, 'max_depth': 20, 'n_estimators': 5}. Best is trial 15 with value: -7.354863999999973.\u001b[0m\n",
      "\u001b[32m[I 2023-01-15 10:40:44,679]\u001b[0m Trial 62 finished with value: -10.67865399999998 and parameters: {'min_samples_leaf': 500, 'max_depth': 10, 'n_estimators': 20}. Best is trial 15 with value: -7.354863999999973.\u001b[0m\n",
      "\u001b[32m[I 2023-01-15 10:40:47,762]\u001b[0m Trial 57 finished with value: -12.640079999999978 and parameters: {'min_samples_leaf': 100, 'max_depth': 10, 'n_estimators': 20}. Best is trial 15 with value: -7.354863999999973.\u001b[0m\n",
      "\u001b[32m[I 2023-01-15 10:40:48,914]\u001b[0m Trial 64 finished with value: -10.67865399999998 and parameters: {'min_samples_leaf': 500, 'max_depth': 10, 'n_estimators': 20}. Best is trial 15 with value: -7.354863999999973.\u001b[0m\n",
      "\u001b[32m[I 2023-01-15 10:41:01,254]\u001b[0m Trial 56 finished with value: -13.72363999999998 and parameters: {'min_samples_leaf': 100, 'max_depth': 5, 'n_estimators': 40}. Best is trial 15 with value: -7.354863999999973.\u001b[0m\n",
      "\u001b[32m[I 2023-01-15 10:41:06,794]\u001b[0m Trial 63 finished with value: -13.203113999999982 and parameters: {'min_samples_leaf': 500, 'max_depth': 10, 'n_estimators': 40}. Best is trial 15 with value: -7.354863999999973.\u001b[0m\n",
      "\u001b[32m[I 2023-01-15 10:41:12,607]\u001b[0m Trial 73 finished with value: -26.068305999999993 and parameters: {'min_samples_leaf': 800, 'max_depth': 15, 'n_estimators': 5}. Best is trial 15 with value: -7.354863999999973.\u001b[0m\n",
      "\u001b[32m[I 2023-01-15 10:41:19,116]\u001b[0m Trial 66 finished with value: -13.027411999999982 and parameters: {'min_samples_leaf': 500, 'max_depth': 20, 'n_estimators': 45}. Best is trial 15 with value: -7.354863999999973.\u001b[0m\n",
      "\u001b[32m[I 2023-01-15 10:41:19,153]\u001b[0m Trial 74 finished with value: -7.354863999999973 and parameters: {'min_samples_leaf': 300, 'max_depth': 20, 'n_estimators': 5}. Best is trial 15 with value: -7.354863999999973.\u001b[0m\n",
      "\u001b[32m[I 2023-01-15 10:41:21,193]\u001b[0m Trial 67 finished with value: -12.936817999999976 and parameters: {'min_samples_leaf': 300, 'max_depth': 20, 'n_estimators': 35}. Best is trial 15 with value: -7.354863999999973.\u001b[0m\n",
      "\u001b[32m[I 2023-01-15 10:41:25,031]\u001b[0m Trial 70 finished with value: -26.068305999999993 and parameters: {'min_samples_leaf': 800, 'max_depth': 15, 'n_estimators': 45}. Best is trial 15 with value: -7.354863999999973.\u001b[0m\n",
      "\u001b[32m[I 2023-01-15 10:41:26,287]\u001b[0m Trial 76 finished with value: -7.354863999999973 and parameters: {'min_samples_leaf': 300, 'max_depth': 15, 'n_estimators': 5}. Best is trial 15 with value: -7.354863999999973.\u001b[0m\n",
      "\u001b[32m[I 2023-01-15 10:41:27,914]\u001b[0m Trial 77 finished with value: -7.354863999999973 and parameters: {'min_samples_leaf': 300, 'max_depth': 20, 'n_estimators': 5}. Best is trial 15 with value: -7.354863999999973.\u001b[0m\n",
      "\u001b[32m[I 2023-01-15 10:41:28,320]\u001b[0m Trial 71 finished with value: -26.068305999999993 and parameters: {'min_samples_leaf': 800, 'max_depth': 15, 'n_estimators': 45}. Best is trial 15 with value: -7.354863999999973.\u001b[0m\n",
      "\u001b[32m[I 2023-01-15 10:41:31,202]\u001b[0m Trial 78 finished with value: -7.354863999999973 and parameters: {'min_samples_leaf': 300, 'max_depth': 15, 'n_estimators': 5}. Best is trial 15 with value: -7.354863999999973.\u001b[0m\n",
      "\u001b[32m[I 2023-01-15 10:41:32,132]\u001b[0m Trial 79 finished with value: -7.354863999999973 and parameters: {'min_samples_leaf': 300, 'max_depth': 20, 'n_estimators': 5}. Best is trial 15 with value: -7.354863999999973.\u001b[0m\n"
     ]
    },
    {
     "name": "stderr",
     "output_type": "stream",
     "text": [
      "\u001b[32m[I 2023-01-15 10:41:33,262]\u001b[0m Trial 69 finished with value: -12.936817999999976 and parameters: {'min_samples_leaf': 300, 'max_depth': 15, 'n_estimators': 35}. Best is trial 15 with value: -7.354863999999973.\u001b[0m\n",
      "\u001b[32m[I 2023-01-15 10:41:33,726]\u001b[0m Trial 72 finished with value: -12.468061999999977 and parameters: {'min_samples_leaf': 300, 'max_depth': 15, 'n_estimators': 25}. Best is trial 15 with value: -7.354863999999973.\u001b[0m\n",
      "\u001b[32m[I 2023-01-15 10:41:33,946]\u001b[0m Trial 80 finished with value: -7.354863999999973 and parameters: {'min_samples_leaf': 300, 'max_depth': 20, 'n_estimators': 5}. Best is trial 15 with value: -7.354863999999973.\u001b[0m\n",
      "\u001b[32m[I 2023-01-15 10:41:34,231]\u001b[0m Trial 81 finished with value: -7.354863999999973 and parameters: {'min_samples_leaf': 300, 'max_depth': 20, 'n_estimators': 5}. Best is trial 15 with value: -7.354863999999973.\u001b[0m\n",
      "\u001b[32m[I 2023-01-15 10:41:37,156]\u001b[0m Trial 82 finished with value: -7.354863999999973 and parameters: {'min_samples_leaf': 300, 'max_depth': 20, 'n_estimators': 5}. Best is trial 15 with value: -7.354863999999973.\u001b[0m\n",
      "\u001b[32m[I 2023-01-15 10:41:37,848]\u001b[0m Trial 75 finished with value: -26.068305999999993 and parameters: {'min_samples_leaf': 900, 'max_depth': 15, 'n_estimators': 25}. Best is trial 15 with value: -7.354863999999973.\u001b[0m\n",
      "\u001b[32m[I 2023-01-15 10:41:38,028]\u001b[0m Trial 83 finished with value: -7.354863999999973 and parameters: {'min_samples_leaf': 300, 'max_depth': 20, 'n_estimators': 5}. Best is trial 15 with value: -7.354863999999973.\u001b[0m\n",
      "\u001b[32m[I 2023-01-15 10:41:38,523]\u001b[0m Trial 84 finished with value: -4.182963999999975 and parameters: {'min_samples_leaf': 400, 'max_depth': 20, 'n_estimators': 5}. Best is trial 84 with value: -4.182963999999975.\u001b[0m\n",
      "\u001b[32m[I 2023-01-15 10:41:38,940]\u001b[0m Trial 85 finished with value: -4.182963999999975 and parameters: {'min_samples_leaf': 400, 'max_depth': 20, 'n_estimators': 5}. Best is trial 84 with value: -4.182963999999975.\u001b[0m\n",
      "\u001b[32m[I 2023-01-15 10:41:39,238]\u001b[0m Trial 86 finished with value: -4.182963999999975 and parameters: {'min_samples_leaf': 400, 'max_depth': 20, 'n_estimators': 5}. Best is trial 84 with value: -4.182963999999975.\u001b[0m\n",
      "\u001b[32m[I 2023-01-15 10:41:39,533]\u001b[0m Trial 87 finished with value: -4.182963999999975 and parameters: {'min_samples_leaf': 400, 'max_depth': 20, 'n_estimators': 5}. Best is trial 84 with value: -4.182963999999975.\u001b[0m\n",
      "\u001b[32m[I 2023-01-15 10:41:42,337]\u001b[0m Trial 88 finished with value: -4.182963999999975 and parameters: {'min_samples_leaf': 400, 'max_depth': 20, 'n_estimators': 5}. Best is trial 84 with value: -4.182963999999975.\u001b[0m\n",
      "\u001b[32m[I 2023-01-15 10:41:43,212]\u001b[0m Trial 89 finished with value: -4.182963999999975 and parameters: {'min_samples_leaf': 400, 'max_depth': 20, 'n_estimators': 5}. Best is trial 84 with value: -4.182963999999975.\u001b[0m\n",
      "\u001b[32m[I 2023-01-15 10:41:43,410]\u001b[0m Trial 90 finished with value: -4.182963999999975 and parameters: {'min_samples_leaf': 400, 'max_depth': 20, 'n_estimators': 5}. Best is trial 84 with value: -4.182963999999975.\u001b[0m\n",
      "\u001b[32m[I 2023-01-15 10:41:43,918]\u001b[0m Trial 91 finished with value: -4.182963999999975 and parameters: {'min_samples_leaf': 400, 'max_depth': 20, 'n_estimators': 5}. Best is trial 84 with value: -4.182963999999975.\u001b[0m\n",
      "\u001b[32m[I 2023-01-15 10:41:44,409]\u001b[0m Trial 92 finished with value: -4.182963999999975 and parameters: {'min_samples_leaf': 400, 'max_depth': 20, 'n_estimators': 5}. Best is trial 84 with value: -4.182963999999975.\u001b[0m\n",
      "\u001b[32m[I 2023-01-15 10:41:50,291]\u001b[0m Trial 93 finished with value: -8.225577999999976 and parameters: {'min_samples_leaf': 400, 'max_depth': 20, 'n_estimators': 10}. Best is trial 84 with value: -4.182963999999975.\u001b[0m\n",
      "\u001b[32m[I 2023-01-15 10:41:50,563]\u001b[0m Trial 94 finished with value: -8.225577999999976 and parameters: {'min_samples_leaf': 400, 'max_depth': 20, 'n_estimators': 10}. Best is trial 84 with value: -4.182963999999975.\u001b[0m\n",
      "\u001b[32m[I 2023-01-15 10:41:53,720]\u001b[0m Trial 95 finished with value: -8.225577999999976 and parameters: {'min_samples_leaf': 400, 'max_depth': 20, 'n_estimators': 10}. Best is trial 84 with value: -4.182963999999975.\u001b[0m\n",
      "\u001b[32m[I 2023-01-15 10:41:54,449]\u001b[0m Trial 96 finished with value: -8.225577999999976 and parameters: {'min_samples_leaf': 400, 'max_depth': 20, 'n_estimators': 10}. Best is trial 84 with value: -4.182963999999975.\u001b[0m\n",
      "\u001b[32m[I 2023-01-15 10:41:55,150]\u001b[0m Trial 97 finished with value: -8.225577999999976 and parameters: {'min_samples_leaf': 400, 'max_depth': 20, 'n_estimators': 10}. Best is trial 84 with value: -4.182963999999975.\u001b[0m\n",
      "\u001b[32m[I 2023-01-15 10:41:55,541]\u001b[0m Trial 98 finished with value: -8.225577999999976 and parameters: {'min_samples_leaf': 400, 'max_depth': 20, 'n_estimators': 10}. Best is trial 84 with value: -4.182963999999975.\u001b[0m\n",
      "\u001b[32m[I 2023-01-15 10:41:55,847]\u001b[0m Trial 99 finished with value: -8.225577999999976 and parameters: {'min_samples_leaf': 400, 'max_depth': 20, 'n_estimators': 10}. Best is trial 84 with value: -4.182963999999975.\u001b[0m\n",
      "\u001b[32m[I 2023-01-15 10:41:56,633]\u001b[0m Trial 101 finished with value: -4.182963999999975 and parameters: {'min_samples_leaf': 400, 'max_depth': 20, 'n_estimators': 5}. Best is trial 84 with value: -4.182963999999975.\u001b[0m\n",
      "\u001b[32m[I 2023-01-15 10:41:58,180]\u001b[0m Trial 68 finished with value: -13.229349999999982 and parameters: {'min_samples_leaf': 100, 'max_depth': 15, 'n_estimators': 45}. Best is trial 84 with value: -4.182963999999975.\u001b[0m\n",
      "\u001b[32m[I 2023-01-15 10:41:59,300]\u001b[0m Trial 102 finished with value: -4.182963999999975 and parameters: {'min_samples_leaf': 400, 'max_depth': 20, 'n_estimators': 5}. Best is trial 84 with value: -4.182963999999975.\u001b[0m\n",
      "\u001b[32m[I 2023-01-15 10:42:00,170]\u001b[0m Trial 103 finished with value: -4.182963999999975 and parameters: {'min_samples_leaf': 400, 'max_depth': 20, 'n_estimators': 5}. Best is trial 84 with value: -4.182963999999975.\u001b[0m\n",
      "\u001b[32m[I 2023-01-15 10:42:01,044]\u001b[0m Trial 106 finished with value: -2.9952099999999753 and parameters: {'min_samples_leaf': 500, 'max_depth': 25, 'n_estimators': 5}. Best is trial 106 with value: -2.9952099999999753.\u001b[0m\n",
      "\u001b[32m[I 2023-01-15 10:42:01,146]\u001b[0m Trial 104 finished with value: -4.182963999999975 and parameters: {'min_samples_leaf': 400, 'max_depth': 25, 'n_estimators': 5}. Best is trial 106 with value: -2.9952099999999753.\u001b[0m\n",
      "\u001b[32m[I 2023-01-15 10:42:01,508]\u001b[0m Trial 105 finished with value: -4.182963999999975 and parameters: {'min_samples_leaf': 400, 'max_depth': 25, 'n_estimators': 5}. Best is trial 106 with value: -2.9952099999999753.\u001b[0m\n",
      "\u001b[32m[I 2023-01-15 10:42:02,004]\u001b[0m Trial 107 finished with value: -2.9952099999999753 and parameters: {'min_samples_leaf': 500, 'max_depth': 25, 'n_estimators': 5}. Best is trial 106 with value: -2.9952099999999753.\u001b[0m\n",
      "\u001b[32m[I 2023-01-15 10:42:02,262]\u001b[0m Trial 100 finished with value: -8.225577999999976 and parameters: {'min_samples_leaf': 400, 'max_depth': 20, 'n_estimators': 10}. Best is trial 106 with value: -2.9952099999999753.\u001b[0m\n",
      "\u001b[32m[I 2023-01-15 10:42:03,922]\u001b[0m Trial 108 finished with value: -4.182963999999975 and parameters: {'min_samples_leaf': 400, 'max_depth': 20, 'n_estimators': 5}. Best is trial 106 with value: -2.9952099999999753.\u001b[0m\n",
      "\u001b[32m[I 2023-01-15 10:42:05,190]\u001b[0m Trial 109 finished with value: -4.182963999999975 and parameters: {'min_samples_leaf': 400, 'max_depth': 20, 'n_estimators': 5}. Best is trial 106 with value: -2.9952099999999753.\u001b[0m\n",
      "\u001b[32m[I 2023-01-15 10:42:05,616]\u001b[0m Trial 110 finished with value: -2.9952099999999753 and parameters: {'min_samples_leaf': 500, 'max_depth': 20, 'n_estimators': 5}. Best is trial 106 with value: -2.9952099999999753.\u001b[0m\n",
      "\u001b[32m[I 2023-01-15 10:42:06,249]\u001b[0m Trial 111 finished with value: -2.9952099999999753 and parameters: {'min_samples_leaf': 500, 'max_depth': 25, 'n_estimators': 5}. Best is trial 106 with value: -2.9952099999999753.\u001b[0m\n",
      "\u001b[32m[I 2023-01-15 10:42:06,666]\u001b[0m Trial 112 finished with value: -2.9952099999999753 and parameters: {'min_samples_leaf': 500, 'max_depth': 25, 'n_estimators': 5}. Best is trial 106 with value: -2.9952099999999753.\u001b[0m\n",
      "\u001b[32m[I 2023-01-15 10:42:06,898]\u001b[0m Trial 113 finished with value: -2.9952099999999753 and parameters: {'min_samples_leaf': 500, 'max_depth': 25, 'n_estimators': 5}. Best is trial 106 with value: -2.9952099999999753.\u001b[0m\n"
     ]
    },
    {
     "name": "stderr",
     "output_type": "stream",
     "text": [
      "\u001b[32m[I 2023-01-15 10:42:07,293]\u001b[0m Trial 114 finished with value: -2.9952099999999753 and parameters: {'min_samples_leaf': 500, 'max_depth': 25, 'n_estimators': 5}. Best is trial 106 with value: -2.9952099999999753.\u001b[0m\n",
      "\u001b[32m[I 2023-01-15 10:42:07,570]\u001b[0m Trial 115 finished with value: -2.9952099999999753 and parameters: {'min_samples_leaf': 500, 'max_depth': 25, 'n_estimators': 5}. Best is trial 106 with value: -2.9952099999999753.\u001b[0m\n",
      "\u001b[32m[I 2023-01-15 10:42:09,050]\u001b[0m Trial 116 finished with value: -2.9952099999999753 and parameters: {'min_samples_leaf': 500, 'max_depth': 25, 'n_estimators': 5}. Best is trial 106 with value: -2.9952099999999753.\u001b[0m\n",
      "\u001b[32m[I 2023-01-15 10:42:10,268]\u001b[0m Trial 117 finished with value: -2.9952099999999753 and parameters: {'min_samples_leaf': 500, 'max_depth': 25, 'n_estimators': 5}. Best is trial 106 with value: -2.9952099999999753.\u001b[0m\n",
      "\u001b[32m[I 2023-01-15 10:42:10,757]\u001b[0m Trial 118 finished with value: -2.9952099999999753 and parameters: {'min_samples_leaf': 500, 'max_depth': 25, 'n_estimators': 5}. Best is trial 106 with value: -2.9952099999999753.\u001b[0m\n",
      "\u001b[32m[I 2023-01-15 10:42:11,424]\u001b[0m Trial 119 finished with value: -2.9952099999999753 and parameters: {'min_samples_leaf': 500, 'max_depth': 25, 'n_estimators': 5}. Best is trial 106 with value: -2.9952099999999753.\u001b[0m\n",
      "\u001b[32m[I 2023-01-15 10:42:12,011]\u001b[0m Trial 120 finished with value: -2.9952099999999753 and parameters: {'min_samples_leaf': 500, 'max_depth': 25, 'n_estimators': 5}. Best is trial 106 with value: -2.9952099999999753.\u001b[0m\n",
      "\u001b[32m[I 2023-01-15 10:42:12,441]\u001b[0m Trial 121 finished with value: -2.9952099999999753 and parameters: {'min_samples_leaf': 500, 'max_depth': 25, 'n_estimators': 5}. Best is trial 106 with value: -2.9952099999999753.\u001b[0m\n",
      "\u001b[32m[I 2023-01-15 10:42:12,783]\u001b[0m Trial 122 finished with value: -2.9952099999999753 and parameters: {'min_samples_leaf': 500, 'max_depth': 25, 'n_estimators': 5}. Best is trial 106 with value: -2.9952099999999753.\u001b[0m\n",
      "\u001b[32m[I 2023-01-15 10:42:13,004]\u001b[0m Trial 123 finished with value: -2.9952099999999753 and parameters: {'min_samples_leaf': 500, 'max_depth': 25, 'n_estimators': 5}. Best is trial 106 with value: -2.9952099999999753.\u001b[0m\n",
      "\u001b[32m[I 2023-01-15 10:42:14,587]\u001b[0m Trial 124 finished with value: -2.9952099999999753 and parameters: {'min_samples_leaf': 500, 'max_depth': 25, 'n_estimators': 5}. Best is trial 106 with value: -2.9952099999999753.\u001b[0m\n",
      "\u001b[32m[I 2023-01-15 10:42:15,402]\u001b[0m Trial 125 finished with value: -2.9952099999999753 and parameters: {'min_samples_leaf': 500, 'max_depth': 25, 'n_estimators': 5}. Best is trial 106 with value: -2.9952099999999753.\u001b[0m\n",
      "\u001b[32m[I 2023-01-15 10:42:17,348]\u001b[0m Trial 128 finished with value: -2.9952099999999753 and parameters: {'min_samples_leaf': 500, 'max_depth': 25, 'n_estimators': 5}. Best is trial 106 with value: -2.9952099999999753.\u001b[0m\n",
      "\u001b[32m[I 2023-01-15 10:42:20,773]\u001b[0m Trial 126 finished with value: -8.48391599999998 and parameters: {'min_samples_leaf': 500, 'max_depth': 25, 'n_estimators': 10}. Best is trial 106 with value: -2.9952099999999753.\u001b[0m\n",
      "\u001b[32m[I 2023-01-15 10:42:21,679]\u001b[0m Trial 127 finished with value: -8.48391599999998 and parameters: {'min_samples_leaf': 500, 'max_depth': 25, 'n_estimators': 10}. Best is trial 106 with value: -2.9952099999999753.\u001b[0m\n",
      "\u001b[32m[I 2023-01-15 10:42:22,853]\u001b[0m Trial 130 finished with value: -16.383167999999976 and parameters: {'min_samples_leaf': 600, 'max_depth': 25, 'n_estimators': 10}. Best is trial 106 with value: -2.9952099999999753.\u001b[0m\n",
      "\u001b[32m[I 2023-01-15 10:42:23,145]\u001b[0m Trial 131 finished with value: -16.383167999999976 and parameters: {'min_samples_leaf': 600, 'max_depth': 25, 'n_estimators': 10}. Best is trial 106 with value: -2.9952099999999753.\u001b[0m\n",
      "\u001b[32m[I 2023-01-15 10:42:25,068]\u001b[0m Trial 133 finished with value: -16.383167999999976 and parameters: {'min_samples_leaf': 600, 'max_depth': 25, 'n_estimators': 10}. Best is trial 106 with value: -2.9952099999999753.\u001b[0m\n",
      "\u001b[32m[I 2023-01-15 10:42:27,957]\u001b[0m Trial 134 finished with value: -16.383167999999976 and parameters: {'min_samples_leaf': 600, 'max_depth': 25, 'n_estimators': 10}. Best is trial 106 with value: -2.9952099999999753.\u001b[0m\n",
      "\u001b[32m[I 2023-01-15 10:42:28,520]\u001b[0m Trial 138 finished with value: -4.155615999999981 and parameters: {'min_samples_leaf': 600, 'max_depth': 25, 'n_estimators': 5}. Best is trial 106 with value: -2.9952099999999753.\u001b[0m\n",
      "\u001b[32m[I 2023-01-15 10:42:29,996]\u001b[0m Trial 139 finished with value: -2.9952099999999753 and parameters: {'min_samples_leaf': 500, 'max_depth': 25, 'n_estimators': 5}. Best is trial 106 with value: -2.9952099999999753.\u001b[0m\n",
      "\u001b[32m[I 2023-01-15 10:42:30,533]\u001b[0m Trial 135 finished with value: -16.383167999999976 and parameters: {'min_samples_leaf': 600, 'max_depth': 25, 'n_estimators': 10}. Best is trial 106 with value: -2.9952099999999753.\u001b[0m\n",
      "\u001b[32m[I 2023-01-15 10:42:33,336]\u001b[0m Trial 140 finished with value: -2.9952099999999753 and parameters: {'min_samples_leaf': 500, 'max_depth': 25, 'n_estimators': 5}. Best is trial 106 with value: -2.9952099999999753.\u001b[0m\n",
      "\u001b[32m[I 2023-01-15 10:42:33,960]\u001b[0m Trial 141 finished with value: -2.9952099999999753 and parameters: {'min_samples_leaf': 500, 'max_depth': 25, 'n_estimators': 5}. Best is trial 106 with value: -2.9952099999999753.\u001b[0m\n",
      "\u001b[32m[I 2023-01-15 10:42:35,304]\u001b[0m Trial 142 finished with value: -2.9952099999999753 and parameters: {'min_samples_leaf': 500, 'max_depth': 25, 'n_estimators': 5}. Best is trial 106 with value: -2.9952099999999753.\u001b[0m\n",
      "\u001b[32m[I 2023-01-15 10:42:35,752]\u001b[0m Trial 143 finished with value: -2.9952099999999753 and parameters: {'min_samples_leaf': 500, 'max_depth': 25, 'n_estimators': 5}. Best is trial 106 with value: -2.9952099999999753.\u001b[0m\n",
      "\u001b[32m[I 2023-01-15 10:42:37,894]\u001b[0m Trial 144 finished with value: -26.068305999999993 and parameters: {'min_samples_leaf': 700, 'max_depth': 25, 'n_estimators': 5}. Best is trial 106 with value: -2.9952099999999753.\u001b[0m\n",
      "\u001b[32m[I 2023-01-15 10:42:38,548]\u001b[0m Trial 145 finished with value: -26.068305999999993 and parameters: {'min_samples_leaf': 700, 'max_depth': 25, 'n_estimators': 5}. Best is trial 106 with value: -2.9952099999999753.\u001b[0m\n",
      "\u001b[32m[I 2023-01-15 10:42:39,638]\u001b[0m Trial 146 finished with value: -26.068305999999993 and parameters: {'min_samples_leaf': 700, 'max_depth': 25, 'n_estimators': 5}. Best is trial 106 with value: -2.9952099999999753.\u001b[0m\n",
      "\u001b[32m[I 2023-01-15 10:42:41,007]\u001b[0m Trial 147 finished with value: -2.9952099999999753 and parameters: {'min_samples_leaf': 500, 'max_depth': 25, 'n_estimators': 5}. Best is trial 106 with value: -2.9952099999999753.\u001b[0m\n",
      "\u001b[32m[I 2023-01-15 10:42:43,157]\u001b[0m Trial 129 finished with value: -26.068305999999993 and parameters: {'min_samples_leaf': 600, 'max_depth': 25, 'n_estimators': 30}. Best is trial 106 with value: -2.9952099999999753.\u001b[0m\n",
      "\u001b[32m[I 2023-01-15 10:42:43,247]\u001b[0m Trial 132 finished with value: -26.068305999999993 and parameters: {'min_samples_leaf': 600, 'max_depth': 25, 'n_estimators': 30}. Best is trial 106 with value: -2.9952099999999753.\u001b[0m\n",
      "\u001b[32m[I 2023-01-15 10:42:43,376]\u001b[0m Trial 148 finished with value: -2.9952099999999753 and parameters: {'min_samples_leaf': 500, 'max_depth': 25, 'n_estimators': 5}. Best is trial 106 with value: -2.9952099999999753.\u001b[0m\n",
      "\u001b[32m[I 2023-01-15 10:42:44,004]\u001b[0m Trial 149 finished with value: -2.9952099999999753 and parameters: {'min_samples_leaf': 500, 'max_depth': 25, 'n_estimators': 5}. Best is trial 106 with value: -2.9952099999999753.\u001b[0m\n",
      "\u001b[32m[I 2023-01-15 10:42:44,790]\u001b[0m Trial 150 finished with value: -2.9952099999999753 and parameters: {'min_samples_leaf': 500, 'max_depth': 25, 'n_estimators': 5}. Best is trial 106 with value: -2.9952099999999753.\u001b[0m\n",
      "\u001b[32m[I 2023-01-15 10:42:46,312]\u001b[0m Trial 151 finished with value: -2.9952099999999753 and parameters: {'min_samples_leaf': 500, 'max_depth': 25, 'n_estimators': 5}. Best is trial 106 with value: -2.9952099999999753.\u001b[0m\n",
      "\u001b[32m[I 2023-01-15 10:42:48,383]\u001b[0m Trial 152 finished with value: -2.9952099999999753 and parameters: {'min_samples_leaf': 500, 'max_depth': 25, 'n_estimators': 5}. Best is trial 106 with value: -2.9952099999999753.\u001b[0m\n"
     ]
    },
    {
     "name": "stderr",
     "output_type": "stream",
     "text": [
      "\u001b[32m[I 2023-01-15 10:42:48,770]\u001b[0m Trial 153 finished with value: -2.9952099999999753 and parameters: {'min_samples_leaf': 500, 'max_depth': 25, 'n_estimators': 5}. Best is trial 106 with value: -2.9952099999999753.\u001b[0m\n",
      "\u001b[32m[I 2023-01-15 10:42:48,981]\u001b[0m Trial 154 finished with value: -2.9952099999999753 and parameters: {'min_samples_leaf': 500, 'max_depth': 25, 'n_estimators': 5}. Best is trial 106 with value: -2.9952099999999753.\u001b[0m\n",
      "\u001b[32m[I 2023-01-15 10:42:49,760]\u001b[0m Trial 155 finished with value: -2.9952099999999753 and parameters: {'min_samples_leaf': 500, 'max_depth': 25, 'n_estimators': 5}. Best is trial 106 with value: -2.9952099999999753.\u001b[0m\n",
      "\u001b[32m[I 2023-01-15 10:42:50,202]\u001b[0m Trial 156 finished with value: -2.9952099999999753 and parameters: {'min_samples_leaf': 500, 'max_depth': 25, 'n_estimators': 5}. Best is trial 106 with value: -2.9952099999999753.\u001b[0m\n",
      "\u001b[32m[I 2023-01-15 10:42:50,906]\u001b[0m Trial 136 finished with value: -26.068305999999993 and parameters: {'min_samples_leaf': 600, 'max_depth': 25, 'n_estimators': 30}. Best is trial 106 with value: -2.9952099999999753.\u001b[0m\n",
      "\u001b[32m[I 2023-01-15 10:42:52,238]\u001b[0m Trial 157 finished with value: -2.9952099999999753 and parameters: {'min_samples_leaf': 500, 'max_depth': 25, 'n_estimators': 5}. Best is trial 106 with value: -2.9952099999999753.\u001b[0m\n",
      "\u001b[32m[I 2023-01-15 10:42:53,836]\u001b[0m Trial 137 finished with value: -26.068305999999993 and parameters: {'min_samples_leaf': 600, 'max_depth': 25, 'n_estimators': 30}. Best is trial 106 with value: -2.9952099999999753.\u001b[0m\n",
      "\u001b[32m[I 2023-01-15 10:42:55,126]\u001b[0m Trial 158 finished with value: -2.9952099999999753 and parameters: {'min_samples_leaf': 500, 'max_depth': 25, 'n_estimators': 5}. Best is trial 106 with value: -2.9952099999999753.\u001b[0m\n",
      "\u001b[32m[I 2023-01-15 10:42:55,256]\u001b[0m Trial 159 finished with value: -2.9952099999999753 and parameters: {'min_samples_leaf': 500, 'max_depth': 25, 'n_estimators': 5}. Best is trial 106 with value: -2.9952099999999753.\u001b[0m\n",
      "\u001b[32m[I 2023-01-15 10:42:56,012]\u001b[0m Trial 160 finished with value: -2.9952099999999753 and parameters: {'min_samples_leaf': 500, 'max_depth': 25, 'n_estimators': 5}. Best is trial 106 with value: -2.9952099999999753.\u001b[0m\n",
      "\u001b[32m[I 2023-01-15 10:42:56,352]\u001b[0m Trial 161 finished with value: -2.9952099999999753 and parameters: {'min_samples_leaf': 500, 'max_depth': 25, 'n_estimators': 5}. Best is trial 106 with value: -2.9952099999999753.\u001b[0m\n",
      "\u001b[32m[I 2023-01-15 10:42:56,964]\u001b[0m Trial 162 finished with value: -2.9952099999999753 and parameters: {'min_samples_leaf': 500, 'max_depth': 25, 'n_estimators': 5}. Best is trial 106 with value: -2.9952099999999753.\u001b[0m\n",
      "\u001b[32m[I 2023-01-15 10:42:57,552]\u001b[0m Trial 163 finished with value: -2.9952099999999753 and parameters: {'min_samples_leaf': 500, 'max_depth': 25, 'n_estimators': 5}. Best is trial 106 with value: -2.9952099999999753.\u001b[0m\n",
      "\u001b[32m[I 2023-01-15 10:42:58,697]\u001b[0m Trial 164 finished with value: -2.9952099999999753 and parameters: {'min_samples_leaf': 500, 'max_depth': 25, 'n_estimators': 5}. Best is trial 106 with value: -2.9952099999999753.\u001b[0m\n",
      "\u001b[32m[I 2023-01-15 10:42:59,932]\u001b[0m Trial 165 finished with value: -2.9952099999999753 and parameters: {'min_samples_leaf': 500, 'max_depth': 25, 'n_estimators': 5}. Best is trial 106 with value: -2.9952099999999753.\u001b[0m\n",
      "\u001b[32m[I 2023-01-15 10:43:00,905]\u001b[0m Trial 167 finished with value: -2.9952099999999753 and parameters: {'min_samples_leaf': 500, 'max_depth': 25, 'n_estimators': 5}. Best is trial 106 with value: -2.9952099999999753.\u001b[0m\n",
      "\u001b[32m[I 2023-01-15 10:43:01,455]\u001b[0m Trial 166 finished with value: -2.9952099999999753 and parameters: {'min_samples_leaf': 500, 'max_depth': 25, 'n_estimators': 5}. Best is trial 106 with value: -2.9952099999999753.\u001b[0m\n",
      "\u001b[32m[I 2023-01-15 10:43:01,729]\u001b[0m Trial 169 finished with value: -2.9952099999999753 and parameters: {'min_samples_leaf': 500, 'max_depth': 25, 'n_estimators': 5}. Best is trial 106 with value: -2.9952099999999753.\u001b[0m\n",
      "\u001b[32m[I 2023-01-15 10:43:02,144]\u001b[0m Trial 168 finished with value: -2.9952099999999753 and parameters: {'min_samples_leaf': 500, 'max_depth': 25, 'n_estimators': 5}. Best is trial 106 with value: -2.9952099999999753.\u001b[0m\n",
      "\u001b[32m[I 2023-01-15 10:43:02,438]\u001b[0m Trial 170 finished with value: -2.9952099999999753 and parameters: {'min_samples_leaf': 500, 'max_depth': 25, 'n_estimators': 5}. Best is trial 106 with value: -2.9952099999999753.\u001b[0m\n",
      "\u001b[32m[I 2023-01-15 10:43:03,185]\u001b[0m Trial 171 finished with value: -2.9952099999999753 and parameters: {'min_samples_leaf': 500, 'max_depth': 25, 'n_estimators': 5}. Best is trial 106 with value: -2.9952099999999753.\u001b[0m\n",
      "\u001b[32m[I 2023-01-15 10:43:03,810]\u001b[0m Trial 172 finished with value: -2.9952099999999753 and parameters: {'min_samples_leaf': 500, 'max_depth': 25, 'n_estimators': 5}. Best is trial 106 with value: -2.9952099999999753.\u001b[0m\n",
      "\u001b[32m[I 2023-01-15 10:43:04,878]\u001b[0m Trial 173 finished with value: -4.155615999999981 and parameters: {'min_samples_leaf': 600, 'max_depth': 25, 'n_estimators': 5}. Best is trial 106 with value: -2.9952099999999753.\u001b[0m\n",
      "\u001b[32m[I 2023-01-15 10:43:05,936]\u001b[0m Trial 174 finished with value: -4.155615999999981 and parameters: {'min_samples_leaf': 600, 'max_depth': 25, 'n_estimators': 5}. Best is trial 106 with value: -2.9952099999999753.\u001b[0m\n",
      "\u001b[32m[I 2023-01-15 10:43:06,755]\u001b[0m Trial 175 finished with value: -4.155615999999981 and parameters: {'min_samples_leaf': 600, 'max_depth': 25, 'n_estimators': 5}. Best is trial 106 with value: -2.9952099999999753.\u001b[0m\n",
      "\u001b[32m[I 2023-01-15 10:43:07,142]\u001b[0m Trial 176 finished with value: -4.155615999999981 and parameters: {'min_samples_leaf': 600, 'max_depth': 25, 'n_estimators': 5}. Best is trial 106 with value: -2.9952099999999753.\u001b[0m\n",
      "\u001b[32m[I 2023-01-15 10:43:07,295]\u001b[0m Trial 177 finished with value: -4.155615999999981 and parameters: {'min_samples_leaf': 600, 'max_depth': 25, 'n_estimators': 5}. Best is trial 106 with value: -2.9952099999999753.\u001b[0m\n",
      "\u001b[32m[I 2023-01-15 10:43:07,539]\u001b[0m Trial 178 finished with value: -2.9952099999999753 and parameters: {'min_samples_leaf': 500, 'max_depth': 25, 'n_estimators': 5}. Best is trial 106 with value: -2.9952099999999753.\u001b[0m\n",
      "\u001b[32m[I 2023-01-15 10:43:08,304]\u001b[0m Trial 179 finished with value: -4.155615999999981 and parameters: {'min_samples_leaf': 600, 'max_depth': 25, 'n_estimators': 5}. Best is trial 106 with value: -2.9952099999999753.\u001b[0m\n",
      "\u001b[32m[I 2023-01-15 10:43:09,144]\u001b[0m Trial 180 finished with value: -4.155615999999981 and parameters: {'min_samples_leaf': 600, 'max_depth': 25, 'n_estimators': 5}. Best is trial 106 with value: -2.9952099999999753.\u001b[0m\n",
      "\u001b[32m[I 2023-01-15 10:43:10,830]\u001b[0m Trial 181 finished with value: -2.9952099999999753 and parameters: {'min_samples_leaf': 500, 'max_depth': 25, 'n_estimators': 5}. Best is trial 106 with value: -2.9952099999999753.\u001b[0m\n",
      "\u001b[32m[I 2023-01-15 10:43:11,308]\u001b[0m Trial 182 finished with value: -2.9952099999999753 and parameters: {'min_samples_leaf': 500, 'max_depth': 25, 'n_estimators': 5}. Best is trial 106 with value: -2.9952099999999753.\u001b[0m\n",
      "\u001b[32m[I 2023-01-15 10:43:12,621]\u001b[0m Trial 186 finished with value: -2.9952099999999753 and parameters: {'min_samples_leaf': 500, 'max_depth': 25, 'n_estimators': 5}. Best is trial 106 with value: -2.9952099999999753.\u001b[0m\n",
      "\u001b[32m[I 2023-01-15 10:43:12,968]\u001b[0m Trial 183 finished with value: -2.9952099999999753 and parameters: {'min_samples_leaf': 500, 'max_depth': 25, 'n_estimators': 5}. Best is trial 106 with value: -2.9952099999999753.\u001b[0m\n",
      "\u001b[32m[I 2023-01-15 10:43:13,233]\u001b[0m Trial 184 finished with value: -2.9952099999999753 and parameters: {'min_samples_leaf': 500, 'max_depth': 25, 'n_estimators': 5}. Best is trial 106 with value: -2.9952099999999753.\u001b[0m\n",
      "\u001b[32m[I 2023-01-15 10:43:13,420]\u001b[0m Trial 185 finished with value: -2.9952099999999753 and parameters: {'min_samples_leaf': 500, 'max_depth': 25, 'n_estimators': 5}. Best is trial 106 with value: -2.9952099999999753.\u001b[0m\n",
      "\u001b[32m[I 2023-01-15 10:43:14,013]\u001b[0m Trial 187 finished with value: -2.9952099999999753 and parameters: {'min_samples_leaf': 500, 'max_depth': 25, 'n_estimators': 5}. Best is trial 106 with value: -2.9952099999999753.\u001b[0m\n"
     ]
    },
    {
     "name": "stderr",
     "output_type": "stream",
     "text": [
      "\u001b[32m[I 2023-01-15 10:43:14,487]\u001b[0m Trial 188 finished with value: -2.9952099999999753 and parameters: {'min_samples_leaf': 500, 'max_depth': 25, 'n_estimators': 5}. Best is trial 106 with value: -2.9952099999999753.\u001b[0m\n",
      "\u001b[32m[I 2023-01-15 10:43:16,690]\u001b[0m Trial 189 finished with value: -2.9952099999999753 and parameters: {'min_samples_leaf': 500, 'max_depth': 25, 'n_estimators': 5}. Best is trial 106 with value: -2.9952099999999753.\u001b[0m\n",
      "\u001b[32m[I 2023-01-15 10:43:16,927]\u001b[0m Trial 190 finished with value: -2.9952099999999753 and parameters: {'min_samples_leaf': 500, 'max_depth': 25, 'n_estimators': 5}. Best is trial 106 with value: -2.9952099999999753.\u001b[0m\n",
      "\u001b[32m[I 2023-01-15 10:43:18,350]\u001b[0m Trial 191 finished with value: -2.9952099999999753 and parameters: {'min_samples_leaf': 500, 'max_depth': 25, 'n_estimators': 5}. Best is trial 106 with value: -2.9952099999999753.\u001b[0m\n",
      "\u001b[32m[I 2023-01-15 10:43:19,112]\u001b[0m Trial 192 finished with value: -2.9952099999999753 and parameters: {'min_samples_leaf': 500, 'max_depth': 25, 'n_estimators': 5}. Best is trial 106 with value: -2.9952099999999753.\u001b[0m\n",
      "\u001b[32m[I 2023-01-15 10:43:19,118]\u001b[0m Trial 193 finished with value: -2.9952099999999753 and parameters: {'min_samples_leaf': 500, 'max_depth': 25, 'n_estimators': 5}. Best is trial 106 with value: -2.9952099999999753.\u001b[0m\n",
      "\u001b[32m[I 2023-01-15 10:43:19,310]\u001b[0m Trial 194 finished with value: -2.9952099999999753 and parameters: {'min_samples_leaf': 500, 'max_depth': 25, 'n_estimators': 5}. Best is trial 106 with value: -2.9952099999999753.\u001b[0m\n",
      "\u001b[32m[I 2023-01-15 10:43:19,521]\u001b[0m Trial 195 finished with value: -2.9952099999999753 and parameters: {'min_samples_leaf': 500, 'max_depth': 25, 'n_estimators': 5}. Best is trial 106 with value: -2.9952099999999753.\u001b[0m\n",
      "\u001b[32m[I 2023-01-15 10:43:19,811]\u001b[0m Trial 196 finished with value: -2.9952099999999753 and parameters: {'min_samples_leaf': 500, 'max_depth': 25, 'n_estimators': 5}. Best is trial 106 with value: -2.9952099999999753.\u001b[0m\n",
      "\u001b[32m[I 2023-01-15 10:43:21,204]\u001b[0m Trial 198 finished with value: -2.9952099999999753 and parameters: {'min_samples_leaf': 500, 'max_depth': 25, 'n_estimators': 5}. Best is trial 106 with value: -2.9952099999999753.\u001b[0m\n",
      "\u001b[32m[I 2023-01-15 10:43:21,216]\u001b[0m Trial 197 finished with value: -2.9952099999999753 and parameters: {'min_samples_leaf': 500, 'max_depth': 25, 'n_estimators': 5}. Best is trial 106 with value: -2.9952099999999753.\u001b[0m\n",
      "\u001b[32m[I 2023-01-15 10:43:21,840]\u001b[0m Trial 199 finished with value: -2.9952099999999753 and parameters: {'min_samples_leaf': 500, 'max_depth': 25, 'n_estimators': 5}. Best is trial 106 with value: -2.9952099999999753.\u001b[0m\n"
     ]
    },
    {
     "name": "stdout",
     "output_type": "stream",
     "text": [
      "CPU times: total: 31min 19s\n",
      "Wall time: 4min 50s\n"
     ]
    }
   ],
   "source": [
    "%%time\n",
    "study.optimize(partial(objective,train=train_norm,labels=y_train,val=valid_norm,val_labels=y_valid,val_rets=valid_stock_returns.values), n_trials=200,n_jobs=-1)"
   ]
  },
  {
   "cell_type": "code",
   "execution_count": 396,
   "metadata": {},
   "outputs": [
    {
     "data": {
      "text/plain": [
       "{'min_samples_leaf': 500, 'max_depth': 25, 'n_estimators': 5}"
      ]
     },
     "execution_count": 396,
     "metadata": {},
     "output_type": "execute_result"
    }
   ],
   "source": [
    "study.best_params"
   ]
  },
  {
   "cell_type": "code",
   "execution_count": 397,
   "metadata": {},
   "outputs": [],
   "source": [
    "t_cfl = DecisionTreeClassifier(**{'min_samples_leaf': 500, 'max_depth': 5},random_state=123)\n",
    "bg_clf = BaggingClassifier(t_clf,n_estimators=5,random_state=123)"
   ]
  },
  {
   "cell_type": "code",
   "execution_count": 399,
   "metadata": {},
   "outputs": [
    {
     "data": {
      "text/html": [
       "<style>#sk-container-id-15 {color: black;background-color: white;}#sk-container-id-15 pre{padding: 0;}#sk-container-id-15 div.sk-toggleable {background-color: white;}#sk-container-id-15 label.sk-toggleable__label {cursor: pointer;display: block;width: 100%;margin-bottom: 0;padding: 0.3em;box-sizing: border-box;text-align: center;}#sk-container-id-15 label.sk-toggleable__label-arrow:before {content: \"▸\";float: left;margin-right: 0.25em;color: #696969;}#sk-container-id-15 label.sk-toggleable__label-arrow:hover:before {color: black;}#sk-container-id-15 div.sk-estimator:hover label.sk-toggleable__label-arrow:before {color: black;}#sk-container-id-15 div.sk-toggleable__content {max-height: 0;max-width: 0;overflow: hidden;text-align: left;background-color: #f0f8ff;}#sk-container-id-15 div.sk-toggleable__content pre {margin: 0.2em;color: black;border-radius: 0.25em;background-color: #f0f8ff;}#sk-container-id-15 input.sk-toggleable__control:checked~div.sk-toggleable__content {max-height: 200px;max-width: 100%;overflow: auto;}#sk-container-id-15 input.sk-toggleable__control:checked~label.sk-toggleable__label-arrow:before {content: \"▾\";}#sk-container-id-15 div.sk-estimator input.sk-toggleable__control:checked~label.sk-toggleable__label {background-color: #d4ebff;}#sk-container-id-15 div.sk-label input.sk-toggleable__control:checked~label.sk-toggleable__label {background-color: #d4ebff;}#sk-container-id-15 input.sk-hidden--visually {border: 0;clip: rect(1px 1px 1px 1px);clip: rect(1px, 1px, 1px, 1px);height: 1px;margin: -1px;overflow: hidden;padding: 0;position: absolute;width: 1px;}#sk-container-id-15 div.sk-estimator {font-family: monospace;background-color: #f0f8ff;border: 1px dotted black;border-radius: 0.25em;box-sizing: border-box;margin-bottom: 0.5em;}#sk-container-id-15 div.sk-estimator:hover {background-color: #d4ebff;}#sk-container-id-15 div.sk-parallel-item::after {content: \"\";width: 100%;border-bottom: 1px solid gray;flex-grow: 1;}#sk-container-id-15 div.sk-label:hover label.sk-toggleable__label {background-color: #d4ebff;}#sk-container-id-15 div.sk-serial::before {content: \"\";position: absolute;border-left: 1px solid gray;box-sizing: border-box;top: 0;bottom: 0;left: 50%;z-index: 0;}#sk-container-id-15 div.sk-serial {display: flex;flex-direction: column;align-items: center;background-color: white;padding-right: 0.2em;padding-left: 0.2em;position: relative;}#sk-container-id-15 div.sk-item {position: relative;z-index: 1;}#sk-container-id-15 div.sk-parallel {display: flex;align-items: stretch;justify-content: center;background-color: white;position: relative;}#sk-container-id-15 div.sk-item::before, #sk-container-id-15 div.sk-parallel-item::before {content: \"\";position: absolute;border-left: 1px solid gray;box-sizing: border-box;top: 0;bottom: 0;left: 50%;z-index: -1;}#sk-container-id-15 div.sk-parallel-item {display: flex;flex-direction: column;z-index: 1;position: relative;background-color: white;}#sk-container-id-15 div.sk-parallel-item:first-child::after {align-self: flex-end;width: 50%;}#sk-container-id-15 div.sk-parallel-item:last-child::after {align-self: flex-start;width: 50%;}#sk-container-id-15 div.sk-parallel-item:only-child::after {width: 0;}#sk-container-id-15 div.sk-dashed-wrapped {border: 1px dashed gray;margin: 0 0.4em 0.5em 0.4em;box-sizing: border-box;padding-bottom: 0.4em;background-color: white;}#sk-container-id-15 div.sk-label label {font-family: monospace;font-weight: bold;display: inline-block;line-height: 1.2em;}#sk-container-id-15 div.sk-label-container {text-align: center;}#sk-container-id-15 div.sk-container {/* jupyter's `normalize.less` sets `[hidden] { display: none; }` but bootstrap.min.css set `[hidden] { display: none !important; }` so we also need the `!important` here to be able to override the default hidden behavior on the sphinx rendered scikit-learn.org. See: https://github.com/scikit-learn/scikit-learn/issues/21755 */display: inline-block !important;position: relative;}#sk-container-id-15 div.sk-text-repr-fallback {display: none;}</style><div id=\"sk-container-id-15\" class=\"sk-top-container\"><div class=\"sk-text-repr-fallback\"><pre>BaggingClassifier(base_estimator=DecisionTreeClassifier(max_depth=6,\n",
       "                                                        min_samples_leaf=200),\n",
       "                  n_estimators=5, random_state=123)</pre><b>In a Jupyter environment, please rerun this cell to show the HTML representation or trust the notebook. <br />On GitHub, the HTML representation is unable to render, please try loading this page with nbviewer.org.</b></div><div class=\"sk-container\" hidden><div class=\"sk-item sk-dashed-wrapped\"><div class=\"sk-label-container\"><div class=\"sk-label sk-toggleable\"><input class=\"sk-toggleable__control sk-hidden--visually\" id=\"sk-estimator-id-43\" type=\"checkbox\" ><label for=\"sk-estimator-id-43\" class=\"sk-toggleable__label sk-toggleable__label-arrow\">BaggingClassifier</label><div class=\"sk-toggleable__content\"><pre>BaggingClassifier(base_estimator=DecisionTreeClassifier(max_depth=6,\n",
       "                                                        min_samples_leaf=200),\n",
       "                  n_estimators=5, random_state=123)</pre></div></div></div><div class=\"sk-parallel\"><div class=\"sk-parallel-item\"><div class=\"sk-item\"><div class=\"sk-label-container\"><div class=\"sk-label sk-toggleable\"><input class=\"sk-toggleable__control sk-hidden--visually\" id=\"sk-estimator-id-44\" type=\"checkbox\" ><label for=\"sk-estimator-id-44\" class=\"sk-toggleable__label sk-toggleable__label-arrow\">base_estimator: DecisionTreeClassifier</label><div class=\"sk-toggleable__content\"><pre>DecisionTreeClassifier(max_depth=6, min_samples_leaf=200)</pre></div></div></div><div class=\"sk-serial\"><div class=\"sk-item\"><div class=\"sk-estimator sk-toggleable\"><input class=\"sk-toggleable__control sk-hidden--visually\" id=\"sk-estimator-id-45\" type=\"checkbox\" ><label for=\"sk-estimator-id-45\" class=\"sk-toggleable__label sk-toggleable__label-arrow\">DecisionTreeClassifier</label><div class=\"sk-toggleable__content\"><pre>DecisionTreeClassifier(max_depth=6, min_samples_leaf=200)</pre></div></div></div></div></div></div></div></div></div></div>"
      ],
      "text/plain": [
       "BaggingClassifier(base_estimator=DecisionTreeClassifier(max_depth=6,\n",
       "                                                        min_samples_leaf=200),\n",
       "                  n_estimators=5, random_state=123)"
      ]
     },
     "execution_count": 399,
     "metadata": {},
     "output_type": "execute_result"
    }
   ],
   "source": [
    "bg_clf.fit(train_norm,y_train)"
   ]
  },
  {
   "cell_type": "code",
   "execution_count": 400,
   "metadata": {},
   "outputs": [],
   "source": [
    "pred_valid = bg_clf.predict(valid_norm)"
   ]
  },
  {
   "cell_type": "code",
   "execution_count": 401,
   "metadata": {},
   "outputs": [
    {
     "data": {
      "text/plain": [
       "0.5923737420367464"
      ]
     },
     "execution_count": 401,
     "metadata": {},
     "output_type": "execute_result"
    }
   ],
   "source": [
    "bg_clf.score(train_norm,y_train)"
   ]
  },
  {
   "cell_type": "code",
   "execution_count": 402,
   "metadata": {},
   "outputs": [
    {
     "data": {
      "text/plain": [
       "0.5645021645021645"
      ]
     },
     "execution_count": 402,
     "metadata": {},
     "output_type": "execute_result"
    }
   ],
   "source": [
    "bg_clf.score(valid_norm,y_valid)"
   ]
  },
  {
   "cell_type": "code",
   "execution_count": 403,
   "metadata": {},
   "outputs": [
    {
     "data": {
      "text/plain": [
       "array([[ 33,   2,   9],\n",
       "       [  0,   0,   0],\n",
       "       [369, 123, 619]], dtype=int64)"
      ]
     },
     "execution_count": 403,
     "metadata": {},
     "output_type": "execute_result"
    }
   ],
   "source": [
    "confusion_matrix(pred_valid,y_valid)"
   ]
  },
  {
   "cell_type": "code",
   "execution_count": 404,
   "metadata": {},
   "outputs": [
    {
     "data": {
      "text/plain": [
       "-10.95675999999997"
      ]
     },
     "execution_count": 404,
     "metadata": {},
     "output_type": "execute_result"
    }
   ],
   "source": [
    "(pred_valid * df_valid['next_period_return'].values).sum()"
   ]
  },
  {
   "cell_type": "code",
   "execution_count": 406,
   "metadata": {
    "ExecuteTime": {
     "end_time": "2020-01-27T20:27:16.890860Z",
     "start_time": "2020-01-27T20:27:16.882861Z"
    }
   },
   "outputs": [],
   "source": [
    "fi = bagging_feat_importance(bg_clf,train_norm)"
   ]
  },
  {
   "cell_type": "code",
   "execution_count": 407,
   "metadata": {
    "ExecuteTime": {
     "end_time": "2020-01-27T20:30:18.266621Z",
     "start_time": "2020-01-27T20:30:18.113539Z"
    },
    "scrolled": true
   },
   "outputs": [
    {
     "data": {
      "image/png": "[encoded data removed]",
      "text/plain": [
       "<Figure size 864x504 with 1 Axes>"
      ]
     },
     "metadata": {
      "needs_background": "light"
     },
     "output_type": "display_data"
    }
   ],
   "source": [
    "features = fi[(fi['feat_imp'] > 0.0)]\n",
    "plot_fi(features);"
   ]
  },
  {
   "cell_type": "code",
   "execution_count": 408,
   "metadata": {},
   "outputs": [
    {
     "data": {
      "text/html": [
       "<div>\n",
       "<style scoped>\n",
       "    .dataframe tbody tr th:only-of-type {\n",
       "        vertical-align: middle;\n",
       "    }\n",
       "\n",
       "    .dataframe tbody tr th {\n",
       "        vertical-align: top;\n",
       "    }\n",
       "\n",
       "    .dataframe thead th {\n",
       "        text-align: right;\n",
       "    }\n",
       "</style>\n",
       "<table border=\"1\" class=\"dataframe\">\n",
       "  <thead>\n",
       "    <tr style=\"text-align: right;\">\n",
       "      <th></th>\n",
       "      <th>cols</th>\n",
       "      <th>feat_imp</th>\n",
       "    </tr>\n",
       "  </thead>\n",
       "  <tbody>\n",
       "    <tr>\n",
       "      <th>156</th>\n",
       "      <td>fcf_yield</td>\n",
       "      <td>0.103983</td>\n",
       "    </tr>\n",
       "    <tr>\n",
       "      <th>40</th>\n",
       "      <td>oiadpq</td>\n",
       "      <td>0.072066</td>\n",
       "    </tr>\n",
       "    <tr>\n",
       "      <th>176</th>\n",
       "      <td>rd_saleq</td>\n",
       "      <td>0.054744</td>\n",
       "    </tr>\n",
       "    <tr>\n",
       "      <th>92</th>\n",
       "      <td>market_cap</td>\n",
       "      <td>0.046889</td>\n",
       "    </tr>\n",
       "    <tr>\n",
       "      <th>102</th>\n",
       "      <td>oancfy_q</td>\n",
       "      <td>0.046559</td>\n",
       "    </tr>\n",
       "    <tr>\n",
       "      <th>...</th>\n",
       "      <td>...</td>\n",
       "      <td>...</td>\n",
       "    </tr>\n",
       "    <tr>\n",
       "      <th>142</th>\n",
       "      <td>int_totdebtq</td>\n",
       "      <td>0.005082</td>\n",
       "    </tr>\n",
       "    <tr>\n",
       "      <th>59</th>\n",
       "      <td>txtq</td>\n",
       "      <td>0.004987</td>\n",
       "    </tr>\n",
       "    <tr>\n",
       "      <th>112</th>\n",
       "      <td>gpmq</td>\n",
       "      <td>0.004585</td>\n",
       "    </tr>\n",
       "    <tr>\n",
       "      <th>132</th>\n",
       "      <td>aftret_invcapxq</td>\n",
       "      <td>0.003935</td>\n",
       "    </tr>\n",
       "    <tr>\n",
       "      <th>15</th>\n",
       "      <td>dpq</td>\n",
       "      <td>0.003563</td>\n",
       "    </tr>\n",
       "  </tbody>\n",
       "</table>\n",
       "<p>62 rows × 2 columns</p>\n",
       "</div>"
      ],
      "text/plain": [
       "                cols  feat_imp\n",
       "156        fcf_yield  0.103983\n",
       "40            oiadpq  0.072066\n",
       "176         rd_saleq  0.054744\n",
       "92        market_cap  0.046889\n",
       "102         oancfy_q  0.046559\n",
       "..               ...       ...\n",
       "142     int_totdebtq  0.005082\n",
       "59              txtq  0.004987\n",
       "112             gpmq  0.004585\n",
       "132  aftret_invcapxq  0.003935\n",
       "15               dpq  0.003563\n",
       "\n",
       "[62 rows x 2 columns]"
      ]
     },
     "execution_count": 408,
     "metadata": {},
     "output_type": "execute_result"
    }
   ],
   "source": [
    "features"
   ]
  },
  {
   "cell_type": "code",
   "execution_count": 409,
   "metadata": {},
   "outputs": [],
   "source": [
    "cols = features['cols'].values"
   ]
  },
  {
   "cell_type": "code",
   "execution_count": 411,
   "metadata": {},
   "outputs": [
    {
     "data": {
      "text/plain": [
       "array(['fcf_yield', 'oiadpq', 'rd_saleq', 'market_cap', 'oancfy_q',\n",
       "       'oeps12', 'ibadj12', 'book_value_yield', 'oepf12', 'quick_ratioq',\n",
       "       'short_debtq', 'cf_yield', 'sic_6798', 'ibcy', 'xidoy', 'chechy',\n",
       "       'inv_turnq', 'ocf_lctq', 'dpcq', 'cfmq', 'oancfy', 'roeq',\n",
       "       'cfo-per-share', 'txpq', 'opmbdq', 'psq', 'dltisy', 'dltry',\n",
       "       'yearly_sales', 'xsgay', 'lagppent4', 'fcf_ocfq', 'cash_ratioq',\n",
       "       'de_ratioq', 'sale_equityq', 'evmq', 'opepsq', 'dvy', 'actq',\n",
       "       'capxq', 'ceq4', 'fcf_csfhdq', 'sale_invcapq', 'spiq', 'apq',\n",
       "       'dlttq', 'rect_actq', 'debt_assetsq', 'oepsxy', 'capeiq', 'nopiq',\n",
       "       'capxy', 'dprq', 'npmq', 'invt_actq', 'oibdpy', 'accrualq',\n",
       "       'int_totdebtq', 'txtq', 'gpmq', 'aftret_invcapxq', 'dpq'],\n",
       "      dtype=object)"
      ]
     },
     "execution_count": 411,
     "metadata": {},
     "output_type": "execute_result"
    }
   ],
   "source": [
    "cols"
   ]
  },
  {
   "cell_type": "code",
   "execution_count": 412,
   "metadata": {},
   "outputs": [],
   "source": [
    "float_vars = [x for x in train[cols].columns if data[x].dtype == 'float64']"
   ]
  },
  {
   "cell_type": "code",
   "execution_count": 416,
   "metadata": {},
   "outputs": [
    {
     "data": {
      "text/plain": [
       "61"
      ]
     },
     "execution_count": 416,
     "metadata": {},
     "output_type": "execute_result"
    }
   ],
   "source": [
    "len(float_vars)"
   ]
  },
  {
   "cell_type": "code",
   "execution_count": 414,
   "metadata": {},
   "outputs": [],
   "source": [
    "train_red_norm = train.copy()\n",
    "valid_red_norm = valid.copy()\n",
    "test_red_norm = test.copy()"
   ]
  },
  {
   "cell_type": "code",
   "execution_count": 417,
   "metadata": {},
   "outputs": [
    {
     "data": {
      "text/html": [
       "<div>\n",
       "<style scoped>\n",
       "    .dataframe tbody tr th:only-of-type {\n",
       "        vertical-align: middle;\n",
       "    }\n",
       "\n",
       "    .dataframe tbody tr th {\n",
       "        vertical-align: top;\n",
       "    }\n",
       "\n",
       "    .dataframe thead th {\n",
       "        text-align: right;\n",
       "    }\n",
       "</style>\n",
       "<table border=\"1\" class=\"dataframe\">\n",
       "  <thead>\n",
       "    <tr style=\"text-align: right;\">\n",
       "      <th></th>\n",
       "      <th>fcf_yield</th>\n",
       "      <th>oiadpq</th>\n",
       "      <th>rd_saleq</th>\n",
       "      <th>market_cap</th>\n",
       "      <th>oancfy_q</th>\n",
       "      <th>oeps12</th>\n",
       "      <th>ibadj12</th>\n",
       "      <th>book_value_yield</th>\n",
       "      <th>oepf12</th>\n",
       "      <th>quick_ratioq</th>\n",
       "      <th>...</th>\n",
       "      <th>dprq</th>\n",
       "      <th>npmq</th>\n",
       "      <th>invt_actq</th>\n",
       "      <th>oibdpy</th>\n",
       "      <th>accrualq</th>\n",
       "      <th>int_totdebtq</th>\n",
       "      <th>txtq</th>\n",
       "      <th>gpmq</th>\n",
       "      <th>aftret_invcapxq</th>\n",
       "      <th>dpq</th>\n",
       "    </tr>\n",
       "  </thead>\n",
       "  <tbody>\n",
       "    <tr>\n",
       "      <th>0</th>\n",
       "      <td>-0.018069</td>\n",
       "      <td>65.238</td>\n",
       "      <td>0.000000</td>\n",
       "      <td>3328.613563</td>\n",
       "      <td>-28.850</td>\n",
       "      <td>1.0300</td>\n",
       "      <td>176.894</td>\n",
       "      <td>0.258732</td>\n",
       "      <td>1.0300</td>\n",
       "      <td>0.317598</td>\n",
       "      <td>...</td>\n",
       "      <td>0.257194</td>\n",
       "      <td>0.048261</td>\n",
       "      <td>0.830815</td>\n",
       "      <td>80.152</td>\n",
       "      <td>-22.188</td>\n",
       "      <td>0.000000</td>\n",
       "      <td>23.777</td>\n",
       "      <td>0.298141</td>\n",
       "      <td>0.294123</td>\n",
       "      <td>14.914</td>\n",
       "    </tr>\n",
       "    <tr>\n",
       "      <th>1</th>\n",
       "      <td>0.066848</td>\n",
       "      <td>706.759</td>\n",
       "      <td>0.000000</td>\n",
       "      <td>17239.971000</td>\n",
       "      <td>0.000</td>\n",
       "      <td>2.0900</td>\n",
       "      <td>0.000</td>\n",
       "      <td>0.875620</td>\n",
       "      <td>2.0900</td>\n",
       "      <td>0.000000</td>\n",
       "      <td>...</td>\n",
       "      <td>0.000000</td>\n",
       "      <td>0.000000</td>\n",
       "      <td>0.000000</td>\n",
       "      <td>0.000</td>\n",
       "      <td>0.000</td>\n",
       "      <td>0.000000</td>\n",
       "      <td>500.314</td>\n",
       "      <td>0.000000</td>\n",
       "      <td>0.000000</td>\n",
       "      <td>0.000</td>\n",
       "    </tr>\n",
       "    <tr>\n",
       "      <th>2</th>\n",
       "      <td>0.000000</td>\n",
       "      <td>119.606</td>\n",
       "      <td>0.000000</td>\n",
       "      <td>5006.277813</td>\n",
       "      <td>0.000</td>\n",
       "      <td>1.1000</td>\n",
       "      <td>182.935</td>\n",
       "      <td>0.299951</td>\n",
       "      <td>1.1000</td>\n",
       "      <td>0.000000</td>\n",
       "      <td>...</td>\n",
       "      <td>0.000000</td>\n",
       "      <td>0.000000</td>\n",
       "      <td>0.000000</td>\n",
       "      <td>556.662</td>\n",
       "      <td>0.000</td>\n",
       "      <td>0.000000</td>\n",
       "      <td>10.067</td>\n",
       "      <td>0.000000</td>\n",
       "      <td>0.000000</td>\n",
       "      <td>35.677</td>\n",
       "    </tr>\n",
       "    <tr>\n",
       "      <th>3</th>\n",
       "      <td>0.032548</td>\n",
       "      <td>6880.430</td>\n",
       "      <td>0.000000</td>\n",
       "      <td>55073.831760</td>\n",
       "      <td>18080.311</td>\n",
       "      <td>0.0000</td>\n",
       "      <td>0.000</td>\n",
       "      <td>0.000000</td>\n",
       "      <td>0.0000</td>\n",
       "      <td>0.000000</td>\n",
       "      <td>...</td>\n",
       "      <td>0.000000</td>\n",
       "      <td>0.000000</td>\n",
       "      <td>0.000000</td>\n",
       "      <td>23218.970</td>\n",
       "      <td>0.000</td>\n",
       "      <td>0.000000</td>\n",
       "      <td>317.323</td>\n",
       "      <td>0.000000</td>\n",
       "      <td>0.000000</td>\n",
       "      <td>243.786</td>\n",
       "    </tr>\n",
       "    <tr>\n",
       "      <th>4</th>\n",
       "      <td>0.053088</td>\n",
       "      <td>401.000</td>\n",
       "      <td>0.000000</td>\n",
       "      <td>13470.818438</td>\n",
       "      <td>454.000</td>\n",
       "      <td>2.0400</td>\n",
       "      <td>0.000</td>\n",
       "      <td>0.366496</td>\n",
       "      <td>2.0100</td>\n",
       "      <td>1.815374</td>\n",
       "      <td>...</td>\n",
       "      <td>0.000000</td>\n",
       "      <td>0.033685</td>\n",
       "      <td>0.061251</td>\n",
       "      <td>993.000</td>\n",
       "      <td>1188.000</td>\n",
       "      <td>0.085862</td>\n",
       "      <td>117.000</td>\n",
       "      <td>0.161122</td>\n",
       "      <td>0.000000</td>\n",
       "      <td>105.000</td>\n",
       "    </tr>\n",
       "    <tr>\n",
       "      <th>...</th>\n",
       "      <td>...</td>\n",
       "      <td>...</td>\n",
       "      <td>...</td>\n",
       "      <td>...</td>\n",
       "      <td>...</td>\n",
       "      <td>...</td>\n",
       "      <td>...</td>\n",
       "      <td>...</td>\n",
       "      <td>...</td>\n",
       "      <td>...</td>\n",
       "      <td>...</td>\n",
       "      <td>...</td>\n",
       "      <td>...</td>\n",
       "      <td>...</td>\n",
       "      <td>...</td>\n",
       "      <td>...</td>\n",
       "      <td>...</td>\n",
       "      <td>...</td>\n",
       "      <td>...</td>\n",
       "      <td>...</td>\n",
       "      <td>...</td>\n",
       "    </tr>\n",
       "    <tr>\n",
       "      <th>10826</th>\n",
       "      <td>-0.018673</td>\n",
       "      <td>450.630</td>\n",
       "      <td>0.000000</td>\n",
       "      <td>10989.340000</td>\n",
       "      <td>918.053</td>\n",
       "      <td>4.2500</td>\n",
       "      <td>0.000</td>\n",
       "      <td>0.782038</td>\n",
       "      <td>4.2500</td>\n",
       "      <td>0.000000</td>\n",
       "      <td>...</td>\n",
       "      <td>0.000000</td>\n",
       "      <td>0.000000</td>\n",
       "      <td>0.000000</td>\n",
       "      <td>695.292</td>\n",
       "      <td>0.000</td>\n",
       "      <td>0.000000</td>\n",
       "      <td>88.236</td>\n",
       "      <td>0.000000</td>\n",
       "      <td>0.000000</td>\n",
       "      <td>244.662</td>\n",
       "    </tr>\n",
       "    <tr>\n",
       "      <th>10827</th>\n",
       "      <td>0.096960</td>\n",
       "      <td>134.596</td>\n",
       "      <td>0.000000</td>\n",
       "      <td>3457.556200</td>\n",
       "      <td>19.060</td>\n",
       "      <td>1.9700</td>\n",
       "      <td>248.461</td>\n",
       "      <td>0.000000</td>\n",
       "      <td>1.9600</td>\n",
       "      <td>0.417276</td>\n",
       "      <td>...</td>\n",
       "      <td>0.308515</td>\n",
       "      <td>0.012294</td>\n",
       "      <td>0.615851</td>\n",
       "      <td>664.843</td>\n",
       "      <td>408.879</td>\n",
       "      <td>0.079209</td>\n",
       "      <td>40.931</td>\n",
       "      <td>0.150165</td>\n",
       "      <td>0.396773</td>\n",
       "      <td>68.564</td>\n",
       "    </tr>\n",
       "    <tr>\n",
       "      <th>10828</th>\n",
       "      <td>0.038298</td>\n",
       "      <td>18.401</td>\n",
       "      <td>0.000000</td>\n",
       "      <td>1022.517050</td>\n",
       "      <td>14.156</td>\n",
       "      <td>1.1033</td>\n",
       "      <td>41.485</td>\n",
       "      <td>0.000000</td>\n",
       "      <td>1.0767</td>\n",
       "      <td>4.015399</td>\n",
       "      <td>...</td>\n",
       "      <td>0.036350</td>\n",
       "      <td>0.106175</td>\n",
       "      <td>0.281997</td>\n",
       "      <td>58.473</td>\n",
       "      <td>20.592</td>\n",
       "      <td>0.000000</td>\n",
       "      <td>7.161</td>\n",
       "      <td>0.426688</td>\n",
       "      <td>0.000000</td>\n",
       "      <td>3.045</td>\n",
       "    </tr>\n",
       "    <tr>\n",
       "      <th>10829</th>\n",
       "      <td>-0.038154</td>\n",
       "      <td>0.600</td>\n",
       "      <td>0.156283</td>\n",
       "      <td>7924.391000</td>\n",
       "      <td>255.200</td>\n",
       "      <td>-1.4800</td>\n",
       "      <td>-961.900</td>\n",
       "      <td>0.660817</td>\n",
       "      <td>-1.4800</td>\n",
       "      <td>1.832117</td>\n",
       "      <td>...</td>\n",
       "      <td>-0.005926</td>\n",
       "      <td>-0.217111</td>\n",
       "      <td>0.191593</td>\n",
       "      <td>312.900</td>\n",
       "      <td>1395.900</td>\n",
       "      <td>0.033948</td>\n",
       "      <td>15.500</td>\n",
       "      <td>0.335997</td>\n",
       "      <td>-0.146210</td>\n",
       "      <td>312.300</td>\n",
       "    </tr>\n",
       "    <tr>\n",
       "      <th>10830</th>\n",
       "      <td>0.003763</td>\n",
       "      <td>48.900</td>\n",
       "      <td>0.000000</td>\n",
       "      <td>5753.405700</td>\n",
       "      <td>-97.700</td>\n",
       "      <td>0.5700</td>\n",
       "      <td>0.000</td>\n",
       "      <td>0.331484</td>\n",
       "      <td>0.5600</td>\n",
       "      <td>0.278610</td>\n",
       "      <td>...</td>\n",
       "      <td>0.566032</td>\n",
       "      <td>0.212574</td>\n",
       "      <td>0.071429</td>\n",
       "      <td>499.300</td>\n",
       "      <td>-50.000</td>\n",
       "      <td>0.000000</td>\n",
       "      <td>22.800</td>\n",
       "      <td>0.325978</td>\n",
       "      <td>0.000000</td>\n",
       "      <td>39.000</td>\n",
       "    </tr>\n",
       "  </tbody>\n",
       "</table>\n",
       "<p>10831 rows × 61 columns</p>\n",
       "</div>"
      ],
      "text/plain": [
       "       fcf_yield    oiadpq  rd_saleq    market_cap   oancfy_q  oeps12  \\\n",
       "0      -0.018069    65.238  0.000000   3328.613563    -28.850  1.0300   \n",
       "1       0.066848   706.759  0.000000  17239.971000      0.000  2.0900   \n",
       "2       0.000000   119.606  0.000000   5006.277813      0.000  1.1000   \n",
       "3       0.032548  6880.430  0.000000  55073.831760  18080.311  0.0000   \n",
       "4       0.053088   401.000  0.000000  13470.818438    454.000  2.0400   \n",
       "...          ...       ...       ...           ...        ...     ...   \n",
       "10826  -0.018673   450.630  0.000000  10989.340000    918.053  4.2500   \n",
       "10827   0.096960   134.596  0.000000   3457.556200     19.060  1.9700   \n",
       "10828   0.038298    18.401  0.000000   1022.517050     14.156  1.1033   \n",
       "10829  -0.038154     0.600  0.156283   7924.391000    255.200 -1.4800   \n",
       "10830   0.003763    48.900  0.000000   5753.405700    -97.700  0.5700   \n",
       "\n",
       "       ibadj12  book_value_yield  oepf12  quick_ratioq  ...      dprq  \\\n",
       "0      176.894          0.258732  1.0300      0.317598  ...  0.257194   \n",
       "1        0.000          0.875620  2.0900      0.000000  ...  0.000000   \n",
       "2      182.935          0.299951  1.1000      0.000000  ...  0.000000   \n",
       "3        0.000          0.000000  0.0000      0.000000  ...  0.000000   \n",
       "4        0.000          0.366496  2.0100      1.815374  ...  0.000000   \n",
       "...        ...               ...     ...           ...  ...       ...   \n",
       "10826    0.000          0.782038  4.2500      0.000000  ...  0.000000   \n",
       "10827  248.461          0.000000  1.9600      0.417276  ...  0.308515   \n",
       "10828   41.485          0.000000  1.0767      4.015399  ...  0.036350   \n",
       "10829 -961.900          0.660817 -1.4800      1.832117  ... -0.005926   \n",
       "10830    0.000          0.331484  0.5600      0.278610  ...  0.566032   \n",
       "\n",
       "           npmq  invt_actq     oibdpy  accrualq  int_totdebtq     txtq  \\\n",
       "0      0.048261   0.830815     80.152   -22.188      0.000000   23.777   \n",
       "1      0.000000   0.000000      0.000     0.000      0.000000  500.314   \n",
       "2      0.000000   0.000000    556.662     0.000      0.000000   10.067   \n",
       "3      0.000000   0.000000  23218.970     0.000      0.000000  317.323   \n",
       "4      0.033685   0.061251    993.000  1188.000      0.085862  117.000   \n",
       "...         ...        ...        ...       ...           ...      ...   \n",
       "10826  0.000000   0.000000    695.292     0.000      0.000000   88.236   \n",
       "10827  0.012294   0.615851    664.843   408.879      0.079209   40.931   \n",
       "10828  0.106175   0.281997     58.473    20.592      0.000000    7.161   \n",
       "10829 -0.217111   0.191593    312.900  1395.900      0.033948   15.500   \n",
       "10830  0.212574   0.071429    499.300   -50.000      0.000000   22.800   \n",
       "\n",
       "           gpmq  aftret_invcapxq      dpq  \n",
       "0      0.298141         0.294123   14.914  \n",
       "1      0.000000         0.000000    0.000  \n",
       "2      0.000000         0.000000   35.677  \n",
       "3      0.000000         0.000000  243.786  \n",
       "4      0.161122         0.000000  105.000  \n",
       "...         ...              ...      ...  \n",
       "10826  0.000000         0.000000  244.662  \n",
       "10827  0.150165         0.396773   68.564  \n",
       "10828  0.426688         0.000000    3.045  \n",
       "10829  0.335997        -0.146210  312.300  \n",
       "10830  0.325978         0.000000   39.000  \n",
       "\n",
       "[10831 rows x 61 columns]"
      ]
     },
     "execution_count": 417,
     "metadata": {},
     "output_type": "execute_result"
    }
   ],
   "source": [
    "(train[cols])[float_vars]"
   ]
  },
  {
   "cell_type": "code",
   "execution_count": 420,
   "metadata": {},
   "outputs": [],
   "source": [
    "train_red_norm[float_vars] = scaler.fit_transform((train[cols])[float_vars])\n",
    "valid_red_norm[float_vars] = scaler.transform((valid[cols])[float_vars])\n",
    "test_red_norm[float_vars] = scaler.transform((test[cols])[float_vars])"
   ]
  },
  {
   "cell_type": "code",
   "execution_count": null,
   "metadata": {},
   "outputs": [],
   "source": []
  },
  {
   "cell_type": "code",
   "execution_count": 421,
   "metadata": {},
   "outputs": [
    {
     "data": {
      "text/html": [
       "<style>#sk-container-id-16 {color: black;background-color: white;}#sk-container-id-16 pre{padding: 0;}#sk-container-id-16 div.sk-toggleable {background-color: white;}#sk-container-id-16 label.sk-toggleable__label {cursor: pointer;display: block;width: 100%;margin-bottom: 0;padding: 0.3em;box-sizing: border-box;text-align: center;}#sk-container-id-16 label.sk-toggleable__label-arrow:before {content: \"▸\";float: left;margin-right: 0.25em;color: #696969;}#sk-container-id-16 label.sk-toggleable__label-arrow:hover:before {color: black;}#sk-container-id-16 div.sk-estimator:hover label.sk-toggleable__label-arrow:before {color: black;}#sk-container-id-16 div.sk-toggleable__content {max-height: 0;max-width: 0;overflow: hidden;text-align: left;background-color: #f0f8ff;}#sk-container-id-16 div.sk-toggleable__content pre {margin: 0.2em;color: black;border-radius: 0.25em;background-color: #f0f8ff;}#sk-container-id-16 input.sk-toggleable__control:checked~div.sk-toggleable__content {max-height: 200px;max-width: 100%;overflow: auto;}#sk-container-id-16 input.sk-toggleable__control:checked~label.sk-toggleable__label-arrow:before {content: \"▾\";}#sk-container-id-16 div.sk-estimator input.sk-toggleable__control:checked~label.sk-toggleable__label {background-color: #d4ebff;}#sk-container-id-16 div.sk-label input.sk-toggleable__control:checked~label.sk-toggleable__label {background-color: #d4ebff;}#sk-container-id-16 input.sk-hidden--visually {border: 0;clip: rect(1px 1px 1px 1px);clip: rect(1px, 1px, 1px, 1px);height: 1px;margin: -1px;overflow: hidden;padding: 0;position: absolute;width: 1px;}#sk-container-id-16 div.sk-estimator {font-family: monospace;background-color: #f0f8ff;border: 1px dotted black;border-radius: 0.25em;box-sizing: border-box;margin-bottom: 0.5em;}#sk-container-id-16 div.sk-estimator:hover {background-color: #d4ebff;}#sk-container-id-16 div.sk-parallel-item::after {content: \"\";width: 100%;border-bottom: 1px solid gray;flex-grow: 1;}#sk-container-id-16 div.sk-label:hover label.sk-toggleable__label {background-color: #d4ebff;}#sk-container-id-16 div.sk-serial::before {content: \"\";position: absolute;border-left: 1px solid gray;box-sizing: border-box;top: 0;bottom: 0;left: 50%;z-index: 0;}#sk-container-id-16 div.sk-serial {display: flex;flex-direction: column;align-items: center;background-color: white;padding-right: 0.2em;padding-left: 0.2em;position: relative;}#sk-container-id-16 div.sk-item {position: relative;z-index: 1;}#sk-container-id-16 div.sk-parallel {display: flex;align-items: stretch;justify-content: center;background-color: white;position: relative;}#sk-container-id-16 div.sk-item::before, #sk-container-id-16 div.sk-parallel-item::before {content: \"\";position: absolute;border-left: 1px solid gray;box-sizing: border-box;top: 0;bottom: 0;left: 50%;z-index: -1;}#sk-container-id-16 div.sk-parallel-item {display: flex;flex-direction: column;z-index: 1;position: relative;background-color: white;}#sk-container-id-16 div.sk-parallel-item:first-child::after {align-self: flex-end;width: 50%;}#sk-container-id-16 div.sk-parallel-item:last-child::after {align-self: flex-start;width: 50%;}#sk-container-id-16 div.sk-parallel-item:only-child::after {width: 0;}#sk-container-id-16 div.sk-dashed-wrapped {border: 1px dashed gray;margin: 0 0.4em 0.5em 0.4em;box-sizing: border-box;padding-bottom: 0.4em;background-color: white;}#sk-container-id-16 div.sk-label label {font-family: monospace;font-weight: bold;display: inline-block;line-height: 1.2em;}#sk-container-id-16 div.sk-label-container {text-align: center;}#sk-container-id-16 div.sk-container {/* jupyter's `normalize.less` sets `[hidden] { display: none; }` but bootstrap.min.css set `[hidden] { display: none !important; }` so we also need the `!important` here to be able to override the default hidden behavior on the sphinx rendered scikit-learn.org. See: https://github.com/scikit-learn/scikit-learn/issues/21755 */display: inline-block !important;position: relative;}#sk-container-id-16 div.sk-text-repr-fallback {display: none;}</style><div id=\"sk-container-id-16\" class=\"sk-top-container\"><div class=\"sk-text-repr-fallback\"><pre>BaggingClassifier(base_estimator=DecisionTreeClassifier(max_depth=6,\n",
       "                                                        min_samples_leaf=200),\n",
       "                  n_estimators=5, random_state=123)</pre><b>In a Jupyter environment, please rerun this cell to show the HTML representation or trust the notebook. <br />On GitHub, the HTML representation is unable to render, please try loading this page with nbviewer.org.</b></div><div class=\"sk-container\" hidden><div class=\"sk-item sk-dashed-wrapped\"><div class=\"sk-label-container\"><div class=\"sk-label sk-toggleable\"><input class=\"sk-toggleable__control sk-hidden--visually\" id=\"sk-estimator-id-46\" type=\"checkbox\" ><label for=\"sk-estimator-id-46\" class=\"sk-toggleable__label sk-toggleable__label-arrow\">BaggingClassifier</label><div class=\"sk-toggleable__content\"><pre>BaggingClassifier(base_estimator=DecisionTreeClassifier(max_depth=6,\n",
       "                                                        min_samples_leaf=200),\n",
       "                  n_estimators=5, random_state=123)</pre></div></div></div><div class=\"sk-parallel\"><div class=\"sk-parallel-item\"><div class=\"sk-item\"><div class=\"sk-label-container\"><div class=\"sk-label sk-toggleable\"><input class=\"sk-toggleable__control sk-hidden--visually\" id=\"sk-estimator-id-47\" type=\"checkbox\" ><label for=\"sk-estimator-id-47\" class=\"sk-toggleable__label sk-toggleable__label-arrow\">base_estimator: DecisionTreeClassifier</label><div class=\"sk-toggleable__content\"><pre>DecisionTreeClassifier(max_depth=6, min_samples_leaf=200)</pre></div></div></div><div class=\"sk-serial\"><div class=\"sk-item\"><div class=\"sk-estimator sk-toggleable\"><input class=\"sk-toggleable__control sk-hidden--visually\" id=\"sk-estimator-id-48\" type=\"checkbox\" ><label for=\"sk-estimator-id-48\" class=\"sk-toggleable__label sk-toggleable__label-arrow\">DecisionTreeClassifier</label><div class=\"sk-toggleable__content\"><pre>DecisionTreeClassifier(max_depth=6, min_samples_leaf=200)</pre></div></div></div></div></div></div></div></div></div></div>"
      ],
      "text/plain": [
       "BaggingClassifier(base_estimator=DecisionTreeClassifier(max_depth=6,\n",
       "                                                        min_samples_leaf=200),\n",
       "                  n_estimators=5, random_state=123)"
      ]
     },
     "execution_count": 421,
     "metadata": {},
     "output_type": "execute_result"
    }
   ],
   "source": [
    "bg_clf.fit(train_red_norm,y_train)"
   ]
  },
  {
   "cell_type": "code",
   "execution_count": 422,
   "metadata": {},
   "outputs": [],
   "source": [
    "valid_1_norm = valid_red_norm.copy()\n",
    "\n",
    "valid_1_norm['rets'] = df_valid['next_period_return'].values"
   ]
  },
  {
   "cell_type": "code",
   "execution_count": 423,
   "metadata": {},
   "outputs": [],
   "source": [
    "pred = bg_clf.predict(valid_red_norm)"
   ]
  },
  {
   "cell_type": "code",
   "execution_count": 424,
   "metadata": {},
   "outputs": [
    {
     "data": {
      "text/plain": [
       "-10.95675999999997"
      ]
     },
     "execution_count": 424,
     "metadata": {},
     "output_type": "execute_result"
    }
   ],
   "source": [
    "(pred*valid_1[valid_1_norm.columns[-1]].values).sum()"
   ]
  },
  {
   "cell_type": "code",
   "execution_count": 425,
   "metadata": {},
   "outputs": [],
   "source": [
    "import shap"
   ]
  },
  {
   "cell_type": "code",
   "execution_count": 426,
   "metadata": {},
   "outputs": [],
   "source": [
    "def model(features):\n",
    "    tree_features = features[features.columns[:-1].values]\n",
    "\n",
    "    pred = bg_clf.predict(tree_features)\n",
    "\n",
    "    ret = pred * features[features.columns[-1]]\n",
    "\n",
    "    return ret"
   ]
  },
  {
   "cell_type": "code",
   "execution_count": 430,
   "metadata": {},
   "outputs": [],
   "source": [
    "explainer = shap.explainers.Permutation(model,valid_1_norm,)"
   ]
  },
  {
   "cell_type": "code",
   "execution_count": 431,
   "metadata": {},
   "outputs": [
    {
     "name": "stderr",
     "output_type": "stream",
     "text": [
      "Permutation explainer: 1156it [2:09:21,  6.73s/it]                                                                     \n"
     ]
    }
   ],
   "source": [
    "shap_values = explainer(valid_1_norm,max_evals=2000,)"
   ]
  },
  {
   "cell_type": "code",
   "execution_count": 329,
   "metadata": {},
   "outputs": [
    {
     "data": {
      "text/plain": [
       "(1155, 63)"
      ]
     },
     "execution_count": 329,
     "metadata": {},
     "output_type": "execute_result"
    }
   ],
   "source": [
    "shap_values.values.shape"
   ]
  },
  {
   "cell_type": "code",
   "execution_count": 330,
   "metadata": {},
   "outputs": [
    {
     "data": {
      "image/png": "[encoded data removed]",
      "text/plain": [
       "<Figure size 576x2268 with 1 Axes>"
      ]
     },
     "metadata": {},
     "output_type": "display_data"
    }
   ],
   "source": [
    "shap.plots.bar(shap_values[:,:-1],max_display=60,)"
   ]
  },
  {
   "cell_type": "code",
   "execution_count": 354,
   "metadata": {},
   "outputs": [],
   "source": [
    "shap_cols = cols[np.abs(shap_values[:,:-1].values).mean(axis=0)>0.000]"
   ]
  },
  {
   "cell_type": "code",
   "execution_count": 355,
   "metadata": {},
   "outputs": [
    {
     "data": {
      "text/plain": [
       "array(['fcf_yield', 'oiadpq', 'rd_saleq', 'market_cap', 'oancfy_q',\n",
       "       'oeps12', 'ibadj12', 'book_value_yield', 'oepf12', 'quick_ratioq',\n",
       "       'short_debtq', 'cf_yield', 'sic_6798', 'ibcy', 'xidoy', 'chechy',\n",
       "       'inv_turnq', 'ocf_lctq', 'dpcq', 'cfmq', 'oancfy', 'roeq',\n",
       "       'cfo-per-share', 'txpq', 'opmbdq', 'psq', 'dltisy', 'dltry',\n",
       "       'yearly_sales', 'xsgay', 'lagppent4', 'fcf_ocfq', 'cash_ratioq',\n",
       "       'de_ratioq', 'sale_equityq', 'evmq', 'opepsq', 'dvy', 'actq',\n",
       "       'capxq', 'ceq4', 'fcf_csfhdq', 'sale_invcapq', 'apq', 'dlttq',\n",
       "       'rect_actq', 'capeiq', 'nopiq', 'capxy', 'npmq', 'invt_actq',\n",
       "       'oibdpy', 'accrualq', 'int_totdebtq', 'txtq', 'gpmq',\n",
       "       'aftret_invcapxq', 'dpq'], dtype=object)"
      ]
     },
     "execution_count": 355,
     "metadata": {},
     "output_type": "execute_result"
    }
   ],
   "source": [
    "shap_cols"
   ]
  },
  {
   "cell_type": "code",
   "execution_count": 356,
   "metadata": {},
   "outputs": [
    {
     "data": {
      "text/plain": [
       "58"
      ]
     },
     "execution_count": 356,
     "metadata": {},
     "output_type": "execute_result"
    }
   ],
   "source": [
    "len(shap_cols)"
   ]
  },
  {
   "cell_type": "code",
   "execution_count": 357,
   "metadata": {
    "ExecuteTime": {
     "end_time": "2020-01-27T22:47:56.073333Z",
     "start_time": "2020-01-27T22:47:51.933107Z"
    }
   },
   "outputs": [],
   "source": [
    "start_dates = [pd.to_datetime('2001-01-01') + pd.DateOffset(months = 3 * i) for i in range(57)]\n",
    "end_dates = [d + pd.DateOffset(months = 36) for d in start_dates]\n",
    "\n",
    "training_frames = [data.loc[d:d+pd.DateOffset(months = 36)] for d in start_dates]\n",
    "valid_frames = [data.loc[d + pd.DateOffset(months=3):d+pd.DateOffset(months = 6)] for d in end_dates]\n",
    "test_frames = [data.loc[d + pd.DateOffset(months=6):d+pd.DateOffset(months = 9)] for d in end_dates]\n",
    "\n",
    "training_data = [d.reset_index().drop\n",
    "                                 (['ticker','date',\n",
    "                                   'next_period_return',\n",
    "                                   'spy_next_period_return',\n",
    "                                   'rel_performance','pred_rel_return',\n",
    "                                  'return', 'cum_ret', 'spy_cum_ret'],axis=1) for d in training_frames]\n",
    "valid_data = [d.reset_index().drop(['ticker','date',\n",
    "                                   'next_period_return',\n",
    "                                   'spy_next_period_return',\n",
    "                                   'rel_performance','pred_rel_return',\n",
    "                                  'return', 'cum_ret', 'spy_cum_ret'],axis=1) for d in valid_frames]\n",
    "test_data = [d.reset_index().drop(['ticker','date',\n",
    "                                   'next_period_return',\n",
    "                                   'spy_next_period_return',\n",
    "                                   'rel_performance','pred_rel_return',\n",
    "                                  'return', 'cum_ret', 'spy_cum_ret'],axis=1) for d in test_frames]\n",
    "\n",
    "training_labels = [d['rel_performance'].values for d in training_frames]\n",
    "validation_labels = [d['rel_performance'].values for d in test_frames]"
   ]
  },
  {
   "cell_type": "code",
   "execution_count": 358,
   "metadata": {},
   "outputs": [],
   "source": [
    "scalers = [StandardScaler() for _ in range(len(training_data))]\n",
    "           \n",
    "opt_training_data = [pd.DataFrame(scalers[i].fit_transform(training_frames[i][shap_cols].values),columns=shap_cols) for i in range(len(training_data))]\n",
    "opt_valid_data = [pd.DataFrame(scalers[i].transform(valid_frames[i][shap_cols].values),columns=shap_cols) for i in range(len(valid_data))]\n",
    "opt_test_data = [pd.DataFrame(scalers[i].transform(test_frames[i][shap_cols].values),columns=shap_cols) for i in range(len(test_data))]"
   ]
  },
  {
   "cell_type": "code",
   "execution_count": 359,
   "metadata": {
    "ExecuteTime": {
     "end_time": "2020-01-27T22:48:28.943632Z",
     "start_time": "2020-01-27T22:47:59.853749Z"
    }
   },
   "outputs": [],
   "source": [
    "x = [1]\n",
    "ret = []\n",
    "\n",
    "for i in range(len(start_dates)-1):\n",
    "        t_clf.fit(opt_training_data[i],training_labels[i])\n",
    "\n",
    "        preds = t_clf.predict(opt_test_data[i])\n",
    "        profit_i = (preds*test_frames[i]['next_period_return']).sum()\n",
    "        ret.append(profit_i)\n",
    "        num_names = len(opt_test_data[i])\n",
    "        x.append(x[i] + (x[i]/num_names)*profit_i)\n",
    "\n"
   ]
  },
  {
   "cell_type": "code",
   "execution_count": 360,
   "metadata": {
    "ExecuteTime": {
     "end_time": "2020-01-27T22:48:34.883601Z",
     "start_time": "2020-01-27T22:48:34.755506Z"
    }
   },
   "outputs": [
    {
     "data": {
      "image/png": "[encoded data removed]",
      "text/plain": [
       "<Figure size 432x288 with 1 Axes>"
      ]
     },
     "metadata": {
      "needs_background": "light"
     },
     "output_type": "display_data"
    }
   ],
   "source": [
    "plt.plot(x);"
   ]
  },
  {
   "cell_type": "code",
   "execution_count": 361,
   "metadata": {
    "ExecuteTime": {
     "end_time": "2020-01-27T22:48:40.929283Z",
     "start_time": "2020-01-27T22:48:40.906285Z"
    }
   },
   "outputs": [],
   "source": [
    "SPY = pd.read_pickle(r'C:\\Users\\niels\\OneDrive\\Machine Learning 2022\\Lecture 2\\SPY_cum_ret.pkl')\n",
    "SPY = SPY.loc['2004-07-01':'2018-09-30']\n",
    "SPY = SPY.resample('Q').ffill()\n",
    "SPY['spy_cum_ret'] = (SPY['spy_cum_ret'] - SPY['spy_cum_ret'][0]+1)\n",
    "SPY['strategy'] = x"
   ]
  },
  {
   "cell_type": "code",
   "execution_count": 362,
   "metadata": {
    "ExecuteTime": {
     "end_time": "2020-01-27T22:48:42.603015Z",
     "start_time": "2020-01-27T22:48:42.411973Z"
    },
    "scrolled": true
   },
   "outputs": [
    {
     "data": {
      "image/png": "[encoded data removed]",
      "text/plain": [
       "<Figure size 432x288 with 1 Axes>"
      ]
     },
     "metadata": {
      "needs_background": "light"
     },
     "output_type": "display_data"
    }
   ],
   "source": [
    "SPY.plot();"
   ]
  },
  {
   "cell_type": "code",
   "execution_count": 363,
   "metadata": {
    "ExecuteTime": {
     "end_time": "2020-01-27T22:48:51.445096Z",
     "start_time": "2020-01-27T22:48:51.438079Z"
    }
   },
   "outputs": [],
   "source": [
    "SPY = SPY.resample('Y').ffill()"
   ]
  },
  {
   "cell_type": "code",
   "execution_count": 364,
   "metadata": {
    "ExecuteTime": {
     "end_time": "2020-01-27T22:48:52.736096Z",
     "start_time": "2020-01-27T22:48:52.554071Z"
    }
   },
   "outputs": [
    {
     "data": {
      "image/png": "[encoded data removed]",
      "text/plain": [
       "<Figure size 432x288 with 1 Axes>"
      ]
     },
     "metadata": {
      "needs_background": "light"
     },
     "output_type": "display_data"
    }
   ],
   "source": [
    "SPY.plot();"
   ]
  },
  {
   "cell_type": "code",
   "execution_count": 365,
   "metadata": {
    "ExecuteTime": {
     "end_time": "2020-01-27T22:49:03.309890Z",
     "start_time": "2020-01-27T22:49:03.303887Z"
    }
   },
   "outputs": [
    {
     "name": "stdout",
     "output_type": "stream",
     "text": [
      "Strategy Sharpe Ratio:  0.8072158791958496\n"
     ]
    }
   ],
   "source": [
    "strategy_mean_ret = (SPY['strategy'] - 1).diff().mean()\n",
    "strategy_std = (SPY['strategy'] - 1).diff().std()\n",
    "strategy_sr = strategy_mean_ret/strategy_std\n",
    "print('Strategy Sharpe Ratio: ',strategy_sr)"
   ]
  },
  {
   "cell_type": "code",
   "execution_count": 366,
   "metadata": {
    "ExecuteTime": {
     "end_time": "2020-01-27T22:49:10.186969Z",
     "start_time": "2020-01-27T22:49:10.179891Z"
    }
   },
   "outputs": [
    {
     "data": {
      "text/plain": [
       "0.1817757218883073"
      ]
     },
     "execution_count": 366,
     "metadata": {},
     "output_type": "execute_result"
    }
   ],
   "source": [
    "strategy_std = (SPY['strategy'] - 1).diff().std()\n",
    "strategy_std"
   ]
  },
  {
   "cell_type": "code",
   "execution_count": 367,
   "metadata": {
    "ExecuteTime": {
     "end_time": "2020-01-27T22:49:14.152940Z",
     "start_time": "2020-01-27T22:49:14.146940Z"
    }
   },
   "outputs": [
    {
     "name": "stdout",
     "output_type": "stream",
     "text": [
      "SP Sharpe Ratio:  0.6324646748042164\n"
     ]
    }
   ],
   "source": [
    "(SPY['spy_cum_ret'] - 1).diff().mean()\n",
    "(SPY['spy_cum_ret'] - 1).diff().std()\n",
    "print('SP Sharpe Ratio: ',(SPY['spy_cum_ret'] - 1).diff().mean()/(SPY['spy_cum_ret'] - 1).diff().std())"
   ]
  },
  {
   "cell_type": "code",
   "execution_count": 269,
   "metadata": {
    "ExecuteTime": {
     "end_time": "2020-01-27T22:49:16.152970Z",
     "start_time": "2020-01-27T22:49:16.147936Z"
    }
   },
   "outputs": [
    {
     "data": {
      "text/plain": [
       "3.123310489952453"
      ]
     },
     "execution_count": 269,
     "metadata": {},
     "output_type": "execute_result"
    }
   ],
   "source": [
    "x[-1]"
   ]
  },
  {
   "cell_type": "code",
   "execution_count": 270,
   "metadata": {
    "ExecuteTime": {
     "end_time": "2020-01-27T22:49:21.258650Z",
     "start_time": "2020-01-27T22:49:21.253647Z"
    }
   },
   "outputs": [
    {
     "data": {
      "text/plain": [
       "2.4779340000000003"
      ]
     },
     "execution_count": 270,
     "metadata": {},
     "output_type": "execute_result"
    }
   ],
   "source": [
    "SPY['spy_cum_ret'][-1]"
   ]
  },
  {
   "cell_type": "code",
   "execution_count": 271,
   "metadata": {
    "ExecuteTime": {
     "end_time": "2020-01-27T22:49:24.713705Z",
     "start_time": "2020-01-27T22:49:24.706672Z"
    }
   },
   "outputs": [
    {
     "data": {
      "text/plain": [
       "1.2156983421710987"
      ]
     },
     "execution_count": 271,
     "metadata": {},
     "output_type": "execute_result"
    }
   ],
   "source": [
    "strategy_ret = (SPY['strategy'] - 1).diff().values[1:]\n",
    "spy_ret = (SPY['spy_cum_ret'] - 1).diff().values[1:]\n",
    "\n",
    "beta = (np.cov(spy_ret,strategy_ret)/np.var(spy_ret))[1,0]\n",
    "beta"
   ]
  },
  {
   "cell_type": "code",
   "execution_count": 104,
   "metadata": {
    "ExecuteTime": {
     "end_time": "2020-01-27T22:49:29.623716Z",
     "start_time": "2020-01-27T22:49:29.618715Z"
    }
   },
   "outputs": [
    {
     "data": {
      "text/plain": [
       "1.3622263859035815"
      ]
     },
     "execution_count": 104,
     "metadata": {},
     "output_type": "execute_result"
    }
   ],
   "source": [
    "residual_ret = strategy_ret - beta * spy_ret\n",
    "IR = np.mean(residual_ret)/np.std(residual_ret)\n",
    "IR"
   ]
  },
  {
   "cell_type": "code",
   "execution_count": 105,
   "metadata": {
    "ExecuteTime": {
     "end_time": "2020-01-27T22:49:32.539633Z",
     "start_time": "2020-01-27T22:49:32.533661Z"
    }
   },
   "outputs": [
    {
     "data": {
      "text/plain": [
       "0.05288057431135689"
      ]
     },
     "execution_count": 105,
     "metadata": {},
     "output_type": "execute_result"
    }
   ],
   "source": [
    "alpha = np.mean(residual_ret)\n",
    "alpha"
   ]
  },
  {
   "cell_type": "code",
   "execution_count": null,
   "metadata": {},
   "outputs": [],
   "source": []
  }
 ],
 "metadata": {
  "kernelspec": {
   "display_name": "Python 3 (ipykernel)",
   "language": "python",
   "name": "python3"
  },
  "language_info": {
   "codemirror_mode": {
    "name": "ipython",
    "version": 3
   },
   "file_extension": ".py",
   "mimetype": "text/x-python",
   "name": "python",
   "nbconvert_exporter": "python",
   "pygments_lexer": "ipython3",
   "version": "3.10.4"
  },
  "latex_envs": {
   "LaTeX_envs_menu_present": true,
   "autoclose": false,
   "autocomplete": true,
   "bibliofile": "biblio.bib",
   "cite_by": "apalike",
   "current_citInitial": 1,
   "eqLabelWithNumbers": true,
   "eqNumInitial": 1,
   "hotkeys": {
    "equation": "Ctrl-E",
    "itemize": "Ctrl-I"
   },
   "labels_anchors": false,
   "latex_user_defs": false,
   "report_style_numbering": false,
   "user_envs_cfg": false
  }
 },
 "nbformat": 4,
 "nbformat_minor": 2
}
