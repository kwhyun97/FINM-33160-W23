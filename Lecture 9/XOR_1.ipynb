{
 "cells": [
  {
   "cell_type": "code",
   "execution_count": 13,
   "id": "69e223de",
   "metadata": {},
   "outputs": [],
   "source": [
    "import numpy as np\n",
    "import matplotlib.pyplot as plt"
   ]
  },
  {
   "cell_type": "code",
   "execution_count": 14,
   "id": "5586e82e",
   "metadata": {},
   "outputs": [],
   "source": [
    "data = np.array([[0.,0.],[1.,0.],[0.,1.],[1.,1.]])\n",
    "labels = np.array([1.,0.,0.,1.])"
   ]
  },
  {
   "cell_type": "code",
   "execution_count": 15,
   "id": "dd8f31bc",
   "metadata": {},
   "outputs": [
    {
     "data": {
      "image/png": "[encoded data removed]",
      "text/plain": [
       "<Figure size 432x288 with 1 Axes>"
      ]
     },
     "metadata": {
      "needs_background": "light"
     },
     "output_type": "display_data"
    }
   ],
   "source": [
    "plt.scatter(data[:,0],data[:,1],s=100,c=labels);"
   ]
  },
  {
   "cell_type": "code",
   "execution_count": 4,
   "id": "aafe45c9",
   "metadata": {},
   "outputs": [],
   "source": [
    "W2 = np.array([[1,-1],[-1,1]])\n",
    "W1 = np.array([[-1],[-1]])\n",
    "b2 = np.array([0,0])\n",
    "b1 = np.array([0.5])              "
   ]
  },
  {
   "cell_type": "code",
   "execution_count": 5,
   "id": "e593a877",
   "metadata": {},
   "outputs": [
    {
     "data": {
      "text/plain": [
       "array([[ 1, -1],\n",
       "       [-1,  1]])"
      ]
     },
     "execution_count": 5,
     "metadata": {},
     "output_type": "execute_result"
    }
   ],
   "source": [
    "W2"
   ]
  },
  {
   "cell_type": "code",
   "execution_count": 9,
   "id": "1b909eee",
   "metadata": {},
   "outputs": [],
   "source": [
    "class CLF():\n",
    "    \n",
    "    def __init__(self,W2,W1,b2,b1):\n",
    "        self.W2 = W2\n",
    "        self.W1 = W1\n",
    "        self.b2 = b2\n",
    "        self.b1 = b1\n",
    "    \n",
    "    def layer2(self,x):\n",
    "        return x@self.W2 + self.b2\n",
    "    \n",
    "    def layer1(self,x):\n",
    "        return x@self.W1 + self.b1\n",
    "    \n",
    "    def relu(self,x):\n",
    "        return np.maximum(x,np.zeros(2))\n",
    "    \n",
    "    def sigmoid(self,x):\n",
    "        return 1.0/(1.0 + np.exp(-x))\n",
    "    \n",
    "    def predict(self,X):\n",
    "        z = self.layer2(X)\n",
    "        z = self.relu(z)\n",
    "        z = self.layer1(z)\n",
    "        z = self.sigmoid(z)\n",
    "    \n",
    "        return z\n",
    "    "
   ]
  },
  {
   "cell_type": "code",
   "execution_count": 10,
   "id": "681f45a2",
   "metadata": {},
   "outputs": [],
   "source": [
    "clf = CLF(W2,W1,b2,b1)"
   ]
  },
  {
   "cell_type": "code",
   "execution_count": 11,
   "id": "8e188bbc",
   "metadata": {},
   "outputs": [
    {
     "data": {
      "text/plain": [
       "array([0.37754067])"
      ]
     },
     "execution_count": 11,
     "metadata": {},
     "output_type": "execute_result"
    }
   ],
   "source": [
    "clf.predict(np.array([0,1]))"
   ]
  },
  {
   "cell_type": "code",
   "execution_count": 79,
   "id": "872243bb",
   "metadata": {},
   "outputs": [],
   "source": [
    "def plot_decision_boundary(data,labels,clf):\n",
    "    plot_step = 0.02\n",
    "    x_min, x_max = data[:,0].min() -1, data[:,0].max() + 1\n",
    "    y_min,y_max = data[:,1].min() -1 , data[:,1].max() + 1\n",
    "\n",
    "    xx,yy = np.meshgrid(np.arange(x_min,x_max,plot_step),\n",
    "                   np.arange(y_min,y_max,plot_step))\n",
    "    Z = np.array([clf.predict([z]) for z in np.c_[xx.ravel(),yy.ravel()]])\n",
    "    Z = Z.reshape(xx.shape)\n",
    "    cs = plt.contourf(xx,yy,Z,cmap='cool')\n",
    "\n",
    "    plt.xlabel('x')\n",
    "    plt.ylabel('y')\n",
    "    plt.title('Decision Boundary')\n",
    "\n",
    "    plt.scatter(data[:,0],data[:,1],c=labels,cmap='hot',s=100)\n",
    "    plt.show()"
   ]
  },
  {
   "cell_type": "code",
   "execution_count": 80,
   "id": "b946b8b0",
   "metadata": {},
   "outputs": [
    {
     "data": {
      "image/png": "[encoded data removed]",
      "text/plain": [
       "<Figure size 432x288 with 1 Axes>"
      ]
     },
     "metadata": {
      "needs_background": "light"
     },
     "output_type": "display_data"
    }
   ],
   "source": [
    "plot_decision_boundary(data,labels,clf)"
   ]
  },
  {
   "cell_type": "code",
   "execution_count": null,
   "id": "67ebc68d",
   "metadata": {},
   "outputs": [],
   "source": []
  }
 ],
 "metadata": {
  "kernelspec": {
   "display_name": "Python 3 (ipykernel)",
   "language": "python",
   "name": "python3"
  },
  "language_info": {
   "codemirror_mode": {
    "name": "ipython",
    "version": 3
   },
   "file_extension": ".py",
   "mimetype": "text/x-python",
   "name": "python",
   "nbconvert_exporter": "python",
   "pygments_lexer": "ipython3",
   "version": "3.10.4"
  }
 },
 "nbformat": 4,
 "nbformat_minor": 5
}
