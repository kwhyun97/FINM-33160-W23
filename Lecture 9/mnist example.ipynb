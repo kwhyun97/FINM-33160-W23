{
 "cells": [
  {
   "cell_type": "code",
   "execution_count": 1,
   "metadata": {
    "ExecuteTime": {
     "end_time": "2020-03-08T21:50:30.341858Z",
     "start_time": "2020-03-08T21:50:29.473873Z"
    }
   },
   "outputs": [],
   "source": [
    "import torch\n",
    "import torch.nn as nn\n",
    "import torchvision.models as models\n",
    "import torchvision.datasets as dsets\n",
    "import torchvision.transforms as transforms\n",
    "import torch.optim as optim\n",
    "import torch.nn.functional as F\n",
    "import numpy as np\n",
    "import matplotlib.pyplot as plt\n",
    "from pathlib import Path\n",
    "%matplotlib inline"
   ]
  },
  {
   "cell_type": "code",
   "execution_count": 2,
   "metadata": {
    "ExecuteTime": {
     "end_time": "2020-03-08T21:50:33.721840Z",
     "start_time": "2020-03-08T21:50:33.717839Z"
    }
   },
   "outputs": [],
   "source": [
    "root =Path('./data')"
   ]
  },
  {
   "cell_type": "code",
   "execution_count": 3,
   "metadata": {
    "ExecuteTime": {
     "end_time": "2020-03-08T21:50:37.102888Z",
     "start_time": "2020-03-08T21:50:36.877837Z"
    }
   },
   "outputs": [],
   "source": [
    "use_cuda = torch.cuda.is_available()"
   ]
  },
  {
   "cell_type": "code",
   "execution_count": 4,
   "metadata": {
    "ExecuteTime": {
     "end_time": "2020-03-09T23:21:56.209273Z",
     "start_time": "2020-03-09T23:21:56.194275Z"
    }
   },
   "outputs": [],
   "source": [
    "trans = transforms.Compose([transforms.ToTensor(),\n",
    "                            transforms.Normalize((0.0,),(1.0,))])"
   ]
  },
  {
   "cell_type": "code",
   "execution_count": 5,
   "metadata": {
    "ExecuteTime": {
     "end_time": "2020-03-09T23:23:24.978117Z",
     "start_time": "2020-03-09T23:23:21.235139Z"
    }
   },
   "outputs": [],
   "source": [
    "train_set = dsets.MNIST(root=root,train=True,transform=trans,download=True)\n",
    "test_set = dsets.MNIST(root=root,train=False,transform=trans,download=True)"
   ]
  },
  {
   "cell_type": "code",
   "execution_count": null,
   "metadata": {},
   "outputs": [],
   "source": []
  },
  {
   "cell_type": "code",
   "execution_count": 6,
   "metadata": {
    "ExecuteTime": {
     "end_time": "2020-03-09T23:23:42.303315Z",
     "start_time": "2020-03-09T23:23:42.293312Z"
    }
   },
   "outputs": [
    {
     "data": {
      "text/plain": [
       "torchvision.datasets.mnist.MNIST"
      ]
     },
     "execution_count": 6,
     "metadata": {},
     "output_type": "execute_result"
    }
   ],
   "source": [
    "type(train_set)"
   ]
  },
  {
   "cell_type": "code",
   "execution_count": 6,
   "metadata": {
    "ExecuteTime": {
     "end_time": "2020-03-09T23:26:56.517502Z",
     "start_time": "2020-03-09T23:26:56.507497Z"
    }
   },
   "outputs": [],
   "source": [
    "from torch.utils.data import DataLoader\n",
    "batch_size=100\n",
    "train_loader = DataLoader(dataset=train_set,batch_size=batch_size,shuffle=True)\n",
    "test_loader = DataLoader(dataset=test_set,batch_size=batch_size,shuffle=False)"
   ]
  },
  {
   "cell_type": "code",
   "execution_count": 7,
   "metadata": {
    "ExecuteTime": {
     "end_time": "2020-03-09T23:28:17.579758Z",
     "start_time": "2020-03-09T23:28:16.861519Z"
    }
   },
   "outputs": [
    {
     "data": {
      "image/png": "[encoded data removed]",
      "text/plain": [
       "<Figure size 1152x1152 with 5 Axes>"
      ]
     },
     "metadata": {
      "needs_background": "light"
     },
     "output_type": "display_data"
    }
   ],
   "source": [
    "fig, axes = plt.subplots(1,5,figsize=(16,16))\n",
    "\n",
    "for i in range(5):\n",
    "    j = np.random.randint(0,len(train_set))\n",
    "\n",
    "    axes[i].imshow(train_set[j][0].numpy().reshape(28,28),);\n",
    "    axes[i].set_title(train_set[j][1])\n"
   ]
  },
  {
   "cell_type": "code",
   "execution_count": 100,
   "metadata": {
    "ExecuteTime": {
     "end_time": "2020-03-09T23:34:09.613717Z",
     "start_time": "2020-03-09T23:34:09.592717Z"
    }
   },
   "outputs": [],
   "source": [
    "model = nn.Sequential(nn.Linear(28*28,500),\n",
    "                      nn.ReLU(),\n",
    "                      nn.Linear(500,256),\n",
    "                      nn.ReLU(),\n",
    "                      nn.Linear(256,128),\n",
    "                      nn.ReLU(),\n",
    "                      nn.Linear(128,10))"
   ]
  },
  {
   "cell_type": "code",
   "execution_count": 11,
   "metadata": {
    "ExecuteTime": {
     "end_time": "2020-03-09T23:34:13.928615Z",
     "start_time": "2020-03-09T23:34:13.443099Z"
    }
   },
   "outputs": [],
   "source": [
    "if use_cuda:\n",
    "    model = model.cuda()\n",
    "\n",
    "optimizer = optim.Adam(model.parameters(), lr=0.01)\n",
    "\n",
    "criterion = nn.CrossEntropyLoss()"
   ]
  },
  {
   "cell_type": "code",
   "execution_count": 12,
   "metadata": {
    "ExecuteTime": {
     "end_time": "2020-03-09T23:43:02.407012Z",
     "start_time": "2020-03-09T23:40:44.741448Z"
    }
   },
   "outputs": [
    {
     "name": "stdout",
     "output_type": "stream",
     "text": [
      "==>>> epoch: 0, batch index: 100, train loss: 0.521932\n",
      "==>>> epoch: 0, batch index: 200, train loss: 0.402629\n",
      "==>>> epoch: 0, batch index: 300, train loss: 0.334939\n",
      "==>>> epoch: 0, batch index: 400, train loss: 0.299621\n",
      "==>>> epoch: 0, batch index: 500, train loss: 0.279337\n",
      "==>>> epoch: 0, batch index: 600, train loss: 0.260160\n",
      "==>>> epoch: 1, batch index: 100, train loss: 0.146131\n",
      "==>>> epoch: 1, batch index: 200, train loss: 0.142300\n",
      "==>>> epoch: 1, batch index: 300, train loss: 0.149553\n",
      "==>>> epoch: 1, batch index: 400, train loss: 0.152300\n",
      "==>>> epoch: 1, batch index: 500, train loss: 0.151750\n",
      "==>>> epoch: 1, batch index: 600, train loss: 0.151789\n",
      "==>>> epoch: 2, batch index: 100, train loss: 0.121876\n",
      "==>>> epoch: 2, batch index: 200, train loss: 0.115745\n",
      "==>>> epoch: 2, batch index: 300, train loss: 0.119678\n",
      "==>>> epoch: 2, batch index: 400, train loss: 0.121034\n",
      "==>>> epoch: 2, batch index: 500, train loss: 0.120675\n",
      "==>>> epoch: 2, batch index: 600, train loss: 0.123666\n",
      "==>>> epoch: 3, batch index: 100, train loss: 0.106843\n",
      "==>>> epoch: 3, batch index: 200, train loss: 0.111673\n",
      "==>>> epoch: 3, batch index: 300, train loss: 0.114031\n",
      "==>>> epoch: 3, batch index: 400, train loss: 0.111107\n",
      "==>>> epoch: 3, batch index: 500, train loss: 0.112653\n",
      "==>>> epoch: 3, batch index: 600, train loss: 0.112028\n",
      "==>>> epoch: 4, batch index: 100, train loss: 0.084797\n",
      "==>>> epoch: 4, batch index: 200, train loss: 0.080619\n",
      "==>>> epoch: 4, batch index: 300, train loss: 0.086786\n",
      "==>>> epoch: 4, batch index: 400, train loss: 0.089390\n",
      "==>>> epoch: 4, batch index: 500, train loss: 0.095071\n",
      "==>>> epoch: 4, batch index: 600, train loss: 0.098106\n",
      "==>>> epoch: 5, batch index: 100, train loss: 0.081335\n",
      "==>>> epoch: 5, batch index: 200, train loss: 0.091598\n",
      "==>>> epoch: 5, batch index: 300, train loss: 0.093769\n",
      "==>>> epoch: 5, batch index: 400, train loss: 0.091508\n",
      "==>>> epoch: 5, batch index: 500, train loss: 0.090536\n",
      "==>>> epoch: 5, batch index: 600, train loss: 0.092167\n",
      "==>>> epoch: 6, batch index: 100, train loss: 0.070000\n",
      "==>>> epoch: 6, batch index: 200, train loss: 0.080310\n",
      "==>>> epoch: 6, batch index: 300, train loss: 0.086736\n",
      "==>>> epoch: 6, batch index: 400, train loss: 0.085858\n",
      "==>>> epoch: 6, batch index: 500, train loss: 0.084223\n",
      "==>>> epoch: 6, batch index: 600, train loss: 0.086721\n",
      "==>>> epoch: 7, batch index: 100, train loss: 0.078766\n",
      "==>>> epoch: 7, batch index: 200, train loss: 0.076153\n",
      "==>>> epoch: 7, batch index: 300, train loss: 0.079019\n",
      "==>>> epoch: 7, batch index: 400, train loss: 0.082593\n",
      "==>>> epoch: 7, batch index: 500, train loss: 0.082933\n",
      "==>>> epoch: 7, batch index: 600, train loss: 0.084375\n",
      "==>>> epoch: 8, batch index: 100, train loss: 0.078570\n",
      "==>>> epoch: 8, batch index: 200, train loss: 0.080917\n",
      "==>>> epoch: 8, batch index: 300, train loss: 0.078400\n",
      "==>>> epoch: 8, batch index: 400, train loss: 0.076324\n",
      "==>>> epoch: 8, batch index: 500, train loss: 0.075868\n",
      "==>>> epoch: 8, batch index: 600, train loss: 0.079691\n",
      "==>>> epoch: 9, batch index: 100, train loss: 0.056023\n",
      "==>>> epoch: 9, batch index: 200, train loss: 0.056061\n",
      "==>>> epoch: 9, batch index: 300, train loss: 0.054505\n",
      "==>>> epoch: 9, batch index: 400, train loss: 0.064083\n",
      "==>>> epoch: 9, batch index: 500, train loss: 0.068380\n",
      "==>>> epoch: 9, batch index: 600, train loss: 0.069620\n"
     ]
    }
   ],
   "source": [
    "epochs = 10\n",
    "losses = []\n",
    "for epoch in range(epochs):\n",
    "    ave_loss = 0.0\n",
    "    for  i,(x,y) in enumerate(train_loader):\n",
    "        \n",
    "        if use_cuda:\n",
    "            x = x.reshape(-1,28*28).cuda()\n",
    "            y = y.cuda()\n",
    "            output = model(x)\n",
    "            \n",
    "        else:\n",
    "            x = x.reshape(-1,28*28)\n",
    "            output = model(x)\n",
    "        \n",
    "        optimizer.zero_grad()\n",
    "        \n",
    "        loss = criterion(output,y)\n",
    "        \n",
    "        ave_loss = ave_loss * (i/(i+1)) +  loss.item()*(1/(i+1)) \n",
    "        \n",
    "        loss.backward()\n",
    "        \n",
    "        optimizer.step()\n",
    "\n",
    "        if (i+1) % 100 == 0 or (i+1) == len(train_loader):\n",
    "            losses.append(ave_loss)\n",
    "            print('==>>> epoch: %d, batch index: %d, train loss: %.6f' % (epoch, i+1, ave_loss))\n",
    "        "
   ]
  },
  {
   "cell_type": "code",
   "execution_count": 101,
   "metadata": {
    "ExecuteTime": {
     "end_time": "2020-03-09T23:44:26.420535Z",
     "start_time": "2020-03-09T23:44:26.240570Z"
    }
   },
   "outputs": [
    {
     "data": {
      "image/png": "[encoded data removed]",
      "text/plain": [
       "<Figure size 432x288 with 1 Axes>"
      ]
     },
     "metadata": {
      "needs_background": "light"
     },
     "output_type": "display_data"
    }
   ],
   "source": [
    "plt.plot(losses);"
   ]
  },
  {
   "cell_type": "code",
   "execution_count": 14,
   "metadata": {
    "ExecuteTime": {
     "end_time": "2020-03-09T23:47:54.427026Z",
     "start_time": "2020-03-09T23:47:42.265885Z"
    }
   },
   "outputs": [],
   "source": [
    "predictions = []\n",
    "for i in range(len(test_set)):\n",
    "    z = model(test_set[i][0].reshape(-1,28*28).cuda())\n",
    "    predictions.append(z.argmax().cpu().item())\n",
    "        "
   ]
  },
  {
   "cell_type": "code",
   "execution_count": 19,
   "metadata": {
    "ExecuteTime": {
     "end_time": "2020-03-09T23:48:02.601159Z",
     "start_time": "2020-03-09T23:48:02.547126Z"
    }
   },
   "outputs": [
    {
     "data": {
      "text/plain": [
       "<matplotlib.image.AxesImage at 0x223a3a4f340>"
      ]
     },
     "execution_count": 19,
     "metadata": {},
     "output_type": "execute_result"
    },
    {
     "data": {
      "image/png": "[encoded data removed]",
      "text/plain": [
       "<Figure size 432x288 with 1 Axes>"
      ]
     },
     "metadata": {
      "needs_background": "light"
     },
     "output_type": "display_data"
    }
   ],
   "source": [
    "plt.imshow(test_set[8][0].numpy().reshape(28,28))"
   ]
  },
  {
   "cell_type": "code",
   "execution_count": 20,
   "metadata": {
    "ExecuteTime": {
     "end_time": "2020-03-09T23:48:49.609166Z",
     "start_time": "2020-03-09T23:48:49.605164Z"
    }
   },
   "outputs": [],
   "source": [
    "predictions = np.array(predictions)"
   ]
  },
  {
   "cell_type": "code",
   "execution_count": 21,
   "metadata": {
    "ExecuteTime": {
     "end_time": "2020-03-09T23:48:55.375884Z",
     "start_time": "2020-03-09T23:48:55.369886Z"
    }
   },
   "outputs": [
    {
     "data": {
      "text/plain": [
       "array([7, 2, 1, ..., 4, 5, 6])"
      ]
     },
     "execution_count": 21,
     "metadata": {},
     "output_type": "execute_result"
    }
   ],
   "source": [
    "predictions"
   ]
  },
  {
   "cell_type": "code",
   "execution_count": 22,
   "metadata": {
    "ExecuteTime": {
     "end_time": "2020-03-09T23:49:12.863013Z",
     "start_time": "2020-03-09T23:49:12.855010Z"
    }
   },
   "outputs": [
    {
     "name": "stderr",
     "output_type": "stream",
     "text": [
      "C:\\Users\\niels\\anaconda3\\lib\\site-packages\\torchvision\\datasets\\mnist.py:57: UserWarning: test_labels has been renamed targets\n",
      "  warnings.warn(\"test_labels has been renamed targets\")\n"
     ]
    },
    {
     "data": {
      "text/plain": [
       "array([7, 2, 1, ..., 4, 5, 6], dtype=int64)"
      ]
     },
     "execution_count": 22,
     "metadata": {},
     "output_type": "execute_result"
    }
   ],
   "source": [
    "test_set.test_labels.numpy()"
   ]
  },
  {
   "cell_type": "code",
   "execution_count": 23,
   "metadata": {
    "ExecuteTime": {
     "end_time": "2020-03-09T23:50:06.480478Z",
     "start_time": "2020-03-09T23:50:06.472511Z"
    }
   },
   "outputs": [
    {
     "data": {
      "text/plain": [
       "0.9748"
      ]
     },
     "execution_count": 23,
     "metadata": {},
     "output_type": "execute_result"
    }
   ],
   "source": [
    "len(predictions[predictions==test_set.test_labels.numpy()])/10000"
   ]
  },
  {
   "cell_type": "code",
   "execution_count": 8,
   "metadata": {
    "ExecuteTime": {
     "end_time": "2020-03-10T00:26:12.789246Z",
     "start_time": "2020-03-10T00:26:12.762249Z"
    }
   },
   "outputs": [],
   "source": [
    "cnn_model = nn.Sequential(nn.Conv2d(1,32,3),\n",
    "                         nn.ReLU(),\n",
    "                         nn.MaxPool2d(2,2),\n",
    "                         nn.Flatten(),\n",
    "                         nn.Linear(5408,256),\n",
    "                         nn.ReLU(),\n",
    "                         nn.Linear(256,10))"
   ]
  },
  {
   "cell_type": "code",
   "execution_count": 9,
   "metadata": {
    "ExecuteTime": {
     "end_time": "2020-03-10T00:26:51.384659Z",
     "start_time": "2020-03-10T00:26:51.172702Z"
    }
   },
   "outputs": [],
   "source": [
    "cnn_model = cnn_model.cuda()\n",
    "optimizer = optim.Adam(cnn_model.parameters(), lr=0.005)\n",
    "\n",
    "criterion = nn.CrossEntropyLoss()"
   ]
  },
  {
   "cell_type": "code",
   "execution_count": 10,
   "metadata": {
    "ExecuteTime": {
     "end_time": "2020-03-10T00:29:11.169648Z",
     "start_time": "2020-03-10T00:27:04.168803Z"
    }
   },
   "outputs": [
    {
     "name": "stdout",
     "output_type": "stream",
     "text": [
      "==>>> epoch: 0, batch index: 100, train loss: 0.569376\n",
      "==>>> epoch: 0, batch index: 200, train loss: 0.361347\n",
      "==>>> epoch: 0, batch index: 300, train loss: 0.280411\n",
      "==>>> epoch: 0, batch index: 400, train loss: 0.234359\n",
      "==>>> epoch: 0, batch index: 500, train loss: 0.205670\n",
      "==>>> epoch: 0, batch index: 600, train loss: 0.184148\n",
      "==>>> epoch: 1, batch index: 100, train loss: 0.054904\n",
      "==>>> epoch: 1, batch index: 200, train loss: 0.053118\n",
      "==>>> epoch: 1, batch index: 300, train loss: 0.054972\n",
      "==>>> epoch: 1, batch index: 400, train loss: 0.054126\n",
      "==>>> epoch: 1, batch index: 500, train loss: 0.054404\n",
      "==>>> epoch: 1, batch index: 600, train loss: 0.052662\n",
      "==>>> epoch: 2, batch index: 100, train loss: 0.029474\n",
      "==>>> epoch: 2, batch index: 200, train loss: 0.030701\n",
      "==>>> epoch: 2, batch index: 300, train loss: 0.029169\n",
      "==>>> epoch: 2, batch index: 400, train loss: 0.029433\n",
      "==>>> epoch: 2, batch index: 500, train loss: 0.031950\n",
      "==>>> epoch: 2, batch index: 600, train loss: 0.032842\n",
      "==>>> epoch: 3, batch index: 100, train loss: 0.017543\n",
      "==>>> epoch: 3, batch index: 200, train loss: 0.018131\n",
      "==>>> epoch: 3, batch index: 300, train loss: 0.018422\n",
      "==>>> epoch: 3, batch index: 400, train loss: 0.019815\n",
      "==>>> epoch: 3, batch index: 500, train loss: 0.020974\n",
      "==>>> epoch: 3, batch index: 600, train loss: 0.022218\n",
      "==>>> epoch: 4, batch index: 100, train loss: 0.009571\n",
      "==>>> epoch: 4, batch index: 200, train loss: 0.012293\n",
      "==>>> epoch: 4, batch index: 300, train loss: 0.013354\n",
      "==>>> epoch: 4, batch index: 400, train loss: 0.013744\n",
      "==>>> epoch: 4, batch index: 500, train loss: 0.015181\n",
      "==>>> epoch: 4, batch index: 600, train loss: 0.015682\n",
      "==>>> epoch: 5, batch index: 100, train loss: 0.007434\n",
      "==>>> epoch: 5, batch index: 200, train loss: 0.008079\n",
      "==>>> epoch: 5, batch index: 300, train loss: 0.008765\n",
      "==>>> epoch: 5, batch index: 400, train loss: 0.010279\n",
      "==>>> epoch: 5, batch index: 500, train loss: 0.011142\n",
      "==>>> epoch: 5, batch index: 600, train loss: 0.011467\n",
      "==>>> epoch: 6, batch index: 100, train loss: 0.009920\n",
      "==>>> epoch: 6, batch index: 200, train loss: 0.010785\n",
      "==>>> epoch: 6, batch index: 300, train loss: 0.010706\n",
      "==>>> epoch: 6, batch index: 400, train loss: 0.011196\n",
      "==>>> epoch: 6, batch index: 500, train loss: 0.012482\n",
      "==>>> epoch: 6, batch index: 600, train loss: 0.012016\n",
      "==>>> epoch: 7, batch index: 100, train loss: 0.008610\n",
      "==>>> epoch: 7, batch index: 200, train loss: 0.010261\n",
      "==>>> epoch: 7, batch index: 300, train loss: 0.010031\n",
      "==>>> epoch: 7, batch index: 400, train loss: 0.009754\n",
      "==>>> epoch: 7, batch index: 500, train loss: 0.010069\n",
      "==>>> epoch: 7, batch index: 600, train loss: 0.010623\n",
      "==>>> epoch: 8, batch index: 100, train loss: 0.011412\n",
      "==>>> epoch: 8, batch index: 200, train loss: 0.009738\n",
      "==>>> epoch: 8, batch index: 300, train loss: 0.010718\n",
      "==>>> epoch: 8, batch index: 400, train loss: 0.010233\n",
      "==>>> epoch: 8, batch index: 500, train loss: 0.011626\n",
      "==>>> epoch: 8, batch index: 600, train loss: 0.012637\n",
      "==>>> epoch: 9, batch index: 100, train loss: 0.006590\n",
      "==>>> epoch: 9, batch index: 200, train loss: 0.007533\n",
      "==>>> epoch: 9, batch index: 300, train loss: 0.008723\n",
      "==>>> epoch: 9, batch index: 400, train loss: 0.009446\n",
      "==>>> epoch: 9, batch index: 500, train loss: 0.009743\n",
      "==>>> epoch: 9, batch index: 600, train loss: 0.010745\n"
     ]
    }
   ],
   "source": [
    "epochs = 10\n",
    "losses = []\n",
    "for epoch in range(epochs):\n",
    "    ave_loss = 0.0\n",
    "    for  i,(x,y) in enumerate(train_loader):\n",
    "        \n",
    "        x = x.cuda()\n",
    "        y = y.cuda()\n",
    "        output = cnn_model(x)\n",
    "        \n",
    "        optimizer.zero_grad()\n",
    "        \n",
    "        loss = criterion(output,y)\n",
    "        \n",
    "        ave_loss = ave_loss * (i/(1+i)) + loss.item() * (1/(i+1))\n",
    "        \n",
    "        loss.backward()\n",
    "        \n",
    "        optimizer.step()\n",
    "\n",
    "        if (i+1) % 100 == 0 or (i+1) == len(train_loader):\n",
    "            losses.append(ave_loss)\n",
    "            print('==>>> epoch: %d, batch index: %d, train loss: %.6f' % (epoch, i+1, ave_loss))"
   ]
  },
  {
   "cell_type": "code",
   "execution_count": 11,
   "metadata": {
    "ExecuteTime": {
     "end_time": "2020-03-10T00:29:24.097459Z",
     "start_time": "2020-03-10T00:29:23.892429Z"
    }
   },
   "outputs": [
    {
     "data": {
      "image/png": "[encoded data removed]",
      "text/plain": [
       "<Figure size 432x288 with 1 Axes>"
      ]
     },
     "metadata": {
      "needs_background": "light"
     },
     "output_type": "display_data"
    }
   ],
   "source": [
    "plt.plot(losses);"
   ]
  },
  {
   "cell_type": "code",
   "execution_count": 12,
   "metadata": {
    "ExecuteTime": {
     "end_time": "2020-03-10T00:29:45.355917Z",
     "start_time": "2020-03-10T00:29:31.252378Z"
    }
   },
   "outputs": [],
   "source": [
    "predictions = []\n",
    "for i in range(len(test_set)):\n",
    "    z = cnn_model(test_set[i][0].reshape(1,1,28,28).cuda())\n",
    "    predictions.append(z.argmax().cpu().item())"
   ]
  },
  {
   "cell_type": "code",
   "execution_count": 13,
   "metadata": {
    "ExecuteTime": {
     "end_time": "2020-03-10T00:29:50.611319Z",
     "start_time": "2020-03-10T00:29:50.606320Z"
    }
   },
   "outputs": [],
   "source": [
    "predictions = np.array(predictions)"
   ]
  },
  {
   "cell_type": "code",
   "execution_count": 14,
   "metadata": {
    "ExecuteTime": {
     "end_time": "2020-03-10T00:29:55.449636Z",
     "start_time": "2020-03-10T00:29:55.438629Z"
    }
   },
   "outputs": [
    {
     "name": "stderr",
     "output_type": "stream",
     "text": [
      "C:\\Users\\niels\\anaconda3\\envs\\ai\\lib\\site-packages\\torchvision\\datasets\\mnist.py:70: UserWarning: test_labels has been renamed targets\n",
      "  warnings.warn(\"test_labels has been renamed targets\")\n"
     ]
    },
    {
     "data": {
      "text/plain": [
       "0.9846"
      ]
     },
     "execution_count": 14,
     "metadata": {},
     "output_type": "execute_result"
    }
   ],
   "source": [
    "len(predictions[predictions.T==test_set.test_labels.numpy()])/10000"
   ]
  },
  {
   "cell_type": "code",
   "execution_count": 15,
   "metadata": {
    "ExecuteTime": {
     "end_time": "2020-03-10T00:31:54.110935Z",
     "start_time": "2020-03-10T00:31:54.098932Z"
    }
   },
   "outputs": [],
   "source": [
    "cnn_model_2 = nn.Sequential(nn.Conv2d(1,32,3),\n",
    "                         nn.ReLU(),\n",
    "                         nn.MaxPool2d(2,2),\n",
    "                         nn.Conv2d(32,64,3),\n",
    "                         nn.ReLU(),\n",
    "                         nn.MaxPool2d(2,2),\n",
    "                         nn.Conv2d(64,64,3),\n",
    "                         nn.ReLU(),\n",
    "                         nn.Flatten(),\n",
    "                         nn.Linear(576,64),\n",
    "                         nn.ReLU(),\n",
    "                         nn.Linear(64,10))"
   ]
  },
  {
   "cell_type": "code",
   "execution_count": 16,
   "metadata": {
    "ExecuteTime": {
     "end_time": "2020-03-10T00:31:58.892688Z",
     "start_time": "2020-03-10T00:31:58.694892Z"
    }
   },
   "outputs": [],
   "source": [
    "cnn_model_2 = cnn_model_2.cuda()\n",
    "optimizer = optim.SGD(cnn_model_2.parameters(), lr=0.005,momentum=0.9)\n",
    "\n",
    "criterion = nn.CrossEntropyLoss()"
   ]
  },
  {
   "cell_type": "code",
   "execution_count": 17,
   "metadata": {
    "ExecuteTime": {
     "end_time": "2020-03-10T00:34:21.472530Z",
     "start_time": "2020-03-10T00:32:00.380368Z"
    }
   },
   "outputs": [
    {
     "name": "stdout",
     "output_type": "stream",
     "text": [
      "==>>> epoch: 0, batch index: 100, train loss: 2.294706\n",
      "==>>> epoch: 0, batch index: 200, train loss: 2.191935\n",
      "==>>> epoch: 0, batch index: 300, train loss: 1.702930\n",
      "==>>> epoch: 0, batch index: 400, train loss: 1.379227\n",
      "==>>> epoch: 0, batch index: 500, train loss: 1.172409\n",
      "==>>> epoch: 0, batch index: 600, train loss: 1.021693\n",
      "==>>> epoch: 1, batch index: 100, train loss: 0.215113\n",
      "==>>> epoch: 1, batch index: 200, train loss: 0.207545\n",
      "==>>> epoch: 1, batch index: 300, train loss: 0.197008\n",
      "==>>> epoch: 1, batch index: 400, train loss: 0.189479\n",
      "==>>> epoch: 1, batch index: 500, train loss: 0.180055\n",
      "==>>> epoch: 1, batch index: 600, train loss: 0.170613\n",
      "==>>> epoch: 2, batch index: 100, train loss: 0.118983\n",
      "==>>> epoch: 2, batch index: 200, train loss: 0.110765\n",
      "==>>> epoch: 2, batch index: 300, train loss: 0.108681\n",
      "==>>> epoch: 2, batch index: 400, train loss: 0.107279\n",
      "==>>> epoch: 2, batch index: 500, train loss: 0.104459\n",
      "==>>> epoch: 2, batch index: 600, train loss: 0.101597\n",
      "==>>> epoch: 3, batch index: 100, train loss: 0.081121\n",
      "==>>> epoch: 3, batch index: 200, train loss: 0.080018\n",
      "==>>> epoch: 3, batch index: 300, train loss: 0.077514\n",
      "==>>> epoch: 3, batch index: 400, train loss: 0.076480\n",
      "==>>> epoch: 3, batch index: 500, train loss: 0.076405\n",
      "==>>> epoch: 3, batch index: 600, train loss: 0.075416\n",
      "==>>> epoch: 4, batch index: 100, train loss: 0.071592\n",
      "==>>> epoch: 4, batch index: 200, train loss: 0.067808\n",
      "==>>> epoch: 4, batch index: 300, train loss: 0.067597\n",
      "==>>> epoch: 4, batch index: 400, train loss: 0.065564\n",
      "==>>> epoch: 4, batch index: 500, train loss: 0.063136\n",
      "==>>> epoch: 4, batch index: 600, train loss: 0.061643\n",
      "==>>> epoch: 5, batch index: 100, train loss: 0.061555\n",
      "==>>> epoch: 5, batch index: 200, train loss: 0.056112\n",
      "==>>> epoch: 5, batch index: 300, train loss: 0.055130\n",
      "==>>> epoch: 5, batch index: 400, train loss: 0.054202\n",
      "==>>> epoch: 5, batch index: 500, train loss: 0.052366\n",
      "==>>> epoch: 5, batch index: 600, train loss: 0.052179\n",
      "==>>> epoch: 6, batch index: 100, train loss: 0.037702\n",
      "==>>> epoch: 6, batch index: 200, train loss: 0.042249\n",
      "==>>> epoch: 6, batch index: 300, train loss: 0.045221\n",
      "==>>> epoch: 6, batch index: 400, train loss: 0.044754\n",
      "==>>> epoch: 6, batch index: 500, train loss: 0.046156\n",
      "==>>> epoch: 6, batch index: 600, train loss: 0.047282\n",
      "==>>> epoch: 7, batch index: 100, train loss: 0.036698\n",
      "==>>> epoch: 7, batch index: 200, train loss: 0.038254\n",
      "==>>> epoch: 7, batch index: 300, train loss: 0.041387\n",
      "==>>> epoch: 7, batch index: 400, train loss: 0.041760\n",
      "==>>> epoch: 7, batch index: 500, train loss: 0.040480\n",
      "==>>> epoch: 7, batch index: 600, train loss: 0.040548\n",
      "==>>> epoch: 8, batch index: 100, train loss: 0.034284\n",
      "==>>> epoch: 8, batch index: 200, train loss: 0.033838\n",
      "==>>> epoch: 8, batch index: 300, train loss: 0.035843\n",
      "==>>> epoch: 8, batch index: 400, train loss: 0.034937\n",
      "==>>> epoch: 8, batch index: 500, train loss: 0.035287\n",
      "==>>> epoch: 8, batch index: 600, train loss: 0.035589\n",
      "==>>> epoch: 9, batch index: 100, train loss: 0.031999\n",
      "==>>> epoch: 9, batch index: 200, train loss: 0.031298\n",
      "==>>> epoch: 9, batch index: 300, train loss: 0.032036\n",
      "==>>> epoch: 9, batch index: 400, train loss: 0.031866\n",
      "==>>> epoch: 9, batch index: 500, train loss: 0.032043\n",
      "==>>> epoch: 9, batch index: 600, train loss: 0.032359\n"
     ]
    }
   ],
   "source": [
    "epochs = 10\n",
    "losses = []\n",
    "for epoch in range(epochs):\n",
    "    ave_loss = 0.0\n",
    "    for  i,(x,y) in enumerate(train_loader):\n",
    "        \n",
    "        x = x.cuda()\n",
    "        y = y.cuda()\n",
    "        output = cnn_model_2(x)\n",
    "        \n",
    "        optimizer.zero_grad()\n",
    "        \n",
    "        loss = criterion(output,y)\n",
    "        \n",
    "        ave_loss = ave_loss * i/(1+i) + loss.item() * 1/(1+i)\n",
    "        \n",
    "        loss.backward()\n",
    "        \n",
    "        optimizer.step()\n",
    "\n",
    "        if (i+1) % 100 == 0 or (i+1) == len(train_loader):\n",
    "            losses.append(ave_loss)\n",
    "            print('==>>> epoch: %d, batch index: %d, train loss: %.6f' % (epoch, i+1, ave_loss))"
   ]
  },
  {
   "cell_type": "code",
   "execution_count": 18,
   "metadata": {
    "ExecuteTime": {
     "end_time": "2020-03-10T00:34:44.495136Z",
     "start_time": "2020-03-10T00:34:44.311104Z"
    }
   },
   "outputs": [
    {
     "data": {
      "text/plain": [
       "[<matplotlib.lines.Line2D at 0x23af50743d0>]"
      ]
     },
     "execution_count": 18,
     "metadata": {},
     "output_type": "execute_result"
    },
    {
     "data": {
      "image/png": "[encoded data removed]",
      "text/plain": [
       "<Figure size 432x288 with 1 Axes>"
      ]
     },
     "metadata": {
      "needs_background": "light"
     },
     "output_type": "display_data"
    }
   ],
   "source": [
    "plt.plot(losses)"
   ]
  },
  {
   "cell_type": "code",
   "execution_count": 19,
   "metadata": {
    "ExecuteTime": {
     "end_time": "2020-03-10T00:35:11.584899Z",
     "start_time": "2020-03-10T00:34:51.885636Z"
    }
   },
   "outputs": [],
   "source": [
    "predictions = []\n",
    "for i in range(len(test_set)):\n",
    "    z = cnn_model_2(test_set[i][0].reshape(1,1,28,28).cuda())\n",
    "    predictions.append(z.argmax().cpu().item())"
   ]
  },
  {
   "cell_type": "code",
   "execution_count": 20,
   "metadata": {
    "ExecuteTime": {
     "end_time": "2020-03-10T00:35:19.783384Z",
     "start_time": "2020-03-10T00:35:19.773389Z"
    }
   },
   "outputs": [
    {
     "data": {
      "text/plain": [
       "0.9869"
      ]
     },
     "execution_count": 20,
     "metadata": {},
     "output_type": "execute_result"
    }
   ],
   "source": [
    "predictions = np.array(predictions)\n",
    "len(predictions[predictions.T==test_set.test_labels.numpy()])/10000"
   ]
  },
  {
   "cell_type": "code",
   "execution_count": 106,
   "metadata": {
    "ExecuteTime": {
     "end_time": "2020-03-08T21:50:22.639876Z",
     "start_time": "2020-03-08T21:50:22.606876Z"
    }
   },
   "outputs": [],
   "source": [
    "from PIL import Image"
   ]
  },
  {
   "cell_type": "code",
   "execution_count": 107,
   "metadata": {
    "ExecuteTime": {
     "end_time": "2020-03-08T21:51:05.599811Z",
     "start_time": "2020-03-08T21:51:05.592816Z"
    }
   },
   "outputs": [],
   "source": [
    "class ContentLoss(nn.Module):\n",
    "    \n",
    "    def __init__(self,target):\n",
    "        super().__init__()\n",
    "        self.target = target.detach()\n",
    "        \n",
    "    def forward(self,inp):\n",
    "        self.loss = F.mse_loss(inp,self.target)\n",
    "        return inp"
   ]
  },
  {
   "cell_type": "code",
   "execution_count": 108,
   "metadata": {
    "ExecuteTime": {
     "end_time": "2020-03-08T21:51:07.144778Z",
     "start_time": "2020-03-08T21:51:07.137778Z"
    }
   },
   "outputs": [],
   "source": [
    "def gram_matrix(input):\n",
    "    a, b, c, d = input.size()\n",
    "    \n",
    "    features = input.reshape(a * b, c * d)\n",
    "    \n",
    "    G = torch.mm(features,features.t())\n",
    "    \n",
    "    return G.div( a * b * c * d)"
   ]
  },
  {
   "cell_type": "code",
   "execution_count": 109,
   "metadata": {
    "ExecuteTime": {
     "end_time": "2020-03-08T21:51:08.299782Z",
     "start_time": "2020-03-08T21:51:08.293815Z"
    }
   },
   "outputs": [],
   "source": [
    "class StyleLoss(nn.Module):\n",
    "    \n",
    "    def __init__(self,target_feature):\n",
    "        super().__init__()\n",
    "        self.target = gram_matrix(target_feature).detach()\n",
    "        \n",
    "    def forward(self,inp):\n",
    "        G = gram_matrix(inp)\n",
    "        self.loss = F.mse_loss(G,self.target)\n",
    "        return inp"
   ]
  },
  {
   "cell_type": "code",
   "execution_count": 110,
   "metadata": {
    "ExecuteTime": {
     "end_time": "2020-03-08T21:51:14.978901Z",
     "start_time": "2020-03-08T21:51:10.817779Z"
    }
   },
   "outputs": [],
   "source": [
    "cnn = models.vgg19(pretrained=True).features.to(torch.device('cuda')).eval()"
   ]
  },
  {
   "cell_type": "code",
   "execution_count": null,
   "metadata": {},
   "outputs": [],
   "source": []
  },
  {
   "cell_type": "code",
   "execution_count": 111,
   "metadata": {
    "ExecuteTime": {
     "end_time": "2020-03-08T21:51:16.121919Z",
     "start_time": "2020-03-08T21:51:16.115885Z"
    }
   },
   "outputs": [],
   "source": [
    "for param in cnn.parameters():\n",
    "    param.requires_grad = False"
   ]
  },
  {
   "cell_type": "code",
   "execution_count": 112,
   "metadata": {
    "ExecuteTime": {
     "end_time": "2020-03-08T21:51:18.231920Z",
     "start_time": "2020-03-08T21:51:18.222880Z"
    }
   },
   "outputs": [
    {
     "name": "stdout",
     "output_type": "stream",
     "text": [
      "Sequential(\n",
      "  (0): Conv2d(3, 64, kernel_size=(3, 3), stride=(1, 1), padding=(1, 1))\n",
      "  (1): ReLU(inplace=True)\n",
      "  (2): Conv2d(64, 64, kernel_size=(3, 3), stride=(1, 1), padding=(1, 1))\n",
      "  (3): ReLU(inplace=True)\n",
      "  (4): MaxPool2d(kernel_size=2, stride=2, padding=0, dilation=1, ceil_mode=False)\n",
      "  (5): Conv2d(64, 128, kernel_size=(3, 3), stride=(1, 1), padding=(1, 1))\n",
      "  (6): ReLU(inplace=True)\n",
      "  (7): Conv2d(128, 128, kernel_size=(3, 3), stride=(1, 1), padding=(1, 1))\n",
      "  (8): ReLU(inplace=True)\n",
      "  (9): MaxPool2d(kernel_size=2, stride=2, padding=0, dilation=1, ceil_mode=False)\n",
      "  (10): Conv2d(128, 256, kernel_size=(3, 3), stride=(1, 1), padding=(1, 1))\n",
      "  (11): ReLU(inplace=True)\n",
      "  (12): Conv2d(256, 256, kernel_size=(3, 3), stride=(1, 1), padding=(1, 1))\n",
      "  (13): ReLU(inplace=True)\n",
      "  (14): Conv2d(256, 256, kernel_size=(3, 3), stride=(1, 1), padding=(1, 1))\n",
      "  (15): ReLU(inplace=True)\n",
      "  (16): Conv2d(256, 256, kernel_size=(3, 3), stride=(1, 1), padding=(1, 1))\n",
      "  (17): ReLU(inplace=True)\n",
      "  (18): MaxPool2d(kernel_size=2, stride=2, padding=0, dilation=1, ceil_mode=False)\n",
      "  (19): Conv2d(256, 512, kernel_size=(3, 3), stride=(1, 1), padding=(1, 1))\n",
      "  (20): ReLU(inplace=True)\n",
      "  (21): Conv2d(512, 512, kernel_size=(3, 3), stride=(1, 1), padding=(1, 1))\n",
      "  (22): ReLU(inplace=True)\n",
      "  (23): Conv2d(512, 512, kernel_size=(3, 3), stride=(1, 1), padding=(1, 1))\n",
      "  (24): ReLU(inplace=True)\n",
      "  (25): Conv2d(512, 512, kernel_size=(3, 3), stride=(1, 1), padding=(1, 1))\n",
      "  (26): ReLU(inplace=True)\n",
      "  (27): MaxPool2d(kernel_size=2, stride=2, padding=0, dilation=1, ceil_mode=False)\n",
      "  (28): Conv2d(512, 512, kernel_size=(3, 3), stride=(1, 1), padding=(1, 1))\n",
      "  (29): ReLU(inplace=True)\n",
      "  (30): Conv2d(512, 512, kernel_size=(3, 3), stride=(1, 1), padding=(1, 1))\n",
      "  (31): ReLU(inplace=True)\n",
      "  (32): Conv2d(512, 512, kernel_size=(3, 3), stride=(1, 1), padding=(1, 1))\n",
      "  (33): ReLU(inplace=True)\n",
      "  (34): Conv2d(512, 512, kernel_size=(3, 3), stride=(1, 1), padding=(1, 1))\n",
      "  (35): ReLU(inplace=True)\n",
      "  (36): MaxPool2d(kernel_size=2, stride=2, padding=0, dilation=1, ceil_mode=False)\n",
      ")\n"
     ]
    }
   ],
   "source": [
    "print(cnn)"
   ]
  },
  {
   "cell_type": "code",
   "execution_count": 113,
   "metadata": {
    "ExecuteTime": {
     "end_time": "2020-03-08T21:51:28.030920Z",
     "start_time": "2020-03-08T21:51:28.024881Z"
    }
   },
   "outputs": [],
   "source": [
    "cnn_normalization_mean = torch.tensor([0.485,0.456,0.406]).cuda()\n",
    "cnn_normalization_std = torch.tensor([0.229,0.224,0.225]).cuda()"
   ]
  },
  {
   "cell_type": "code",
   "execution_count": 114,
   "metadata": {
    "ExecuteTime": {
     "end_time": "2020-03-08T21:51:29.912889Z",
     "start_time": "2020-03-08T21:51:29.903882Z"
    }
   },
   "outputs": [],
   "source": [
    "class Normalization(nn.Module):\n",
    "    \n",
    "    def __init__(self,mean,std):\n",
    "        super().__init__()\n",
    "        self.mean = torch.tensor(mean).reshape(-1,1,1)\n",
    "        self.std = torch.tensor(std).reshape(-1,1,1)\n",
    "        \n",
    "    def forward(self,img):\n",
    "        return (img - self.mean) / self.std"
   ]
  },
  {
   "cell_type": "code",
   "execution_count": 115,
   "metadata": {},
   "outputs": [
    {
     "name": "stderr",
     "output_type": "stream",
     "text": [
      "<ipython-input-114-0cc69341f952>:5: UserWarning: To copy construct from a tensor, it is recommended to use sourceTensor.clone().detach() or sourceTensor.clone().detach().requires_grad_(True), rather than torch.tensor(sourceTensor).\n",
      "  self.mean = torch.tensor(mean).reshape(-1,1,1)\n",
      "<ipython-input-114-0cc69341f952>:6: UserWarning: To copy construct from a tensor, it is recommended to use sourceTensor.clone().detach() or sourceTensor.clone().detach().requires_grad_(True), rather than torch.tensor(sourceTensor).\n",
      "  self.std = torch.tensor(std).reshape(-1,1,1)\n"
     ]
    }
   ],
   "source": [
    "normalization=Normalization(cnn_normalization_mean,cnn_normalization_std).cuda()"
   ]
  },
  {
   "cell_type": "code",
   "execution_count": 116,
   "metadata": {},
   "outputs": [],
   "source": [
    "model = nn.Sequential(normalization)\n",
    "i = 0\n",
    "    \n",
    "for layer in cnn.children():\n",
    "        if isinstance(layer,nn.Conv2d):\n",
    "            i += 1\n",
    "            name = 'conv_{}'.format(i)\n",
    "        elif isinstance(layer,nn.ReLU):\n",
    "            name = 'relu_{}'.format(i)\n",
    "            layer=nn.ReLU(inplace=False)\n",
    "        elif isinstance(layer,nn.MaxPool2d):\n",
    "            name='pool_{}'.format(i)\n",
    "        elif isinstance(layer,nn.BatchNorm2d):\n",
    "            name='bn_{}'.format(i)\n",
    "        else:\n",
    "            raise RuntimeError('Unrecognized layer: {}'.format(layer.__class__.__name__))\n",
    "            \n",
    "        model.add_module(name,layer)"
   ]
  },
  {
   "cell_type": "code",
   "execution_count": 117,
   "metadata": {},
   "outputs": [
    {
     "data": {
      "text/plain": [
       "Sequential(\n",
       "  (0): Normalization()\n",
       "  (conv_1): Conv2d(3, 64, kernel_size=(3, 3), stride=(1, 1), padding=(1, 1))\n",
       "  (relu_1): ReLU()\n",
       "  (conv_2): Conv2d(64, 64, kernel_size=(3, 3), stride=(1, 1), padding=(1, 1))\n",
       "  (relu_2): ReLU()\n",
       "  (pool_2): MaxPool2d(kernel_size=2, stride=2, padding=0, dilation=1, ceil_mode=False)\n",
       "  (conv_3): Conv2d(64, 128, kernel_size=(3, 3), stride=(1, 1), padding=(1, 1))\n",
       "  (relu_3): ReLU()\n",
       "  (conv_4): Conv2d(128, 128, kernel_size=(3, 3), stride=(1, 1), padding=(1, 1))\n",
       "  (relu_4): ReLU()\n",
       "  (pool_4): MaxPool2d(kernel_size=2, stride=2, padding=0, dilation=1, ceil_mode=False)\n",
       "  (conv_5): Conv2d(128, 256, kernel_size=(3, 3), stride=(1, 1), padding=(1, 1))\n",
       "  (relu_5): ReLU()\n",
       "  (conv_6): Conv2d(256, 256, kernel_size=(3, 3), stride=(1, 1), padding=(1, 1))\n",
       "  (relu_6): ReLU()\n",
       "  (conv_7): Conv2d(256, 256, kernel_size=(3, 3), stride=(1, 1), padding=(1, 1))\n",
       "  (relu_7): ReLU()\n",
       "  (conv_8): Conv2d(256, 256, kernel_size=(3, 3), stride=(1, 1), padding=(1, 1))\n",
       "  (relu_8): ReLU()\n",
       "  (pool_8): MaxPool2d(kernel_size=2, stride=2, padding=0, dilation=1, ceil_mode=False)\n",
       "  (conv_9): Conv2d(256, 512, kernel_size=(3, 3), stride=(1, 1), padding=(1, 1))\n",
       "  (relu_9): ReLU()\n",
       "  (conv_10): Conv2d(512, 512, kernel_size=(3, 3), stride=(1, 1), padding=(1, 1))\n",
       "  (relu_10): ReLU()\n",
       "  (conv_11): Conv2d(512, 512, kernel_size=(3, 3), stride=(1, 1), padding=(1, 1))\n",
       "  (relu_11): ReLU()\n",
       "  (conv_12): Conv2d(512, 512, kernel_size=(3, 3), stride=(1, 1), padding=(1, 1))\n",
       "  (relu_12): ReLU()\n",
       "  (pool_12): MaxPool2d(kernel_size=2, stride=2, padding=0, dilation=1, ceil_mode=False)\n",
       "  (conv_13): Conv2d(512, 512, kernel_size=(3, 3), stride=(1, 1), padding=(1, 1))\n",
       "  (relu_13): ReLU()\n",
       "  (conv_14): Conv2d(512, 512, kernel_size=(3, 3), stride=(1, 1), padding=(1, 1))\n",
       "  (relu_14): ReLU()\n",
       "  (conv_15): Conv2d(512, 512, kernel_size=(3, 3), stride=(1, 1), padding=(1, 1))\n",
       "  (relu_15): ReLU()\n",
       "  (conv_16): Conv2d(512, 512, kernel_size=(3, 3), stride=(1, 1), padding=(1, 1))\n",
       "  (relu_16): ReLU()\n",
       "  (pool_16): MaxPool2d(kernel_size=2, stride=2, padding=0, dilation=1, ceil_mode=False)\n",
       ")"
      ]
     },
     "execution_count": 117,
     "metadata": {},
     "output_type": "execute_result"
    }
   ],
   "source": [
    "model"
   ]
  },
  {
   "cell_type": "code",
   "execution_count": 118,
   "metadata": {},
   "outputs": [
    {
     "data": {
      "text/plain": [
       "torch.Size([64, 3, 3, 3])"
      ]
     },
     "execution_count": 118,
     "metadata": {},
     "output_type": "execute_result"
    }
   ],
   "source": [
    "model.conv_1.weight.size()"
   ]
  },
  {
   "cell_type": "code",
   "execution_count": 120,
   "metadata": {
    "ExecuteTime": {
     "end_time": "2020-03-08T21:51:53.764883Z",
     "start_time": "2020-03-08T21:51:53.743890Z"
    }
   },
   "outputs": [],
   "source": [
    "import copy\n",
    "\n",
    "content_layers_default = ['conv_4']\n",
    "style_layers_default = ['conv_1','conv_2','conv_3','conv_4','conv_5']\n",
    "\n",
    "def get_style_model_and_losses(cnn,normalization_mean,\n",
    "                              normalization_std,\n",
    "                              content_img,\n",
    "                              style_img,\n",
    "                              content_layers=content_layers_default,\n",
    "                              style_layers=style_layers_default):\n",
    "    \n",
    "    cnn = copy.deepcopy(cnn)\n",
    "    \n",
    "    normalization=Normalization(normalization_mean,normalization_std).cuda()\n",
    "    \n",
    "    content_losses = []\n",
    "    style_losses = []\n",
    "    \n",
    "    model = nn.Sequential(normalization)\n",
    "\n",
    "    i = 0\n",
    "    \n",
    "    for layer in cnn.children():\n",
    "        if isinstance(layer,nn.Conv2d):\n",
    "            i += 1\n",
    "            name = 'conv_{}'.format(i)\n",
    "        elif isinstance(layer,nn.ReLU):\n",
    "            name = 'relu_{}'.format(i)\n",
    "            layer=nn.ReLU(inplace=False)\n",
    "        elif isinstance(layer,nn.MaxPool2d):\n",
    "            name='pool_{}'.format(i)\n",
    "        elif isinstance(layer,nn.BatchNorm2d):\n",
    "            name='bn_{}'.format(i)\n",
    "        else:\n",
    "            raise RuntimeError('Unrecognized layer: {}'.format(layer.__class__.__name__))\n",
    "            \n",
    "        model.add_module(name,layer)\n",
    "        \n",
    "        if name in content_layers:\n",
    "            target = model(content_img).detach()\n",
    "            content_loss = ContentLoss(target)\n",
    "            model.add_module('content_loss_{}'.format(i),content_loss)\n",
    "            content_losses.append(content_loss)\n",
    "            \n",
    "        if name in style_layers:\n",
    "            \n",
    "            target_feature = model(style_img).detach()\n",
    "            style_loss = StyleLoss(target_feature)\n",
    "            model.add_module('style_loss_{}'.format(i),style_loss)\n",
    "            style_losses.append(style_loss)\n",
    "            \n",
    "    for i in range(len(model)-1,-1,-1):\n",
    "        if isinstance(model[i],ContentLoss) or isinstance(model[i],StyleLoss):\n",
    "            break\n",
    "            \n",
    "    model = model[:(i+1)]\n",
    "    \n",
    "    return model, style_losses, content_losses\n",
    "            \n",
    "                              \n",
    "                       \n",
    "        \n"
   ]
  },
  {
   "cell_type": "code",
   "execution_count": null,
   "metadata": {},
   "outputs": [],
   "source": []
  },
  {
   "cell_type": "code",
   "execution_count": 121,
   "metadata": {
    "ExecuteTime": {
     "end_time": "2020-03-08T21:52:12.806997Z",
     "start_time": "2020-03-08T21:52:12.800999Z"
    }
   },
   "outputs": [],
   "source": [
    "def get_input_optimizer(input_img):\n",
    "    optimizer = optim.LBFGS([input_img.requires_grad_()])\n",
    "    return optimizer\n"
   ]
  },
  {
   "cell_type": "code",
   "execution_count": 122,
   "metadata": {
    "ExecuteTime": {
     "end_time": "2020-03-08T21:52:45.656036Z",
     "start_time": "2020-03-08T21:52:45.642998Z"
    }
   },
   "outputs": [],
   "source": [
    "def run_style_transfer(cnn,normalization_mean,normalization_std,\n",
    "                      content_img,style_img,input_img,num_steps=500,\n",
    "                      style_weight=1000000,content_weight=1):\n",
    "    print('Building the style transfer model...')\n",
    "    \n",
    "    model,style_losses,content_losses = get_style_model_and_losses(cnn,\n",
    "                                            normalization_mean,\n",
    "                                            normalization_std,\n",
    "                                            content_img,\n",
    "                                            style_img )\n",
    "    optimizer = get_input_optimizer(input_img)\n",
    "    \n",
    "    print('Optimizing...')\n",
    "    run = [0]\n",
    "    while run[0] <= num_steps:\n",
    "        \n",
    "        def closure():\n",
    "            input_img.data.clamp_(0,1)\n",
    "        \n",
    "            optimizer.zero_grad()\n",
    "            model(input_img)\n",
    "            style_score = 0\n",
    "            content_score = 0\n",
    "        \n",
    "            for sl in style_losses:\n",
    "                style_score += sl.loss\n",
    "            for cl in content_losses:\n",
    "                content_score += cl.loss\n",
    "            \n",
    "            style_score *= style_weight\n",
    "            content_score *= content_weight\n",
    "        \n",
    "            loss = style_score + content_score\n",
    "            loss.backward()\n",
    "        \n",
    "            run[0] += 1\n",
    "            if run[0] % 50 == 0:\n",
    "                print('Style Loss: {:4f} Content loss: {:4f}'.format(\n",
    "                style_score.item(),content_score.item()))\n",
    "                print()\n",
    "        \n",
    "            return style_score + content_score\n",
    "        \n",
    "        optimizer.step(closure)\n",
    "        \n",
    "    input_img.data.clamp_(0,1)\n",
    "        \n",
    "    return input_img\n",
    "        "
   ]
  },
  {
   "cell_type": "code",
   "execution_count": 123,
   "metadata": {
    "ExecuteTime": {
     "end_time": "2020-03-08T21:52:56.035005Z",
     "start_time": "2020-03-08T21:52:56.029997Z"
    }
   },
   "outputs": [],
   "source": [
    "imsize = [600,600]"
   ]
  },
  {
   "cell_type": "code",
   "execution_count": 124,
   "metadata": {
    "ExecuteTime": {
     "end_time": "2020-03-08T21:52:58.271999Z",
     "start_time": "2020-03-08T21:52:58.267003Z"
    }
   },
   "outputs": [],
   "source": [
    "loader = transforms.Compose([\n",
    "    transforms.Resize(imsize),\n",
    "    transforms.ToTensor()])"
   ]
  },
  {
   "cell_type": "code",
   "execution_count": 126,
   "metadata": {
    "ExecuteTime": {
     "end_time": "2020-03-08T21:53:05.388589Z",
     "start_time": "2020-03-08T21:53:05.383554Z"
    }
   },
   "outputs": [],
   "source": [
    "def image_loader(path):\n",
    "    image = Image.open(path)     \n",
    "    image = loader(image).unsqueeze(0)\n",
    "    return image.cuda()"
   ]
  },
  {
   "cell_type": "code",
   "execution_count": 127,
   "metadata": {
    "ExecuteTime": {
     "end_time": "2020-03-08T21:53:18.964556Z",
     "start_time": "2020-03-08T21:53:18.957559Z"
    }
   },
   "outputs": [],
   "source": [
    "unloader = transforms.ToPILImage()\n",
    "\n",
    "plt.ion\n",
    "\n",
    "def imshow(tensor, title=None):\n",
    "    image = tensor.cpu().clone()\n",
    "    image = image.squeeze(0)\n",
    "    image = unloader(image)\n",
    "    image.show()"
   ]
  },
  {
   "cell_type": "code",
   "execution_count": 134,
   "metadata": {
    "ExecuteTime": {
     "end_time": "2020-03-09T15:30:06.030878Z",
     "start_time": "2020-03-09T15:30:01.714813Z"
    }
   },
   "outputs": [],
   "source": [
    "content_img = image_loader(r'../../data_1/Images/tulips.jpg')\n",
    "style_img = image_loader(r'../../data_1/Images/vangogh.jpg')\n",
    "input_img = image_loader(r'../../data_1/Images/tulips.jpg')"
   ]
  },
  {
   "cell_type": "code",
   "execution_count": 129,
   "metadata": {},
   "outputs": [],
   "source": [
    "imshow(style_img);"
   ]
  },
  {
   "cell_type": "code",
   "execution_count": 88,
   "metadata": {},
   "outputs": [],
   "source": [
    "imshow(model[0](style_img))"
   ]
  },
  {
   "cell_type": "code",
   "execution_count": 89,
   "metadata": {},
   "outputs": [],
   "source": [
    "first_feature_map = model.conv_1(model[0](style_img))"
   ]
  },
  {
   "cell_type": "code",
   "execution_count": 90,
   "metadata": {},
   "outputs": [
    {
     "data": {
      "text/plain": [
       "torch.Size([1, 64, 600, 600])"
      ]
     },
     "execution_count": 90,
     "metadata": {},
     "output_type": "execute_result"
    }
   ],
   "source": [
    "first_feature_map.size()"
   ]
  },
  {
   "cell_type": "code",
   "execution_count": 91,
   "metadata": {},
   "outputs": [],
   "source": [
    "features = first_feature_map.reshape(1 * 64, 600 * 600)"
   ]
  },
  {
   "cell_type": "code",
   "execution_count": 92,
   "metadata": {},
   "outputs": [
    {
     "data": {
      "text/plain": [
       "torch.Size([64, 360000])"
      ]
     },
     "execution_count": 92,
     "metadata": {},
     "output_type": "execute_result"
    }
   ],
   "source": [
    "features.size()"
   ]
  },
  {
   "cell_type": "code",
   "execution_count": 93,
   "metadata": {},
   "outputs": [
    {
     "data": {
      "text/plain": [
       "tensor([[ 1.0739, -0.1657,  1.9678,  ..., -0.6748, -0.2790, -0.2072],\n",
       "        [-0.1657,  1.6732, -0.7467,  ..., -0.0188, -0.3633,  0.4327],\n",
       "        [ 1.9678, -0.7467,  6.2942,  ..., -2.9525, -0.6150, -0.7442],\n",
       "        ...,\n",
       "        [-0.6748, -0.0188, -2.9525,  ...,  2.8915,  0.2135,  0.1712],\n",
       "        [-0.2790, -0.3633, -0.6150,  ...,  0.2135,  0.3617, -0.1296],\n",
       "        [-0.2072,  0.4327, -0.7442,  ...,  0.1712, -0.1296,  1.2092]],\n",
       "       device='cuda:0')"
      ]
     },
     "execution_count": 93,
     "metadata": {},
     "output_type": "execute_result"
    }
   ],
   "source": [
    "(features @ features.t())/360000.0"
   ]
  },
  {
   "cell_type": "code",
   "execution_count": 94,
   "metadata": {},
   "outputs": [],
   "source": [
    "imshow(model.conv_2(nn.ReLU()(first_feature_map))[0,23])"
   ]
  },
  {
   "cell_type": "code",
   "execution_count": 135,
   "metadata": {
    "ExecuteTime": {
     "end_time": "2020-03-09T15:30:13.916877Z",
     "start_time": "2020-03-09T15:30:13.657912Z"
    }
   },
   "outputs": [
    {
     "name": "stderr",
     "output_type": "stream",
     "text": [
      "<ipython-input-114-0cc69341f952>:5: UserWarning: To copy construct from a tensor, it is recommended to use sourceTensor.clone().detach() or sourceTensor.clone().detach().requires_grad_(True), rather than torch.tensor(sourceTensor).\n",
      "  self.mean = torch.tensor(mean).reshape(-1,1,1)\n",
      "<ipython-input-114-0cc69341f952>:6: UserWarning: To copy construct from a tensor, it is recommended to use sourceTensor.clone().detach() or sourceTensor.clone().detach().requires_grad_(True), rather than torch.tensor(sourceTensor).\n",
      "  self.std = torch.tensor(std).reshape(-1,1,1)\n"
     ]
    }
   ],
   "source": [
    "model,style_losses,content_losses = get_style_model_and_losses(cnn,\n",
    "                                                              cnn_normalization_mean,\n",
    "                                                              cnn_normalization_std,\n",
    "                                                              style_img,\n",
    "                                                              content_img)"
   ]
  },
  {
   "cell_type": "code",
   "execution_count": 136,
   "metadata": {
    "ExecuteTime": {
     "end_time": "2020-03-08T21:56:05.384318Z",
     "start_time": "2020-03-08T21:56:05.378311Z"
    }
   },
   "outputs": [
    {
     "name": "stdout",
     "output_type": "stream",
     "text": [
      "Sequential(\n",
      "  (0): Normalization()\n",
      "  (conv_1): Conv2d(3, 64, kernel_size=(3, 3), stride=(1, 1), padding=(1, 1))\n",
      "  (style_loss_1): StyleLoss()\n",
      "  (relu_1): ReLU()\n",
      "  (conv_2): Conv2d(64, 64, kernel_size=(3, 3), stride=(1, 1), padding=(1, 1))\n",
      "  (style_loss_2): StyleLoss()\n",
      "  (relu_2): ReLU()\n",
      "  (pool_2): MaxPool2d(kernel_size=2, stride=2, padding=0, dilation=1, ceil_mode=False)\n",
      "  (conv_3): Conv2d(64, 128, kernel_size=(3, 3), stride=(1, 1), padding=(1, 1))\n",
      "  (style_loss_3): StyleLoss()\n",
      "  (relu_3): ReLU()\n",
      "  (conv_4): Conv2d(128, 128, kernel_size=(3, 3), stride=(1, 1), padding=(1, 1))\n",
      "  (content_loss_4): ContentLoss()\n",
      "  (style_loss_4): StyleLoss()\n",
      "  (relu_4): ReLU()\n",
      "  (pool_4): MaxPool2d(kernel_size=2, stride=2, padding=0, dilation=1, ceil_mode=False)\n",
      "  (conv_5): Conv2d(128, 256, kernel_size=(3, 3), stride=(1, 1), padding=(1, 1))\n",
      "  (style_loss_5): StyleLoss()\n",
      ")\n"
     ]
    }
   ],
   "source": [
    "print(model)"
   ]
  },
  {
   "cell_type": "code",
   "execution_count": 137,
   "metadata": {},
   "outputs": [
    {
     "data": {
      "text/plain": [
       "[StyleLoss(), StyleLoss(), StyleLoss(), StyleLoss(), StyleLoss()]"
      ]
     },
     "execution_count": 137,
     "metadata": {},
     "output_type": "execute_result"
    }
   ],
   "source": [
    "style_losses"
   ]
  },
  {
   "cell_type": "code",
   "execution_count": 138,
   "metadata": {
    "ExecuteTime": {
     "end_time": "2020-03-10T01:48:21.940269Z",
     "start_time": "2020-03-10T01:46:53.558138Z"
    },
    "scrolled": true
   },
   "outputs": [
    {
     "name": "stdout",
     "output_type": "stream",
     "text": [
      "Building the style transfer model...\n",
      "Optimizing...\n"
     ]
    },
    {
     "name": "stderr",
     "output_type": "stream",
     "text": [
      "<ipython-input-114-0cc69341f952>:5: UserWarning: To copy construct from a tensor, it is recommended to use sourceTensor.clone().detach() or sourceTensor.clone().detach().requires_grad_(True), rather than torch.tensor(sourceTensor).\n",
      "  self.mean = torch.tensor(mean).reshape(-1,1,1)\n",
      "<ipython-input-114-0cc69341f952>:6: UserWarning: To copy construct from a tensor, it is recommended to use sourceTensor.clone().detach() or sourceTensor.clone().detach().requires_grad_(True), rather than torch.tensor(sourceTensor).\n",
      "  self.std = torch.tensor(std).reshape(-1,1,1)\n"
     ]
    },
    {
     "name": "stdout",
     "output_type": "stream",
     "text": [
      "Style Loss: 32.781399 Content loss: 39.697495\n",
      "\n",
      "Style Loss: 7.862803 Content loss: 23.375471\n",
      "\n",
      "Style Loss: 4.094740 Content loss: 18.874491\n",
      "\n",
      "Style Loss: 2.620141 Content loss: 17.110979\n",
      "\n",
      "Style Loss: 1.985407 Content loss: 16.123154\n",
      "\n",
      "Style Loss: 1.630729 Content loss: 15.600616\n",
      "\n",
      "Style Loss: 1.338733 Content loss: 15.283038\n",
      "\n",
      "Style Loss: 1.146997 Content loss: 15.054875\n",
      "\n"
     ]
    }
   ],
   "source": [
    "num_steps=400\n",
    "style_weight=600000\n",
    "content_weight=1.18\n",
    "\n",
    "\n",
    "output = run_style_transfer(cnn,cnn_normalization_mean,cnn_normalization_std,\n",
    "                      content_img,style_img,input_img,num_steps,\n",
    "                      style_weight,content_weight)"
   ]
  },
  {
   "cell_type": "code",
   "execution_count": 139,
   "metadata": {
    "ExecuteTime": {
     "end_time": "2020-03-10T01:48:40.243869Z",
     "start_time": "2020-03-10T01:48:38.463834Z"
    }
   },
   "outputs": [],
   "source": [
    "imshow(output,title='Output image')\n"
   ]
  },
  {
   "cell_type": "code",
   "execution_count": null,
   "metadata": {
    "ExecuteTime": {
     "end_time": "2019-06-05T20:21:26.963028Z",
     "start_time": "2019-06-05T20:21:26.920108Z"
    }
   },
   "outputs": [],
   "source": [
    "im = output.cpu().detach().reshape(3,600,600)\n",
    "pict = unloader(im)\n",
    "pict.save(r'./data/stained_tulips.jpg')"
   ]
  },
  {
   "cell_type": "code",
   "execution_count": null,
   "metadata": {},
   "outputs": [],
   "source": []
  }
 ],
 "metadata": {
  "kernelspec": {
   "display_name": "Python 3 (ipykernel)",
   "language": "python",
   "name": "python3"
  },
  "language_info": {
   "codemirror_mode": {
    "name": "ipython",
    "version": 3
   },
   "file_extension": ".py",
   "mimetype": "text/x-python",
   "name": "python",
   "nbconvert_exporter": "python",
   "pygments_lexer": "ipython3",
   "version": "3.10.4"
  },
  "latex_envs": {
   "LaTeX_envs_menu_present": true,
   "autoclose": false,
   "autocomplete": true,
   "bibliofile": "biblio.bib",
   "cite_by": "apalike",
   "current_citInitial": 1,
   "eqLabelWithNumbers": true,
   "eqNumInitial": 1,
   "hotkeys": {
    "equation": "Ctrl-E",
    "itemize": "Ctrl-I"
   },
   "labels_anchors": false,
   "latex_user_defs": false,
   "report_style_numbering": false,
   "user_envs_cfg": false
  }
 },
 "nbformat": 4,
 "nbformat_minor": 2
}
