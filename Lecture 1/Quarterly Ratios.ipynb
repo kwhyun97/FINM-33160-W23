{
 "cells": [
  {
   "cell_type": "code",
   "execution_count": 1,
   "metadata": {
    "ExecuteTime": {
     "end_time": "2020-01-06T15:31:33.161436Z",
     "start_time": "2020-01-06T15:31:32.023422Z"
    }
   },
   "outputs": [],
   "source": [
    "import pandas as pd\n",
    "import numpy as np"
   ]
  },
  {
   "cell_type": "code",
   "execution_count": 2,
   "metadata": {
    "ExecuteTime": {
     "end_time": "2020-01-06T15:31:54.609080Z",
     "start_time": "2020-01-06T15:31:38.317420Z"
    }
   },
   "outputs": [],
   "source": [
    "qu = pd.read_csv(r'C:\\Users\\niels\\OneDrive\\data_1\\CRSP-Daily\\c87ebd90a260cdee_csv\\c87ebd90a260cdee.csv',\n",
    "                 parse_dates=['rdq','datadate','ipodate'],low_memory=False)\n"
   ]
  },
  {
   "cell_type": "code",
   "execution_count": 3,
   "metadata": {
    "ExecuteTime": {
     "end_time": "2020-01-06T15:31:56.712111Z",
     "start_time": "2020-01-06T15:31:56.680090Z"
    }
   },
   "outputs": [
    {
     "data": {
      "text/html": [
       "<div>\n",
       "<style scoped>\n",
       "    .dataframe tbody tr th:only-of-type {\n",
       "        vertical-align: middle;\n",
       "    }\n",
       "\n",
       "    .dataframe tbody tr th {\n",
       "        vertical-align: top;\n",
       "    }\n",
       "\n",
       "    .dataframe thead th {\n",
       "        text-align: right;\n",
       "    }\n",
       "</style>\n",
       "<table border=\"1\" class=\"dataframe\">\n",
       "  <thead>\n",
       "    <tr style=\"text-align: right;\">\n",
       "      <th></th>\n",
       "      <th>gvkey</th>\n",
       "      <th>datadate</th>\n",
       "      <th>fyearq</th>\n",
       "      <th>fqtr</th>\n",
       "      <th>fyr</th>\n",
       "      <th>indfmt</th>\n",
       "      <th>consol</th>\n",
       "      <th>popsrc</th>\n",
       "      <th>datafmt</th>\n",
       "      <th>tic</th>\n",
       "      <th>...</th>\n",
       "      <th>xinty</th>\n",
       "      <th>xrdy</th>\n",
       "      <th>xsgay</th>\n",
       "      <th>costat</th>\n",
       "      <th>dvpspq</th>\n",
       "      <th>prccq</th>\n",
       "      <th>sic</th>\n",
       "      <th>spcindcd</th>\n",
       "      <th>spcsrc</th>\n",
       "      <th>ipodate</th>\n",
       "    </tr>\n",
       "  </thead>\n",
       "  <tbody>\n",
       "    <tr>\n",
       "      <th>0</th>\n",
       "      <td>1004</td>\n",
       "      <td>2000-02-29</td>\n",
       "      <td>1999</td>\n",
       "      <td>3</td>\n",
       "      <td>5</td>\n",
       "      <td>INDL</td>\n",
       "      <td>C</td>\n",
       "      <td>D</td>\n",
       "      <td>STD</td>\n",
       "      <td>AIR</td>\n",
       "      <td>...</td>\n",
       "      <td>17.749</td>\n",
       "      <td>NaN</td>\n",
       "      <td>72.556</td>\n",
       "      <td>A</td>\n",
       "      <td>0.085</td>\n",
       "      <td>23.750</td>\n",
       "      <td>5080</td>\n",
       "      <td>110.0</td>\n",
       "      <td>B</td>\n",
       "      <td>1988-01-01</td>\n",
       "    </tr>\n",
       "    <tr>\n",
       "      <th>1</th>\n",
       "      <td>1004</td>\n",
       "      <td>2000-05-31</td>\n",
       "      <td>1999</td>\n",
       "      <td>4</td>\n",
       "      <td>5</td>\n",
       "      <td>INDL</td>\n",
       "      <td>C</td>\n",
       "      <td>D</td>\n",
       "      <td>STD</td>\n",
       "      <td>AIR</td>\n",
       "      <td>...</td>\n",
       "      <td>23.431</td>\n",
       "      <td>NaN</td>\n",
       "      <td>102.195</td>\n",
       "      <td>A</td>\n",
       "      <td>0.085</td>\n",
       "      <td>13.875</td>\n",
       "      <td>5080</td>\n",
       "      <td>110.0</td>\n",
       "      <td>B</td>\n",
       "      <td>1988-01-01</td>\n",
       "    </tr>\n",
       "    <tr>\n",
       "      <th>2</th>\n",
       "      <td>1004</td>\n",
       "      <td>2000-08-31</td>\n",
       "      <td>2000</td>\n",
       "      <td>1</td>\n",
       "      <td>5</td>\n",
       "      <td>INDL</td>\n",
       "      <td>C</td>\n",
       "      <td>D</td>\n",
       "      <td>STD</td>\n",
       "      <td>AIR</td>\n",
       "      <td>...</td>\n",
       "      <td>5.988</td>\n",
       "      <td>NaN</td>\n",
       "      <td>24.544</td>\n",
       "      <td>A</td>\n",
       "      <td>0.085</td>\n",
       "      <td>11.250</td>\n",
       "      <td>5080</td>\n",
       "      <td>110.0</td>\n",
       "      <td>B</td>\n",
       "      <td>1988-01-01</td>\n",
       "    </tr>\n",
       "    <tr>\n",
       "      <th>3</th>\n",
       "      <td>1004</td>\n",
       "      <td>2000-11-30</td>\n",
       "      <td>2000</td>\n",
       "      <td>2</td>\n",
       "      <td>5</td>\n",
       "      <td>INDL</td>\n",
       "      <td>C</td>\n",
       "      <td>D</td>\n",
       "      <td>STD</td>\n",
       "      <td>AIR</td>\n",
       "      <td>...</td>\n",
       "      <td>11.706</td>\n",
       "      <td>NaN</td>\n",
       "      <td>48.423</td>\n",
       "      <td>A</td>\n",
       "      <td>0.085</td>\n",
       "      <td>10.375</td>\n",
       "      <td>5080</td>\n",
       "      <td>110.0</td>\n",
       "      <td>B</td>\n",
       "      <td>1988-01-01</td>\n",
       "    </tr>\n",
       "    <tr>\n",
       "      <th>4</th>\n",
       "      <td>1004</td>\n",
       "      <td>2001-02-28</td>\n",
       "      <td>2000</td>\n",
       "      <td>3</td>\n",
       "      <td>5</td>\n",
       "      <td>INDL</td>\n",
       "      <td>C</td>\n",
       "      <td>D</td>\n",
       "      <td>STD</td>\n",
       "      <td>AIR</td>\n",
       "      <td>...</td>\n",
       "      <td>17.139</td>\n",
       "      <td>NaN</td>\n",
       "      <td>71.710</td>\n",
       "      <td>A</td>\n",
       "      <td>0.085</td>\n",
       "      <td>13.600</td>\n",
       "      <td>5080</td>\n",
       "      <td>110.0</td>\n",
       "      <td>B</td>\n",
       "      <td>1988-01-01</td>\n",
       "    </tr>\n",
       "  </tbody>\n",
       "</table>\n",
       "<p>5 rows × 108 columns</p>\n",
       "</div>"
      ],
      "text/plain": [
       "   gvkey   datadate  fyearq  fqtr  fyr indfmt consol popsrc datafmt  tic  ...  \\\n",
       "0   1004 2000-02-29    1999     3    5   INDL      C      D     STD  AIR  ...   \n",
       "1   1004 2000-05-31    1999     4    5   INDL      C      D     STD  AIR  ...   \n",
       "2   1004 2000-08-31    2000     1    5   INDL      C      D     STD  AIR  ...   \n",
       "3   1004 2000-11-30    2000     2    5   INDL      C      D     STD  AIR  ...   \n",
       "4   1004 2001-02-28    2000     3    5   INDL      C      D     STD  AIR  ...   \n",
       "\n",
       "    xinty xrdy    xsgay costat dvpspq   prccq   sic  spcindcd  spcsrc  \\\n",
       "0  17.749  NaN   72.556      A  0.085  23.750  5080     110.0       B   \n",
       "1  23.431  NaN  102.195      A  0.085  13.875  5080     110.0       B   \n",
       "2   5.988  NaN   24.544      A  0.085  11.250  5080     110.0       B   \n",
       "3  11.706  NaN   48.423      A  0.085  10.375  5080     110.0       B   \n",
       "4  17.139  NaN   71.710      A  0.085  13.600  5080     110.0       B   \n",
       "\n",
       "     ipodate  \n",
       "0 1988-01-01  \n",
       "1 1988-01-01  \n",
       "2 1988-01-01  \n",
       "3 1988-01-01  \n",
       "4 1988-01-01  \n",
       "\n",
       "[5 rows x 108 columns]"
      ]
     },
     "execution_count": 3,
     "metadata": {},
     "output_type": "execute_result"
    }
   ],
   "source": [
    "qu.head()"
   ]
  },
  {
   "cell_type": "code",
   "execution_count": 4,
   "metadata": {
    "ExecuteTime": {
     "end_time": "2020-01-06T15:34:29.356010Z",
     "start_time": "2020-01-06T15:34:28.536976Z"
    }
   },
   "outputs": [],
   "source": [
    "qu = qu.reset_index(drop=True)\n",
    "qu = qu[qu['tic'].notnull()]"
   ]
  },
  {
   "cell_type": "code",
   "execution_count": 5,
   "metadata": {
    "ExecuteTime": {
     "end_time": "2020-01-06T15:34:30.450984Z",
     "start_time": "2020-01-06T15:34:30.445986Z"
    }
   },
   "outputs": [],
   "source": [
    "qu.reset_index(inplace=True,drop=True)"
   ]
  },
  {
   "cell_type": "code",
   "execution_count": 6,
   "metadata": {
    "ExecuteTime": {
     "end_time": "2020-01-06T15:34:33.023754Z",
     "start_time": "2020-01-06T15:34:32.585698Z"
    }
   },
   "outputs": [],
   "source": [
    "qu = qu[qu['rdq'].notnull()]\n"
   ]
  },
  {
   "cell_type": "code",
   "execution_count": 7,
   "metadata": {
    "ExecuteTime": {
     "end_time": "2020-01-06T15:34:34.217561Z",
     "start_time": "2020-01-06T15:34:34.139540Z"
    }
   },
   "outputs": [
    {
     "data": {
      "text/html": [
       "<div>\n",
       "<style scoped>\n",
       "    .dataframe tbody tr th:only-of-type {\n",
       "        vertical-align: middle;\n",
       "    }\n",
       "\n",
       "    .dataframe tbody tr th {\n",
       "        vertical-align: top;\n",
       "    }\n",
       "\n",
       "    .dataframe thead th {\n",
       "        text-align: right;\n",
       "    }\n",
       "</style>\n",
       "<table border=\"1\" class=\"dataframe\">\n",
       "  <thead>\n",
       "    <tr style=\"text-align: right;\">\n",
       "      <th></th>\n",
       "      <th>gvkey</th>\n",
       "      <th>datadate</th>\n",
       "      <th>fyearq</th>\n",
       "      <th>fqtr</th>\n",
       "      <th>fyr</th>\n",
       "      <th>indfmt</th>\n",
       "      <th>consol</th>\n",
       "      <th>popsrc</th>\n",
       "      <th>datafmt</th>\n",
       "      <th>tic</th>\n",
       "      <th>...</th>\n",
       "      <th>xinty</th>\n",
       "      <th>xrdy</th>\n",
       "      <th>xsgay</th>\n",
       "      <th>costat</th>\n",
       "      <th>dvpspq</th>\n",
       "      <th>prccq</th>\n",
       "      <th>sic</th>\n",
       "      <th>spcindcd</th>\n",
       "      <th>spcsrc</th>\n",
       "      <th>ipodate</th>\n",
       "    </tr>\n",
       "  </thead>\n",
       "  <tbody>\n",
       "    <tr>\n",
       "      <th>7843</th>\n",
       "      <td>1690</td>\n",
       "      <td>2000-03-31</td>\n",
       "      <td>2000</td>\n",
       "      <td>2</td>\n",
       "      <td>9</td>\n",
       "      <td>INDL</td>\n",
       "      <td>C</td>\n",
       "      <td>D</td>\n",
       "      <td>STD</td>\n",
       "      <td>AAPL</td>\n",
       "      <td>...</td>\n",
       "      <td>10.0</td>\n",
       "      <td>182.0</td>\n",
       "      <td>788.0</td>\n",
       "      <td>A</td>\n",
       "      <td>0.00</td>\n",
       "      <td>135.8125</td>\n",
       "      <td>3663</td>\n",
       "      <td>190.0</td>\n",
       "      <td>B+</td>\n",
       "      <td>1980-12-12</td>\n",
       "    </tr>\n",
       "    <tr>\n",
       "      <th>7844</th>\n",
       "      <td>1690</td>\n",
       "      <td>2000-06-30</td>\n",
       "      <td>2000</td>\n",
       "      <td>3</td>\n",
       "      <td>9</td>\n",
       "      <td>INDL</td>\n",
       "      <td>C</td>\n",
       "      <td>D</td>\n",
       "      <td>STD</td>\n",
       "      <td>AAPL</td>\n",
       "      <td>...</td>\n",
       "      <td>15.0</td>\n",
       "      <td>279.0</td>\n",
       "      <td>1163.0</td>\n",
       "      <td>A</td>\n",
       "      <td>0.00</td>\n",
       "      <td>52.3750</td>\n",
       "      <td>3663</td>\n",
       "      <td>190.0</td>\n",
       "      <td>B+</td>\n",
       "      <td>1980-12-12</td>\n",
       "    </tr>\n",
       "    <tr>\n",
       "      <th>7845</th>\n",
       "      <td>1690</td>\n",
       "      <td>2000-09-30</td>\n",
       "      <td>2000</td>\n",
       "      <td>4</td>\n",
       "      <td>9</td>\n",
       "      <td>INDL</td>\n",
       "      <td>C</td>\n",
       "      <td>D</td>\n",
       "      <td>STD</td>\n",
       "      <td>AAPL</td>\n",
       "      <td>...</td>\n",
       "      <td>21.0</td>\n",
       "      <td>380.0</td>\n",
       "      <td>1546.0</td>\n",
       "      <td>A</td>\n",
       "      <td>0.00</td>\n",
       "      <td>25.7500</td>\n",
       "      <td>3663</td>\n",
       "      <td>190.0</td>\n",
       "      <td>B+</td>\n",
       "      <td>1980-12-12</td>\n",
       "    </tr>\n",
       "    <tr>\n",
       "      <th>7846</th>\n",
       "      <td>1690</td>\n",
       "      <td>2000-12-31</td>\n",
       "      <td>2001</td>\n",
       "      <td>1</td>\n",
       "      <td>9</td>\n",
       "      <td>INDL</td>\n",
       "      <td>C</td>\n",
       "      <td>D</td>\n",
       "      <td>STD</td>\n",
       "      <td>AAPL</td>\n",
       "      <td>...</td>\n",
       "      <td>5.0</td>\n",
       "      <td>102.0</td>\n",
       "      <td>399.0</td>\n",
       "      <td>A</td>\n",
       "      <td>0.00</td>\n",
       "      <td>14.8750</td>\n",
       "      <td>3663</td>\n",
       "      <td>190.0</td>\n",
       "      <td>B+</td>\n",
       "      <td>1980-12-12</td>\n",
       "    </tr>\n",
       "    <tr>\n",
       "      <th>7847</th>\n",
       "      <td>1690</td>\n",
       "      <td>2001-03-31</td>\n",
       "      <td>2001</td>\n",
       "      <td>2</td>\n",
       "      <td>9</td>\n",
       "      <td>INDL</td>\n",
       "      <td>C</td>\n",
       "      <td>D</td>\n",
       "      <td>STD</td>\n",
       "      <td>AAPL</td>\n",
       "      <td>...</td>\n",
       "      <td>10.0</td>\n",
       "      <td>203.0</td>\n",
       "      <td>792.0</td>\n",
       "      <td>A</td>\n",
       "      <td>0.00</td>\n",
       "      <td>22.0700</td>\n",
       "      <td>3663</td>\n",
       "      <td>190.0</td>\n",
       "      <td>B+</td>\n",
       "      <td>1980-12-12</td>\n",
       "    </tr>\n",
       "    <tr>\n",
       "      <th>...</th>\n",
       "      <td>...</td>\n",
       "      <td>...</td>\n",
       "      <td>...</td>\n",
       "      <td>...</td>\n",
       "      <td>...</td>\n",
       "      <td>...</td>\n",
       "      <td>...</td>\n",
       "      <td>...</td>\n",
       "      <td>...</td>\n",
       "      <td>...</td>\n",
       "      <td>...</td>\n",
       "      <td>...</td>\n",
       "      <td>...</td>\n",
       "      <td>...</td>\n",
       "      <td>...</td>\n",
       "      <td>...</td>\n",
       "      <td>...</td>\n",
       "      <td>...</td>\n",
       "      <td>...</td>\n",
       "      <td>...</td>\n",
       "      <td>...</td>\n",
       "    </tr>\n",
       "    <tr>\n",
       "      <th>7914</th>\n",
       "      <td>1690</td>\n",
       "      <td>2017-12-31</td>\n",
       "      <td>2018</td>\n",
       "      <td>1</td>\n",
       "      <td>9</td>\n",
       "      <td>INDL</td>\n",
       "      <td>C</td>\n",
       "      <td>D</td>\n",
       "      <td>STD</td>\n",
       "      <td>AAPL</td>\n",
       "      <td>...</td>\n",
       "      <td>734.0</td>\n",
       "      <td>3407.0</td>\n",
       "      <td>7638.0</td>\n",
       "      <td>A</td>\n",
       "      <td>0.63</td>\n",
       "      <td>169.2300</td>\n",
       "      <td>3663</td>\n",
       "      <td>190.0</td>\n",
       "      <td>B+</td>\n",
       "      <td>1980-12-12</td>\n",
       "    </tr>\n",
       "    <tr>\n",
       "      <th>7915</th>\n",
       "      <td>1690</td>\n",
       "      <td>2018-03-31</td>\n",
       "      <td>2018</td>\n",
       "      <td>2</td>\n",
       "      <td>9</td>\n",
       "      <td>INDL</td>\n",
       "      <td>C</td>\n",
       "      <td>D</td>\n",
       "      <td>STD</td>\n",
       "      <td>AAPL</td>\n",
       "      <td>...</td>\n",
       "      <td>1526.0</td>\n",
       "      <td>6785.0</td>\n",
       "      <td>15166.0</td>\n",
       "      <td>A</td>\n",
       "      <td>0.63</td>\n",
       "      <td>167.7800</td>\n",
       "      <td>3663</td>\n",
       "      <td>190.0</td>\n",
       "      <td>B+</td>\n",
       "      <td>1980-12-12</td>\n",
       "    </tr>\n",
       "    <tr>\n",
       "      <th>7916</th>\n",
       "      <td>1690</td>\n",
       "      <td>2018-06-30</td>\n",
       "      <td>2018</td>\n",
       "      <td>3</td>\n",
       "      <td>9</td>\n",
       "      <td>INDL</td>\n",
       "      <td>C</td>\n",
       "      <td>D</td>\n",
       "      <td>STD</td>\n",
       "      <td>AAPL</td>\n",
       "      <td>...</td>\n",
       "      <td>2372.0</td>\n",
       "      <td>10486.0</td>\n",
       "      <td>22975.0</td>\n",
       "      <td>A</td>\n",
       "      <td>0.73</td>\n",
       "      <td>185.1100</td>\n",
       "      <td>3663</td>\n",
       "      <td>190.0</td>\n",
       "      <td>B+</td>\n",
       "      <td>1980-12-12</td>\n",
       "    </tr>\n",
       "    <tr>\n",
       "      <th>7917</th>\n",
       "      <td>1690</td>\n",
       "      <td>2018-09-30</td>\n",
       "      <td>2018</td>\n",
       "      <td>4</td>\n",
       "      <td>9</td>\n",
       "      <td>INDL</td>\n",
       "      <td>C</td>\n",
       "      <td>D</td>\n",
       "      <td>STD</td>\n",
       "      <td>AAPL</td>\n",
       "      <td>...</td>\n",
       "      <td>3240.0</td>\n",
       "      <td>14236.0</td>\n",
       "      <td>30941.0</td>\n",
       "      <td>A</td>\n",
       "      <td>0.73</td>\n",
       "      <td>225.7400</td>\n",
       "      <td>3663</td>\n",
       "      <td>190.0</td>\n",
       "      <td>B+</td>\n",
       "      <td>1980-12-12</td>\n",
       "    </tr>\n",
       "    <tr>\n",
       "      <th>7918</th>\n",
       "      <td>1690</td>\n",
       "      <td>2018-12-31</td>\n",
       "      <td>2019</td>\n",
       "      <td>1</td>\n",
       "      <td>9</td>\n",
       "      <td>INDL</td>\n",
       "      <td>C</td>\n",
       "      <td>D</td>\n",
       "      <td>STD</td>\n",
       "      <td>AAPL</td>\n",
       "      <td>...</td>\n",
       "      <td>890.0</td>\n",
       "      <td>3902.0</td>\n",
       "      <td>8685.0</td>\n",
       "      <td>A</td>\n",
       "      <td>0.73</td>\n",
       "      <td>157.7400</td>\n",
       "      <td>3663</td>\n",
       "      <td>190.0</td>\n",
       "      <td>B+</td>\n",
       "      <td>1980-12-12</td>\n",
       "    </tr>\n",
       "  </tbody>\n",
       "</table>\n",
       "<p>76 rows × 108 columns</p>\n",
       "</div>"
      ],
      "text/plain": [
       "      gvkey   datadate  fyearq  fqtr  fyr indfmt consol popsrc datafmt   tic  \\\n",
       "7843   1690 2000-03-31    2000     2    9   INDL      C      D     STD  AAPL   \n",
       "7844   1690 2000-06-30    2000     3    9   INDL      C      D     STD  AAPL   \n",
       "7845   1690 2000-09-30    2000     4    9   INDL      C      D     STD  AAPL   \n",
       "7846   1690 2000-12-31    2001     1    9   INDL      C      D     STD  AAPL   \n",
       "7847   1690 2001-03-31    2001     2    9   INDL      C      D     STD  AAPL   \n",
       "...     ...        ...     ...   ...  ...    ...    ...    ...     ...   ...   \n",
       "7914   1690 2017-12-31    2018     1    9   INDL      C      D     STD  AAPL   \n",
       "7915   1690 2018-03-31    2018     2    9   INDL      C      D     STD  AAPL   \n",
       "7916   1690 2018-06-30    2018     3    9   INDL      C      D     STD  AAPL   \n",
       "7917   1690 2018-09-30    2018     4    9   INDL      C      D     STD  AAPL   \n",
       "7918   1690 2018-12-31    2019     1    9   INDL      C      D     STD  AAPL   \n",
       "\n",
       "      ...   xinty     xrdy    xsgay costat dvpspq     prccq   sic  spcindcd  \\\n",
       "7843  ...    10.0    182.0    788.0      A   0.00  135.8125  3663     190.0   \n",
       "7844  ...    15.0    279.0   1163.0      A   0.00   52.3750  3663     190.0   \n",
       "7845  ...    21.0    380.0   1546.0      A   0.00   25.7500  3663     190.0   \n",
       "7846  ...     5.0    102.0    399.0      A   0.00   14.8750  3663     190.0   \n",
       "7847  ...    10.0    203.0    792.0      A   0.00   22.0700  3663     190.0   \n",
       "...   ...     ...      ...      ...    ...    ...       ...   ...       ...   \n",
       "7914  ...   734.0   3407.0   7638.0      A   0.63  169.2300  3663     190.0   \n",
       "7915  ...  1526.0   6785.0  15166.0      A   0.63  167.7800  3663     190.0   \n",
       "7916  ...  2372.0  10486.0  22975.0      A   0.73  185.1100  3663     190.0   \n",
       "7917  ...  3240.0  14236.0  30941.0      A   0.73  225.7400  3663     190.0   \n",
       "7918  ...   890.0   3902.0   8685.0      A   0.73  157.7400  3663     190.0   \n",
       "\n",
       "      spcsrc    ipodate  \n",
       "7843      B+ 1980-12-12  \n",
       "7844      B+ 1980-12-12  \n",
       "7845      B+ 1980-12-12  \n",
       "7846      B+ 1980-12-12  \n",
       "7847      B+ 1980-12-12  \n",
       "...      ...        ...  \n",
       "7914      B+ 1980-12-12  \n",
       "7915      B+ 1980-12-12  \n",
       "7916      B+ 1980-12-12  \n",
       "7917      B+ 1980-12-12  \n",
       "7918      B+ 1980-12-12  \n",
       "\n",
       "[76 rows x 108 columns]"
      ]
     },
     "execution_count": 7,
     "metadata": {},
     "output_type": "execute_result"
    }
   ],
   "source": [
    "qu[qu['tic'] == 'AAPL']"
   ]
  },
  {
   "cell_type": "markdown",
   "metadata": {},
   "source": [
    "## Quarterly Ratios"
   ]
  },
  {
   "cell_type": "markdown",
   "metadata": {},
   "source": [
    "## Utility Functions"
   ]
  },
  {
   "cell_type": "code",
   "execution_count": 8,
   "metadata": {
    "ExecuteTime": {
     "end_time": "2020-01-06T15:36:47.099510Z",
     "start_time": "2020-01-06T15:36:47.093526Z"
    }
   },
   "outputs": [],
   "source": [
    "def coalesce(col1,col2):\n",
    "    return col1.combine_first(col2)"
   ]
  },
  {
   "cell_type": "code",
   "execution_count": 9,
   "metadata": {
    "ExecuteTime": {
     "end_time": "2020-01-06T15:36:48.620081Z",
     "start_time": "2020-01-06T15:36:48.616081Z"
    }
   },
   "outputs": [],
   "source": [
    "def ttm(col):\n",
    "    return pd.concat([col.shift(i) for i in range(4)],axis=1).sum(axis=1)"
   ]
  },
  {
   "cell_type": "code",
   "execution_count": 10,
   "metadata": {
    "ExecuteTime": {
     "end_time": "2020-01-06T15:36:49.934020Z",
     "start_time": "2020-01-06T15:36:49.929013Z"
    }
   },
   "outputs": [],
   "source": [
    "def mean_year(col):\n",
    "    return pd.concat([col.shift(i).fillna(0) for i in range(4)],axis=1).mean(axis=1) "
   ]
  },
  {
   "cell_type": "code",
   "execution_count": 11,
   "metadata": {
    "ExecuteTime": {
     "end_time": "2020-01-06T15:36:51.265698Z",
     "start_time": "2020-01-06T15:36:51.259700Z"
    }
   },
   "outputs": [],
   "source": [
    "def quarterize(col):\n",
    "    return coalesce(col.shift(0) - col.shift(1),col.shift(0))"
   ]
  },
  {
   "cell_type": "code",
   "execution_count": 12,
   "metadata": {
    "ExecuteTime": {
     "end_time": "2020-01-06T15:36:53.547699Z",
     "start_time": "2020-01-06T15:36:53.542699Z"
    }
   },
   "outputs": [
    {
     "data": {
      "text/plain": [
       "Index(['gvkey', 'datadate', 'fyearq', 'fqtr', 'fyr', 'indfmt', 'consol',\n",
       "       'popsrc', 'datafmt', 'tic',\n",
       "       ...\n",
       "       'xinty', 'xrdy', 'xsgay', 'costat', 'dvpspq', 'prccq', 'sic',\n",
       "       'spcindcd', 'spcsrc', 'ipodate'],\n",
       "      dtype='object', length=108)"
      ]
     },
     "execution_count": 12,
     "metadata": {},
     "output_type": "execute_result"
    }
   ],
   "source": [
    "qu.columns"
   ]
  },
  {
   "cell_type": "code",
   "execution_count": 13,
   "metadata": {
    "ExecuteTime": {
     "end_time": "2020-01-06T15:37:04.403132Z",
     "start_time": "2020-01-06T15:37:03.006267Z"
    }
   },
   "outputs": [],
   "source": [
    "qu = qu.set_index(['gvkey','fyr','fyearq','fqtr']).sort_index()"
   ]
  },
  {
   "cell_type": "code",
   "execution_count": 14,
   "metadata": {
    "ExecuteTime": {
     "end_time": "2020-01-06T15:37:13.232140Z",
     "start_time": "2020-01-06T15:37:13.202130Z"
    }
   },
   "outputs": [
    {
     "data": {
      "text/html": [
       "<div>\n",
       "<style scoped>\n",
       "    .dataframe tbody tr th:only-of-type {\n",
       "        vertical-align: middle;\n",
       "    }\n",
       "\n",
       "    .dataframe tbody tr th {\n",
       "        vertical-align: top;\n",
       "    }\n",
       "\n",
       "    .dataframe thead th {\n",
       "        text-align: right;\n",
       "    }\n",
       "</style>\n",
       "<table border=\"1\" class=\"dataframe\">\n",
       "  <thead>\n",
       "    <tr style=\"text-align: right;\">\n",
       "      <th></th>\n",
       "      <th></th>\n",
       "      <th></th>\n",
       "      <th></th>\n",
       "      <th>datadate</th>\n",
       "      <th>indfmt</th>\n",
       "      <th>consol</th>\n",
       "      <th>popsrc</th>\n",
       "      <th>datafmt</th>\n",
       "      <th>tic</th>\n",
       "      <th>ajexq</th>\n",
       "      <th>curcdq</th>\n",
       "      <th>datacqtr</th>\n",
       "      <th>datafqtr</th>\n",
       "      <th>...</th>\n",
       "      <th>xinty</th>\n",
       "      <th>xrdy</th>\n",
       "      <th>xsgay</th>\n",
       "      <th>costat</th>\n",
       "      <th>dvpspq</th>\n",
       "      <th>prccq</th>\n",
       "      <th>sic</th>\n",
       "      <th>spcindcd</th>\n",
       "      <th>spcsrc</th>\n",
       "      <th>ipodate</th>\n",
       "    </tr>\n",
       "    <tr>\n",
       "      <th>gvkey</th>\n",
       "      <th>fyr</th>\n",
       "      <th>fyearq</th>\n",
       "      <th>fqtr</th>\n",
       "      <th></th>\n",
       "      <th></th>\n",
       "      <th></th>\n",
       "      <th></th>\n",
       "      <th></th>\n",
       "      <th></th>\n",
       "      <th></th>\n",
       "      <th></th>\n",
       "      <th></th>\n",
       "      <th></th>\n",
       "      <th></th>\n",
       "      <th></th>\n",
       "      <th></th>\n",
       "      <th></th>\n",
       "      <th></th>\n",
       "      <th></th>\n",
       "      <th></th>\n",
       "      <th></th>\n",
       "      <th></th>\n",
       "      <th></th>\n",
       "      <th></th>\n",
       "    </tr>\n",
       "  </thead>\n",
       "  <tbody>\n",
       "    <tr>\n",
       "      <th rowspan=\"5\" valign=\"top\">1004</th>\n",
       "      <th rowspan=\"5\" valign=\"top\">5</th>\n",
       "      <th rowspan=\"2\" valign=\"top\">1999</th>\n",
       "      <th>3</th>\n",
       "      <td>2000-02-29</td>\n",
       "      <td>INDL</td>\n",
       "      <td>C</td>\n",
       "      <td>D</td>\n",
       "      <td>STD</td>\n",
       "      <td>AIR</td>\n",
       "      <td>1.0</td>\n",
       "      <td>USD</td>\n",
       "      <td>2000Q1</td>\n",
       "      <td>1999Q3</td>\n",
       "      <td>...</td>\n",
       "      <td>17.749</td>\n",
       "      <td>NaN</td>\n",
       "      <td>72.556</td>\n",
       "      <td>A</td>\n",
       "      <td>0.085</td>\n",
       "      <td>23.750</td>\n",
       "      <td>5080</td>\n",
       "      <td>110.0</td>\n",
       "      <td>B</td>\n",
       "      <td>1988-01-01</td>\n",
       "    </tr>\n",
       "    <tr>\n",
       "      <th>4</th>\n",
       "      <td>2000-05-31</td>\n",
       "      <td>INDL</td>\n",
       "      <td>C</td>\n",
       "      <td>D</td>\n",
       "      <td>STD</td>\n",
       "      <td>AIR</td>\n",
       "      <td>1.0</td>\n",
       "      <td>USD</td>\n",
       "      <td>2000Q2</td>\n",
       "      <td>1999Q4</td>\n",
       "      <td>...</td>\n",
       "      <td>23.431</td>\n",
       "      <td>NaN</td>\n",
       "      <td>102.195</td>\n",
       "      <td>A</td>\n",
       "      <td>0.085</td>\n",
       "      <td>13.875</td>\n",
       "      <td>5080</td>\n",
       "      <td>110.0</td>\n",
       "      <td>B</td>\n",
       "      <td>1988-01-01</td>\n",
       "    </tr>\n",
       "    <tr>\n",
       "      <th rowspan=\"3\" valign=\"top\">2000</th>\n",
       "      <th>1</th>\n",
       "      <td>2000-08-31</td>\n",
       "      <td>INDL</td>\n",
       "      <td>C</td>\n",
       "      <td>D</td>\n",
       "      <td>STD</td>\n",
       "      <td>AIR</td>\n",
       "      <td>1.0</td>\n",
       "      <td>USD</td>\n",
       "      <td>2000Q3</td>\n",
       "      <td>2000Q1</td>\n",
       "      <td>...</td>\n",
       "      <td>5.988</td>\n",
       "      <td>NaN</td>\n",
       "      <td>24.544</td>\n",
       "      <td>A</td>\n",
       "      <td>0.085</td>\n",
       "      <td>11.250</td>\n",
       "      <td>5080</td>\n",
       "      <td>110.0</td>\n",
       "      <td>B</td>\n",
       "      <td>1988-01-01</td>\n",
       "    </tr>\n",
       "    <tr>\n",
       "      <th>2</th>\n",
       "      <td>2000-11-30</td>\n",
       "      <td>INDL</td>\n",
       "      <td>C</td>\n",
       "      <td>D</td>\n",
       "      <td>STD</td>\n",
       "      <td>AIR</td>\n",
       "      <td>1.0</td>\n",
       "      <td>USD</td>\n",
       "      <td>2000Q4</td>\n",
       "      <td>2000Q2</td>\n",
       "      <td>...</td>\n",
       "      <td>11.706</td>\n",
       "      <td>NaN</td>\n",
       "      <td>48.423</td>\n",
       "      <td>A</td>\n",
       "      <td>0.085</td>\n",
       "      <td>10.375</td>\n",
       "      <td>5080</td>\n",
       "      <td>110.0</td>\n",
       "      <td>B</td>\n",
       "      <td>1988-01-01</td>\n",
       "    </tr>\n",
       "    <tr>\n",
       "      <th>3</th>\n",
       "      <td>2001-02-28</td>\n",
       "      <td>INDL</td>\n",
       "      <td>C</td>\n",
       "      <td>D</td>\n",
       "      <td>STD</td>\n",
       "      <td>AIR</td>\n",
       "      <td>1.0</td>\n",
       "      <td>USD</td>\n",
       "      <td>2001Q1</td>\n",
       "      <td>2000Q3</td>\n",
       "      <td>...</td>\n",
       "      <td>17.139</td>\n",
       "      <td>NaN</td>\n",
       "      <td>71.710</td>\n",
       "      <td>A</td>\n",
       "      <td>0.085</td>\n",
       "      <td>13.600</td>\n",
       "      <td>5080</td>\n",
       "      <td>110.0</td>\n",
       "      <td>B</td>\n",
       "      <td>1988-01-01</td>\n",
       "    </tr>\n",
       "  </tbody>\n",
       "</table>\n",
       "<p>5 rows × 104 columns</p>\n",
       "</div>"
      ],
      "text/plain": [
       "                        datadate indfmt consol popsrc datafmt  tic  ajexq  \\\n",
       "gvkey fyr fyearq fqtr                                                       \n",
       "1004  5   1999   3    2000-02-29   INDL      C      D     STD  AIR    1.0   \n",
       "                 4    2000-05-31   INDL      C      D     STD  AIR    1.0   \n",
       "          2000   1    2000-08-31   INDL      C      D     STD  AIR    1.0   \n",
       "                 2    2000-11-30   INDL      C      D     STD  AIR    1.0   \n",
       "                 3    2001-02-28   INDL      C      D     STD  AIR    1.0   \n",
       "\n",
       "                      curcdq datacqtr datafqtr  ...   xinty  xrdy    xsgay  \\\n",
       "gvkey fyr fyearq fqtr                           ...                          \n",
       "1004  5   1999   3       USD   2000Q1   1999Q3  ...  17.749   NaN   72.556   \n",
       "                 4       USD   2000Q2   1999Q4  ...  23.431   NaN  102.195   \n",
       "          2000   1       USD   2000Q3   2000Q1  ...   5.988   NaN   24.544   \n",
       "                 2       USD   2000Q4   2000Q2  ...  11.706   NaN   48.423   \n",
       "                 3       USD   2001Q1   2000Q3  ...  17.139   NaN   71.710   \n",
       "\n",
       "                       costat  dvpspq   prccq   sic  spcindcd  spcsrc  \\\n",
       "gvkey fyr fyearq fqtr                                                   \n",
       "1004  5   1999   3          A   0.085  23.750  5080     110.0       B   \n",
       "                 4          A   0.085  13.875  5080     110.0       B   \n",
       "          2000   1          A   0.085  11.250  5080     110.0       B   \n",
       "                 2          A   0.085  10.375  5080     110.0       B   \n",
       "                 3          A   0.085  13.600  5080     110.0       B   \n",
       "\n",
       "                         ipodate  \n",
       "gvkey fyr fyearq fqtr             \n",
       "1004  5   1999   3    1988-01-01  \n",
       "                 4    1988-01-01  \n",
       "          2000   1    1988-01-01  \n",
       "                 2    1988-01-01  \n",
       "                 3    1988-01-01  \n",
       "\n",
       "[5 rows x 104 columns]"
      ]
     },
     "execution_count": 14,
     "metadata": {},
     "output_type": "execute_result"
    }
   ],
   "source": [
    "qu.head()"
   ]
  },
  {
   "cell_type": "markdown",
   "metadata": {},
   "source": [
    "# Valuation Ratios"
   ]
  },
  {
   "cell_type": "markdown",
   "metadata": {},
   "source": [
    "### Book/Market"
   ]
  },
  {
   "cell_type": "code",
   "execution_count": 15,
   "metadata": {
    "ExecuteTime": {
     "end_time": "2020-01-06T15:37:43.330302Z",
     "start_time": "2020-01-06T15:37:43.087301Z"
    }
   },
   "outputs": [],
   "source": [
    "qu['beq'] = qu['seqq'] + qu['txditcq'] - qu['pstkq']"
   ]
  },
  {
   "cell_type": "code",
   "execution_count": 16,
   "metadata": {
    "ExecuteTime": {
     "end_time": "2020-01-06T15:37:45.657213Z",
     "start_time": "2020-01-06T15:37:45.642219Z"
    }
   },
   "outputs": [],
   "source": [
    "qu['bmq'] = qu['beq']/(qu['prccq'] * qu['cshoq'])"
   ]
  },
  {
   "cell_type": "markdown",
   "metadata": {},
   "source": [
    "### Book Value per Share(diluted)"
   ]
  },
  {
   "cell_type": "code",
   "execution_count": 17,
   "metadata": {
    "ExecuteTime": {
     "end_time": "2020-01-06T15:37:48.803844Z",
     "start_time": "2020-01-06T15:37:48.793792Z"
    }
   },
   "outputs": [],
   "source": [
    "qu['book_value_per_share'] = qu['beq']/qu['cshfdq']"
   ]
  },
  {
   "cell_type": "markdown",
   "metadata": {},
   "source": [
    "### Book Value Yield"
   ]
  },
  {
   "cell_type": "code",
   "execution_count": 18,
   "metadata": {
    "ExecuteTime": {
     "end_time": "2020-01-06T15:37:52.058839Z",
     "start_time": "2020-01-06T15:37:52.047822Z"
    }
   },
   "outputs": [],
   "source": [
    "qu['book_value_yield'] = qu['book_value_per_share']/qu['prccq']"
   ]
  },
  {
   "cell_type": "markdown",
   "metadata": {},
   "source": [
    "### Market Cap"
   ]
  },
  {
   "cell_type": "code",
   "execution_count": 19,
   "metadata": {},
   "outputs": [],
   "source": [
    "qu['market_cap'] = qu['prccq']*qu['cshoq']"
   ]
  },
  {
   "cell_type": "code",
   "execution_count": 20,
   "metadata": {},
   "outputs": [],
   "source": [
    "qu = qu[qu['market_cap'].notnull()]"
   ]
  },
  {
   "cell_type": "markdown",
   "metadata": {},
   "source": [
    "###  Buy Back Yield"
   ]
  },
  {
   "cell_type": "code",
   "execution_count": 21,
   "metadata": {},
   "outputs": [],
   "source": [
    "qu['buy_back_yield'] = qu['cshprq'] * qu['prcraq']/qu['market_cap']"
   ]
  },
  {
   "cell_type": "markdown",
   "metadata": {},
   "source": [
    "### Invested Capital "
   ]
  },
  {
   "cell_type": "code",
   "execution_count": 22,
   "metadata": {},
   "outputs": [],
   "source": [
    "qu['icaptq'] = coalesce(qu['icaptq'], qu['dlttq'] + qu['pstkq'] + qu['mibq'] + qu['ceqq'])"
   ]
  },
  {
   "cell_type": "markdown",
   "metadata": {},
   "source": [
    "### Enterprise Value Multiple"
   ]
  },
  {
   "cell_type": "code",
   "execution_count": 23,
   "metadata": {},
   "outputs": [],
   "source": [
    "sales = qu.groupby(['gvkey','fyr','fyearq'])['saleq'].sum()\n",
    "qu['yearly_sales'] = sales"
   ]
  },
  {
   "cell_type": "code",
   "execution_count": 24,
   "metadata": {},
   "outputs": [],
   "source": [
    "num = pd.concat([qu['dlttq'],qu['dlcq'],qu['mibq'],qu['pstkq'], qu['prccq']*qu['cshoq']],axis=1).sum(axis=1)\n",
    "ttm_oibdpq = pd.concat([qu['oibdpq'].groupby(['gvkey']).shift(i) for i in range(4)],axis=1).sum(axis=1)\n",
    "ttm_cogsq = pd.concat([qu['cogsq'].groupby(['gvkey']).shift(i) for i in range(4)],axis=1).sum(axis=1)\n",
    "ttm_xsgaq = pd.concat([qu['xsgaq'].groupby(['gvkey']).shift(i) for i in range(4)],axis=1).sum(axis=1)\n",
    "denom = coalesce(ttm_oibdpq,qu['yearly_sales'] - ttm_cogsq -  ttm_xsgaq)\n",
    "\n",
    "qu['evmq'] = (num/denom).groupby(['gvkey','fyr','fyearq']).mean()"
   ]
  },
  {
   "cell_type": "markdown",
   "metadata": {},
   "source": [
    "### Price-to-Operating EPS, excl. EI (basic)"
   ]
  },
  {
   "cell_type": "code",
   "execution_count": 25,
   "metadata": {},
   "outputs": [],
   "source": [
    "qu['pe_op_basicq'] = coalesce(qu['oeps12'],ttm((qu['opepsq']/qu['ajexq']).groupby(['gvkey'])))"
   ]
  },
  {
   "cell_type": "markdown",
   "metadata": {},
   "source": [
    "### Price-to-Operating EPS, excl. EI (diluted)"
   ]
  },
  {
   "cell_type": "code",
   "execution_count": 26,
   "metadata": {},
   "outputs": [],
   "source": [
    "qu['pe_op_dilq'] = coalesce(qu['oepf12'],ttm((qu['oepsxq']/qu['ajexq']).groupby(['gvkey'])))\n"
   ]
  },
  {
   "cell_type": "markdown",
   "metadata": {},
   "source": [
    "### Price-to-Earnings, excl. EI (diluted)"
   ]
  },
  {
   "cell_type": "code",
   "execution_count": 27,
   "metadata": {},
   "outputs": [],
   "source": [
    "qu['pe_exiq'] = coalesce(qu['epsf12'],ttm((qu['epsfxq']/qu['ajexq']).groupby(['gvkey'])))"
   ]
  },
  {
   "cell_type": "markdown",
   "metadata": {},
   "source": [
    "### Schiller's P/E"
   ]
  },
  {
   "cell_type": "code",
   "execution_count": 28,
   "metadata": {},
   "outputs": [],
   "source": [
    "qu['capeiq'] = qu['pe_exiq'].groupby(['gvkey']).apply(lambda x: x.ewm(alpha=0.0025,adjust=True).mean())"
   ]
  },
  {
   "cell_type": "markdown",
   "metadata": {},
   "source": [
    "### Price-to-Earnings, incl. EI (diluted)"
   ]
  },
  {
   "cell_type": "code",
   "execution_count": 29,
   "metadata": {},
   "outputs": [],
   "source": [
    "qu['pe_incq'] =coalesce(qu['epsfi12'],ttm((qu['epsfiq']/qu['ajexq']).groupby(['gvkey']))) "
   ]
  },
  {
   "cell_type": "code",
   "execution_count": 30,
   "metadata": {},
   "outputs": [],
   "source": [
    "qu['psq'] = qu['yearly_sales']"
   ]
  },
  {
   "cell_type": "markdown",
   "metadata": {},
   "source": [
    "### Operating Cash Flow"
   ]
  },
  {
   "cell_type": "code",
   "execution_count": 31,
   "metadata": {
    "scrolled": true
   },
   "outputs": [],
   "source": [
    "qu['oancfy_q'] = quarterize(qu['oancfy'].groupby(['gvkey','fyr','fyearq']))\n",
    "\n",
    "qu['opcfq']=coalesce(ttm(qu['oancfy_q'].groupby(['gvkey'])),pd.concat([ttm(qu['ibq'].groupby(['gvkey'])), \n",
    "                                                            - qu['actq'].groupby(['gvkey']).diff(4)\n",
    "                                                            +qu['cheq'].groupby(['gvkey']).diff(4),\n",
    "                                                            -qu['lctq'].groupby(['gvkey']).diff(4),\n",
    "                                                            qu['dlcq'].groupby(['gvkey']).diff(4),\n",
    "                                                             qu['txpq'].groupby(['gvkey']).diff(4),\n",
    "                                                            -ttm(qu['dpq'].groupby(['gvkey']))],axis=1).sum(axis=1))\n"
   ]
  },
  {
   "cell_type": "markdown",
   "metadata": {},
   "source": [
    "### Operating Cash Flow Yield"
   ]
  },
  {
   "cell_type": "code",
   "execution_count": 32,
   "metadata": {},
   "outputs": [],
   "source": [
    "qu['cfo-per-share'] = qu['opcfq']/qu['cshfdq']\n",
    "qu['cf_yield'] = qu['cfo-per-share']/qu['prccq']"
   ]
  },
  {
   "cell_type": "markdown",
   "metadata": {},
   "source": [
    "### Price-to-Cash Flow"
   ]
  },
  {
   "cell_type": "code",
   "execution_count": 33,
   "metadata": {},
   "outputs": [],
   "source": [
    "qu['pcfq'] = qu['prccq']/qu['opcfq'] "
   ]
  },
  {
   "cell_type": "markdown",
   "metadata": {},
   "source": [
    "### Dividend Payout Ratio, Cash dividends"
   ]
  },
  {
   "cell_type": "code",
   "execution_count": 34,
   "metadata": {},
   "outputs": [],
   "source": [
    "qu['dvq'] = quarterize(qu['dvy'].groupby(['gvkey','fyr','fyearq']))\n",
    "qu['dprq'] = ttm(qu['dvq'] + qu['dvpq'])/coalesce(qu['ibadj12'],ttm(qu['ibadjq']))"
   ]
  },
  {
   "cell_type": "markdown",
   "metadata": {},
   "source": [
    "# Profitability Ratios and Rates of Return"
   ]
  },
  {
   "cell_type": "markdown",
   "metadata": {},
   "source": [
    "###  Net Profit Margin"
   ]
  },
  {
   "cell_type": "code",
   "execution_count": 35,
   "metadata": {},
   "outputs": [],
   "source": [
    "qu['npmq'] = ttm(qu['ibq'].groupby(['gvkey']))/qu['yearly_sales']"
   ]
  },
  {
   "cell_type": "markdown",
   "metadata": {},
   "source": [
    "### Operating Profit Margin Before Depreciation"
   ]
  },
  {
   "cell_type": "code",
   "execution_count": 36,
   "metadata": {},
   "outputs": [],
   "source": [
    " qu['opmbdq'] = coalesce(ttm(qu['oibdpq'].groupby(['gvkey'])),qu['yearly_sales'] - ttm(qu['xoprq'].groupby(['gvkey'])))/qu['yearly_sales'] "
   ]
  },
  {
   "cell_type": "markdown",
   "metadata": {},
   "source": [
    "###  Operating Profit Margin After Depreciation "
   ]
  },
  {
   "cell_type": "code",
   "execution_count": 37,
   "metadata": {},
   "outputs": [],
   "source": [
    "qu['opmadq'] =coalesce(ttm(qu['oiadpq'].groupby(['gvkey'])),coalesce(ttm((qu['oibdpq']-qu['dpq']).groupby(['gvkey'])),qu['yearly_sales']\\\n",
    "                                                                     -ttm(qu['xoprq'].groupby(['gvkey']))-ttm(qu['dpq'].groupby(['gvkey']))))/qu['yearly_sales']                   "
   ]
  },
  {
   "cell_type": "markdown",
   "metadata": {},
   "source": [
    "###  Gross Profit Margin"
   ]
  },
  {
   "cell_type": "code",
   "execution_count": 38,
   "metadata": {},
   "outputs": [],
   "source": [
    "qu['gpmq'] = ttm((qu['revtq']-qu['cogsq']).groupby(['gvkey']))/qu['yearly_sales']"
   ]
  },
  {
   "cell_type": "markdown",
   "metadata": {},
   "source": [
    "### Pretax Profit Margin  "
   ]
  },
  {
   "cell_type": "code",
   "execution_count": 39,
   "metadata": {},
   "outputs": [],
   "source": [
    "qu['ptpmq'] \\\n",
    "=coalesce(ttm(qu['piq'].groupby(['gvkey'])),ttm(qu['oiadpq'].groupby(['gvkey']))\\\n",
    "          -ttm(qu['xintq'].groupby(['gvkey'])) + ttm(qu['spiq'].groupby(['gvkey']))\\\n",
    "          + ttm(qu['nopiq'].groupby(['gvkey'])))/qu['yearly_sales']"
   ]
  },
  {
   "cell_type": "markdown",
   "metadata": {},
   "source": [
    "### Cash Flow Margin"
   ]
  },
  {
   "cell_type": "code",
   "execution_count": 40,
   "metadata": {
    "scrolled": true
   },
   "outputs": [],
   "source": [
    "qu['ibcq'] = quarterize(qu['ibcy'].groupby(['gvkey','fyr','fyearq']))\n",
    "qu['dpcq'] = quarterize(qu['dpcy'].groupby(['gvkey','fyr','fyearq']))\n",
    "\n",
    "qu['cfmq']=coalesce(ttm((qu['ibcq']+qu['dpcq']).groupby(['gvkey'])),\\\n",
    "                    ttm((qu['ibq'] + qu['dpq']).groupby(['gvkey'])))/qu['yearly_sales']"
   ]
  },
  {
   "cell_type": "markdown",
   "metadata": {},
   "source": [
    "### Return on Assets"
   ]
  },
  {
   "cell_type": "code",
   "execution_count": 41,
   "metadata": {},
   "outputs": [],
   "source": [
    "qu['at4'] = mean_year(qu['atq'].groupby(['gvkey']))\n",
    "\n",
    "qu['roaq'] = coalesce(ttm(qu['oibdpq'].groupby(['gvkey'])),qu['yearly_sales']\\\n",
    "                      -ttm(qu['xoprq'].groupby(['gvkey'])))/(qu['at4'].shift(1))"
   ]
  },
  {
   "cell_type": "markdown",
   "metadata": {},
   "source": [
    "### Return on Capital Employed"
   ]
  },
  {
   "cell_type": "code",
   "execution_count": 42,
   "metadata": {},
   "outputs": [],
   "source": [
    "qu['roceq'] =coalesce(ttm(qu['oiadpq'].groupby(['gvkey'])),\n",
    "                      coalesce(ttm(qu['oibdpq'].groupby(['gvkey']))\n",
    "                      -ttm(qu['dpq'].groupby(['gvkey'])),\n",
    "                       coalesce(qu['yearly_sales']\n",
    "                       -ttm(qu['xoprq'].groupby(['gvkey']))\n",
    "                       -ttm(qu['dpq'].groupby(['gvkey'])),\n",
    "                       qu['yearly_sales']\n",
    "                       -ttm(qu['cogsq'].groupby(['gvkey']))\n",
    "                       -ttm(qu['xsgaq'].groupby(['gvkey']))\n",
    "                       -ttm(qu['dpq'].groupby(['gvkey'])))))\\\n",
    " /((mean_year(qu['dlttq']+qu['dlcq']+qu['ceqq']).groupby(['gvkey'])).shift(1))\n"
   ]
  },
  {
   "cell_type": "markdown",
   "metadata": {},
   "source": [
    "### Effective Tax Rate"
   ]
  },
  {
   "cell_type": "code",
   "execution_count": 43,
   "metadata": {},
   "outputs": [],
   "source": [
    "qu['efftaxq']=ttm(qu['txtq'].groupby(['gvkey']))/coalesce(ttm(qu['piq'].groupby(['gvkey'])),ttm(qu['oiadpq'].groupby(['gvkey']))\\\n",
    "                                                          -ttm(qu['xintq'].groupby(['gvkey']))\n",
    "                                                          +ttm(qu['spiq'].groupby(['gvkey']))\n",
    "                                                          +ttm(qu['nopiq'].groupby(['gvkey'])))\n"
   ]
  },
  {
   "cell_type": "code",
   "execution_count": 44,
   "metadata": {},
   "outputs": [],
   "source": [
    "qu['ceq4'] = mean_year(qu['ceqq'].groupby(['gvkey']));\n",
    "qu['seq4'] =  mean_year(qu['seqq'].groupby(['gvkey']));\n",
    "qu['lctq4'] = mean_year(qu['lctq'].groupby(['gvkey']));\n",
    "qu['be4'] = mean_year(qu['beq'].groupby(['gvkey']));"
   ]
  },
  {
   "cell_type": "code",
   "execution_count": 45,
   "metadata": {},
   "outputs": [],
   "source": [
    "qu['lagbe4'] = qu['be4'].shift(1) \n",
    "qu['lagseq4'] = qu['seq4'].shift(1)\n",
    "qu['lagicapt4'] = mean_year((qu['icaptq'] + qu['txditcq'] -qu['mibq']).groupby(['gvkey'])).shift(1)\n",
    "qu['lagppent4'] =(mean_year((qu['ppentq'] + qu['actq'] -qu['lctq']).groupby(['gvkey']))).shift(1)\n",
    "qu['lagppent_alt4'] = (mean_year((qu['ppentq']+qu['actq']).groupby(['gvkey']))).shift(1)"
   ]
  },
  {
   "cell_type": "code",
   "execution_count": 58,
   "metadata": {},
   "outputs": [],
   "source": [
    "qu = qu.copy()\n",
    "qu['lagbe4'].loc[1004]= qu['be4'].iloc[0]\n",
    "qu['lagseq4'].loc[1004]= qu['seq4'].iloc[0]\n",
    "qu['lagicapt4'].loc[1004]= mean_year((qu['icaptq'] + qu['txditcq'] -qu['mibq']).groupby(['gvkey'])).iloc[0]\n",
    "qu['lagppent4'].loc[1004]= mean_year((qu['ppentq'] + qu['actq'] -qu['lctq']).groupby(['gvkey'])).iloc[0]\n",
    "qu['lagppent_alt4'].loc[1004] = mean_year((qu['ppentq']+qu['actq']).groupby(['gvkey'])).iloc[0]"
   ]
  },
  {
   "cell_type": "markdown",
   "metadata": {},
   "source": [
    "### Return on Equity"
   ]
  },
  {
   "cell_type": "code",
   "execution_count": 59,
   "metadata": {},
   "outputs": [],
   "source": [
    "qu['roeq'] = ttm(qu['ibq'].groupby(['gvkey']))/qu['lagbe4']"
   ]
  },
  {
   "cell_type": "markdown",
   "metadata": {},
   "source": [
    "### After Tax Return on average Common Equity"
   ]
  },
  {
   "cell_type": "code",
   "execution_count": 60,
   "metadata": {},
   "outputs": [],
   "source": [
    "qu['aftret_eqq'] = coalesce(ttm(qu['ibcomq'].groupby(['gvkey']))\n",
    "                                ,ttm((qu['ibq']-qu['dvpq']).groupby(['gvkey'])))\\\n",
    "                            /(qu['ceq4'].shift(1))"
   ]
  },
  {
   "cell_type": "markdown",
   "metadata": {},
   "source": [
    "### After Tax Return on Invested Capital"
   ]
  },
  {
   "cell_type": "code",
   "execution_count": 61,
   "metadata": {},
   "outputs": [],
   "source": [
    " qu['aftret_invcapxq'] =\\\n",
    "    ttm((qu['ibq']+qu['xintq'] + qu['miiq']).groupby(['gvkey']))\\\n",
    "    /qu['lagicapt4']"
   ]
  },
  {
   "cell_type": "markdown",
   "metadata": {},
   "source": [
    "### After Tax Teturn on Total Stock Holder's Equity"
   ]
  },
  {
   "cell_type": "code",
   "execution_count": 62,
   "metadata": {},
   "outputs": [],
   "source": [
    "qu['aftret_equityq'] = \\\n",
    "ttm(qu['ibq'].groupby(['gvkey']))/(qu['seq4'].shift(1))"
   ]
  },
  {
   "cell_type": "markdown",
   "metadata": {},
   "source": [
    "### Pretax Return on Net Operating Assets\n"
   ]
  },
  {
   "cell_type": "code",
   "execution_count": 63,
   "metadata": {},
   "outputs": [],
   "source": [
    "qu['pretret_noaq'] =\\\n",
    "coalesce(ttm(qu['oiadpq'].groupby(['gvkey'])),coalesce(ttm((qu['oibdpq']-qu['dpq']).groupby(['gvkey']))\n",
    "                                                           ,qu['yearly_sales']-\\\n",
    "                                                           ttm(qu['xoprq'].groupby(['gvkey']))-\\\n",
    "                                                           ttm(qu['dpq'].groupby(['gvkey']))))/\\\n",
    "                                                       qu['lagppent4']"
   ]
  },
  {
   "cell_type": "markdown",
   "metadata": {},
   "source": [
    "### Pretax return on Total Earning Assets "
   ]
  },
  {
   "cell_type": "code",
   "execution_count": 64,
   "metadata": {},
   "outputs": [],
   "source": [
    "qu['pretret_earnatq'] = \\\n",
    "coalesce(ttm(qu['oiadpq'].groupby(['gvkey'])),\n",
    "    coalesce(ttm((qu['oibdpq']-qu['dpq']).groupby(['gvkey'])),\n",
    "         qu['yearly_sales']-\\\n",
    "         ttm(qu['xoprq'].groupby(['gvkey']))-\\\n",
    "         ttm(qu['dpq'].groupby(['gvkey']))))/qu['lagppent_alt4']\n"
   ]
  },
  {
   "cell_type": "markdown",
   "metadata": {},
   "source": [
    "### Gross Profitability as % of Total Assets"
   ]
  },
  {
   "cell_type": "code",
   "execution_count": 65,
   "metadata": {},
   "outputs": [],
   "source": [
    "qu['gprofq'] = ttm((qu['revtq']- qu['cogsq']).groupby(['gvkey']))/qu['at4']"
   ]
  },
  {
   "cell_type": "markdown",
   "metadata": {},
   "source": [
    "# Capitalization Ratios"
   ]
  },
  {
   "cell_type": "markdown",
   "metadata": {},
   "source": [
    "###   Common Equity as % of Invested Capital"
   ]
  },
  {
   "cell_type": "code",
   "execution_count": 66,
   "metadata": {},
   "outputs": [],
   "source": [
    "qu['equity_invcapq'] = \\\n",
    "mean_year(qu['ceqq'].groupby(['gvkey']))/mean_year(qu['icaptq'].groupby(['gvkey']))"
   ]
  },
  {
   "cell_type": "markdown",
   "metadata": {},
   "source": [
    "###  Long-Term debt as % of Invested Capital"
   ]
  },
  {
   "cell_type": "code",
   "execution_count": 67,
   "metadata": {},
   "outputs": [],
   "source": [
    "qu['debt_invcapq'] =\\\n",
    "mean_year(qu['dlttq'].groupby(['gvkey']))/mean_year(qu['icaptq'].groupby(['gvkey']))\n"
   ]
  },
  {
   "cell_type": "markdown",
   "metadata": {},
   "source": [
    "### Total Debt as % of Invested Capital"
   ]
  },
  {
   "cell_type": "code",
   "execution_count": 68,
   "metadata": {},
   "outputs": [],
   "source": [
    "qu['totdebt_invcapq'] =\\\n",
    "mean_year((qu['dlttq']+qu['dlcq']).groupby(['gvkey']))\\\n",
    "/mean_year(qu['icaptq'].groupby(['gvkey']))\n"
   ]
  },
  {
   "cell_type": "markdown",
   "metadata": {},
   "source": [
    "### Capitalization Ratio"
   ]
  },
  {
   "cell_type": "code",
   "execution_count": 69,
   "metadata": {},
   "outputs": [],
   "source": [
    "qu['capital_ratioq'] =\\\n",
    "mean_year(qu['dlttq'].groupby(['gvkey']))/\\\n",
    "mean_year((qu['dlttq']+qu['ceqq']+qu['pstkq']).groupby(['gvkey']))\n"
   ]
  },
  {
   "cell_type": "markdown",
   "metadata": {},
   "source": [
    "# Financial Soundness Ratios"
   ]
  },
  {
   "cell_type": "markdown",
   "metadata": {},
   "source": [
    "### Interest as % of Average Long-Term Debt"
   ]
  },
  {
   "cell_type": "code",
   "execution_count": 70,
   "metadata": {},
   "outputs": [],
   "source": [
    "qu['int_debtq'] =\\\n",
    "ttm(qu['xintq'].groupby(['gvkey']))/mean_year(qu['dlttq'].groupby(['gvkey']))"
   ]
  },
  {
   "cell_type": "markdown",
   "metadata": {},
   "source": [
    "### Interest as % of Average Total Debt"
   ]
  },
  {
   "cell_type": "code",
   "execution_count": 71,
   "metadata": {},
   "outputs": [],
   "source": [
    "qu['int_totdebtq'] = \\\n",
    "ttm(qu['xintq'].groupby(['gvkey']))/\\\n",
    "mean_year((qu['dlttq']+qu['dlcq']).groupby(['gvkey']))"
   ]
  },
  {
   "cell_type": "markdown",
   "metadata": {},
   "source": [
    "### Cash balance to Total Liabilities"
   ]
  },
  {
   "cell_type": "code",
   "execution_count": 72,
   "metadata": {},
   "outputs": [],
   "source": [
    "qu['cash_ltq'] =\\\n",
    "mean_year(qu['cheq'].groupby(['gvkey']))/mean_year(qu['ltq'].groupby(['gvkey']))"
   ]
  },
  {
   "cell_type": "markdown",
   "metadata": {},
   "source": [
    "###  Inventory as % of Current Assets"
   ]
  },
  {
   "cell_type": "code",
   "execution_count": 73,
   "metadata": {},
   "outputs": [],
   "source": [
    "qu['invt_actq'] =\\\n",
    "mean_year(qu['invtq'].groupby(['gvkey']))/mean_year(qu['actq'].groupby(['gvkey']))"
   ]
  },
  {
   "cell_type": "markdown",
   "metadata": {},
   "source": [
    "###  Receivables as % of Current Assets"
   ]
  },
  {
   "cell_type": "code",
   "execution_count": 74,
   "metadata": {},
   "outputs": [],
   "source": [
    "qu['rect_actq'] =\\\n",
    "mean_year(qu['rectq'].groupby(['gvkey']))/mean_year(qu['actq'].groupby(['gvkey']))"
   ]
  },
  {
   "cell_type": "markdown",
   "metadata": {},
   "source": [
    "###  Total debt as % of Total Assets"
   ]
  },
  {
   "cell_type": "code",
   "execution_count": 75,
   "metadata": {},
   "outputs": [],
   "source": [
    "qu['debt_atq'] = \\\n",
    "mean_year((qu['dlttq'] + qu['dlcq']).groupby(['gvkey']))/mean_year(qu['actq'].groupby(['gvkey']))"
   ]
  },
  {
   "cell_type": "markdown",
   "metadata": {},
   "source": [
    "### Gross Debt to Ebitda"
   ]
  },
  {
   "cell_type": "code",
   "execution_count": 76,
   "metadata": {},
   "outputs": [],
   "source": [
    "qu['debt_ebitdaq'] =\\\n",
    "mean_year((qu['dlttq']+qu['dlcq']).groupby(['gvkey']))\\\n",
    "/coalesce(ttm(qu['oibdpq'].groupby(['gvkey'])),qu['yearly_sales']\\\n",
    "          -ttm(qu['cogsq'].groupby(['gvkey']))\\\n",
    "          -ttm(qu['xsgaq'].groupby(['gvkey'])))\n"
   ]
  },
  {
   "cell_type": "markdown",
   "metadata": {},
   "source": [
    "### Short Term Debt as % of Total Debt"
   ]
  },
  {
   "cell_type": "code",
   "execution_count": 77,
   "metadata": {},
   "outputs": [],
   "source": [
    "qu['short_debtq'] = \\\n",
    "mean_year(qu['dlcq'].groupby(['gvkey']))/\\\n",
    "mean_year((qu['dlttq']+qu['dlcq']).groupby(['gvkey']))\n"
   ]
  },
  {
   "cell_type": "markdown",
   "metadata": {},
   "source": [
    "### Current Liabilities as % of Total Liabilities*/"
   ]
  },
  {
   "cell_type": "code",
   "execution_count": 78,
   "metadata": {},
   "outputs": [],
   "source": [
    "qu['curr_debtq'] =\\\n",
    "mean_year(qu['lctq'].groupby(['gvkey']))/mean_year(qu['ltq'].groupby(['gvkey']))"
   ]
  },
  {
   "cell_type": "markdown",
   "metadata": {},
   "source": [
    "###  Long-Term Debt as % of Total Liabilities"
   ]
  },
  {
   "cell_type": "code",
   "execution_count": 79,
   "metadata": {},
   "outputs": [],
   "source": [
    "qu['lt_debtq'] = \\\n",
    "mean_year(qu['dlttq'].groupby(['gvkey']))/mean_year(qu['ltq'].groupby(['gvkey']))"
   ]
  },
  {
   "cell_type": "markdown",
   "metadata": {},
   "source": [
    "### Profit before D&A to Current Liabilities"
   ]
  },
  {
   "cell_type": "code",
   "execution_count": 80,
   "metadata": {},
   "outputs": [],
   "source": [
    " qu['profit_lctq'] = \\\n",
    "coalesce(ttm(qu['oibdpq'].groupby(['gvkey'])),\\\n",
    "         qu['yearly_sales']-\\\n",
    "         ttm(qu['xoprq'].groupby(['gvkey'])))/\\\n",
    "    mean_year(qu['lctq'].groupby(['gvkey']))\n"
   ]
  },
  {
   "cell_type": "markdown",
   "metadata": {},
   "source": [
    "### Operating Cash Flow to Current Liabilities"
   ]
  },
  {
   "cell_type": "code",
   "execution_count": 81,
   "metadata": {},
   "outputs": [],
   "source": [
    "qu['ocf_lctq'] =\\\n",
    "qu['opcfq']/mean_year(qu['lctq'].groupby(['gvkey']))"
   ]
  },
  {
   "cell_type": "markdown",
   "metadata": {},
   "source": [
    "### Free Cash Flow to Operating Cash Flow"
   ]
  },
  {
   "cell_type": "code",
   "execution_count": 82,
   "metadata": {},
   "outputs": [],
   "source": [
    "qu['capxq'] = quarterize(qu['capxy'].groupby(['gvkey','fyr','fyearq']))\n",
    "qu['fcf_ocfq'] = \\\n",
    "(qu['opcfq'] - ttm(qu['capxq'].groupby(['gvkey'])))/qu['opcfq']\n"
   ]
  },
  {
   "cell_type": "markdown",
   "metadata": {},
   "source": [
    "### Free Cash Flow per Share"
   ]
  },
  {
   "cell_type": "code",
   "execution_count": 83,
   "metadata": {},
   "outputs": [],
   "source": [
    "qu['fcf_csfhdq'] = (qu['opcfq'] - ttm(qu['capxq'].groupby(['gvkey'])))/qu['cshfdq']"
   ]
  },
  {
   "cell_type": "code",
   "execution_count": 84,
   "metadata": {},
   "outputs": [],
   "source": [
    "qu['fcf_yield'] = qu['fcf_csfhdq']/qu['prccq']"
   ]
  },
  {
   "cell_type": "markdown",
   "metadata": {},
   "source": [
    "### Cash Flow to Debt"
   ]
  },
  {
   "cell_type": "code",
   "execution_count": 85,
   "metadata": {},
   "outputs": [],
   "source": [
    "qu['cash_debtq'] =\\\n",
    "coalesce(ttm(qu['oancfy_q'].groupby(['gvkey'])),ttm(qu['ibq'].groupby(['gvkey']))\\\n",
    "         - qu['actq'].diff(4)\\\n",
    "         -qu['cheq'].diff(4))\\\n",
    "         -qu['lctq'].diff(4)\\\n",
    "         +qu['dlcq'].diff(4)\\\n",
    "         +qu['txpq'].diff(4)\\\n",
    "         -ttm(qu['dpq'].groupby(['gvkey']))\\\n",
    "        /mean_year(qu['ltq'].groupby(['gvkey']))\n"
   ]
  },
  {
   "cell_type": "markdown",
   "metadata": {},
   "source": [
    "### Total Liabilities to Total Tangible Assets"
   ]
  },
  {
   "cell_type": "code",
   "execution_count": 86,
   "metadata": {},
   "outputs": [],
   "source": [
    "qu['lt_ppentq'] =\\\n",
    "mean_year(qu['ltq'].groupby(['gvkey']))/mean_year(qu['ppentq'].groupby(['gvkey']))"
   ]
  },
  {
   "cell_type": "markdown",
   "metadata": {},
   "source": [
    "### Long-Term Debt to Book Equity"
   ]
  },
  {
   "cell_type": "code",
   "execution_count": 87,
   "metadata": {},
   "outputs": [],
   "source": [
    "qu['dltt_beq'] = \\\n",
    "mean_year(qu['dlttq'].groupby(['gvkey']))/mean_year(qu['beq'].groupby(['gvkey']))\n",
    "\n"
   ]
  },
  {
   "cell_type": "markdown",
   "metadata": {},
   "source": [
    "# Solvency Ratios"
   ]
  },
  {
   "cell_type": "markdown",
   "metadata": {},
   "source": [
    "### Debt-to-Assets"
   ]
  },
  {
   "cell_type": "code",
   "execution_count": 88,
   "metadata": {},
   "outputs": [],
   "source": [
    "qu['debt_assetsq'] =\\\n",
    "mean_year(qu['ltq'].groupby(['gvkey']))/mean_year(qu['atq'].groupby(['gvkey']))"
   ]
  },
  {
   "cell_type": "markdown",
   "metadata": {},
   "source": [
    "### Debt-to-Capital"
   ]
  },
  {
   "cell_type": "code",
   "execution_count": 89,
   "metadata": {},
   "outputs": [],
   "source": [
    "qu['debt_capitalq'] =\\\n",
    "mean_year((qu['apq'] + qu['dlcq'] + qu['dlttq']).groupby(['gvkey']))\\\n",
    "/mean_year((qu['apq']+qu['dlcq']+qu['dlttq']+qu['ceqq']+qu['pstkq']).groupby(['gvkey']))\n"
   ]
  },
  {
   "cell_type": "markdown",
   "metadata": {},
   "source": [
    "###  Debt to Equity Ratio"
   ]
  },
  {
   "cell_type": "code",
   "execution_count": 90,
   "metadata": {},
   "outputs": [],
   "source": [
    "qu['de_ratioq'] =\\\n",
    "mean_year(qu['ltq'].groupby(['gvkey']))/mean_year((qu['ceqq']+qu['pstkq']).groupby(['gvkey']))"
   ]
  },
  {
   "cell_type": "markdown",
   "metadata": {},
   "source": [
    "###  After Tax Interest Coverage"
   ]
  },
  {
   "cell_type": "code",
   "execution_count": 91,
   "metadata": {},
   "outputs": [],
   "source": [
    "qu['intcovq'] = \\\n",
    "ttm((qu['xintq']+qu['ibq']).groupby(['gvkey']))/ttm(qu['xintq'].groupby(['gvkey']))"
   ]
  },
  {
   "cell_type": "markdown",
   "metadata": {},
   "source": [
    "###  Interest Coverage Ratio"
   ]
  },
  {
   "cell_type": "code",
   "execution_count": 92,
   "metadata": {},
   "outputs": [],
   "source": [
    "qu['intcov_ratioq'] = \\\n",
    "coalesce(ttm(qu['oiadpq'].groupby(['gvkey'])),\\\n",
    "         qu['yearly_sales']\\\n",
    "         -ttm(qu['cogsq'].groupby(['gvkey']))\\\n",
    "         -ttm(qu['xintq'].groupby(['gvkey']))\n",
    "         -ttm(qu['xsgaq'].groupby(['gvkey']))\\\n",
    "         -ttm(qu['dpq'].groupby(['gvkey'])))\\\n",
    "         /ttm(qu['xintq'].groupby(['gvkey']))"
   ]
  },
  {
   "cell_type": "markdown",
   "metadata": {},
   "source": [
    "# Liquidity Ratios"
   ]
  },
  {
   "cell_type": "markdown",
   "metadata": {},
   "source": [
    "### Cash Ratio "
   ]
  },
  {
   "cell_type": "code",
   "execution_count": 93,
   "metadata": {},
   "outputs": [],
   "source": [
    "qu['cash_ratioq'] =\\\n",
    "mean_year(qu['cheq'].groupby(['gvkey']))/mean_year(qu['lctq'].groupby(['gvkey']))"
   ]
  },
  {
   "cell_type": "markdown",
   "metadata": {},
   "source": [
    "### Quick Ratio (acid test)"
   ]
  },
  {
   "cell_type": "code",
   "execution_count": 94,
   "metadata": {},
   "outputs": [],
   "source": [
    "qu['quick_ratioq'] = \\\n",
    "coalesce(mean_year((qu['actq']-qu['invtq']).groupby(['gvkey'])),\\\n",
    "         mean_year((qu['cheq']+qu['rectq']).groupby(['gvkey'])))/\\\n",
    "mean_year(qu['lctq'].groupby(['gvkey']))\n"
   ]
  },
  {
   "cell_type": "markdown",
   "metadata": {},
   "source": [
    "### Current Ratio"
   ]
  },
  {
   "cell_type": "code",
   "execution_count": 95,
   "metadata": {},
   "outputs": [],
   "source": [
    "qu['curr_ratioq'] =\\\n",
    "coalesce(mean_year(qu['actq'].groupby(['gvkey'])),\n",
    "         mean_year((qu['cheq'] + qu['rectq']+qu['invtq']).groupby(['gvkey'])))\\\n",
    "        /mean_year(qu['lctq'].groupby(['gvkey']))"
   ]
  },
  {
   "cell_type": "markdown",
   "metadata": {},
   "source": [
    "### Cash Conversion Cycle"
   ]
  },
  {
   "cell_type": "code",
   "execution_count": 96,
   "metadata": {},
   "outputs": [],
   "source": [
    "qu['cash_conversionq'] =\\\n",
    "(mean_year(qu['invtq'].groupby(['gvkey']))/(ttm(qu['cogsq'].div(365))))\\\n",
    "+(mean_year(qu['rectq'].groupby(['gvkey'])) /(qu['yearly_sales'].div(365)))\\\n",
    "-(mean_year(qu['apq'].groupby(['gvkey']))/(ttm(qu['cogsq'].groupby(['gvkey'])).div(365)))\n"
   ]
  },
  {
   "cell_type": "markdown",
   "metadata": {},
   "source": [
    "# Activity Efficiency Ratios"
   ]
  },
  {
   "cell_type": "markdown",
   "metadata": {},
   "source": [
    "### Inventory Turnover                "
   ]
  },
  {
   "cell_type": "code",
   "execution_count": 97,
   "metadata": {},
   "outputs": [],
   "source": [
    "qu['inv_turnq'] = \\\n",
    "ttm(qu['cogsq'].groupby(['gvkey']))/mean_year(qu['invtq'].groupby(['gvkey']))"
   ]
  },
  {
   "cell_type": "markdown",
   "metadata": {},
   "source": [
    "### Asset Turnover"
   ]
  },
  {
   "cell_type": "code",
   "execution_count": 98,
   "metadata": {},
   "outputs": [],
   "source": [
    "qu['at_turnq']= qu['yearly_sales']/qu['at4']"
   ]
  },
  {
   "cell_type": "markdown",
   "metadata": {},
   "source": [
    "### Receivables Turnover"
   ]
  },
  {
   "cell_type": "code",
   "execution_count": 99,
   "metadata": {},
   "outputs": [],
   "source": [
    "qu['rect_turnq'] =qu['yearly_sales']/mean_year(qu['rectq'].groupby(['gvkey']))\n"
   ]
  },
  {
   "cell_type": "markdown",
   "metadata": {},
   "source": [
    "### Payables Turnover"
   ]
  },
  {
   "cell_type": "code",
   "execution_count": 100,
   "metadata": {},
   "outputs": [],
   "source": [
    "qu['pay_turnq'] = \\\n",
    "ttm((qu['cogsq'] + qu['invtq'].diff(4)).groupby(['gvkey']))\\\n",
    " /mean_year(qu['apq'].groupby(['gvkey']))\n"
   ]
  },
  {
   "cell_type": "markdown",
   "metadata": {},
   "source": [
    "# Miscellanous Ratios"
   ]
  },
  {
   "cell_type": "markdown",
   "metadata": {},
   "source": [
    "### Sale per dollar of Invested Capital"
   ]
  },
  {
   "cell_type": "code",
   "execution_count": 101,
   "metadata": {},
   "outputs": [],
   "source": [
    "qu['sale_invcapq'] = qu['yearly_sales']/mean_year(qu['icaptq'].groupby(['gvkey']))\n"
   ]
  },
  {
   "cell_type": "markdown",
   "metadata": {},
   "source": [
    "### Sales per dollar of Total Stockholders' Equity"
   ]
  },
  {
   "cell_type": "code",
   "execution_count": 102,
   "metadata": {},
   "outputs": [],
   "source": [
    "qu['sale_equityq'] = qu['yearly_sales']/qu['seq4']"
   ]
  },
  {
   "cell_type": "markdown",
   "metadata": {},
   "source": [
    "### Sales per dollar of Working Capital"
   ]
  },
  {
   "cell_type": "code",
   "execution_count": 103,
   "metadata": {},
   "outputs": [],
   "source": [
    "qu['sale_nwcq'] =qu['yearly_sales']/mean_year((qu['actq']-qu['lctq']).groupby(['gvkey']))"
   ]
  },
  {
   "cell_type": "markdown",
   "metadata": {},
   "source": [
    "### R&D as % of sales"
   ]
  },
  {
   "cell_type": "code",
   "execution_count": 104,
   "metadata": {},
   "outputs": [],
   "source": [
    "qu['rd_saleq'] =\\\n",
    "ttm(qu['xrdq'].fillna(0).groupby(['gvkey']))/qu['yearly_sales']"
   ]
  },
  {
   "cell_type": "markdown",
   "metadata": {},
   "source": [
    "### Accrual"
   ]
  },
  {
   "cell_type": "code",
   "execution_count": 105,
   "metadata": {},
   "outputs": [],
   "source": [
    "qu['at5']  = pd.concat([qu['atq'],qu['atq'].shift(1),qu['atq'].shift(2),qu['atq'].shift(3),\\\n",
    "qu['atq'].shift(4)],axis=1).mean(axis=1)\n",
    "\n",
    "qu['accrualq'] = \\\n",
    "coalesce(ttm((qu['oancfy_q']-qu['ibq']).groupby(['gvkey'])),\n",
    "         -qu['actq'].diff(4)\\\n",
    "         +qu['cheq'].diff(4)\\\n",
    "         +qu['lctq'].diff(4)\\\n",
    "         -qu['dlcq'].diff(4)\\\n",
    "         -qu['txpq'].diff(4)\\\n",
    "         +ttm(qu['dpq'].groupby(['gvkey']))/qu['at5'])\n"
   ]
  },
  {
   "cell_type": "markdown",
   "metadata": {},
   "source": [
    "# End of Ratio Definitions"
   ]
  },
  {
   "cell_type": "code",
   "execution_count": 106,
   "metadata": {},
   "outputs": [],
   "source": [
    "qu = qu.reset_index()"
   ]
  },
  {
   "cell_type": "code",
   "execution_count": 107,
   "metadata": {},
   "outputs": [],
   "source": [
    "qu['rdq'] = pd.to_datetime(qu['rdq'])"
   ]
  },
  {
   "cell_type": "code",
   "execution_count": 108,
   "metadata": {},
   "outputs": [],
   "source": [
    "import numpy as np"
   ]
  },
  {
   "cell_type": "code",
   "execution_count": 109,
   "metadata": {},
   "outputs": [],
   "source": [
    "qu[qu == np.Inf] = np.NaN"
   ]
  },
  {
   "cell_type": "code",
   "execution_count": 110,
   "metadata": {},
   "outputs": [],
   "source": [
    "# qu['qdate'] = pd.to_datetime(qu['datadate'])\n",
    "# qu.drop(['datadate'],axis=1,inplace=True)"
   ]
  },
  {
   "cell_type": "code",
   "execution_count": 111,
   "metadata": {},
   "outputs": [
    {
     "data": {
      "text/html": [
       "<div>\n",
       "<style scoped>\n",
       "    .dataframe tbody tr th:only-of-type {\n",
       "        vertical-align: middle;\n",
       "    }\n",
       "\n",
       "    .dataframe tbody tr th {\n",
       "        vertical-align: top;\n",
       "    }\n",
       "\n",
       "    .dataframe thead th {\n",
       "        text-align: right;\n",
       "    }\n",
       "</style>\n",
       "<table border=\"1\" class=\"dataframe\">\n",
       "  <thead>\n",
       "    <tr style=\"text-align: right;\">\n",
       "      <th></th>\n",
       "      <th>gvkey</th>\n",
       "      <th>fyr</th>\n",
       "      <th>fyearq</th>\n",
       "      <th>fqtr</th>\n",
       "      <th>datadate</th>\n",
       "      <th>indfmt</th>\n",
       "      <th>consol</th>\n",
       "      <th>popsrc</th>\n",
       "      <th>datafmt</th>\n",
       "      <th>tic</th>\n",
       "      <th>...</th>\n",
       "      <th>inv_turnq</th>\n",
       "      <th>at_turnq</th>\n",
       "      <th>rect_turnq</th>\n",
       "      <th>pay_turnq</th>\n",
       "      <th>sale_invcapq</th>\n",
       "      <th>sale_equityq</th>\n",
       "      <th>sale_nwcq</th>\n",
       "      <th>rd_saleq</th>\n",
       "      <th>at5</th>\n",
       "      <th>accrualq</th>\n",
       "    </tr>\n",
       "  </thead>\n",
       "  <tbody>\n",
       "    <tr>\n",
       "      <th>0</th>\n",
       "      <td>1004</td>\n",
       "      <td>5</td>\n",
       "      <td>1999</td>\n",
       "      <td>3</td>\n",
       "      <td>2000-02-29</td>\n",
       "      <td>INDL</td>\n",
       "      <td>C</td>\n",
       "      <td>D</td>\n",
       "      <td>STD</td>\n",
       "      <td>AIR</td>\n",
       "      <td>...</td>\n",
       "      <td>2.792712</td>\n",
       "      <td>2.639638</td>\n",
       "      <td>11.737527</td>\n",
       "      <td>0.000000</td>\n",
       "      <td>3.803403</td>\n",
       "      <td>5.809473</td>\n",
       "      <td>5.681407</td>\n",
       "      <td>0.000000</td>\n",
       "      <td>753.75500</td>\n",
       "      <td>-5.288</td>\n",
       "    </tr>\n",
       "    <tr>\n",
       "      <th>1</th>\n",
       "      <td>1004</td>\n",
       "      <td>5</td>\n",
       "      <td>1999</td>\n",
       "      <td>4</td>\n",
       "      <td>2000-05-31</td>\n",
       "      <td>INDL</td>\n",
       "      <td>C</td>\n",
       "      <td>D</td>\n",
       "      <td>STD</td>\n",
       "      <td>AIR</td>\n",
       "      <td>...</td>\n",
       "      <td>2.474152</td>\n",
       "      <td>1.331083</td>\n",
       "      <td>6.679805</td>\n",
       "      <td>0.000000</td>\n",
       "      <td>1.907461</td>\n",
       "      <td>2.917374</td>\n",
       "      <td>2.851905</td>\n",
       "      <td>0.000000</td>\n",
       "      <td>747.37650</td>\n",
       "      <td>-3.375</td>\n",
       "    </tr>\n",
       "    <tr>\n",
       "      <th>2</th>\n",
       "      <td>1004</td>\n",
       "      <td>5</td>\n",
       "      <td>2000</td>\n",
       "      <td>1</td>\n",
       "      <td>2000-08-31</td>\n",
       "      <td>INDL</td>\n",
       "      <td>C</td>\n",
       "      <td>D</td>\n",
       "      <td>STD</td>\n",
       "      <td>AIR</td>\n",
       "      <td>...</td>\n",
       "      <td>2.434096</td>\n",
       "      <td>1.559571</td>\n",
       "      <td>8.246424</td>\n",
       "      <td>0.000000</td>\n",
       "      <td>2.237802</td>\n",
       "      <td>3.424255</td>\n",
       "      <td>3.363654</td>\n",
       "      <td>0.000000</td>\n",
       "      <td>747.43200</td>\n",
       "      <td>-14.277</td>\n",
       "    </tr>\n",
       "    <tr>\n",
       "      <th>3</th>\n",
       "      <td>1004</td>\n",
       "      <td>5</td>\n",
       "      <td>2000</td>\n",
       "      <td>2</td>\n",
       "      <td>2000-11-30</td>\n",
       "      <td>INDL</td>\n",
       "      <td>C</td>\n",
       "      <td>D</td>\n",
       "      <td>STD</td>\n",
       "      <td>AIR</td>\n",
       "      <td>...</td>\n",
       "      <td>2.319998</td>\n",
       "      <td>1.159783</td>\n",
       "      <td>6.339430</td>\n",
       "      <td>0.000000</td>\n",
       "      <td>1.677920</td>\n",
       "      <td>2.566594</td>\n",
       "      <td>2.561861</td>\n",
       "      <td>0.000000</td>\n",
       "      <td>753.80925</td>\n",
       "      <td>-0.662</td>\n",
       "    </tr>\n",
       "    <tr>\n",
       "      <th>4</th>\n",
       "      <td>1004</td>\n",
       "      <td>5</td>\n",
       "      <td>2000</td>\n",
       "      <td>3</td>\n",
       "      <td>2001-02-28</td>\n",
       "      <td>INDL</td>\n",
       "      <td>C</td>\n",
       "      <td>D</td>\n",
       "      <td>STD</td>\n",
       "      <td>AIR</td>\n",
       "      <td>...</td>\n",
       "      <td>2.077080</td>\n",
       "      <td>1.159413</td>\n",
       "      <td>6.791055</td>\n",
       "      <td>2.043102</td>\n",
       "      <td>1.676432</td>\n",
       "      <td>2.562113</td>\n",
       "      <td>2.546039</td>\n",
       "      <td>0.000000</td>\n",
       "      <td>753.99100</td>\n",
       "      <td>-8.997</td>\n",
       "    </tr>\n",
       "    <tr>\n",
       "      <th>...</th>\n",
       "      <td>...</td>\n",
       "      <td>...</td>\n",
       "      <td>...</td>\n",
       "      <td>...</td>\n",
       "      <td>...</td>\n",
       "      <td>...</td>\n",
       "      <td>...</td>\n",
       "      <td>...</td>\n",
       "      <td>...</td>\n",
       "      <td>...</td>\n",
       "      <td>...</td>\n",
       "      <td>...</td>\n",
       "      <td>...</td>\n",
       "      <td>...</td>\n",
       "      <td>...</td>\n",
       "      <td>...</td>\n",
       "      <td>...</td>\n",
       "      <td>...</td>\n",
       "      <td>...</td>\n",
       "      <td>...</td>\n",
       "      <td>...</td>\n",
       "    </tr>\n",
       "    <tr>\n",
       "      <th>607902</th>\n",
       "      <td>326688</td>\n",
       "      <td>12</td>\n",
       "      <td>2018</td>\n",
       "      <td>2</td>\n",
       "      <td>2018-06-30</td>\n",
       "      <td>INDL</td>\n",
       "      <td>C</td>\n",
       "      <td>D</td>\n",
       "      <td>STD</td>\n",
       "      <td>NVT</td>\n",
       "      <td>...</td>\n",
       "      <td>3.981358</td>\n",
       "      <td>1.463643</td>\n",
       "      <td>18.352877</td>\n",
       "      <td>15.669705</td>\n",
       "      <td>1.820277</td>\n",
       "      <td>2.484350</td>\n",
       "      <td>15.495721</td>\n",
       "      <td>0.006568</td>\n",
       "      <td>1056.40420</td>\n",
       "      <td>38.300</td>\n",
       "    </tr>\n",
       "    <tr>\n",
       "      <th>607903</th>\n",
       "      <td>326688</td>\n",
       "      <td>12</td>\n",
       "      <td>2018</td>\n",
       "      <td>3</td>\n",
       "      <td>2018-09-30</td>\n",
       "      <td>INDL</td>\n",
       "      <td>C</td>\n",
       "      <td>D</td>\n",
       "      <td>STD</td>\n",
       "      <td>NVT</td>\n",
       "      <td>...</td>\n",
       "      <td>4.023774</td>\n",
       "      <td>0.731318</td>\n",
       "      <td>9.170157</td>\n",
       "      <td>16.458153</td>\n",
       "      <td>0.914088</td>\n",
       "      <td>1.237768</td>\n",
       "      <td>7.952986</td>\n",
       "      <td>0.013316</td>\n",
       "      <td>1955.81540</td>\n",
       "      <td>71.100</td>\n",
       "    </tr>\n",
       "    <tr>\n",
       "      <th>607904</th>\n",
       "      <td>326688</td>\n",
       "      <td>12</td>\n",
       "      <td>2018</td>\n",
       "      <td>4</td>\n",
       "      <td>2018-12-31</td>\n",
       "      <td>INDL</td>\n",
       "      <td>C</td>\n",
       "      <td>D</td>\n",
       "      <td>STD</td>\n",
       "      <td>NVT</td>\n",
       "      <td>...</td>\n",
       "      <td>6.174674</td>\n",
       "      <td>0.488514</td>\n",
       "      <td>6.252380</td>\n",
       "      <td>10.080191</td>\n",
       "      <td>0.612059</td>\n",
       "      <td>0.827104</td>\n",
       "      <td>5.459050</td>\n",
       "      <td>0.020422</td>\n",
       "      <td>2833.38960</td>\n",
       "      <td>165.000</td>\n",
       "    </tr>\n",
       "    <tr>\n",
       "      <th>607905</th>\n",
       "      <td>327451</td>\n",
       "      <td>12</td>\n",
       "      <td>2018</td>\n",
       "      <td>2</td>\n",
       "      <td>2018-06-30</td>\n",
       "      <td>INDL</td>\n",
       "      <td>C</td>\n",
       "      <td>D</td>\n",
       "      <td>STD</td>\n",
       "      <td>GRIN</td>\n",
       "      <td>...</td>\n",
       "      <td>51.983855</td>\n",
       "      <td>1.269334</td>\n",
       "      <td>NaN</td>\n",
       "      <td>27.674876</td>\n",
       "      <td>1.469856</td>\n",
       "      <td>1.995251</td>\n",
       "      <td>7.883916</td>\n",
       "      <td>0.000000</td>\n",
       "      <td>2894.59100</td>\n",
       "      <td>-32.793</td>\n",
       "    </tr>\n",
       "    <tr>\n",
       "      <th>607906</th>\n",
       "      <td>328032</td>\n",
       "      <td>12</td>\n",
       "      <td>2018</td>\n",
       "      <td>4</td>\n",
       "      <td>2018-12-31</td>\n",
       "      <td>INDL</td>\n",
       "      <td>C</td>\n",
       "      <td>D</td>\n",
       "      <td>STD</td>\n",
       "      <td>NMCI</td>\n",
       "      <td>...</td>\n",
       "      <td>NaN</td>\n",
       "      <td>0.332902</td>\n",
       "      <td>NaN</td>\n",
       "      <td>NaN</td>\n",
       "      <td>0.375984</td>\n",
       "      <td>0.754435</td>\n",
       "      <td>NaN</td>\n",
       "      <td>0.000000</td>\n",
       "      <td>2920.29320</td>\n",
       "      <td>47.751</td>\n",
       "    </tr>\n",
       "  </tbody>\n",
       "</table>\n",
       "<p>607907 rows × 199 columns</p>\n",
       "</div>"
      ],
      "text/plain": [
       "         gvkey  fyr  fyearq  fqtr   datadate indfmt consol popsrc datafmt  \\\n",
       "0         1004    5    1999     3 2000-02-29   INDL      C      D     STD   \n",
       "1         1004    5    1999     4 2000-05-31   INDL      C      D     STD   \n",
       "2         1004    5    2000     1 2000-08-31   INDL      C      D     STD   \n",
       "3         1004    5    2000     2 2000-11-30   INDL      C      D     STD   \n",
       "4         1004    5    2000     3 2001-02-28   INDL      C      D     STD   \n",
       "...        ...  ...     ...   ...        ...    ...    ...    ...     ...   \n",
       "607902  326688   12    2018     2 2018-06-30   INDL      C      D     STD   \n",
       "607903  326688   12    2018     3 2018-09-30   INDL      C      D     STD   \n",
       "607904  326688   12    2018     4 2018-12-31   INDL      C      D     STD   \n",
       "607905  327451   12    2018     2 2018-06-30   INDL      C      D     STD   \n",
       "607906  328032   12    2018     4 2018-12-31   INDL      C      D     STD   \n",
       "\n",
       "         tic  ...  inv_turnq  at_turnq rect_turnq  pay_turnq sale_invcapq  \\\n",
       "0        AIR  ...   2.792712  2.639638  11.737527   0.000000     3.803403   \n",
       "1        AIR  ...   2.474152  1.331083   6.679805   0.000000     1.907461   \n",
       "2        AIR  ...   2.434096  1.559571   8.246424   0.000000     2.237802   \n",
       "3        AIR  ...   2.319998  1.159783   6.339430   0.000000     1.677920   \n",
       "4        AIR  ...   2.077080  1.159413   6.791055   2.043102     1.676432   \n",
       "...      ...  ...        ...       ...        ...        ...          ...   \n",
       "607902   NVT  ...   3.981358  1.463643  18.352877  15.669705     1.820277   \n",
       "607903   NVT  ...   4.023774  0.731318   9.170157  16.458153     0.914088   \n",
       "607904   NVT  ...   6.174674  0.488514   6.252380  10.080191     0.612059   \n",
       "607905  GRIN  ...  51.983855  1.269334        NaN  27.674876     1.469856   \n",
       "607906  NMCI  ...        NaN  0.332902        NaN        NaN     0.375984   \n",
       "\n",
       "        sale_equityq  sale_nwcq  rd_saleq         at5  accrualq  \n",
       "0           5.809473   5.681407  0.000000   753.75500    -5.288  \n",
       "1           2.917374   2.851905  0.000000   747.37650    -3.375  \n",
       "2           3.424255   3.363654  0.000000   747.43200   -14.277  \n",
       "3           2.566594   2.561861  0.000000   753.80925    -0.662  \n",
       "4           2.562113   2.546039  0.000000   753.99100    -8.997  \n",
       "...              ...        ...       ...         ...       ...  \n",
       "607902      2.484350  15.495721  0.006568  1056.40420    38.300  \n",
       "607903      1.237768   7.952986  0.013316  1955.81540    71.100  \n",
       "607904      0.827104   5.459050  0.020422  2833.38960   165.000  \n",
       "607905      1.995251   7.883916  0.000000  2894.59100   -32.793  \n",
       "607906      0.754435        NaN  0.000000  2920.29320    47.751  \n",
       "\n",
       "[607907 rows x 199 columns]"
      ]
     },
     "execution_count": 111,
     "metadata": {},
     "output_type": "execute_result"
    }
   ],
   "source": [
    "qu"
   ]
  },
  {
   "cell_type": "code",
   "execution_count": 112,
   "metadata": {
    "scrolled": true
   },
   "outputs": [],
   "source": [
    "qu.loc[(qu['gvkey'] != qu['gvkey'].shift(3)) | \\\n",
    "(qu['fyr'] != qu['fyr'].shift(3)) | \\\n",
    "(ttm(qu.set_index(['gvkey','fyearq'])['fqtr'].groupby(['gvkey'])).values != 10.0)\\\n",
    "       ,['pe_op_basicq','pe_op_dilq','pe_exiq','pe_incq','psq','pcfq','evmq','dprq','npmq','opmbdq','opmadq','gpmq','ptpmq','cfmq','intcov_ratioq',\n",
    "        'gprofq','equity_invcapq','debt_invcapq','capital_ratioq','totdebt_invcapq','int_debtq','int_totdebtq','cash_ltq','invt_actq',\n",
    "        'rect_actq','debt_atq','short_debtq','curr_debtq','lt_debtq','profit_lctq','ocf_lctq','lt_ppentq','dltt_beq','efftaxq','fcf_ocfq',\n",
    "        'debt_assetsq','debt_capitalq','de_ratioq','intcovq','cash_ratioq','quick_ratioq','curr_ratioq','inv_turnq','cash_debtq',\n",
    "        'at_turnq','rect_turnq','pay_turnq','sale_invcapq','sale_equityq','sale_nwcq','rd_saleq','accrualq','cash_conversionq','debt_ebitdaq',\n",
    "        'roaq','roeq','roceq','aftret_eqq','aftret_invcapxq','aftret_equityq','pretret_noaq','pretret_earnatq']] = np.nan\n",
    "\n",
    "\n"
   ]
  },
  {
   "cell_type": "code",
   "execution_count": 113,
   "metadata": {},
   "outputs": [],
   "source": [
    "ratios = list(set(['gvkey', 'fyr', 'fyearq', 'fqtr', 'tic','rdq','qdate', 'beq', 'bmq', 'capeiq', 'evmq', 'pe_op_basicq', 'pe_op_dilq', 'pe_incq', 'pe_exiq',\n",
    "               'psq', 'pcfq', 'dprq', 'npmq', 'opmbdq', 'opmadq', 'gpmq', 'ptpmq', 'intcov_ratioq','cfmq', 'roaq', 'roeq', 'roceq', 'aftret_eqq',\n",
    "               'aftret_invcapxq', 'aftret_equityq', 'pretret_noaq', 'pretret_earnatq', 'equity_invcapq',  'debt_invcapq', 'fcf_ocfq',\n",
    "        'totdebt_invcapq', 'int_debtq', 'int_totdebtq', 'cash_ltq', 'invt_actq', 'rect_actq', 'debt_atq', 'short_debtq', 'curr_debtq', 'lt_debtq',\n",
    "        'capital_ratioq','profit_lctq', 'ocf_lctq', 'lt_ppentq', 'dltt_beq', 'debt_assetsq', 'debt_capitalq', 'de_ratioq', 'intcovq', 'cash_ratioq', \n",
    "         'quick_ratioq', 'curr_ratioq', 'debt_ebitdaq','inv_turnq', 'capeiq','at_turnq', 'rect_turnq', 'pay_turnq', 'sale_invcapq', 'sale_equityq',\n",
    "        'sale_nwcq', 'rd_saleq', 'accrualq', 'gprofq', 'cash_conversionq','sic', 'spcindcd', 'spcsrc','fcf_csfhdq','cshfdq','cshopq','cshiq','book_value_per_share',\n",
    "          'market_cap', 'buy_back_yield', 'yearly_sales','cfo-per-share', 'cf_yield',  ]))"
   ]
  },
  {
   "cell_type": "code",
   "execution_count": 114,
   "metadata": {},
   "outputs": [],
   "source": [
    "qu.to_csv(r'C:\\Users\\niels\\data\\Quarterly-Ratios.csv')"
   ]
  },
  {
   "cell_type": "code",
   "execution_count": 115,
   "metadata": {},
   "outputs": [],
   "source": [
    "qu.to_pickle(r'C:\\Users\\niels\\data\\Quarterly-Ratios.pkl')"
   ]
  },
  {
   "cell_type": "code",
   "execution_count": null,
   "metadata": {},
   "outputs": [],
   "source": []
  }
 ],
 "metadata": {
  "kernelspec": {
   "display_name": "Python 3 (ipykernel)",
   "language": "python",
   "name": "python3"
  },
  "language_info": {
   "codemirror_mode": {
    "name": "ipython",
    "version": 3
   },
   "file_extension": ".py",
   "mimetype": "text/x-python",
   "name": "python",
   "nbconvert_exporter": "python",
   "pygments_lexer": "ipython3",
   "version": "3.10.4"
  },
  "latex_envs": {
   "LaTeX_envs_menu_present": true,
   "autoclose": false,
   "autocomplete": true,
   "bibliofile": "biblio.bib",
   "cite_by": "apalike",
   "current_citInitial": 1,
   "eqLabelWithNumbers": true,
   "eqNumInitial": 1,
   "hotkeys": {
    "equation": "Ctrl-E",
    "itemize": "Ctrl-I"
   },
   "labels_anchors": false,
   "latex_user_defs": false,
   "report_style_numbering": false,
   "user_envs_cfg": false
  }
 },
 "nbformat": 4,
 "nbformat_minor": 2
}
