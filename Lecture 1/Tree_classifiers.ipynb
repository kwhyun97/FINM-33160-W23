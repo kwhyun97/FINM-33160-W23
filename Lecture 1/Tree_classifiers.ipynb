{
 "cells": [
  {
   "cell_type": "code",
   "execution_count": null,
   "metadata": {},
   "outputs": [],
   "source": [
    "import numpy as np\n",
    "from collections import Counter"
   ]
  },
  {
   "cell_type": "code",
   "execution_count": null,
   "metadata": {},
   "outputs": [],
   "source": [
    "def compute_gini(labels):\n",
    "    m = len(labels)\n",
    "    c = Counter(labels)\n",
    "    probs = [ c[i]/m for i in set(labels)]\n",
    "    return sum([p*(1 - p) for p in probs])\n",
    "    "
   ]
  },
  {
   "cell_type": "code",
   "execution_count": null,
   "metadata": {},
   "outputs": [],
   "source": [
    "labels = [0,0,1,1,1,2,2]\n",
    "compute_gini(labels)\n",
    "c = Counter(labels)"
   ]
  },
  {
   "cell_type": "code",
   "execution_count": null,
   "metadata": {},
   "outputs": [],
   "source": [
    "set(labels)"
   ]
  },
  {
   "cell_type": "code",
   "execution_count": null,
   "metadata": {},
   "outputs": [],
   "source": [
    "def optimal_split(data,labels):\n",
    "    \n",
    "    m = len(data)\n",
    "    x_coord = np.array(data)[:,0]\n",
    "    y_coord = np.array(data)[:,1]\n",
    "    \n",
    "    midpoints = [0.5 * (data[i][0] + data[j][0]) for i in \n",
    "                range(m) for j in range(i+1,m)],\\\n",
    "                [0.5 * (data[i][1] + data[j][1]) for i in range(m)\n",
    "                    for j in range(i+1,m)]\n",
    "    \n",
    "    exclusive_midpoints = [x for x in midpoints[0] if x not in x_coord],\\\n",
    "                          [y for y in midpoints[1] if y not in y_coord]\n",
    "    \n",
    "    splits = [(0,exclusive_midpoints[0][i]) for i in range(len(exclusive_midpoints[0]))] +\\\n",
    "    [(1,exclusive_midpoints[1][i]) for i in range(len(exclusive_midpoints[1]))]\n",
    "    \n",
    "    split_indices = []\n",
    "    \n",
    "    for s in splits:\n",
    "        if s[0] == 0:\n",
    "            L = [labels[i] for i in range(m) if data[i][0] <= s[1]]\n",
    "            R = [labels[i] for i in range(m) if data[i][0] > s[1]]\n",
    "            \n",
    "            if len(L) > 0 and len(R) > 0:\n",
    "                g = len(L) * compute_gini(L) +\\\n",
    "                len(R) * compute_gini(R)\n",
    "                split_indices.append((s,g/m))\n",
    "        else:\n",
    "            \n",
    "            L = [labels[i] for i in range(m) if data[i][1] <= s[1]]\n",
    "            R = [labels[i] for i in range(m) if data[i][1] > s[1]]\n",
    "            \n",
    "            if len(L) > 0 and len(R) > 0:\n",
    "                g = len(L) * compute_gini(L) +\\\n",
    "                len(R) * compute_gini(R)\n",
    "                split_indices.append((s,g/m)) \n",
    "                \n",
    "\n",
    "                \n",
    "    return sorted(split_indices,key = lambda x: x[1])"
   ]
  },
  {
   "cell_type": "code",
   "execution_count": null,
   "metadata": {},
   "outputs": [],
   "source": [
    "data = [[1.,2.],[3.,3.],[-1.,2.],[6.,1.],[2.,2.],[3.,-1.],[3.,4.]]\n",
    "labels = [0,0,1,1,1,2,2]"
   ]
  },
  {
   "cell_type": "code",
   "execution_count": null,
   "metadata": {},
   "outputs": [],
   "source": [
    "compute_gini(labels)"
   ]
  },
  {
   "cell_type": "code",
   "execution_count": null,
   "metadata": {},
   "outputs": [],
   "source": [
    "    m = len(data)\n",
    "    x_coord = np.array(data)[:,0]\n",
    "    y_coord = np.array(data)[:,1]\n",
    "    \n",
    "    midpoints = [0.5 * (data[i][0] + data[j][0]) for i in \n",
    "                range(m) for j in range(i+1,m)],\\\n",
    "                [0.5 * (data[i][1] + data[j][1]) for i in range(m)\n",
    "                    for j in range(i+1,m)]\n",
    "    \n",
    "    exclusive_midpoints = [x for x in midpoints[0] if x not in x_coord],\\\n",
    "                          [y for y in midpoints[1] if y not in y_coord]\n",
    "    \n",
    "    splits = [(0,exclusive_midpoints[0][i]) for i in range(len(exclusive_midpoints[0]))] +\\\n",
    "    [(1,exclusive_midpoints[1][i]) for i in range(len(exclusive_midpoints[1]))]\n",
    "    \n",
    "    splits"
   ]
  },
  {
   "cell_type": "code",
   "execution_count": null,
   "metadata": {},
   "outputs": [],
   "source": [
    "    m = 7\n",
    "    x_coord = np.array(data)[:,0]\n",
    "    y_coord = np.array(data)[:,1]\n",
    "    \n",
    "    midpoints = [0.5 * (data[i][0] + data[j][0]) for i in \n",
    "                range(m) for j in range(i+1,m)],[\n",
    "        0.5 * (data[i][1] + data[j][1]) for i in range(m)\n",
    "        for j in range(i+1,m)]\n",
    "    \n",
    "    print(midpoints)\n",
    "    \n",
    "    exclusive_midpoints = [x for x in midpoints[0] if x not in x_coord],\\\n",
    "    [y for y in midpoints[1] if y not in y_coord]\n",
    "    \n",
    "    print(exclusive_midpoints)\n",
    "    \n",
    "    splits = [(0,exclusive_midpoints[0][i]) for i in range(len(exclusive_midpoints[0]))] +\\\n",
    "    [(1,exclusive_midpoints[1][i]) for i in range(len(exclusive_midpoints[1]))]\n",
    "    \n",
    "    print(splits)"
   ]
  },
  {
   "cell_type": "code",
   "execution_count": null,
   "metadata": {},
   "outputs": [],
   "source": [
    "optimal_split(data,labels)"
   ]
  },
  {
   "cell_type": "code",
   "execution_count": null,
   "metadata": {},
   "outputs": [],
   "source": [
    "t=(1, 0.0)"
   ]
  },
  {
   "cell_type": "code",
   "execution_count": null,
   "metadata": {},
   "outputs": [],
   "source": [
    "def compute_nodes(s,data,labels):\n",
    "    L = [ i for i in range(len(data)) if data[i][s[0]] <= s[1]]\n",
    "    R = [ i for i in range(len(data)) if data[i][s[0]] > s[1]]\n",
    "    \n",
    "    L = [ data[i] for i in L],[labels[i] for i in L]\n",
    "    R = [ data[i] for i in R],[labels[i] for i in R]\n",
    "    \n",
    "    return L, R"
   ]
  },
  {
   "cell_type": "code",
   "execution_count": null,
   "metadata": {},
   "outputs": [],
   "source": [
    "L,R = compute_nodes(t,data,labels)"
   ]
  },
  {
   "cell_type": "code",
   "execution_count": null,
   "metadata": {},
   "outputs": [],
   "source": [
    "L"
   ]
  },
  {
   "cell_type": "code",
   "execution_count": null,
   "metadata": {},
   "outputs": [],
   "source": [
    "R"
   ]
  },
  {
   "cell_type": "code",
   "execution_count": null,
   "metadata": {},
   "outputs": [],
   "source": [
    "t1 = optimal_split(R[0],R[1])"
   ]
  },
  {
   "cell_type": "code",
   "execution_count": null,
   "metadata": {},
   "outputs": [],
   "source": [
    "t1"
   ]
  },
  {
   "cell_type": "code",
   "execution_count": null,
   "metadata": {},
   "outputs": [],
   "source": [
    "L1,R1 = compute_nodes(t1[0][0],R[0],R[1])"
   ]
  },
  {
   "cell_type": "code",
   "execution_count": null,
   "metadata": {},
   "outputs": [],
   "source": [
    "L1"
   ]
  },
  {
   "cell_type": "code",
   "execution_count": null,
   "metadata": {},
   "outputs": [],
   "source": [
    "R1"
   ]
  },
  {
   "cell_type": "code",
   "execution_count": null,
   "metadata": {},
   "outputs": [],
   "source": [
    "t2 = optimal_split(L1[0],L1[1])"
   ]
  },
  {
   "cell_type": "code",
   "execution_count": null,
   "metadata": {},
   "outputs": [],
   "source": [
    "t2"
   ]
  },
  {
   "cell_type": "code",
   "execution_count": null,
   "metadata": {},
   "outputs": [],
   "source": [
    "L2,R2 = compute_nodes(t2[0][0],L1[0],L1[1])"
   ]
  },
  {
   "cell_type": "code",
   "execution_count": null,
   "metadata": {},
   "outputs": [],
   "source": [
    "L2"
   ]
  },
  {
   "cell_type": "code",
   "execution_count": null,
   "metadata": {},
   "outputs": [],
   "source": [
    "R2"
   ]
  },
  {
   "cell_type": "code",
   "execution_count": null,
   "metadata": {},
   "outputs": [],
   "source": [
    "t3 = optimal_split(L2[0],L2[1])"
   ]
  },
  {
   "cell_type": "code",
   "execution_count": null,
   "metadata": {},
   "outputs": [],
   "source": [
    "t3"
   ]
  },
  {
   "cell_type": "code",
   "execution_count": null,
   "metadata": {},
   "outputs": [],
   "source": [
    "L3,R3 = compute_nodes(t3[0][0],L2[0],L2[1])"
   ]
  },
  {
   "cell_type": "code",
   "execution_count": null,
   "metadata": {},
   "outputs": [],
   "source": [
    "L3"
   ]
  },
  {
   "cell_type": "code",
   "execution_count": null,
   "metadata": {},
   "outputs": [],
   "source": [
    "R3"
   ]
  },
  {
   "cell_type": "code",
   "execution_count": null,
   "metadata": {},
   "outputs": [],
   "source": [
    "t4 = optimal_split(L3[0],L3[1])"
   ]
  },
  {
   "cell_type": "code",
   "execution_count": null,
   "metadata": {},
   "outputs": [],
   "source": [
    "t4"
   ]
  },
  {
   "cell_type": "code",
   "execution_count": null,
   "metadata": {},
   "outputs": [],
   "source": [
    "from sklearn.tree import DecisionTreeClassifier"
   ]
  },
  {
   "cell_type": "code",
   "execution_count": null,
   "metadata": {},
   "outputs": [],
   "source": [
    "T = DecisionTreeClassifier()"
   ]
  },
  {
   "cell_type": "code",
   "execution_count": null,
   "metadata": {},
   "outputs": [],
   "source": [
    "T.fit(data,labels)"
   ]
  },
  {
   "cell_type": "code",
   "execution_count": null,
   "metadata": {},
   "outputs": [],
   "source": [
    "import matplotlib.pyplot as plt\n",
    "%matplotlib inline"
   ]
  },
  {
   "cell_type": "code",
   "execution_count": null,
   "metadata": {},
   "outputs": [],
   "source": [
    "data = np.array(data)"
   ]
  },
  {
   "cell_type": "code",
   "execution_count": null,
   "metadata": {},
   "outputs": [],
   "source": [
    "def plot_decision_boundary(data,labels,T):\n",
    "    plot_step = 0.02\n",
    "    x_min, x_max = data[:,0].min() -1, data[:,0].max() + 1\n",
    "    y_min,y_max = data[:,1].min() -1 , data[:,1].max() + 1\n",
    "\n",
    "    xx,yy = np.meshgrid(np.arange(x_min,x_max,plot_step),\n",
    "                   np.arange(y_min,y_max,plot_step))\n",
    "    Z = T.predict(np.c_[xx.ravel(),yy.ravel()])\n",
    "    Z = Z.reshape(xx.shape)\n",
    "    cs = plt.contourf(xx,yy,Z,cmap='cool')\n",
    "\n",
    "    plt.xlabel('x')\n",
    "    plt.ylabel('y')\n",
    "    plt.title('Decision Boundary')\n",
    "\n",
    "    plt.scatter(data[:,0],data[:,1],c=labels,cmap='hot',s=100)\n",
    "    plt.show()"
   ]
  },
  {
   "cell_type": "code",
   "execution_count": null,
   "metadata": {},
   "outputs": [],
   "source": [
    "plot_decision_boundary(data,labels,T)"
   ]
  },
  {
   "cell_type": "code",
   "execution_count": null,
   "metadata": {},
   "outputs": [],
   "source": [
    "!pip install graphviz"
   ]
  },
  {
   "cell_type": "code",
   "execution_count": null,
   "metadata": {},
   "outputs": [],
   "source": [
    "import graphviz\n",
    "from sklearn import tree"
   ]
  },
  {
   "cell_type": "code",
   "execution_count": null,
   "metadata": {},
   "outputs": [],
   "source": [
    "dot_data = tree.export_graphviz(T,out_file=None)"
   ]
  },
  {
   "cell_type": "code",
   "execution_count": null,
   "metadata": {},
   "outputs": [],
   "source": [
    "graph = graphviz.Source(dot_data)"
   ]
  },
  {
   "cell_type": "code",
   "execution_count": null,
   "metadata": {},
   "outputs": [],
   "source": []
  },
  {
   "cell_type": "code",
   "execution_count": null,
   "metadata": {},
   "outputs": [],
   "source": [
    "dot_data = tree.export_graphviz(T,out_file=None)\n",
    "graph = graphviz.Source(dot_data)\n",
    "graph.render('Tree1')"
   ]
  },
  {
   "cell_type": "code",
   "execution_count": null,
   "metadata": {},
   "outputs": [],
   "source": [
    "from sklearn.datasets import make_moons\n",
    "\n",
    "data,labels = make_moons(200,noise=0.2)"
   ]
  },
  {
   "cell_type": "code",
   "execution_count": null,
   "metadata": {},
   "outputs": [],
   "source": [
    "plt.scatter(data[:,0],data[:,1],c=labels);"
   ]
  },
  {
   "cell_type": "code",
   "execution_count": null,
   "metadata": {},
   "outputs": [],
   "source": [
    "T.fit(data,labels)"
   ]
  },
  {
   "cell_type": "code",
   "execution_count": null,
   "metadata": {},
   "outputs": [],
   "source": [
    "plot_decision_boundary(data,labels,T)"
   ]
  },
  {
   "cell_type": "code",
   "execution_count": null,
   "metadata": {},
   "outputs": [],
   "source": [
    "dot_data = tree.export_graphviz(T,out_file=None)\n",
    "graph = graphviz.Source(dot_data)\n",
    "graph.render('Tree2')"
   ]
  },
  {
   "cell_type": "code",
   "execution_count": null,
   "metadata": {},
   "outputs": [],
   "source": []
  }
 ],
 "metadata": {
  "kernelspec": {
   "display_name": "Python 3 (ipykernel)",
   "language": "python",
   "name": "python3"
  },
  "language_info": {
   "codemirror_mode": {
    "name": "ipython",
    "version": 3
   },
   "file_extension": ".py",
   "mimetype": "text/x-python",
   "name": "python",
   "nbconvert_exporter": "python",
   "pygments_lexer": "ipython3",
   "version": "3.10.4"
  },
  "latex_envs": {
   "LaTeX_envs_menu_present": true,
   "autoclose": false,
   "autocomplete": true,
   "bibliofile": "biblio.bib",
   "cite_by": "apalike",
   "current_citInitial": 1,
   "eqLabelWithNumbers": true,
   "eqNumInitial": 1,
   "hotkeys": {
    "equation": "Ctrl-E",
    "itemize": "Ctrl-I"
   },
   "labels_anchors": false,
   "latex_user_defs": false,
   "report_style_numbering": false,
   "user_envs_cfg": false
  }
 },
 "nbformat": 4,
 "nbformat_minor": 2
}
