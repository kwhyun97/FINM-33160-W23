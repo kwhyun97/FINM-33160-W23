{
 "cells": [
  {
   "cell_type": "code",
   "execution_count": 1,
   "metadata": {
    "ExecuteTime": {
     "end_time": "2019-05-09T00:42:15.092984Z",
     "start_time": "2019-05-09T00:42:14.865531Z"
    }
   },
   "outputs": [],
   "source": [
    "import numpy as np\n",
    "import matplotlib.pyplot as plt\n",
    "%matplotlib inline"
   ]
  },
  {
   "cell_type": "code",
   "execution_count": 2,
   "metadata": {
    "ExecuteTime": {
     "end_time": "2019-05-09T00:42:16.130221Z",
     "start_time": "2019-05-09T00:42:16.125235Z"
    }
   },
   "outputs": [],
   "source": [
    "def G_1(x):\n",
    "    if x[0] > 0:\n",
    "        return 1\n",
    "    else:\n",
    "        return -1\n",
    "    \n",
    "def G_2(x):\n",
    "    if x[1] > 4.75:\n",
    "        return 1\n",
    "    else:\n",
    "        return -1\n",
    "    \n",
    "def G_3(x):\n",
    "    if x[0] > 2:\n",
    "        return 1\n",
    "    else:\n",
    "        return -1"
   ]
  },
  {
   "cell_type": "code",
   "execution_count": 3,
   "metadata": {
    "ExecuteTime": {
     "end_time": "2019-05-09T00:42:23.427263Z",
     "start_time": "2019-05-09T00:42:23.422119Z"
    }
   },
   "outputs": [],
   "source": [
    "training_set = np.array([[-3.5,4.5],[-1,-4.5],[-3,0.75],\n",
    "                        [1,2],[1,7],[3,5],[6,6],[6,3]])\n",
    "training_labels = np.array([-1,-1,-1,-1,1,1,1,1])"
   ]
  },
  {
   "cell_type": "code",
   "execution_count": 4,
   "metadata": {
    "ExecuteTime": {
     "end_time": "2019-05-09T00:42:45.146053Z",
     "start_time": "2019-05-09T00:42:45.141067Z"
    }
   },
   "outputs": [],
   "source": [
    "def G(x):\n",
    "    return np.sign(np.log(7) * G_1(x) + np.log(13) * G_2(x) +\n",
    "                  np.log(25) * G_3(x))"
   ]
  },
  {
   "cell_type": "code",
   "execution_count": 5,
   "metadata": {
    "ExecuteTime": {
     "end_time": "2019-05-09T00:42:51.731445Z",
     "start_time": "2019-05-09T00:42:51.724465Z"
    }
   },
   "outputs": [
    {
     "name": "stdout",
     "output_type": "stream",
     "text": [
      "-1.0\n",
      "-1.0\n",
      "-1.0\n",
      "-1.0\n",
      "1.0\n",
      "1.0\n",
      "1.0\n",
      "1.0\n"
     ]
    }
   ],
   "source": [
    "for x in training_set:\n",
    "    print(G(x))"
   ]
  },
  {
   "cell_type": "code",
   "execution_count": 6,
   "metadata": {
    "ExecuteTime": {
     "end_time": "2019-05-09T00:43:10.389773Z",
     "start_time": "2019-05-09T00:43:10.364841Z"
    }
   },
   "outputs": [],
   "source": [
    "def plot_decision_boundary(data,labels,clf):\n",
    "    plot_step = 0.02\n",
    "    x_min, x_max = data[:,0].min() -1, data[:,0].max() + 1\n",
    "    y_min,y_max = data[:,1].min() -1 , data[:,1].max() + 1\n",
    "\n",
    "    xx,yy = np.meshgrid(np.arange(x_min,x_max,plot_step),\n",
    "                   np.arange(y_min,y_max,plot_step))\n",
    "    Z = np.array([clf(z) for z in np.c_[xx.ravel(),yy.ravel()]])\n",
    "    Z = Z.reshape(xx.shape)\n",
    "    cs = plt.contourf(xx,yy,Z,cmap='cool')\n",
    "\n",
    "    plt.xlabel('x')\n",
    "    plt.ylabel('y')\n",
    "    plt.title('Decision Boundary')\n",
    "\n",
    "    plt.scatter(data[:,0],data[:,1],c=labels,cmap='hot',s=100)\n",
    "    plt.show()"
   ]
  },
  {
   "cell_type": "code",
   "execution_count": 7,
   "metadata": {
    "ExecuteTime": {
     "end_time": "2019-05-08T15:43:03.128363Z",
     "start_time": "2019-05-08T15:43:00.993084Z"
    }
   },
   "outputs": [
    {
     "data": {
      "image/png": "[encoded data removed]",
      "text/plain": [
       "<Figure size 432x288 with 1 Axes>"
      ]
     },
     "metadata": {
      "needs_background": "light"
     },
     "output_type": "display_data"
    }
   ],
   "source": [
    "plot_decision_boundary(training_set,training_labels,G)"
   ]
  },
  {
   "cell_type": "code",
   "execution_count": 8,
   "metadata": {},
   "outputs": [],
   "source": [
    "def optimal_split(data,labels):\n",
    "    \n",
    "    m = len(data)\n",
    "    x_coord = np.array(data)[:,0]\n",
    "    y_coord = np.array(data)[:,1]\n",
    "    \n",
    "    midpoints = [0.5 * (data[i][0] + data[j][0]) for i in \n",
    "                range(m) for j in range(i+1,m)],\\\n",
    "                [0.5 * (data[i][1] + data[j][1]) for i in range(m)\n",
    "                    for j in range(i+1,m)]\n",
    "    \n",
    "    exclusive_midpoints = [x for x in midpoints[0] if x not in x_coord],\\\n",
    "                          [y for y in midpoints[1] if y not in y_coord]\n",
    "    \n",
    "    splits = [(0,exclusive_midpoints[0][i]) for i in range(len(exclusive_midpoints[0]))] +\\\n",
    "    [(1,exclusive_midpoints[1][i]) for i in range(len(exclusive_midpoints[1]))]\n",
    "    \n",
    "    split_indices = []\n",
    "    \n",
    "    for s in splits:\n",
    "        if s[0] == 0:\n",
    "            L = [labels[i] for i in range(m) if data[i][0] <= s[1]]\n",
    "            R = [labels[i] for i in range(m) if data[i][0] > s[1]]\n",
    "            \n",
    "            if len(L) > 0 and len(R) > 0:\n",
    "                g = len(L) * compute_gini(L) +\\\n",
    "                len(R) * compute_gini(R)\n",
    "                split_indices.append((s,g/m))\n",
    "        else:\n",
    "            \n",
    "            L = [labels[i] for i in range(m) if data[i][1] <= s[1]]\n",
    "            R = [labels[i] for i in range(m) if data[i][1] > s[1]]\n",
    "            \n",
    "            if len(L) > 0 and len(R) > 0:\n",
    "                g = len(L) * compute_gini(L) +\\\n",
    "                len(R) * compute_gini(R)\n",
    "                split_indices.append((s,g/m)) \n",
    "                \n",
    "\n",
    "                \n",
    "    return sorted(split_indices,key = lambda x: x[1])"
   ]
  },
  {
   "cell_type": "code",
   "execution_count": null,
   "metadata": {},
   "outputs": [],
   "source": []
  },
  {
   "cell_type": "code",
   "execution_count": null,
   "metadata": {},
   "outputs": [],
   "source": []
  }
 ],
 "metadata": {
  "kernelspec": {
   "display_name": "Python 3 (ipykernel)",
   "language": "python",
   "name": "python3"
  },
  "language_info": {
   "codemirror_mode": {
    "name": "ipython",
    "version": 3
   },
   "file_extension": ".py",
   "mimetype": "text/x-python",
   "name": "python",
   "nbconvert_exporter": "python",
   "pygments_lexer": "ipython3",
   "version": "3.10.4"
  },
  "latex_envs": {
   "LaTeX_envs_menu_present": true,
   "autoclose": false,
   "autocomplete": true,
   "bibliofile": "biblio.bib",
   "cite_by": "apalike",
   "current_citInitial": 1,
   "eqLabelWithNumbers": true,
   "eqNumInitial": 1,
   "hotkeys": {
    "equation": "Ctrl-E",
    "itemize": "Ctrl-I"
   },
   "labels_anchors": false,
   "latex_user_defs": false,
   "report_style_numbering": false,
   "user_envs_cfg": false
  }
 },
 "nbformat": 4,
 "nbformat_minor": 2
}
